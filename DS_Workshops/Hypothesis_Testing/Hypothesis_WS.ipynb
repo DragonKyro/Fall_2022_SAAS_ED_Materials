{
 "cells": [
  {
   "cell_type": "markdown",
   "id": "9e8f4921-4440-4fbf-ab25-08cac54a83f0",
   "metadata": {},
   "source": [
    "# Hypothesis Testing Workshop\n",
    "\n",
    "## 11 November 2022\n",
    "\n",
    "### Hosted by and maintained by [SAAS](https://saas.berkeley.edu).\n",
    "Created by Suparna Kompali, Carlos Gonzalez"
   ]
  },
  {
   "cell_type": "markdown",
   "id": "ac9efbaa-5556-48a4-be5d-634fa83fe2a1",
   "metadata": {},
   "source": [
    "**Recommended Reading**: \n",
    "\n",
    "* [Testing Hypotheses](https://www.inferentialthinking.com/chapters/11/Testing_Hypotheses.html)"
   ]
  },
  {
   "cell_type": "code",
   "execution_count": null,
   "id": "816d9018-2308-449f-b102-ce7150fef290",
   "metadata": {},
   "outputs": [],
   "source": [
    "# Run this cell to set up the notebook\n",
    "\n",
    "# These lines import the Numpy and Datascience modules.\n",
    "import numpy as np\n",
    "import pandas as pd\n",
    "# These lines do some fancy plotting magic.\n",
    "import matplotlib\n",
    "%matplotlib inline\n",
    "import matplotlib.pyplot as plt\n",
    "plt.style.use('fivethirtyeight')\n",
    "import warnings\n",
    "warnings.simplefilter('ignore', FutureWarning)"
   ]
  },
  {
   "cell_type": "markdown",
   "id": "8b337f54-9a01-4be9-887f-61731ee7e7a5",
   "metadata": {},
   "source": [
    "## 1. Setup\n",
    "\n",
    "A/B testing is a form of hypothesis testing that allows you to make comparisons between two distributions. We may also refer to an A/B test as a permutation test. See the resources above for a more formal introduction to A/B tests.\n",
    "\n",
    "You'll almost never be explicitly asked to perform an A/B test. Make sure you can identify situations where the test is appropriate and know how to correctly implement each step. Oftentimes, we use an A/B test to determine whether or not two samples came from the same underlying distribution.\n",
    "\n",
    "Before we can perform an A/B test and moving forward, we'll need to do some setting up with our dataframe."
   ]
  },
  {
   "cell_type": "markdown",
   "id": "5ff4a9ab-d09b-41dd-8fc6-35e860c653cf",
   "metadata": {},
   "source": [
    "**Question 1:** Now, let's go ahead and read in the ```ab_data.csv``` data. Store it in ```ab```."
   ]
  },
  {
   "cell_type": "code",
   "execution_count": null,
   "id": "e8310534-4d66-4216-8584-ecc58644fbd3",
   "metadata": {},
   "outputs": [],
   "source": [
    "ab = ...\n",
    "ab.head()"
   ]
  },
  {
   "cell_type": "markdown",
   "id": "cc05b3b8-68a0-4085-8b54-af0153327631",
   "metadata": {},
   "source": [
    "**Question 2:** What is the granularity of this dataframe?"
   ]
  },
  {
   "cell_type": "markdown",
   "id": "09f253fc-7c54-43cc-aa7e-b973ed971d87",
   "metadata": {},
   "source": []
  },
  {
   "cell_type": "markdown",
   "id": "58be7684-ccca-48bf-9516-97f30c2b7e87",
   "metadata": {},
   "source": [
    "Use the cell below to observe the shape of the dataframe."
   ]
  },
  {
   "cell_type": "code",
   "execution_count": null,
   "id": "283cb61a-9547-4d73-941c-41f597be6759",
   "metadata": {},
   "outputs": [],
   "source": [
    "ab.shape"
   ]
  },
  {
   "cell_type": "markdown",
   "id": "16ad24d8-9af3-4dbc-99fc-0bfcedc0f9f9",
   "metadata": {},
   "source": [
    "The line below will show us the number of unique rows"
   ]
  },
  {
   "cell_type": "code",
   "execution_count": null,
   "id": "b02931b8-35a2-4cde-bd73-ec3d9590a07a",
   "metadata": {},
   "outputs": [],
   "source": [
    "ab.duplicated().sum()"
   ]
  },
  {
   "cell_type": "code",
   "execution_count": null,
   "id": "7e50c6cd-3ea1-4434-a76e-4774f7cb7e63",
   "metadata": {},
   "outputs": [],
   "source": [
    "ab.info()"
   ]
  },
  {
   "cell_type": "markdown",
   "id": "acfc4d04-6db0-4f59-93eb-8d239a561bc4",
   "metadata": {},
   "source": [
    "**Question 3:** In the cell below, assign ```count``` to a table with the sum of the control and treatment group, respectively. \n",
    "\n",
    "As a hint, you may use the *to_frame()* function to convert a series object to a Pandas DataFrame."
   ]
  },
  {
   "cell_type": "code",
   "execution_count": null,
   "id": "240929a0-a2ba-4ff8-9855-7ede77e5a5d7",
   "metadata": {},
   "outputs": [],
   "source": [
    "count = ...\n",
    "count"
   ]
  },
  {
   "cell_type": "markdown",
   "id": "2968d675-b887-48e8-9e1a-06b81fe8a952",
   "metadata": {},
   "source": [
    "**Question 4:** In the cell below, assign ```ab_proportions``` to a table with the proportion of converted and non-converted inputs, respectively."
   ]
  },
  {
   "cell_type": "code",
   "execution_count": null,
   "id": "3f75fcfc-4364-4e71-95db-18dea9531519",
   "metadata": {},
   "outputs": [],
   "source": [
    "ab_proportions = ...\n",
    "ab_proportions"
   ]
  },
  {
   "cell_type": "markdown",
   "id": "b1ac274f-13fc-4dd4-8087-bad0ba224f03",
   "metadata": {},
   "source": [
    "Let's observe the number of instances *new_page* occurs:"
   ]
  },
  {
   "cell_type": "code",
   "execution_count": null,
   "id": "4ffcb69e-ae08-4b8c-b358-db5531949d32",
   "metadata": {},
   "outputs": [],
   "source": [
    "ab.loc[ab[\"landing_page\"]=='new_page']"
   ]
  },
  {
   "cell_type": "markdown",
   "id": "cbac4c6d-df69-4be1-9ca8-2bb7cdc1b150",
   "metadata": {},
   "source": [
    "Let's also observe the number of unique inputs given the ```group``` and ```landing_page``` columns:"
   ]
  },
  {
   "cell_type": "code",
   "execution_count": null,
   "id": "ce59546d-3acc-44e7-a0d8-37c92a8ae482",
   "metadata": {},
   "outputs": [],
   "source": [
    "ab_landing_page = ab.groupby([\"landing_page\",\"group\"],as_index= False).size()\n",
    "ab_landing_page"
   ]
  },
  {
   "cell_type": "markdown",
   "id": "03c52b74-fa36-42c8-9460-47530673e747",
   "metadata": {},
   "source": [
    "As a final note, we will now create a subframe which will concatenate rows 1 and 2 in ```ab_landing_page```. We will be using this new dataframe, ```ab2``` in our A/B Testing."
   ]
  },
  {
   "cell_type": "code",
   "execution_count": null,
   "id": "6a17c69a-982c-4eac-a75b-d343af231a6d",
   "metadata": {},
   "outputs": [],
   "source": [
    "#Just run this cell\n",
    "\n",
    "ab2= pd.concat([ab.loc[(ab[\"landing_page\"]== \"old_page\") &(ab[\"group\"]==\"control\")], ab.loc[(ab[\"landing_page\"]== \"new_page\") &(ab[\"group\"]==\"treatment\")]] , axis=0)\n",
    "ab2"
   ]
  },
  {
   "cell_type": "markdown",
   "id": "46d16b62-4550-4129-989c-9f4088bb0b63",
   "metadata": {},
   "source": [
    "Note: You don't have to worry about how we derive the DataFrame above. Make sure you use ```ab2``` instead of ```ab``` in the following exercises."
   ]
  },
  {
   "cell_type": "markdown",
   "id": "823bc1a8-6bdc-48f4-bb92-c97ba1453498",
   "metadata": {},
   "source": [
    "## 2. A/B Testing\n",
    "\n",
    "Notice that because of the time stamp associated with each event, you could technically run a hypothesis test continuously as each observation was observed.\n",
    "\n",
    "However, then the hard question is do you stop as soon as one page is considered significantly better than another or does it need to happen consistently for a certain amount of time? How long do you run to render a decision that neither page is better than another?\n",
    "\n",
    "These questions are the difficult parts associated with A/B tests in general."
   ]
  },
  {
   "cell_type": "markdown",
   "id": "6a12c42f-1d0c-4872-a4f2-f8f9d70c11ac",
   "metadata": {},
   "source": [
    "**Question 5:** For now, consider you need to make the decision just based on all the data provided. If you want to assume that the old page is better unless the new page proves to be definitely better at a Type I error rate of 5%, what should your null and alternative hypotheses be? You can state your hypothesis in terms of words or in terms of $p_{old}, p_{new}$ which are the converted rates for the old and new pages."
   ]
  },
  {
   "cell_type": "markdown",
   "id": "a4106349-b8d4-46bf-bfe2-5eb46a9616c4",
   "metadata": {},
   "source": [
    "_Null Hypothesis $H_0$:_ ..."
   ]
  },
  {
   "cell_type": "markdown",
   "id": "4bc8015c-047d-4968-bb54-7b326ac54c4b",
   "metadata": {},
   "source": [
    "_Alternative Hypothesis $H_1$:_ ..."
   ]
  },
  {
   "cell_type": "markdown",
   "id": "c58904fe-7111-4be8-b5f2-a8ebe8c1ef83",
   "metadata": {},
   "source": [
    "**Question 6:** Assume under the null hypothesis,  $p_{old}$ and $p_{new}$  both have \"true\" success rates equal to the converted success rate regardless of page - that is,  $p_{old}$ and $p_{new}$  are equal. Furthermore, assume they are equal to the converted rate in ab_data.csv regardless of the page."
   ]
  },
  {
   "cell_type": "markdown",
   "id": "542b1eea-a2cf-4f34-a318-3bf5af4cc774",
   "metadata": {},
   "source": [
    "This is going to be setup for our A/B samples, so don't worry too much about how we derive the following:"
   ]
  },
  {
   "cell_type": "markdown",
   "id": "806b2bc0-448e-4885-966d-b73d06708f12",
   "metadata": {},
   "source": [
    "Under the null and given from qutesion 6, we will assume $p_{old} = p_{new}$. Calculate $p_{new}$, the _average_ conversion rate under the null. Your answer should be around 11%."
   ]
  },
  {
   "cell_type": "code",
   "execution_count": null,
   "id": "5c21d2ed-c280-4f19-a430-dad52305e534",
   "metadata": {},
   "outputs": [],
   "source": [
    "conversion = ...\n",
    "conversion"
   ]
  },
  {
   "cell_type": "markdown",
   "id": "d0b95136-99a9-4057-b5aa-8f78a9e15713",
   "metadata": {},
   "source": [
    "We are now going to simulate the number of individuals in the treatment group with a conversion rate of ```conversion``` under the null."
   ]
  },
  {
   "cell_type": "code",
   "execution_count": null,
   "id": "e9a57c7c-d902-41be-9097-58404b4490be",
   "metadata": {},
   "outputs": [],
   "source": [
    "#Just run this cell\n",
    "num_treatment = len(ab2[ab2[\"group\"]== \"treatment\"])\n",
    "\n",
    "new_page_converted =np.random.binomial(1, conversion, num_treatment) \n",
    "new_page_converted.mean()"
   ]
  },
  {
   "cell_type": "markdown",
   "id": "3969c97c-4c58-4884-820f-7245b5c46af7",
   "metadata": {},
   "source": [
    "We will do the same this as above. We are now going to simulate the number of individuals in the control group with a conversion rate of conversion under the null."
   ]
  },
  {
   "cell_type": "code",
   "execution_count": null,
   "id": "daa27a8a-317b-4032-9b92-59d290ded965",
   "metadata": {},
   "outputs": [],
   "source": [
    "#Just run this cell\n",
    "num_control = len(ab2[ab2[\"group\"]== \"control\"])\n",
    "\n",
    "old_page_converted =np.random.binomial(1, conversion, num_control) \n",
    "old_page_converted.mean()"
   ]
  },
  {
   "cell_type": "markdown",
   "id": "33bb142a-8878-4dbf-8e21-8ca318ad7037",
   "metadata": {},
   "source": [
    "The code above is setting up to calculate a potential test statistic. In the Markdown cell below, write down a test statistic you believe will suffice in proving or disproving the null hypothesis.\n",
    "\n",
    "As a hint, think about what we can do with the mean values."
   ]
  },
  {
   "cell_type": "markdown",
   "id": "42f7d9ac-ba8e-4c3e-a312-6372486dd318",
   "metadata": {},
   "source": [
    "Test Statistic: $p_{new} - p_{old}$. If we observe negative values then this is in support of the Null Hypothesis."
   ]
  },
  {
   "cell_type": "markdown",
   "id": "bcfd6d0e-7406-473a-a10d-66331ffe1e54",
   "metadata": {},
   "source": [
    "**Question 7:** Now, run 10,000 simulations using the test statistic above. Store all 10,000 values in a NumPy array called p_diffs. This cell will take a minute to fully load."
   ]
  },
  {
   "cell_type": "code",
   "execution_count": null,
   "id": "d421b364-6e53-4646-8ab8-b92191184a19",
   "metadata": {},
   "outputs": [],
   "source": [
    "p_diff = []\n",
    "for i in range (10000):\n",
    "    new_page_converted = np.random.binomial(1, conversion, num_treatment) \n",
    "    old_page_converted = np.random.binomial(1, conversion, num_control) \n",
    "    ..."
   ]
  },
  {
   "cell_type": "markdown",
   "id": "553cfb27-b587-4eb7-b5c2-f9231f8e0b4e",
   "metadata": {},
   "source": [
    "**Question 8:** Plot a histogram of the ```p_diffs```. Does this plot look like what you expected?\n"
   ]
  },
  {
   "cell_type": "code",
   "execution_count": null,
   "id": "4659a51c-5d7b-4b0a-a476-123ddd977dd6",
   "metadata": {},
   "outputs": [],
   "source": [
    "p_diff= np.array(p_diff)\n",
    "\n",
    "plt.hist(p_diff)"
   ]
  },
  {
   "cell_type": "markdown",
   "id": "dcba4431-7502-45f2-b848-1d17d6dd1322",
   "metadata": {},
   "source": [
    "**Question 9:** Assign ```diff_mean``` to the result of taking the mean differences of the treatment and control groups that were marked converted  in the ```ab2``` dataframe."
   ]
  },
  {
   "cell_type": "code",
   "execution_count": null,
   "id": "8caf3898-5944-40a6-bc30-9ba0502b92eb",
   "metadata": {},
   "outputs": [],
   "source": [
    "ab2_converted_treatment = ab2.converted.loc[( ab2[\"group\"] == \"treatment\")]\n",
    "ab2_converted_control = ab2.converted.loc[( ab2[\"group\"] == \"control\")]\n",
    "diff_mean = ...\n",
    "diff_mean"
   ]
  },
  {
   "cell_type": "markdown",
   "id": "d88bd811-5593-4c93-be10-ce400aa05b3e",
   "metadata": {},
   "source": [
    "Once question 9 is filled out, run the cell below."
   ]
  },
  {
   "cell_type": "code",
   "execution_count": null,
   "id": "7ab93554-53d9-43a3-9f68-a25908a1db0d",
   "metadata": {},
   "outputs": [],
   "source": [
    "plt.hist(p_diff)\n",
    "plt.axvline(diff_mean, color='r', label=\"observed difference\")"
   ]
  },
  {
   "cell_type": "markdown",
   "id": "4824fb2d-b978-4004-b01a-220cff94ff70",
   "metadata": {},
   "source": [
    "Let us now calculate the proportion of ```p_diff``` values which are greater than the actual observed differences in the given dataset."
   ]
  },
  {
   "cell_type": "code",
   "execution_count": null,
   "id": "81a8d457-41e9-4c36-ada7-6186e6d31391",
   "metadata": {},
   "outputs": [],
   "source": [
    "p_diff_Series = pd.Series(p_diff)\n",
    "(p_diff_Series >  diff_mean).mean()"
   ]
  },
  {
   "cell_type": "markdown",
   "id": "24fec316-34c3-4713-96ec-d01909bd0047",
   "metadata": {},
   "source": [
    "We discussed during the workshop about the p-value and it's significance in A/B Testing. In your own words, explain what your value means in this test. What does this value mean in terms of whether or not there is a difference between the new and old pages?"
   ]
  },
  {
   "cell_type": "markdown",
   "id": "ac74e3a2-a002-4290-a93f-259b40ce35f2",
   "metadata": {},
   "source": [
    "..."
   ]
  },
  {
   "cell_type": "markdown",
   "id": "8ddbfb9c-016e-4d4f-855f-1651e495d222",
   "metadata": {},
   "source": [
    "**Great job!** We've performed a basic A/B Test to determine statistical significance between the control and treatment groups of the listed dataframe."
   ]
  },
  {
   "cell_type": "markdown",
   "id": "b7acc8e4-6d12-46c3-83a5-04391aa25d88",
   "metadata": {},
   "source": [
    "As per the slideshow presentation, the *p-value* approach involves determining \"likely\" or \"unlikely\" cases by determining the probability—assuming the null hypothesis were true—of observing a more extreme test statistic in the direction of the alternative hypothesis. If the *p-value* is small, say less than or equal to $\\alpha$, then it is \"unlikely\". Otherwise, it is \"likely\". \n",
    "\n",
    "In other words, if the *p-value* is less than (or equal to) $\\alpha$, then the null hypothesis is rejected in favor of the alternative hypothesis. Otherwise, the null hypothesis is not rejected. "
   ]
  },
  {
   "cell_type": "markdown",
   "id": "e2bd3ce2-1294-4fa9-ae50-3740a73495b0",
   "metadata": {},
   "source": [
    "## 3. Mean GPA\n",
    "\n",
    "In our example concerning GPA, suppose that our random sample of *n = 15* students majoring in Data Science yields an arbitrary test statistic, which is obscured in this example. Also, suppose we set our level of significance to *$\\alpha$ = 0.05*, so that we only allow a 5% chance of making an error in our findings.\n",
    "\n",
    "**Right Tailed Test**\n",
    "\n",
    "The *p-value* for conducting a Right Tailed Test is the probability we would observe a test statistic greater than what we calculate (in this case, this value is abstracted). Think of the probability of an event happening as the area under the bell curve.\n",
    "\n",
    "From this particular example, say we use statistical software which depicts the graph below, with a *p-value* being 0.0127:"
   ]
  },
  {
   "attachments": {
    "b9b64d51-8116-413b-8868-523384c00ab2.png": {
     "image/png": "[encoded data removed]"
    }
   },
   "cell_type": "markdown",
   "id": "10608a12-8bca-46c7-bf3e-9c844fb0535e",
   "metadata": {},
   "source": [
    "![image.png](attachment:b9b64d51-8116-413b-8868-523384c00ab2.png)"
   ]
  },
  {
   "cell_type": "markdown",
   "id": "43f6891d-5241-4854-b673-9dc2da37cf24",
   "metadata": {},
   "source": [
    "**Question 10:** Using a 5% P-value cutoff, draw a conclusion about the null and alternative hypotheses. Describe your findings using simple, non-technical language. What does your analysis tell you about the association between the 15 students's GPA?"
   ]
  },
  {
   "cell_type": "markdown",
   "id": "cac201ff-7cc9-4863-a852-1b8d6ec3e7fc",
   "metadata": {},
   "source": [
    "..."
   ]
  },
  {
   "cell_type": "markdown",
   "id": "ae083cdc-8800-474b-a557-df865173fcb1",
   "metadata": {},
   "source": [
    "Congratulations! You've completed this Notebook."
   ]
  }
 ],
 "metadata": {
  "kernelspec": {
   "display_name": "Python 3 (ipykernel)",
   "language": "python",
   "name": "python3"
  },
  "language_info": {
   "codemirror_mode": {
    "name": "ipython",
    "version": 3
   },
   "file_extension": ".py",
   "mimetype": "text/x-python",
   "name": "python",
   "nbconvert_exporter": "python",
   "pygments_lexer": "ipython3",
   "version": "3.9.12"
  }
 },
 "nbformat": 4,
 "nbformat_minor": 5
}
