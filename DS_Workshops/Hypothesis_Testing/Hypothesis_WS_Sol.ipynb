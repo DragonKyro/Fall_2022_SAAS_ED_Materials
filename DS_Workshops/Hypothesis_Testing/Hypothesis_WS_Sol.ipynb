{
 "cells": [
  {
   "cell_type": "markdown",
   "id": "9e8f4921-4440-4fbf-ab25-08cac54a83f0",
   "metadata": {},
   "source": [
    "# Hypothesis Testing Workshop\n",
    "\n",
    "## 11 November 2022\n",
    "\n",
    "### Hosted by and maintained by [SAAS](https://saas.berkeley.edu).\n",
    "Created by Suparna Kompali, Carlos Gonzalez"
   ]
  },
  {
   "cell_type": "markdown",
   "id": "ac9efbaa-5556-48a4-be5d-634fa83fe2a1",
   "metadata": {},
   "source": [
    "**Recommended Reading**: \n",
    "\n",
    "* [Testing Hypotheses](https://www.inferentialthinking.com/chapters/11/Testing_Hypotheses.html)"
   ]
  },
  {
   "cell_type": "code",
   "execution_count": 34,
   "id": "816d9018-2308-449f-b102-ce7150fef290",
   "metadata": {},
   "outputs": [],
   "source": [
    "# Run this cell to set up the notebook\n",
    "\n",
    "# These lines import the Numpy and Datascience modules.\n",
    "import numpy as np\n",
    "import pandas as pd\n",
    "# These lines do some fancy plotting magic.\n",
    "import matplotlib\n",
    "%matplotlib inline\n",
    "import matplotlib.pyplot as plt\n",
    "plt.style.use('fivethirtyeight')\n",
    "import warnings\n",
    "warnings.simplefilter('ignore', FutureWarning)"
   ]
  },
  {
   "cell_type": "markdown",
   "id": "8b337f54-9a01-4be9-887f-61731ee7e7a5",
   "metadata": {},
   "source": [
    "## 1. Setup\n",
    "\n",
    "A/B testing is a form of hypothesis testing that allows you to make comparisons between two distributions. We may also refer to an A/B test as a permutation test. See the resources above for a more formal introduction to A/B tests.\n",
    "\n",
    "You'll almost never be explicitly asked to perform an A/B test. Make sure you can identify situations where the test is appropriate and know how to correctly implement each step. Oftentimes, we use an A/B test to determine whether or not two samples came from the same underlying distribution.\n",
    "\n",
    "Before we can perform an A/B test and moving forward, we'll need to do some setting up with our dataframe."
   ]
  },
  {
   "cell_type": "markdown",
   "id": "5ff4a9ab-d09b-41dd-8fc6-35e860c653cf",
   "metadata": {},
   "source": [
    "**Question 1:** Now, let's go ahead and read in the ```ab_data.csv``` data. Store it in ```ab```."
   ]
  },
  {
   "cell_type": "code",
   "execution_count": 17,
   "id": "e8310534-4d66-4216-8584-ecc58644fbd3",
   "metadata": {},
   "outputs": [
    {
     "data": {
      "text/html": [
       "<div>\n",
       "<style scoped>\n",
       "    .dataframe tbody tr th:only-of-type {\n",
       "        vertical-align: middle;\n",
       "    }\n",
       "\n",
       "    .dataframe tbody tr th {\n",
       "        vertical-align: top;\n",
       "    }\n",
       "\n",
       "    .dataframe thead th {\n",
       "        text-align: right;\n",
       "    }\n",
       "</style>\n",
       "<table border=\"1\" class=\"dataframe\">\n",
       "  <thead>\n",
       "    <tr style=\"text-align: right;\">\n",
       "      <th></th>\n",
       "      <th>user_id</th>\n",
       "      <th>timestamp</th>\n",
       "      <th>group</th>\n",
       "      <th>landing_page</th>\n",
       "      <th>converted</th>\n",
       "    </tr>\n",
       "  </thead>\n",
       "  <tbody>\n",
       "    <tr>\n",
       "      <th>0</th>\n",
       "      <td>851104</td>\n",
       "      <td>2017-01-21 22:11:48.556739</td>\n",
       "      <td>control</td>\n",
       "      <td>old_page</td>\n",
       "      <td>0</td>\n",
       "    </tr>\n",
       "    <tr>\n",
       "      <th>1</th>\n",
       "      <td>804228</td>\n",
       "      <td>2017-01-12 08:01:45.159739</td>\n",
       "      <td>control</td>\n",
       "      <td>old_page</td>\n",
       "      <td>0</td>\n",
       "    </tr>\n",
       "    <tr>\n",
       "      <th>2</th>\n",
       "      <td>661590</td>\n",
       "      <td>2017-01-11 16:55:06.154213</td>\n",
       "      <td>treatment</td>\n",
       "      <td>new_page</td>\n",
       "      <td>0</td>\n",
       "    </tr>\n",
       "    <tr>\n",
       "      <th>3</th>\n",
       "      <td>853541</td>\n",
       "      <td>2017-01-08 18:28:03.143765</td>\n",
       "      <td>treatment</td>\n",
       "      <td>new_page</td>\n",
       "      <td>0</td>\n",
       "    </tr>\n",
       "    <tr>\n",
       "      <th>4</th>\n",
       "      <td>864975</td>\n",
       "      <td>2017-01-21 01:52:26.210827</td>\n",
       "      <td>control</td>\n",
       "      <td>old_page</td>\n",
       "      <td>1</td>\n",
       "    </tr>\n",
       "  </tbody>\n",
       "</table>\n",
       "</div>"
      ],
      "text/plain": [
       "   user_id                   timestamp      group landing_page  converted\n",
       "0   851104  2017-01-21 22:11:48.556739    control     old_page          0\n",
       "1   804228  2017-01-12 08:01:45.159739    control     old_page          0\n",
       "2   661590  2017-01-11 16:55:06.154213  treatment     new_page          0\n",
       "3   853541  2017-01-08 18:28:03.143765  treatment     new_page          0\n",
       "4   864975  2017-01-21 01:52:26.210827    control     old_page          1"
      ]
     },
     "execution_count": 17,
     "metadata": {},
     "output_type": "execute_result"
    }
   ],
   "source": [
    "ab = pd.read_csv(\"ab_data.csv\")\n",
    "ab.head()"
   ]
  },
  {
   "cell_type": "markdown",
   "id": "cc05b3b8-68a0-4085-8b54-af0153327631",
   "metadata": {},
   "source": [
    "**Question 2:** What is the granularity of this dataframe?"
   ]
  },
  {
   "cell_type": "markdown",
   "id": "09f253fc-7c54-43cc-aa7e-b973ed971d87",
   "metadata": {},
   "source": []
  },
  {
   "cell_type": "markdown",
   "id": "58be7684-ccca-48bf-9516-97f30c2b7e87",
   "metadata": {},
   "source": [
    "Use the cell below to observe the shape of the dataframe."
   ]
  },
  {
   "cell_type": "code",
   "execution_count": 30,
   "id": "283cb61a-9547-4d73-941c-41f597be6759",
   "metadata": {},
   "outputs": [
    {
     "data": {
      "text/plain": [
       "(294478, 5)"
      ]
     },
     "execution_count": 30,
     "metadata": {},
     "output_type": "execute_result"
    }
   ],
   "source": [
    "ab.shape"
   ]
  },
  {
   "cell_type": "markdown",
   "id": "16ad24d8-9af3-4dbc-99fc-0bfcedc0f9f9",
   "metadata": {},
   "source": [
    "The line below will show us the number of unique rows"
   ]
  },
  {
   "cell_type": "code",
   "execution_count": 31,
   "id": "b02931b8-35a2-4cde-bd73-ec3d9590a07a",
   "metadata": {},
   "outputs": [
    {
     "data": {
      "text/plain": [
       "0"
      ]
     },
     "execution_count": 31,
     "metadata": {},
     "output_type": "execute_result"
    }
   ],
   "source": [
    "ab.duplicated().sum()"
   ]
  },
  {
   "cell_type": "code",
   "execution_count": 32,
   "id": "7e50c6cd-3ea1-4434-a76e-4774f7cb7e63",
   "metadata": {},
   "outputs": [
    {
     "name": "stdout",
     "output_type": "stream",
     "text": [
      "<class 'pandas.core.frame.DataFrame'>\n",
      "RangeIndex: 294478 entries, 0 to 294477\n",
      "Data columns (total 5 columns):\n",
      " #   Column        Non-Null Count   Dtype \n",
      "---  ------        --------------   ----- \n",
      " 0   user_id       294478 non-null  int64 \n",
      " 1   timestamp     294478 non-null  object\n",
      " 2   group         294478 non-null  object\n",
      " 3   landing_page  294478 non-null  object\n",
      " 4   converted     294478 non-null  int64 \n",
      "dtypes: int64(2), object(3)\n",
      "memory usage: 11.2+ MB\n"
     ]
    }
   ],
   "source": [
    "ab.info()"
   ]
  },
  {
   "cell_type": "markdown",
   "id": "acfc4d04-6db0-4f59-93eb-8d239a561bc4",
   "metadata": {},
   "source": [
    "**Question 3:** In the cell below, assign ```count``` to a table with the sum of the control and treatment group, respectively. \n",
    "\n",
    "As a hint, you may use the *to_frame()* function to convert a series object to a Pandas DataFrame."
   ]
  },
  {
   "cell_type": "code",
   "execution_count": 33,
   "id": "240929a0-a2ba-4ff8-9855-7ede77e5a5d7",
   "metadata": {},
   "outputs": [
    {
     "data": {
      "text/html": [
       "<div>\n",
       "<style scoped>\n",
       "    .dataframe tbody tr th:only-of-type {\n",
       "        vertical-align: middle;\n",
       "    }\n",
       "\n",
       "    .dataframe tbody tr th {\n",
       "        vertical-align: top;\n",
       "    }\n",
       "\n",
       "    .dataframe thead th {\n",
       "        text-align: right;\n",
       "    }\n",
       "</style>\n",
       "<table border=\"1\" class=\"dataframe\">\n",
       "  <thead>\n",
       "    <tr style=\"text-align: right;\">\n",
       "      <th></th>\n",
       "      <th>group</th>\n",
       "    </tr>\n",
       "  </thead>\n",
       "  <tbody>\n",
       "    <tr>\n",
       "      <th>treatment</th>\n",
       "      <td>147276</td>\n",
       "    </tr>\n",
       "    <tr>\n",
       "      <th>control</th>\n",
       "      <td>147202</td>\n",
       "    </tr>\n",
       "  </tbody>\n",
       "</table>\n",
       "</div>"
      ],
      "text/plain": [
       "            group\n",
       "treatment  147276\n",
       "control    147202"
      ]
     },
     "execution_count": 33,
     "metadata": {},
     "output_type": "execute_result"
    }
   ],
   "source": [
    "count = ab[\"group\"].value_counts().to_frame()\n",
    "count"
   ]
  },
  {
   "cell_type": "markdown",
   "id": "2968d675-b887-48e8-9e1a-06b81fe8a952",
   "metadata": {},
   "source": [
    "**Question 4:** In the cell below, assign ```ab_proportions``` to a table with the proportion of converted and non-converted inputs, respectively."
   ]
  },
  {
   "cell_type": "code",
   "execution_count": 23,
   "id": "3f75fcfc-4364-4e71-95db-18dea9531519",
   "metadata": {},
   "outputs": [
    {
     "data": {
      "text/html": [
       "<div>\n",
       "<style scoped>\n",
       "    .dataframe tbody tr th:only-of-type {\n",
       "        vertical-align: middle;\n",
       "    }\n",
       "\n",
       "    .dataframe tbody tr th {\n",
       "        vertical-align: top;\n",
       "    }\n",
       "\n",
       "    .dataframe thead th {\n",
       "        text-align: right;\n",
       "    }\n",
       "</style>\n",
       "<table border=\"1\" class=\"dataframe\">\n",
       "  <thead>\n",
       "    <tr style=\"text-align: right;\">\n",
       "      <th></th>\n",
       "      <th>converted</th>\n",
       "    </tr>\n",
       "  </thead>\n",
       "  <tbody>\n",
       "    <tr>\n",
       "      <th>0</th>\n",
       "      <td>0.880341</td>\n",
       "    </tr>\n",
       "    <tr>\n",
       "      <th>1</th>\n",
       "      <td>0.119659</td>\n",
       "    </tr>\n",
       "  </tbody>\n",
       "</table>\n",
       "</div>"
      ],
      "text/plain": [
       "   converted\n",
       "0   0.880341\n",
       "1   0.119659"
      ]
     },
     "execution_count": 23,
     "metadata": {},
     "output_type": "execute_result"
    }
   ],
   "source": [
    "ab_proportions = ab[\"converted\"].value_counts(normalize= True).to_frame()\n",
    "ab_proportions"
   ]
  },
  {
   "cell_type": "markdown",
   "id": "b1ac274f-13fc-4dd4-8087-bad0ba224f03",
   "metadata": {},
   "source": [
    "Let's observe the number of instances *new_page* occurs:"
   ]
  },
  {
   "cell_type": "code",
   "execution_count": 28,
   "id": "4ffcb69e-ae08-4b8c-b358-db5531949d32",
   "metadata": {},
   "outputs": [
    {
     "data": {
      "text/html": [
       "<div>\n",
       "<style scoped>\n",
       "    .dataframe tbody tr th:only-of-type {\n",
       "        vertical-align: middle;\n",
       "    }\n",
       "\n",
       "    .dataframe tbody tr th {\n",
       "        vertical-align: top;\n",
       "    }\n",
       "\n",
       "    .dataframe thead th {\n",
       "        text-align: right;\n",
       "    }\n",
       "</style>\n",
       "<table border=\"1\" class=\"dataframe\">\n",
       "  <thead>\n",
       "    <tr style=\"text-align: right;\">\n",
       "      <th></th>\n",
       "      <th>user_id</th>\n",
       "      <th>timestamp</th>\n",
       "      <th>group</th>\n",
       "      <th>landing_page</th>\n",
       "      <th>converted</th>\n",
       "    </tr>\n",
       "  </thead>\n",
       "  <tbody>\n",
       "    <tr>\n",
       "      <th>2</th>\n",
       "      <td>661590</td>\n",
       "      <td>2017-01-11 16:55:06.154213</td>\n",
       "      <td>treatment</td>\n",
       "      <td>new_page</td>\n",
       "      <td>0</td>\n",
       "    </tr>\n",
       "    <tr>\n",
       "      <th>3</th>\n",
       "      <td>853541</td>\n",
       "      <td>2017-01-08 18:28:03.143765</td>\n",
       "      <td>treatment</td>\n",
       "      <td>new_page</td>\n",
       "      <td>0</td>\n",
       "    </tr>\n",
       "    <tr>\n",
       "      <th>6</th>\n",
       "      <td>679687</td>\n",
       "      <td>2017-01-19 03:26:46.940749</td>\n",
       "      <td>treatment</td>\n",
       "      <td>new_page</td>\n",
       "      <td>1</td>\n",
       "    </tr>\n",
       "    <tr>\n",
       "      <th>8</th>\n",
       "      <td>817355</td>\n",
       "      <td>2017-01-04 17:58:08.979471</td>\n",
       "      <td>treatment</td>\n",
       "      <td>new_page</td>\n",
       "      <td>1</td>\n",
       "    </tr>\n",
       "    <tr>\n",
       "      <th>9</th>\n",
       "      <td>839785</td>\n",
       "      <td>2017-01-15 18:11:06.610965</td>\n",
       "      <td>treatment</td>\n",
       "      <td>new_page</td>\n",
       "      <td>1</td>\n",
       "    </tr>\n",
       "    <tr>\n",
       "      <th>...</th>\n",
       "      <td>...</td>\n",
       "      <td>...</td>\n",
       "      <td>...</td>\n",
       "      <td>...</td>\n",
       "      <td>...</td>\n",
       "    </tr>\n",
       "    <tr>\n",
       "      <th>294462</th>\n",
       "      <td>677163</td>\n",
       "      <td>2017-01-03 19:41:51.902148</td>\n",
       "      <td>treatment</td>\n",
       "      <td>new_page</td>\n",
       "      <td>0</td>\n",
       "    </tr>\n",
       "    <tr>\n",
       "      <th>294465</th>\n",
       "      <td>925675</td>\n",
       "      <td>2017-01-07 20:38:26.346410</td>\n",
       "      <td>treatment</td>\n",
       "      <td>new_page</td>\n",
       "      <td>0</td>\n",
       "    </tr>\n",
       "    <tr>\n",
       "      <th>294468</th>\n",
       "      <td>643562</td>\n",
       "      <td>2017-01-02 19:20:05.460595</td>\n",
       "      <td>treatment</td>\n",
       "      <td>new_page</td>\n",
       "      <td>0</td>\n",
       "    </tr>\n",
       "    <tr>\n",
       "      <th>294472</th>\n",
       "      <td>822004</td>\n",
       "      <td>2017-01-04 03:36:46.071379</td>\n",
       "      <td>treatment</td>\n",
       "      <td>new_page</td>\n",
       "      <td>0</td>\n",
       "    </tr>\n",
       "    <tr>\n",
       "      <th>294477</th>\n",
       "      <td>715931</td>\n",
       "      <td>2017-01-16 12:40:24.467417</td>\n",
       "      <td>treatment</td>\n",
       "      <td>new_page</td>\n",
       "      <td>0</td>\n",
       "    </tr>\n",
       "  </tbody>\n",
       "</table>\n",
       "<p>147239 rows × 5 columns</p>\n",
       "</div>"
      ],
      "text/plain": [
       "        user_id                   timestamp      group landing_page  converted\n",
       "2        661590  2017-01-11 16:55:06.154213  treatment     new_page          0\n",
       "3        853541  2017-01-08 18:28:03.143765  treatment     new_page          0\n",
       "6        679687  2017-01-19 03:26:46.940749  treatment     new_page          1\n",
       "8        817355  2017-01-04 17:58:08.979471  treatment     new_page          1\n",
       "9        839785  2017-01-15 18:11:06.610965  treatment     new_page          1\n",
       "...         ...                         ...        ...          ...        ...\n",
       "294462   677163  2017-01-03 19:41:51.902148  treatment     new_page          0\n",
       "294465   925675  2017-01-07 20:38:26.346410  treatment     new_page          0\n",
       "294468   643562  2017-01-02 19:20:05.460595  treatment     new_page          0\n",
       "294472   822004  2017-01-04 03:36:46.071379  treatment     new_page          0\n",
       "294477   715931  2017-01-16 12:40:24.467417  treatment     new_page          0\n",
       "\n",
       "[147239 rows x 5 columns]"
      ]
     },
     "execution_count": 28,
     "metadata": {},
     "output_type": "execute_result"
    }
   ],
   "source": [
    "ab.loc[ab[\"landing_page\"]=='new_page']"
   ]
  },
  {
   "cell_type": "markdown",
   "id": "cbac4c6d-df69-4be1-9ca8-2bb7cdc1b150",
   "metadata": {},
   "source": [
    "Let's also observe the number of unique inputs given the ```group``` and ```landing_page``` columns:"
   ]
  },
  {
   "cell_type": "code",
   "execution_count": 29,
   "id": "ce59546d-3acc-44e7-a0d8-37c92a8ae482",
   "metadata": {},
   "outputs": [
    {
     "data": {
      "text/html": [
       "<div>\n",
       "<style scoped>\n",
       "    .dataframe tbody tr th:only-of-type {\n",
       "        vertical-align: middle;\n",
       "    }\n",
       "\n",
       "    .dataframe tbody tr th {\n",
       "        vertical-align: top;\n",
       "    }\n",
       "\n",
       "    .dataframe thead th {\n",
       "        text-align: right;\n",
       "    }\n",
       "</style>\n",
       "<table border=\"1\" class=\"dataframe\">\n",
       "  <thead>\n",
       "    <tr style=\"text-align: right;\">\n",
       "      <th></th>\n",
       "      <th>landing_page</th>\n",
       "      <th>group</th>\n",
       "      <th>size</th>\n",
       "    </tr>\n",
       "  </thead>\n",
       "  <tbody>\n",
       "    <tr>\n",
       "      <th>0</th>\n",
       "      <td>new_page</td>\n",
       "      <td>control</td>\n",
       "      <td>1928</td>\n",
       "    </tr>\n",
       "    <tr>\n",
       "      <th>1</th>\n",
       "      <td>new_page</td>\n",
       "      <td>treatment</td>\n",
       "      <td>145311</td>\n",
       "    </tr>\n",
       "    <tr>\n",
       "      <th>2</th>\n",
       "      <td>old_page</td>\n",
       "      <td>control</td>\n",
       "      <td>145274</td>\n",
       "    </tr>\n",
       "    <tr>\n",
       "      <th>3</th>\n",
       "      <td>old_page</td>\n",
       "      <td>treatment</td>\n",
       "      <td>1965</td>\n",
       "    </tr>\n",
       "  </tbody>\n",
       "</table>\n",
       "</div>"
      ],
      "text/plain": [
       "  landing_page      group    size\n",
       "0     new_page    control    1928\n",
       "1     new_page  treatment  145311\n",
       "2     old_page    control  145274\n",
       "3     old_page  treatment    1965"
      ]
     },
     "execution_count": 29,
     "metadata": {},
     "output_type": "execute_result"
    }
   ],
   "source": [
    "ab_landing_page = ab.groupby([\"landing_page\",\"group\"],as_index= False).size()\n",
    "ab_landing_page"
   ]
  },
  {
   "cell_type": "markdown",
   "id": "03c52b74-fa36-42c8-9460-47530673e747",
   "metadata": {},
   "source": [
    "As a final note, we will now create a subframe which will concatenate rows 1 and 2 in ```ab_landing_page```. We will be using this new dataframe, ```ab2``` in our A/B Testing."
   ]
  },
  {
   "cell_type": "code",
   "execution_count": 38,
   "id": "6a17c69a-982c-4eac-a75b-d343af231a6d",
   "metadata": {},
   "outputs": [
    {
     "data": {
      "text/html": [
       "<div>\n",
       "<style scoped>\n",
       "    .dataframe tbody tr th:only-of-type {\n",
       "        vertical-align: middle;\n",
       "    }\n",
       "\n",
       "    .dataframe tbody tr th {\n",
       "        vertical-align: top;\n",
       "    }\n",
       "\n",
       "    .dataframe thead th {\n",
       "        text-align: right;\n",
       "    }\n",
       "</style>\n",
       "<table border=\"1\" class=\"dataframe\">\n",
       "  <thead>\n",
       "    <tr style=\"text-align: right;\">\n",
       "      <th></th>\n",
       "      <th>user_id</th>\n",
       "      <th>timestamp</th>\n",
       "      <th>group</th>\n",
       "      <th>landing_page</th>\n",
       "      <th>converted</th>\n",
       "    </tr>\n",
       "  </thead>\n",
       "  <tbody>\n",
       "    <tr>\n",
       "      <th>0</th>\n",
       "      <td>851104</td>\n",
       "      <td>2017-01-21 22:11:48.556739</td>\n",
       "      <td>control</td>\n",
       "      <td>old_page</td>\n",
       "      <td>0</td>\n",
       "    </tr>\n",
       "    <tr>\n",
       "      <th>1</th>\n",
       "      <td>804228</td>\n",
       "      <td>2017-01-12 08:01:45.159739</td>\n",
       "      <td>control</td>\n",
       "      <td>old_page</td>\n",
       "      <td>0</td>\n",
       "    </tr>\n",
       "    <tr>\n",
       "      <th>4</th>\n",
       "      <td>864975</td>\n",
       "      <td>2017-01-21 01:52:26.210827</td>\n",
       "      <td>control</td>\n",
       "      <td>old_page</td>\n",
       "      <td>1</td>\n",
       "    </tr>\n",
       "    <tr>\n",
       "      <th>5</th>\n",
       "      <td>936923</td>\n",
       "      <td>2017-01-10 15:20:49.083499</td>\n",
       "      <td>control</td>\n",
       "      <td>old_page</td>\n",
       "      <td>0</td>\n",
       "    </tr>\n",
       "    <tr>\n",
       "      <th>7</th>\n",
       "      <td>719014</td>\n",
       "      <td>2017-01-17 01:48:29.539573</td>\n",
       "      <td>control</td>\n",
       "      <td>old_page</td>\n",
       "      <td>0</td>\n",
       "    </tr>\n",
       "    <tr>\n",
       "      <th>...</th>\n",
       "      <td>...</td>\n",
       "      <td>...</td>\n",
       "      <td>...</td>\n",
       "      <td>...</td>\n",
       "      <td>...</td>\n",
       "    </tr>\n",
       "    <tr>\n",
       "      <th>294462</th>\n",
       "      <td>677163</td>\n",
       "      <td>2017-01-03 19:41:51.902148</td>\n",
       "      <td>treatment</td>\n",
       "      <td>new_page</td>\n",
       "      <td>0</td>\n",
       "    </tr>\n",
       "    <tr>\n",
       "      <th>294465</th>\n",
       "      <td>925675</td>\n",
       "      <td>2017-01-07 20:38:26.346410</td>\n",
       "      <td>treatment</td>\n",
       "      <td>new_page</td>\n",
       "      <td>0</td>\n",
       "    </tr>\n",
       "    <tr>\n",
       "      <th>294468</th>\n",
       "      <td>643562</td>\n",
       "      <td>2017-01-02 19:20:05.460595</td>\n",
       "      <td>treatment</td>\n",
       "      <td>new_page</td>\n",
       "      <td>0</td>\n",
       "    </tr>\n",
       "    <tr>\n",
       "      <th>294472</th>\n",
       "      <td>822004</td>\n",
       "      <td>2017-01-04 03:36:46.071379</td>\n",
       "      <td>treatment</td>\n",
       "      <td>new_page</td>\n",
       "      <td>0</td>\n",
       "    </tr>\n",
       "    <tr>\n",
       "      <th>294477</th>\n",
       "      <td>715931</td>\n",
       "      <td>2017-01-16 12:40:24.467417</td>\n",
       "      <td>treatment</td>\n",
       "      <td>new_page</td>\n",
       "      <td>0</td>\n",
       "    </tr>\n",
       "  </tbody>\n",
       "</table>\n",
       "<p>290585 rows × 5 columns</p>\n",
       "</div>"
      ],
      "text/plain": [
       "        user_id                   timestamp      group landing_page  converted\n",
       "0        851104  2017-01-21 22:11:48.556739    control     old_page          0\n",
       "1        804228  2017-01-12 08:01:45.159739    control     old_page          0\n",
       "4        864975  2017-01-21 01:52:26.210827    control     old_page          1\n",
       "5        936923  2017-01-10 15:20:49.083499    control     old_page          0\n",
       "7        719014  2017-01-17 01:48:29.539573    control     old_page          0\n",
       "...         ...                         ...        ...          ...        ...\n",
       "294462   677163  2017-01-03 19:41:51.902148  treatment     new_page          0\n",
       "294465   925675  2017-01-07 20:38:26.346410  treatment     new_page          0\n",
       "294468   643562  2017-01-02 19:20:05.460595  treatment     new_page          0\n",
       "294472   822004  2017-01-04 03:36:46.071379  treatment     new_page          0\n",
       "294477   715931  2017-01-16 12:40:24.467417  treatment     new_page          0\n",
       "\n",
       "[290585 rows x 5 columns]"
      ]
     },
     "execution_count": 38,
     "metadata": {},
     "output_type": "execute_result"
    }
   ],
   "source": [
    "#Just run this cell\n",
    "\n",
    "ab2= pd.concat([ab.loc[(ab[\"landing_page\"]== \"old_page\") &(ab[\"group\"]==\"control\")], ab.loc[(ab[\"landing_page\"]== \"new_page\") &(ab[\"group\"]==\"treatment\")]] , axis=0)\n",
    "ab2"
   ]
  },
  {
   "cell_type": "markdown",
   "id": "46d16b62-4550-4129-989c-9f4088bb0b63",
   "metadata": {},
   "source": [
    "Note: You don't have to worry about how we derive the DataFrame above. Make sure you use ```ab2``` instead of ```ab``` in the following exercises."
   ]
  },
  {
   "cell_type": "markdown",
   "id": "823bc1a8-6bdc-48f4-bb92-c97ba1453498",
   "metadata": {},
   "source": [
    "## 2. A/B Testing\n",
    "\n",
    "Notice that because of the time stamp associated with each event, you could technically run a hypothesis test continuously as each observation was observed.\n",
    "\n",
    "However, then the hard question is do you stop as soon as one page is considered significantly better than another or does it need to happen consistently for a certain amount of time? How long do you run to render a decision that neither page is better than another?\n",
    "\n",
    "These questions are the difficult parts associated with A/B tests in general."
   ]
  },
  {
   "cell_type": "markdown",
   "id": "6a12c42f-1d0c-4872-a4f2-f8f9d70c11ac",
   "metadata": {},
   "source": [
    "**Question 5:** For now, consider you need to make the decision just based on all the data provided. If you want to assume that the old page is better unless the new page proves to be definitely better at a Type I error rate of 5%, what should your null and alternative hypotheses be? You can state your hypothesis in terms of words or in terms of $p_{old}, p_{new}$ which are the converted rates for the old and new pages."
   ]
  },
  {
   "cell_type": "markdown",
   "id": "a4106349-b8d4-46bf-bfe2-5eb46a9616c4",
   "metadata": {},
   "source": [
    "_Null Hypothesis $H_0$:_ $p_{old} \\geq p_{new}$, and any observed differences are coincidental and due to chance."
   ]
  },
  {
   "cell_type": "markdown",
   "id": "4bc8015c-047d-4968-bb54-7b326ac54c4b",
   "metadata": {},
   "source": [
    "_Alternative Hypothesis $H_1$:_ $p_{new} < p_{old}$ and the observed differences from the null hypothesis are not due to chance but rather significant change."
   ]
  },
  {
   "cell_type": "markdown",
   "id": "c58904fe-7111-4be8-b5f2-a8ebe8c1ef83",
   "metadata": {},
   "source": [
    "**Question 6:** Assume under the null hypothesis,  $p_{old}$ and $p_{new}$  both have \"true\" success rates equal to the converted success rate regardless of page - that is,  $p_{old}$ and $p_{new}$  are equal. Furthermore, assume they are equal to the converted rate in ab_data.csv regardless of the page."
   ]
  },
  {
   "cell_type": "markdown",
   "id": "542b1eea-a2cf-4f34-a318-3bf5af4cc774",
   "metadata": {},
   "source": [
    "This is going to be setup for our A/B samples, so don't worry too much about how we derive the following:"
   ]
  },
  {
   "cell_type": "markdown",
   "id": "806b2bc0-448e-4885-966d-b73d06708f12",
   "metadata": {},
   "source": [
    "Under the null and given from qutesion 6, we will assume $p_{old} = p_{new}$. Calculate $p_{new}$, the _average_ conversion rate under the null. Your answer should be around 11%."
   ]
  },
  {
   "cell_type": "code",
   "execution_count": 51,
   "id": "5c21d2ed-c280-4f19-a430-dad52305e534",
   "metadata": {},
   "outputs": [
    {
     "data": {
      "text/plain": [
       "0.11959667567149027"
      ]
     },
     "execution_count": 51,
     "metadata": {},
     "output_type": "execute_result"
    }
   ],
   "source": [
    "conversion = ab2[\"converted\"].mean()\n",
    "conversion"
   ]
  },
  {
   "cell_type": "markdown",
   "id": "d0b95136-99a9-4057-b5aa-8f78a9e15713",
   "metadata": {},
   "source": [
    "We are now going to simulate the number of individuals in the treatment group with a conversion rate of ```conversion``` under the null."
   ]
  },
  {
   "cell_type": "code",
   "execution_count": 52,
   "id": "e9a57c7c-d902-41be-9097-58404b4490be",
   "metadata": {},
   "outputs": [
    {
     "data": {
      "text/plain": [
       "0.11814659592185038"
      ]
     },
     "execution_count": 52,
     "metadata": {},
     "output_type": "execute_result"
    }
   ],
   "source": [
    "#Just run this cell\n",
    "num_treatment = len(ab2[ab2[\"group\"]== \"treatment\"])\n",
    "\n",
    "new_page_converted =np.random.binomial(1, conversion, num_treatment) \n",
    "new_page_converted.mean()"
   ]
  },
  {
   "cell_type": "markdown",
   "id": "3969c97c-4c58-4884-820f-7245b5c46af7",
   "metadata": {},
   "source": [
    "We will do the same this as above. We are now going to simulate the number of individuals in the control group with a conversion rate of conversion under the null."
   ]
  },
  {
   "cell_type": "code",
   "execution_count": 53,
   "id": "daa27a8a-317b-4032-9b92-59d290ded965",
   "metadata": {},
   "outputs": [
    {
     "data": {
      "text/plain": [
       "0.11920233489819237"
      ]
     },
     "execution_count": 53,
     "metadata": {},
     "output_type": "execute_result"
    }
   ],
   "source": [
    "#Just run this cell\n",
    "num_control = len(ab2[ab2[\"group\"]== \"control\"])\n",
    "\n",
    "old_page_converted =np.random.binomial(1, conversion, num_control) \n",
    "old_page_converted.mean()"
   ]
  },
  {
   "cell_type": "markdown",
   "id": "33bb142a-8878-4dbf-8e21-8ca318ad7037",
   "metadata": {},
   "source": [
    "The code above is setting up to calculate a potential test statistic. In the Markdown cell below, write down a test statistic you believe will suffice in proving or disproving the null hypothesis.\n",
    "\n",
    "As a hint, think about what we can do with the mean values."
   ]
  },
  {
   "cell_type": "markdown",
   "id": "42f7d9ac-ba8e-4c3e-a312-6372486dd318",
   "metadata": {},
   "source": [
    "Test Statistic: $p_{new} - p_{old}$. If we observe negative values then this is in support of the Null Hypothesis."
   ]
  },
  {
   "cell_type": "markdown",
   "id": "bcfd6d0e-7406-473a-a10d-66331ffe1e54",
   "metadata": {},
   "source": [
    "**Question 7:** Now, run 10,000 simulations using the test statistic above. Store all 10,000 values in a NumPy array called p_diffs. This cell will take a minute to fully load."
   ]
  },
  {
   "cell_type": "code",
   "execution_count": 54,
   "id": "d421b364-6e53-4646-8ab8-b92191184a19",
   "metadata": {},
   "outputs": [],
   "source": [
    "p_diff = []\n",
    "for i in range (10000):\n",
    "    new_page_converted =np.random.binomial(1, conversion, num_treatment) \n",
    "    old_page_converted =np.random.binomial(1, conversion, num_control) \n",
    "    p_diff.append(new_page_converted.mean() - old_page_converted.mean())"
   ]
  },
  {
   "cell_type": "markdown",
   "id": "553cfb27-b587-4eb7-b5c2-f9231f8e0b4e",
   "metadata": {},
   "source": [
    "**Question 8:** Plot a histogram of the ```p_diffs```. Does this plot look like what you expected?\n"
   ]
  },
  {
   "cell_type": "code",
   "execution_count": 50,
   "id": "4659a51c-5d7b-4b0a-a476-123ddd977dd6",
   "metadata": {},
   "outputs": [
    {
     "data": {
      "text/plain": [
       "(array([1.000e+00, 3.600e+01, 2.350e+02, 1.112e+03, 2.612e+03, 3.125e+03,\n",
       "        2.077e+03, 6.810e+02, 1.130e+02, 8.000e+00]),\n",
       " array([-0.00524051, -0.00425632, -0.00327214, -0.00228796, -0.00130377,\n",
       "        -0.00031959,  0.00066459,  0.00164878,  0.00263296,  0.00361715,\n",
       "         0.00460133]),\n",
       " <BarContainer object of 10 artists>)"
      ]
     },
     "execution_count": 50,
     "metadata": {},
     "output_type": "execute_result"
    },
    {
     "data": {
      "image/png": "[encoded data removed]",
      "text/plain": [
       "<Figure size 432x288 with 1 Axes>"
      ]
     },
     "metadata": {},
     "output_type": "display_data"
    }
   ],
   "source": [
    "p_diff= np.array(p_diff)\n",
    "\n",
    "plt.hist(p_diff)"
   ]
  },
  {
   "cell_type": "markdown",
   "id": "dcba4431-7502-45f2-b848-1d17d6dd1322",
   "metadata": {},
   "source": [
    "**Question 9:** Assign ```diff_mean``` to the result of taking the mean differences of the treatment and control groups that were marked converted  in the ```ab2``` dataframe."
   ]
  },
  {
   "cell_type": "code",
   "execution_count": 70,
   "id": "8caf3898-5944-40a6-bc30-9ba0502b92eb",
   "metadata": {},
   "outputs": [
    {
     "data": {
      "text/plain": [
       "-0.0015790565976871451"
      ]
     },
     "execution_count": 70,
     "metadata": {},
     "output_type": "execute_result"
    }
   ],
   "source": [
    "ab2_converted_treatment = ab2.converted.loc[( ab2[\"group\"] == \"treatment\")]\n",
    "ab2_converted_control = ab2.converted.loc[( ab2[\"group\"] == \"control\")]\n",
    "diff_mean = ab2_converted_treatment.mean() - ab2_converted_control.mean()\n",
    "diff_mean"
   ]
  },
  {
   "cell_type": "markdown",
   "id": "d88bd811-5593-4c93-be10-ce400aa05b3e",
   "metadata": {},
   "source": [
    "Once question 9 is filled out, run the cell below."
   ]
  },
  {
   "cell_type": "code",
   "execution_count": 59,
   "id": "7ab93554-53d9-43a3-9f68-a25908a1db0d",
   "metadata": {},
   "outputs": [
    {
     "data": {
      "text/plain": [
       "<matplotlib.lines.Line2D at 0x7fa50d474df0>"
      ]
     },
     "execution_count": 59,
     "metadata": {},
     "output_type": "execute_result"
    },
    {
     "data": {
      "image/png": "[encoded data removed]",
      "text/plain": [
       "<Figure size 432x288 with 1 Axes>"
      ]
     },
     "metadata": {},
     "output_type": "display_data"
    }
   ],
   "source": [
    "plt.hist(p_diff)\n",
    "plt.axvline(diff_mean, color='r', label=\"observed difference\")"
   ]
  },
  {
   "cell_type": "markdown",
   "id": "4824fb2d-b978-4004-b01a-220cff94ff70",
   "metadata": {},
   "source": [
    "Let us now calculate the proportion of ```p_diff``` values which are greater than the actual observed differences in the given dataset."
   ]
  },
  {
   "cell_type": "code",
   "execution_count": 75,
   "id": "81a8d457-41e9-4c36-ada7-6186e6d31391",
   "metadata": {},
   "outputs": [
    {
     "data": {
      "text/plain": [
       "0.9033"
      ]
     },
     "execution_count": 75,
     "metadata": {},
     "output_type": "execute_result"
    }
   ],
   "source": [
    "p_diff_Series = pd.Series(p_diff)\n",
    "(p_diff_Series >  diff_mean).mean()"
   ]
  },
  {
   "cell_type": "markdown",
   "id": "24fec316-34c3-4713-96ec-d01909bd0047",
   "metadata": {},
   "source": [
    "We discussed during the workshop about the p-value and it's significance in A/B Testing. In your own words, explain what your value means in this test. What does this value mean in terms of whether or not there is a difference between the new and old pages?"
   ]
  },
  {
   "cell_type": "markdown",
   "id": "ac74e3a2-a002-4290-a93f-259b40ce35f2",
   "metadata": {},
   "source": [
    "90 % is very high proportion, this proportion is greater than the actual difference observed in data so we can not reject the null hypothesis. We can not prove the now page have high rate converted, so we keep old page.\n",
    "\n"
   ]
  },
  {
   "cell_type": "markdown",
   "id": "ae083cdc-8800-474b-a557-df865173fcb1",
   "metadata": {},
   "source": [
    "Congratulations! You've completed this Notebook."
   ]
  }
 ],
 "metadata": {
  "kernelspec": {
   "display_name": "Python 3 (ipykernel)",
   "language": "python",
   "name": "python3"
  },
  "language_info": {
   "codemirror_mode": {
    "name": "ipython",
    "version": 3
   },
   "file_extension": ".py",
   "mimetype": "text/x-python",
   "name": "python",
   "nbconvert_exporter": "python",
   "pygments_lexer": "ipython3",
   "version": "3.9.12"
  }
 },
 "nbformat": 4,
 "nbformat_minor": 5
}
