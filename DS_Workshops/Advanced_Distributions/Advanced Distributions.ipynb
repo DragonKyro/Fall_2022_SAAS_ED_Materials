{
 "cells": [
  {
   "cell_type": "markdown",
   "id": "23ce67e0",
   "metadata": {
    "slideshow": {
     "slide_type": "slide"
    }
   },
   "source": [
    "# Advanced Distributions\n",
    "## By James Cheng and Sarang Deshpande (SAAS)"
   ]
  },
  {
   "cell_type": "markdown",
   "id": "dd5313d5",
   "metadata": {},
   "source": [
    "## Table of Contents\n",
    "1. [Characterizations of Continuous Random Variables](#characterizations)\n",
    "     1. [Cumulative Distribution Function (CDF)](#cdf)\n",
    "     2. [Probability Density Function (PDF)](#pdf)\n",
    "2. [Normal Distribution](#normal)\n",
    "3. [Student's $t$-distribution](#t)\n",
    "4. [Poisson Processes and Associated Distributions](#pp_and_dists)\n",
    "    1. [Poisson Distribution](#poiss)\n",
    "    2. [Exponential Distribution](#expo)\n",
    "    3. [Poisson Processes](#pp)\n",
    "    4. [Erlang Distribution](#erlang)\n",
    "5. [Gamma Distribution](#gamma)\n",
    "6. [Chi-Squared Distribution](#chi)\n",
    "7. [Beta Distribution](#beta)\n",
    "8. [Conclusion](#conclusion)"
   ]
  },
  {
   "cell_type": "markdown",
   "id": "41df4d7c",
   "metadata": {},
   "source": [
    "Today, we'll be discussing \"advanced\" distributions that you may have not seen before! As a disclaimer, much of the content in this notebook is adapted from Data 140 and EECS 126, so please check out those classes if you find any of this interesting!"
   ]
  },
  {
   "cell_type": "code",
   "execution_count": 6,
   "id": "83032e6d",
   "metadata": {},
   "outputs": [],
   "source": [
    "import numpy as np\n",
    "import pandas as pd\n",
    "import scipy\n",
    "from scipy import stats\n",
    "import matplotlib.pyplot as plt"
   ]
  },
  {
   "cell_type": "markdown",
   "id": "613de78e",
   "metadata": {
    "slideshow": {
     "slide_type": "slide"
    }
   },
   "source": [
    "<a id='characterizations'></a>\n",
    "## Characterizations of Continuous Random Variables"
   ]
  },
  {
   "cell_type": "markdown",
   "id": "ddb619f1",
   "metadata": {
    "slideshow": {
     "slide_type": "slide"
    }
   },
   "source": [
    "<a id='cdf'></a>\n",
    "### Cumulative Distribution Function (CDF)\n",
    "\n",
    "$$F_{X}(x) := P(X \\leq x) = P(X \\sim (-\\infty, x])$$\n",
    "\n",
    "The CDF is the probability that a random variable's distribution is less than some value $x$. Here are three properties of the CDF:\n",
    "1. Non-decreasing: for any $x$, $y \\in \\mathbb{R}$ such that $x \\leq y$, we have $F_{X}(x) \\leq F_{X}(y)$.\n",
    "2. Right-continuity: for any $x \\in \\mathbb{R}$, $\\lim_{x \\to a^{+}} F_X(x) = F_{X}(a)$\n",
    "3. Normalization: $lim_{x \\to \\infty} F_X(x) = 1$ and $lim_{x \\to -\\infty} F_X(x) = 0$  \n",
    "  \n",
    "In other words, non-decreasing means the CDF is never decreasing in value. Right-continuity means when we take the right-hand limit at a point, we approach the function evaluated at that point. Normalization means the CDF approaches 1 and begins at 0. This makes sense because $P(X \\leq \\infty) = 1$ and $P(X \\leq -\\infty) = 0$. Note that CDF has the same definition for both discrete and continuous distributions.  \n",
    "With this definition, we note that\n",
    "$$P(X \\in [a, b]) = F_X(b) - F_X(a)$$"
   ]
  },
  {
   "cell_type": "markdown",
   "id": "0299905f",
   "metadata": {},
   "source": [
    "### Survival Function (CCDF)\n",
    "The complement of the CDF is the CCDF, or survival function. This function describes $P(X > x)$, and is defined as $$P(X>x) = 1 - F_X(x)$$\n",
    "\n",
    "This characterization is especially relevant when discussing exponential random variables."
   ]
  },
  {
   "cell_type": "markdown",
   "id": "06a1ed3e",
   "metadata": {
    "slideshow": {
     "slide_type": "fragment"
    }
   },
   "source": [
    "However, we still don't have an analog of PMF $P(X=x)$ for continuous distributions, which we will now see."
   ]
  },
  {
   "cell_type": "markdown",
   "id": "3efd46e4",
   "metadata": {
    "slideshow": {
     "slide_type": "slide"
    }
   },
   "source": [
    "<a id='pdf'></a>\n",
    "### Probability Density Function (PDF)\n",
    "\n",
    "$$f_X(x) = \\frac{d}{dx}F_X(x)$$\n",
    "The PDF is the probability per unit length of being at a value $x$ and can be defined as the derivative of the CDF at $x$. Every PDF satisfies the following properties:\n",
    "1. Nonnegativity: $f_X(x) \\geq 0$, which follows from non-decreasingness of CDF.\n",
    "2. Normalization: $\\int_{-\\infty}^{\\infty} f_X(x) = 1$, which follows from normalization of CDF or CDF approaching $1$ as $x \\to \\infty$.  \n",
    "\n",
    "It is important to note that the PDF is not the same thing as $P(X = x) = 0$ for a continuous random variable $X$. Instead, it is interpreted as the probability per unit length, or $P(X \\in [x, x+dx])$ for some small $dx$."
   ]
  },
  {
   "cell_type": "markdown",
   "id": "07b9ee06",
   "metadata": {},
   "source": [
    "<a id='normal'></a>\n",
    "## Normal Distribution  \n",
    "Let's start by exploring the normal distribution. As you know, the normal distribution is used in a wide variety of statistics applications. \n",
    "### Normal Distribution PDF\n",
    "\n",
    "A random variable X that follows a $\\mathcal{N}(\\mu, \\sigma^2)$ distribution with mean $\\mu$ and variance $\\sigma^2$ has the following probability density function (PDF):  \n",
    "\n",
    "$$  \n",
    "f_X(x) ~ = ~ \\frac{1}{\\sigma\\sqrt{2\\pi}}e^{-\\frac{1}{2}(\\frac{x-\\mu}{\\sigma})^2}\n",
    "$$ \n",
    "\n",
    "### Expectation and Variance:\n",
    "\n",
    "$$E[X] = \\mu$$\n",
    "\n",
    "$$Var(X) = \\sigma^2$$"
   ]
  },
  {
   "cell_type": "code",
   "execution_count": 7,
   "id": "169693d1",
   "metadata": {
    "scrolled": false
   },
   "outputs": [
    {
     "data": {
      "image/png": "[encoded data removed]",
      "text/plain": [
       "<Figure size 432x288 with 1 Axes>"
      ]
     },
     "metadata": {
      "needs_background": "light"
     },
     "output_type": "display_data"
    }
   ],
   "source": [
    "# Normal Distribution PDF for different mean and standard deviation combinations. \n",
    "x = np.arange(-6, 6, 0.01)\n",
    "plt.plot(x, stats.norm.pdf(x, 0, 1), label='$\\mu=0; \\sigma=1$')\n",
    "plt.plot(x, stats.norm.pdf(x, 2, 1), label='$\\mu=2; \\sigma=1$')\n",
    "plt.plot(x, stats.norm.pdf(x, 0, 2), label='$\\mu=0; \\sigma=2$')\n",
    "\n",
    "plt.xlabel('x')\n",
    "plt.ylabel('f(x)')\n",
    "plt.title('Normal Distribution PDF')\n",
    "plt.legend()\n",
    "plt.show()"
   ]
  },
  {
   "cell_type": "markdown",
   "id": "4b5fe0b2",
   "metadata": {},
   "source": [
    "One convenient characteristic of the normal distribution is the 68 - 95 - 99.7 rule.\n",
    "<img src='AdvancedDistributionsImages/68-95-997-rule.png' width=500px>  \n",
    "Let's test out this rule on the standard normal distribution. \n",
    "\n",
    "`stats.norm(mu,sigma).cdf(x)` will give you the CDF of x where all x are follow a normal distribution with mean of $\\mu$ and standard deviation of $\\sigma$. Note that the function takes in the standard deviation $\\sigma$, not variance $\\sigma^2$. A CDF is the the probability that x is less than or equal to a value, or $P(X \\leq x)$ for any random variable $X$.\n",
    "\n",
    "What are the parameters for a standard normal distribution? Mean of 0 and standard deviation of 1.<br>\n",
    "What does it mean when I type in `stats.norm(0,1).cdf(0)`? What should the answer be?"
   ]
  },
  {
   "cell_type": "code",
   "execution_count": 8,
   "id": "b14a4296",
   "metadata": {},
   "outputs": [
    {
     "data": {
      "text/plain": [
       "0.5"
      ]
     },
     "execution_count": 8,
     "metadata": {},
     "output_type": "execute_result"
    }
   ],
   "source": [
    "# Guess what the below cell should return!\n",
    "stats.norm(0,1).cdf(0)"
   ]
  },
  {
   "cell_type": "markdown",
   "id": "18d10f58",
   "metadata": {},
   "source": [
    "Now, let's test out the 68-95-99.7 rule:"
   ]
  },
  {
   "cell_type": "code",
   "execution_count": 9,
   "id": "9ae32752",
   "metadata": {},
   "outputs": [
    {
     "name": "stdout",
     "output_type": "stream",
     "text": [
      "Probability that X is one standard deviation away from the mean: 0.6826894921370859\n",
      "Probability that X is two standard deviations away from the mean: 0.9544997361036416\n",
      "Probability that X is three standard deviations away from the mean: 0.9973002039367398\n"
     ]
    }
   ],
   "source": [
    "prob_one_sd_away = stats.norm(0,1).cdf(1) - stats.norm(0, 1).cdf(-1)\n",
    "prob_two_sd_away = stats.norm(0,1).cdf(2) - stats.norm(0, 1).cdf(-2)\n",
    "prob_three_sd_away = stats.norm(0,1).cdf(3) - stats.norm(0, 1).cdf(-3)\n",
    "\n",
    "print(f\"Probability that X is one standard deviation away from the mean: {prob_one_sd_away}\")\n",
    "print(f\"Probability that X is two standard deviations away from the mean: {prob_two_sd_away}\")\n",
    "print(f\"Probability that X is three standard deviations away from the mean: {prob_three_sd_away}\")"
   ]
  },
  {
   "cell_type": "markdown",
   "id": "a4566971",
   "metadata": {},
   "source": [
    "<a id='t'></a>\n",
    "## Student's $t$-distribution\n",
    "### Overview\n",
    "The Student's $t$-distribution ($t$-distribution) is used when estimating the mean of a normally distributed population when the sample size is small and population standard deviation is unknown. You may have used it before to conduct a $t$-test to assess the statistical significance between two sample means or to construct confidence intervals of the difference between two population means.  \n",
    "\n",
    "The $t$-distribution can be seen as a more conservative form of the normal distribution in putting more weight on the tails and less weight on the mean:\n",
    "\n",
    "<img src='AdvancedDistributionsImages/t-vs-z-distributions.png' width=500px>"
   ]
  },
  {
   "cell_type": "markdown",
   "id": "e32e2d7a",
   "metadata": {},
   "source": [
    "Here is how $t$-distributions arise from sampling from a normally distributed population:  \n",
    "Let $X_1, X_2, X_3, ... \\sim_{iid} \\mathcal{N}(\\mu, \\sigma^2)$, or have a sample size of $n$ sampled from a population with estimated mean $\\mu$ and variance $\\sigma^2$. Let the sample mean be \n",
    "$$\\overline X = \\frac{1}{n} \\sum_{i=1}^{n} X_i$$\n",
    "and the Bessel-corrected (note the $\\frac{1}{n-1}$, which makes it an unbiased estimator) sample variance be  \n",
    "$$S^2 = \\frac{1}{n-1} \\sum_{i=1}^{n} (X_i - \\overline X)^2$$\n",
    "Then, the standardized random variable  \n",
    "$$\\frac{\\overline X - \\mu}{\\sigma / \\sqrt{n}}$$\n",
    "follows a standard normal distribution with mean $\\mu$ and variance $1$ (it is standardized by subtracting the mean and divide by the standard deviation of $\\overline X$). Then, the random variable \n",
    "$$\\frac{\\overline X - \\mu}{S / \\sqrt{n}}$$\n",
    "has a $t$-distribution with $n-1$ degrees of freedom. Now that we replaced population standard deviation $\\sigma$ with sample standard deviation $S$, population mean $\\mu$ is our only unknown variable and we can create confidence intervals for $\\mu$."
   ]
  },
  {
   "cell_type": "markdown",
   "id": "12154090",
   "metadata": {},
   "source": [
    "### $t$-distribution vs Normal distribution\n",
    "Let's explore the relationship between the $t$-distribution and the normal distribution further. We mentioned earlier that the $t$-distribution is used when the population is normally distributed and our sample size is small. The variance of the distribution is dependent on the degrees of freedom $n-1$. What if our sample size increases?  \n",
    "To explore, we will make use of the scipy's $t$-distribution PDF: **stats.t.pdf(x, df, loc=0, scale=1)**. x is the value we're interested in PDF $f_X(x)$, df is the degrees of freedom, loc is our shift, and scale is how much we want to scale the distribution."
   ]
  },
  {
   "cell_type": "code",
   "execution_count": null,
   "id": "981d8b86",
   "metadata": {
    "scrolled": true
   },
   "outputs": [],
   "source": [
    "# k is the k-value for the PDF f_X(k)\n",
    "k = np.arange(-4, 5, 0.01)\n",
    "\n",
    "# We iterate through different values of degrees of freedom df.\n",
    "for df in np.array([1, 3, 2, 8, 20]):\n",
    "    # calculate the PDF\n",
    "    p = stats.t.pdf(k, df, loc=0, scale=1)\n",
    "    plt.plot(k, p, label=f'$df = {df}$')\n",
    "# add standard normal PDF\n",
    "p_norm = stats.norm.pdf(k)\n",
    "plt.plot(k, p_norm, label=f'standard normal')\n",
    "plt.legend(loc='best')\n",
    "plt.show()"
   ]
  },
  {
   "cell_type": "markdown",
   "id": "30b520df",
   "metadata": {},
   "source": [
    "As you can see, as the degrees of freedom increases, we get closer and closer to the standard normal distribution PDF! As our sample size surpasses 30, the $t$-distribution is roughly the normal distribution."
   ]
  },
  {
   "cell_type": "markdown",
   "id": "45bbb744",
   "metadata": {
    "slideshow": {
     "slide_type": "slide"
    }
   },
   "source": [
    "<a id='pp_and_dists'></a>\n",
    "## Poisson Processes and its Associated Distributions"
   ]
  },
  {
   "cell_type": "markdown",
   "id": "a4dfcc2d",
   "metadata": {
    "slideshow": {
     "slide_type": "slide"
    }
   },
   "source": [
    "<a id='poiss'></a>\n",
    "### Poisson Distribution\n",
    "#### Overview\n",
    "Poisson random variables describe the probability of an event happening a certain number of times within a time period or space. The rate at which events occur must be constant, and one event's occurrence cannot impact another event's occurrence: the events must be independent. Typically, the time period or space is very large, and the probability is very low. \n",
    "\n",
    "#### PMF\n",
    "The Poisson random variable $X \\sim Poisson(\\lambda)$ is a discrete random variable with parameter $\\lambda$ and PMF  \n",
    "$$p_{X}(k) = e^{-\\lambda} \\frac{\\lambda^k}{k!}$$ with $k = 0, 1, 2, ...$. The parameter $\\lambda$ can be seen as the mean number of events that occur. A Poisson RV is essentially a binomial random variable with a very large $n$ and very small $p$.  \n",
    "\n",
    "**Example**: Let $X$ be the number of defective tires in a car factory with $n=1,000,000$ total tires with each tire having a probability $p = 0.0001$ or $0.01\\%$ of being defective. Then, $X$ is a binomial random variable, but since the probability $p$ of a defective tire is very small, $X$ is well modeled by a Poisson PMF.  \n",
    "\n",
    "In particular, the Poisson PMF with parameter $\\lambda$ is a good approximation of a binomial random random variable with parameters $n$ and $p$:  \n",
    "$$e^{-\\lambda} \\frac{\\lambda^k}{k!} \\approx \\binom{n}{k} p^k (1-p)^{n-k}$$ assuming $\\lambda = np$.  \n",
    "\n",
    "#### Expectation and Variance:\n",
    "For $X \\sim Poisson(\\lambda)$,  \n",
    "$$\\mathbb{E}[X] = \\lambda$$ \n",
    "$$Var(X) = \\lambda$$ "
   ]
  },
  {
   "cell_type": "markdown",
   "id": "66129172",
   "metadata": {},
   "source": [
    "Under the scipy package, we have the scipy.stats.poisson object that describes a Poisson distribution. To get the PMF, we have **stats.poisson.pmf(k, mu, loc=0)**. k is the value we are interested in $P(X=k)$. mu is the parameter lambda for our Poisson distribution. loc describes how much we want to shift the distribution by; typically we keep loc at the default value of 0. Here is a use of that function to see how the Poisson PMF changes for different values of $\\lambda$."
   ]
  },
  {
   "cell_type": "code",
   "execution_count": null,
   "id": "8bc94cbc",
   "metadata": {
    "scrolled": true
   },
   "outputs": [],
   "source": [
    "# k is the k-value for the PMF in P(X = k)\n",
    "k = np.arange(12)\n",
    "\n",
    "# We iterate through different values of parameter lambda\n",
    "for lam in np.array([0.5, 1, 2, 3, 6]):\n",
    "    # calculate the PMF across all values of k above\n",
    "    p = stats.poisson.pmf(k, lam, loc=0)\n",
    "    plt.plot(k, p, label=f'$\\lambda = {lam}$')\n",
    "plt.legend(loc='best')\n",
    "plt.show()"
   ]
  },
  {
   "cell_type": "markdown",
   "id": "a1be466a",
   "metadata": {},
   "source": [
    "**Question**: What patterns do you notice as $\\lambda$ increases? Intuitively, why do these patterns occur?"
   ]
  },
  {
   "cell_type": "markdown",
   "id": "f5be1f3c",
   "metadata": {},
   "source": [
    "**Answer:** As $\\lambda$ increases, the mean number of events that occur increases. This is demonstrated in the graph by the curves shifting to the right with the centers of the probability mass shifting right as well because the mean number of events increases."
   ]
  },
  {
   "cell_type": "markdown",
   "id": "b37ccb6a",
   "metadata": {},
   "source": [
    "To get the CDF, we have **stats.poisson.cdf(k, mu, loc=0)**:"
   ]
  },
  {
   "cell_type": "code",
   "execution_count": null,
   "id": "09deae1c",
   "metadata": {},
   "outputs": [],
   "source": [
    "# k is the k-value for the CDF, or P(X <= k)\n",
    "k = np.arange(12)\n",
    "\n",
    "# We iterate through different values of parameter lambda\n",
    "for lam in np.array([0.5, 1, 2, 3, 6]):\n",
    "    # calculate the CDF\n",
    "    p = stats.poisson.cdf(k, lam, loc=0)\n",
    "    plt.plot(k, p, label=f'$\\lambda = {lam}$')\n",
    "plt.legend(loc='best')\n",
    "plt.show()"
   ]
  },
  {
   "cell_type": "markdown",
   "id": "ad832589",
   "metadata": {},
   "source": [
    "**Question**: What patterns do you notice as $\\lambda$ increases? Intuitively, why do these patterns occur?"
   ]
  },
  {
   "cell_type": "markdown",
   "id": "c739960b",
   "metadata": {},
   "source": [
    "**Answer:** Similar to before, as $\\lambda$ decreases, the mean number of events that occur decreases. Therefore, for lower values of $\\lambda$, it is much more likely for the random variable to be less than some value."
   ]
  },
  {
   "cell_type": "markdown",
   "id": "c071b525",
   "metadata": {},
   "source": [
    "**Exercise**: Let's expand on our example above: let $X$ be the number of defective tires in a car factory with $n=1,000,000$ total tires with each tire having a probability $p = 0.0001$ or $0.01\\%$ of being defective. Then, $X$ is a binomial random variable, but since the probability $p$ of a defective tire is very small, $X$ is well modeled by a Poisson PMF.  \n",
    "1. What is the parameter $\\lambda$ for the Poisson RV?\n",
    "2. What is the probability that there are less than or equal to 90 defective tires?"
   ]
  },
  {
   "cell_type": "code",
   "execution_count": null,
   "id": "6fd91672",
   "metadata": {
    "scrolled": true
   },
   "outputs": [],
   "source": [
    "# lambda = np = 1,000,000 * 0.0001 = 100\n",
    "lam = 100 # lambda\n",
    "print(f\"Probability of less than or equal to 90 defective tires: {stats.poisson.cdf(90, lam, loc=0)}\")\n",
    "\n",
    "# observing CDF across all values from k=0 to k=199\n",
    "k = np.arange(200)\n",
    "p = stats.poisson.cdf(k, lam, loc=0)\n",
    "plt.plot(k, p, label=f'$\\lambda = {lam}$')\n",
    "plt.legend(loc='best')\n",
    "plt.show()"
   ]
  },
  {
   "cell_type": "markdown",
   "id": "a9d77dfc",
   "metadata": {
    "slideshow": {
     "slide_type": "slide"
    }
   },
   "source": [
    "<a id='expo'></a>\n",
    "### Exponential Distribution\n",
    "\n",
    "#### Overview\n",
    "Exponential distributions typically describe the waiting time for a single event to occur, so it is analogous to the Geometric Distribution for discrete random variables.  \n",
    "\n",
    "#### PDF, CDF,  and Survival Function\n",
    "The exponential random variable is continuous which has a PDF of  \n",
    "$$ f_X(x) =   \\left\\{\n",
    "\\begin{array}{ll}\n",
    "      \\lambda e^{-\\lambda x}, & x \\geq 0 \\\\\n",
    "      0, & otherwise\n",
    "\\end{array} \n",
    "\\right.  $$\n",
    "\n",
    "The CDF is \n",
    "$$F_X(x) = {1-e^{-\\lambda x}}$$\n",
    "Therefore, the CCDF or survival function is $$e^{-\\lambda x}$$\n",
    "\n",
    "\n",
    "**Example**: Let $X$ be the wait time for the next bus to arrive, and the bus always seems to arrive in 12 minutes on average. Since time is continuous and we are describing a wait time, $X \\sim Expo(\\frac{1}{12})$ where $\\lambda=\\frac{1}{12}$ is the rate parameter because one bus arrives every 12 minutes on average.  \n",
    "\n",
    "#### Expectation and Variance:\n",
    "For $X \\sim Expo(\\lambda)$,  \n",
    "$$\\mathbb{E}[X] = \\frac{1}{\\lambda}$$\n",
    "$$Var(X) = \\frac{1}{\\lambda^2}$$  "
   ]
  },
  {
   "cell_type": "markdown",
   "id": "2dde27b1",
   "metadata": {
    "slideshow": {
     "slide_type": "subslide"
    }
   },
   "source": [
    "**Memoryless Property**:\n",
    "One key property of the Exponential is that it is memoryless (so is Geometric)! Now what does that mean? Let's put it mathematically first, for $X \\sim Expo(\\lambda)$:\n",
    "$$P(X > t + s | X > t) = P(X > s)$$\n",
    "Taking a look at the conditional part of the probability, we know that we will take more than time $t$ for the arrival/some event to occur. The probability that it will take more than $t+s$ time to occur (survival probability) is the same probability that it will take greater than $s$ time to occur. In essence, we \"forgot\" about the fact that more than $t$ time has already passed - it is as if we started from the beginning again! That is why it is referred to as the memoryless property.  \n",
    "\n",
    "We can use scipy's **stats.expon.pdf(x, loc=0, scale=1)** to find the PDF of an exponential distribution. Similar to before, x is is the value we are interested in, or the small $x$ in $f_X(x)$. loc is how much we want to shift by. Scale represents $\\frac{1}{\\lambda}$, and it is how much we scale the exponential distribution by."
   ]
  },
  {
   "cell_type": "code",
   "execution_count": null,
   "id": "71651fd4",
   "metadata": {
    "scrolled": false
   },
   "outputs": [],
   "source": [
    "# k is the k-value for the PDF f_X(k)\n",
    "k = np.arange(0, 1, 0.1)\n",
    "\n",
    "# We iterate through different values of parameter lambda\n",
    "for lam in np.array([0.5, 1, 2, 3, 6]):\n",
    "    # calculate the PDF\n",
    "    p = stats.expon.pdf(k, loc=0, scale=1/lam)\n",
    "    plt.plot(k, p, label=f'$\\lambda = {lam}$')\n",
    "plt.legend(loc='best')\n",
    "plt.show()"
   ]
  },
  {
   "cell_type": "markdown",
   "id": "df86ab1c",
   "metadata": {},
   "source": [
    "**Question**: What patterns do you notice as $\\lambda$ increases? Intuitively, why do these patterns occur?"
   ]
  },
  {
   "cell_type": "markdown",
   "id": "a6b99137",
   "metadata": {},
   "source": [
    "**Answer**: As $\\lambda$ increases, our rate is increasing. Therefore, the probability (per unit length) at smaller values is very high because it is very likely for the event to have occurred if the rate is high."
   ]
  },
  {
   "cell_type": "markdown",
   "id": "155edd85",
   "metadata": {},
   "source": [
    "The CDF function for the exponential is very similar: **stats.expon.cdf(x, loc=0, scale=1)**"
   ]
  },
  {
   "cell_type": "code",
   "execution_count": null,
   "id": "78e37250",
   "metadata": {
    "scrolled": true
   },
   "outputs": [],
   "source": [
    "# k is the k-value for the CDF, or P(X <= k)\n",
    "k = np.arange(0, 1, 0.1)\n",
    "\n",
    "# We iterate through different values of parameter lambda\n",
    "for lam in np.array([0.5, 1, 2, 3, 6]):\n",
    "    # calculate the CDF\n",
    "    p = stats.expon.cdf(k, loc=0, scale=1/lam)\n",
    "    plt.plot(k, p, label=f'$\\lambda = {lam}$')\n",
    "plt.legend(loc='best')\n",
    "plt.show()"
   ]
  },
  {
   "cell_type": "markdown",
   "id": "61aa45c6",
   "metadata": {},
   "source": [
    "**Question**: What patterns do you notice as $\\lambda$ increases? Intuitively, why do these patterns occur?"
   ]
  },
  {
   "cell_type": "markdown",
   "id": "3ed3689c",
   "metadata": {},
   "source": [
    "**Answer**: Similar to before, as $\\lambda$ increases, our rate is increasing. Therefore, the probability that an event occurred before some small value is very high because it is very likely for the event to have occurred by then if the rate is high."
   ]
  },
  {
   "cell_type": "markdown",
   "id": "edc2ec3c",
   "metadata": {
    "slideshow": {
     "slide_type": "slide"
    }
   },
   "source": [
    "<a id='pp'></a>\n",
    "### Poisson Processes\n",
    "With the Poisson and Exponential distributions, we can begin to look at the Poisson Process, which is a type of random process. What is a random process? So far, we've been looking at random variables individually. But what if we want to observe a sequence of random variables, which is how many observable processes work in the real world? For example, a sequence of daily stock prices or sequence of failure times of a machine both need multiple random variables.  \n",
    "\n",
    "Here is a definition of the Poisson process according to EECS 126 notes:  \n",
    "**Definition**: *Fix some $\\lambda > 0$ and sample interarrival times $S_1, S_2, S_3, ... \\sim_{iid} Exp(\\lambda)$. For each $n \\geq 1$ define $T_n = \\sum_{j = 1}^{n} S_j$ for $n \\geq 1$. The function $N(t) = max\\{n \\geq 0: T_n \\leq t\\}$ represents the number of arrivals at time t. We call the sequence $\\{N(t)\\}_{t\\geq 0}$ a Poisson process with rate $\\lambda$. The distribution of such processes is denoted $PP(\\lambda)$.*  \n",
    "\n",
    "Here is a graph that relates $t$ (time) and $N_t$ (number of arrivals).\n",
    "\n",
    "<img src='AdvancedDistributionsImages/PoissonProcess.png' width=500px>"
   ]
  },
  {
   "cell_type": "markdown",
   "id": "6de049f6",
   "metadata": {
    "slideshow": {
     "slide_type": "subslide"
    }
   },
   "source": [
    "Using the same bus example from the exponential distribution section, the time between the $i-1$st bus and $i$th bus is the interarrival time $S_i$. The $i$th bus comes after $T_i$ time as elapsed. The Poisson process $N(t)$ counts the number of buses that have arrived by time $t$.  \n",
    "\n",
    "Oftentimes, we may want to observe the number of arrivals in an arbitrary range of time that doesn't start at $0$. We can introduce some new notation for that:  \n",
    "**Definition**: For Poisson process $PP(\\lambda)$, we define $N(t_1, t_2) := N(t_2) - N(t_1)$ for $t_2 \\geq t_1$ to be the number of arrivals in the interval $[t_1, t_2]$."
   ]
  },
  {
   "cell_type": "markdown",
   "id": "bf5f3726",
   "metadata": {
    "slideshow": {
     "slide_type": "subslide"
    }
   },
   "source": [
    "Where does the \"Poisson\" in Poisson processes comes from?\n",
    "For a Poisson process $\\{N(t)\\}_{t \\geq 0} \\sim PP(\\lambda)$, we have $N(t) \\sim Poisson(\\lambda t)$, or more explicitly the PMF is  \n",
    "$$P(N_t = n) = \\frac{(\\lambda t)^n e^{-\\lambda t}}{n!}$$\n",
    "In other words, the distribution of the number of arrivals by some time $t$ follows a Poisson distribution."
   ]
  },
  {
   "cell_type": "markdown",
   "id": "566f9db8",
   "metadata": {},
   "source": [
    "**Exercise**: Pierre catches fish according to a $PP(\\lambda=0.6 fish/hr)$. If he catches at least one fish in the first two hours, he quits. Else, he continues beyond 2 hours until he has caught his first fish.\n",
    "1. What is the probability that Pierre fishes for more than 2 hours?\n"
   ]
  },
  {
   "cell_type": "markdown",
   "id": "5e2dd9e1",
   "metadata": {},
   "source": [
    "**Answer**: Pierre fishes for more than 2 hours only if he did not catch a single fish in the first two hours, and this occurs with probability $P(N_2 = 0) = e^{-1.2}$"
   ]
  },
  {
   "cell_type": "markdown",
   "id": "7dd51e42",
   "metadata": {},
   "source": [
    "2. What is the probability that Pierre catches at least 2 fish?"
   ]
  },
  {
   "cell_type": "markdown",
   "id": "7b92ba8a",
   "metadata": {},
   "source": [
    "**Answer**: Pierre catches at least 2 fish only if he catches at least 2 fish within the first two hours, because if he spends more than two hours he can only catch at most 1 fish. Therefore, we are interested in the probability that Pierre catches at least 2 fish in the first two hours. We use the complement rule because $P($at least one fish in first 2 hours$)$ is equal to $1-P($0 fish in first two hours$) - P($1 fish in first two hours$) = 1 - P(N_2 = 0) - P(N_2 = 1) = 1-e^{-1.2}-1.2e^{-1.2}$."
   ]
  },
  {
   "cell_type": "markdown",
   "id": "a4b33d4b",
   "metadata": {},
   "source": [
    "3. What is the expected number of fish caught by Pierre?"
   ]
  },
  {
   "cell_type": "markdown",
   "id": "397102f9",
   "metadata": {},
   "source": [
    "**Answer**: Note that $\\mathbb{E}[$# fish caught$] = \\mathbb{E}[$# fish caught in $(0, 2)] + \\mathbb{E}[$# fish caught in $(2, \\infty)]$. We proceed to use linearity of expectation:  \n",
    "$\\mathbb{E}[Poisson(1.2)] + 1\\cdot e^{-1.2} = 1.2+e^{-1.2}$. $\\mathbb{E}[$# fish caught in $(2, \\infty)] = 1\\cdot e^{-1.2}$ because we can only have $1$ fish caught in $(2, \\infty)$, and the probability of that occurring is the probability of fihsing fore more than 2 hours, which is $e^{-1.2}$ from part 1 of this exercise."
   ]
  },
  {
   "cell_type": "markdown",
   "id": "4203f610",
   "metadata": {},
   "source": [
    "4. What is the expected time spent fishing given that Pierre has already spent more than 4 hours?"
   ]
  },
  {
   "cell_type": "markdown",
   "id": "050cece7",
   "metadata": {},
   "source": [
    "**Answer**: Since we have already spent more than 4 hours, we are waiting for our first fish to be caught, and this time is distributed exponentially since we are observing a Poisson Process. By the memoryless property, the fact that we have already spent more than 4 hours does not impact our distribution - it is as if we started from $t=2$ again. Therefore, the amount of time for our first fish to be caught is $Expo(\\frac{0.6})$.  \n",
    "$\\mathbb{E}[$fishing time$ | T > 4] = 4 + \\mathbb{E}[Expo(0.6)] = 4 + \\frac{1}{0.6} = 5 \\frac{2}{3}$ hours."
   ]
  },
  {
   "cell_type": "markdown",
   "id": "48eacb75",
   "metadata": {
    "slideshow": {
     "slide_type": "slide"
    }
   },
   "source": [
    "<a id='erlang'></a>\n",
    "### Erlang Distribution\n",
    "#### Overview\n",
    "We know that the sample interarrival times $S_i$ are distributed according to $Expo(\\lambda)$, but what are the distributions of the the arrival times $T_k$? First, note that each $T_k$ is a sum of the i.i.d. $Expo(\\lambda)$ random variables. The sum of the i.i.d. exponential random variables results in the Erlang distribution, denoted $Erlang(k;\\lambda)$.  \n",
    "\n",
    "#### PDF and CDF\n",
    "If we let $T_k$ be the arrival time for the $k$th arrival for a Poisson process $PP(\\lambda)$, then the PDF for an Erlang distribution is\n",
    "$$f_{T_k}(t) = \\frac{\\lambda^k t^{k-1} e^{-\\lambda t}}{(k-1)!}$$\n",
    "The CDF is \n",
    "$$1 - \\sum_{n=0}^{k-1} \\frac{1}{n!} e^{-\\lambda x} (\\lambda x)^n$$\n",
    "\n",
    "#### Expectation and Variance:\n",
    "For $X \\sim Erlang(k;\\lambda)$,\n",
    "$$\\mathbb{E}[X] = \\frac{k}{\\lambda}$$\n",
    "$$Var(X) = \\frac{k}{\\lambda^2}$$\n",
    "These can be verified using the mean and variance of exponential random variables, linearity of expectation, and the fact that we are summing over i.i.d. exponential random variables."
   ]
  },
  {
   "cell_type": "markdown",
   "id": "c36e5833",
   "metadata": {},
   "source": [
    "Scipy's PDF function for the Erlang distribution is **stats.erlang.pdf(x, a, loc=0, scale=1)**. x is the the arrival time (t in our PDF above) and a is which arrival we're interested in (kth arrival; k in our PDF above). loc and scale are the same as before: loc is how much we are shifting by and scale =$\\frac{1}{\\lambda}$."
   ]
  },
  {
   "cell_type": "code",
   "execution_count": null,
   "id": "c02e0e1a",
   "metadata": {
    "scrolled": true
   },
   "outputs": [],
   "source": [
    "# t is the t-value for the PDF f_{T_k}(t)\n",
    "t = np.arange(0, 1, 0.1)\n",
    "\n",
    "# We iterate through different values of parameter lambda.\n",
    "# Here, we set a=3, which means we are interested in the distribution of the k=3 or third arrival.\n",
    "for lam in np.array([0.5, 1, 2, 3, 6]):\n",
    "    # calculate the PDFb\n",
    "    p = stats.erlang.pdf(t, a=3, loc=0, scale=1/lam)\n",
    "    plt.plot(k, p, label=f'$\\lambda = {lam}$')\n",
    "plt.legend(loc='best')\n",
    "plt.show()"
   ]
  },
  {
   "cell_type": "markdown",
   "id": "3c242061",
   "metadata": {},
   "source": [
    "**Question**: What patterns do you notice as $\\lambda$ increases? Intuitively, why do these patterns occur?"
   ]
  },
  {
   "cell_type": "markdown",
   "id": "a4a6a581",
   "metadata": {},
   "source": [
    "**Answer**: As $\\lambda$ increases, our rate increases. Therefore, the amount of time it takes for our $k$th arrival would be lower for high $\\lambda$ because our rate is higher."
   ]
  },
  {
   "cell_type": "markdown",
   "id": "81d9a93e",
   "metadata": {},
   "source": [
    "Similarly, the CDF function for the Erlang distribution is **stats.erlang.cdf(x, a, loc=0, scale=1)**:"
   ]
  },
  {
   "cell_type": "code",
   "execution_count": null,
   "id": "483774cb",
   "metadata": {
    "scrolled": false
   },
   "outputs": [],
   "source": [
    "# t is the t-value for the CDF F_{T_k}(t)\n",
    "t = np.arange(0, 1, 0.1)\n",
    "\n",
    "# We iterate through different values of parameter lambda.\n",
    "# Here, we set a=3, which means we are interested in the distribution of the k=3 or third arrival.\n",
    "for lam in np.array([0.5, 1, 2, 3, 6]):\n",
    "    # calculate the CDF\n",
    "    p = stats.erlang.cdf(t, a=3, loc=0, scale=1/lam)\n",
    "    plt.plot(k, p, label=f'$\\lambda = {lam}$')\n",
    "plt.legend(loc='best')\n",
    "plt.show()"
   ]
  },
  {
   "cell_type": "markdown",
   "id": "7165f982",
   "metadata": {},
   "source": [
    "**Question**: What patterns do you notice as $\\lambda$ increases? Intuitively, why do these patterns occur?"
   ]
  },
  {
   "cell_type": "markdown",
   "id": "b2414e49",
   "metadata": {},
   "source": [
    "**Answer**: Similar to before, as $\\lambda$ increases, our rate increases. Therefore, the probability that it takes for our $k$th arrival to be less than some time $t$ is going to be higher for a higher rate."
   ]
  },
  {
   "cell_type": "markdown",
   "id": "243ca9e6",
   "metadata": {},
   "source": [
    "<a id='gamma'></a>\n",
    "## Gamma Distribution\n",
    "\n",
    "Next, we will explore the Gamma Distribution.\n",
    "\n",
    "### Gamma Distribution Overview\n",
    "\n",
    "The Gamma Distribution is another distribution with many applications. It is essentially an extension of the Erlang distribution where the shape parameter no longer has to take on integer values. As a result, it's most common application is in modeling wait times of independent events occuring at a constant average rate.\n",
    "\n",
    "### Gamma Distribution PDF\n",
    "\n",
    "A random variable X that follows a $Gamma(r, \\lambda)$ distribution has the following probability density function (PDF):  \n",
    "\n",
    "$$\n",
    "f_X(x) ~ = ~ \\frac{\\lambda^r}{\\Gamma(r)} x^{r-1}e^{-\\lambda x}, ~~~~~ x \\ge 0\n",
    "$$\n",
    "\n",
    "### Gamma Function\n",
    "\n",
    "You may notice a strange function $\\Gamma(r)$ present in the gamma distribution PDF. This function is called the gamma function and is equal to the following:\n",
    "\n",
    "$$\n",
    "\\Gamma(r) ~ = ~ \\int_0^\\infty x^{r-1}e^{-x} dx\n",
    "$$\n",
    "\n",
    "The gamma function has applications to various realms of mathematics and statistics. It can be thought of as an extension of the factorial function to the real number domain. In fact, for any positive integer input, $\\Gamma(r) ~ = ~ (r-1)!$  "
   ]
  },
  {
   "cell_type": "markdown",
   "id": "0c42aca5",
   "metadata": {},
   "source": [
    "### Gamma Distribution Parameters\n",
    "\n",
    "Looking back at the gamma distribution PDF, there are two parameters that define the distribution, r and $\\lambda$. Both parameters must be positive.\n",
    "\n",
    "#### Shape Parameter\n",
    "r is considered the shape parameter. We noted earlier that an important application of this distribution is the wait time until some number of independent events occurs. The shape parameter is equal to the number of events we are waiting to occur in this example.\n",
    "\n",
    "#### Scale Parameter\n",
    "$\\lambda$ is considered the scale parameter. The scale parameter is equal to the average rate at which events occur."
   ]
  },
  {
   "cell_type": "markdown",
   "id": "80234ce2",
   "metadata": {},
   "source": [
    "### Expectation and Variance:\n",
    "\n",
    "$$E[X] = \\frac{r}{\\lambda}$$\n",
    "\n",
    "$$Var(X) = \\frac{r}{\\lambda^2}$$"
   ]
  },
  {
   "cell_type": "code",
   "execution_count": null,
   "id": "f43bf41f",
   "metadata": {},
   "outputs": [],
   "source": [
    "#Gamma Distribution PDFs for differing shape parameter but constant scale parameter\n",
    "\n",
    "x = np.arange(0, 10, 0.01)\n",
    "plt.plot(x, stats.gamma.pdf(x, 1, scale=1), label='$r=1; \\lambda=1$')\n",
    "plt.plot(x, stats.gamma.pdf(x, 2, scale=1), label='$r=2; \\lambda=1$')\n",
    "plt.plot(x, stats.gamma.pdf(x, 4, scale=1), label='$r=4; \\lambda=1$')\n",
    "\n",
    "plt.xlabel('x')\n",
    "plt.ylabel('f(x)')\n",
    "plt.title('Gamma Distribution PDF')\n",
    "plt.legend()\n",
    "plt.show()"
   ]
  },
  {
   "cell_type": "code",
   "execution_count": null,
   "id": "fac044b1",
   "metadata": {},
   "outputs": [],
   "source": [
    "#Gamma Distribution PDFs for differing scale parameter but constant shape parameter\n",
    "\n",
    "x = np.arange(0, 20, 0.01)\n",
    "plt.plot(x, stats.gamma.pdf(x, 4, scale=2), label='$r=4; \\lambda=0.5$')\n",
    "plt.plot(x, stats.gamma.pdf(x, 4, scale=1), label='$r=4; \\lambda=1$')\n",
    "plt.plot(x, stats.gamma.pdf(x, 4, scale=0.5), label='$r=4; \\lambda=2$')\n",
    "\n",
    "plt.xlabel('x')\n",
    "plt.ylabel('f(x)')\n",
    "plt.title('Gamma Distribution PDF')\n",
    "plt.legend()\n",
    "plt.show()"
   ]
  },
  {
   "cell_type": "markdown",
   "id": "32c6eafe",
   "metadata": {},
   "source": [
    "### Special Cases of the Gamma Distribution\n",
    "\n",
    "The gamma distribution is closely related to many other distributions. Here are a few important special cases:\n",
    "\n",
    "\n",
    "\n",
    "$Exponential(\\lambda) = Gamma(1, \\lambda)$\n",
    "\n",
    "If $X$ ~ $Normal(0, 1)$ then $X^2$ ~ $Gamma(1/2, 1/2)$ "
   ]
  },
  {
   "cell_type": "markdown",
   "id": "8a09414c",
   "metadata": {},
   "source": [
    "<a id='chi'></a>\n",
    "\n",
    "## Chi-Squared Distribution\n",
    "\n",
    "### Chi-Squared Distribution Overview\n",
    "\n",
    "The chi-squared distribution is used most commonly in statistical inference problems. The distribution itself represents the distribution of a sum of the squares of independent standard normal random variables.\n",
    "\n",
    "It is relevant to hypothesis testing/confidence interval generation and is also used to test the goodness of fit for a model to a given distribution of data. An important use case of this distribution is to test whether or not two sets of data series are independent or not.\n",
    "\n",
    "### Chi-Squared Distribution PDF\n",
    "\n",
    "A random variable X that follows a chi-squared distribution with n degrees of freedom has the following probability density function (PDF):\n",
    "\n",
    "$$\n",
    "f_X(x) ~ = ~ \\frac{\\frac{1}{2}^{\\frac{n}{2}}}{\\Gamma(\\frac{n}{2})} x^{\\frac{n}{2} - 1} e^{-\\frac{1}{2}x}, ~~~~ x > 0\n",
    "$$\n",
    "\n",
    "You will notice that this is equivalent to the $Gamma(\\frac{n}{2}, \\frac{1}{2})$ distribution.\n",
    "\n",
    "### Chi-Squared Distribution Parameter\n",
    "\n",
    "The parameter n in the chi-squared distribution represents the number of degrees of freedom. Recall that the chi-squared distribution represents the sum of the squared of independent standard normal random variables. The parameter n determines the number of variables being summed.\n",
    "\n",
    "### Expectation and Variance:\n",
    "\n",
    "$$E[X] = n$$\n",
    "\n",
    "$$Var(X) = \\sqrt{2n}$$"
   ]
  },
  {
   "cell_type": "code",
   "execution_count": null,
   "id": "b7940dde",
   "metadata": {},
   "outputs": [],
   "source": [
    "#Chi-squared Distribution PDFs for different degrees of freedom\n",
    "\n",
    "x = np.arange(0, 80, 0.01)\n",
    "plt.plot(x, stats.chi2.pdf(x, df=5), label='$df=5$')\n",
    "plt.plot(x, stats.chi2.pdf(x, df=20, scale=1), label='$df=10$')\n",
    "plt.plot(x, stats.chi2.pdf(x, df=50), label='$df=50$')\n",
    "\n",
    "plt.xlabel('x')\n",
    "plt.ylabel('f(x)')\n",
    "plt.title('Chi-squared Distribution PDF')\n",
    "plt.legend()\n",
    "plt.show()"
   ]
  },
  {
   "cell_type": "markdown",
   "id": "0a363e6c",
   "metadata": {},
   "source": [
    "## Chi-Squared Goodness of Fit Test\n",
    "As noted earler, the Chi-Squared distribution can be used to test how well a model that we have fits our data. We are going to explore that in more detail.\n",
    "\n",
    "Let's say we are running a clothing store and we want to analyze the colors of the shirts that customers tend to buy from our search. We collect data on the number of shirts bought by each customer in a given week. The data is shown in the table below.\n",
    "\n",
    "Referenced: https://www.scribbr.com/statistics/chi-square-distributions/"
   ]
  },
  {
   "cell_type": "code",
   "execution_count": null,
   "id": "3da1924d",
   "metadata": {
    "scrolled": true
   },
   "outputs": [],
   "source": [
    "shirts = pd.DataFrame({'Color': ['Red', 'Gray', 'Yellow', 'Pink', 'Black', 'White', 'Blue'],\n",
    "                   'Sales': [42, 57, 28, 51, 50, 63, 59]}).set_index('Color')\n",
    "shirts"
   ]
  },
  {
   "cell_type": "markdown",
   "id": "e6d3f8c3",
   "metadata": {},
   "source": [
    "Let's say that we assume our customers don't really prefer any color over another. In other words, our \"model\" tells us that each color should have an equal number of sales. Since a total of 350 shirts were sold and there are 7 colors, this means that we anticipate 50 shirts being sold of each color."
   ]
  },
  {
   "cell_type": "code",
   "execution_count": null,
   "id": "bcf9affe",
   "metadata": {
    "scrolled": true
   },
   "outputs": [],
   "source": [
    "shirts['Expected Sales'] = 50\n",
    "shirts"
   ]
  },
  {
   "cell_type": "markdown",
   "id": "53e6a723",
   "metadata": {},
   "source": [
    "In order to test the goodness of fit of our model using this method, we need to calculate the chi-square value for this dataset. The chi-square value is as follows:\n",
    "\n",
    "$$\\large\\chi^2 =\\large\\Sigma\\frac{(observed-expected)^2}{expected}$$\n",
    "\n",
    "Basically we have to find the squared difference from the expectation divided by the expectation for each datapoint, and sum all such values up."
   ]
  },
  {
   "cell_type": "code",
   "execution_count": null,
   "id": "a5dd001a",
   "metadata": {
    "scrolled": true
   },
   "outputs": [],
   "source": [
    "# Calculate chi-square statistic\n",
    "\n",
    "shirts['Normalized Squared Deviation'] = (shirts['Sales'] - shirts['Expected Sales'])**2 / shirts['Expected Sales']\n",
    "chi_square_statistic = sum(shirts['Normalized Squared Deviation'])\n",
    "display(shirts)\n",
    "print(\"Chi-Square Statistic: \", chi_square_statistic)"
   ]
  },
  {
   "cell_type": "markdown",
   "id": "807b5964",
   "metadata": {},
   "source": [
    "Now once we have the chi-square statistic for our data, we can use the chi-square distribution to see how well our model fits the data. Remember that the only parameter for the chi-square distribution model is the number of degrees of freedom. Definining this parameter generally is a bit complex, but for the chi-square goodness-of-fit test, the degrees of freedom parameter will equal the number of groups in your categorical variable being examined (or the number of rows in your dataset) minus 1. In our example, that is 6.\n",
    "\n",
    "Below you can see the chi-square distribution PDF for degrees of freedom equal to 6. The red vertical line corresponds to the chi-square statistic for our data and model. You can interpret the area under the PDF curve and to the right of our chi-square statistic as the probability that our data makes sense given our model. If this probability is too low, we can say that the model is not good, otherwise, we say it is fine."
   ]
  },
  {
   "cell_type": "code",
   "execution_count": null,
   "id": "d95ed753",
   "metadata": {
    "scrolled": true
   },
   "outputs": [],
   "source": [
    "#Chi-squared Goodness of Fit Test\n",
    "\n",
    "x = np.arange(0, 20, 0.01)\n",
    "plt.plot(x, stats.chi2.pdf(x, df=6), label='$df=6$')\n",
    "plt.axvline(chi_square_statistic, color='red')\n",
    "\n",
    "x = np.arange(chi_square_statistic, 20, 0.01)\n",
    "plt.fill_between(x, stats.chi2.pdf(x, df=6))\n",
    "\n",
    "plt.xlabel('x')\n",
    "plt.ylabel('f(x)')\n",
    "plt.title('Chi-squared Distribution PDF')\n",
    "plt.legend()\n",
    "plt.show()"
   ]
  },
  {
   "cell_type": "code",
   "execution_count": null,
   "id": "0ae31088",
   "metadata": {},
   "outputs": [],
   "source": [
    "# Calculate this actual probability using CDF\n",
    "\n",
    "probability = 1 - stats.chi2.cdf(chi_square_statistic, df=shirts.shape[0]-1)\n",
    "print(\"Probability: \", probability)"
   ]
  },
  {
   "cell_type": "markdown",
   "id": "0e093819",
   "metadata": {},
   "source": [
    "It appears that the probability of our data coming out the way it did given our model is quite low. A typical cutoff value is 0.05 (corresponding to a 5% probability). Since our probability is lower than 0.05, this suggests that our model is invalid. Specifically, it is not true that customers are indifferent between the different colors of shirts - they actually do have a preference for certain colors."
   ]
  },
  {
   "cell_type": "markdown",
   "id": "9f5dd7ff",
   "metadata": {},
   "source": [
    "<a id='beta'></a>\n",
    "\n",
    "## Beta Distribution\n",
    "\n",
    "### Beta Distribution Overview\n",
    "\n",
    "The Beta distribution is used frequently in statistics to model random variables whose range is in the interval $[0,1]$. It is often used to model a prior distribution for a proportion or percentage random variable.\n",
    "\n",
    "### Beta Distribution PDF\n",
    "\n",
    "A random variable X that follows a $Beta(r, s)$ distribution has the following probability density function (PDF):\n",
    "\n",
    "$$\n",
    "f(x) ~ = ~ \\frac{\\Gamma(r+s)}{\\Gamma(r)*\\Gamma(s)} x^{r-1}(1-x)^{s-1}, ~~~ 0 < x < 1\n",
    "$$\n",
    "\n",
    "Recall from earlier that for any positive integer input to the gamma function, $\\Gamma(r) = (r-1)!$\n",
    "\n",
    "### Beta Distribution Parameters\n",
    "\n",
    "Both the r and s parameters are considered shape parameters because they both combine to affect the shape of the distribution. If r is larger than s, the distribution shifts closer to 1 while if s is larger than r the distribution shifts closer to 0. If r and s both increase, then the distribution gets narrower.\n",
    "\n",
    "If we are using the Beta distribution as a prior distribution to model a proportion random variable, we would want to adjust r and s accordingly to match our expectation. If we expect the proportion to be high we would set r larger than s and vice-versa. We would also adjust the sum of r and s according to our confidence in this prior belief.\n",
    "\n",
    "### Expectation and Variance\n",
    "\n",
    "$$E[X] = \\frac{r}{r+s}$$\n",
    "\n",
    "$$Var(X) = \\frac{rs}{(r+s)^2(r+s+1)}$$"
   ]
  },
  {
   "cell_type": "code",
   "execution_count": null,
   "id": "89a6cd7e",
   "metadata": {},
   "outputs": [],
   "source": [
    "#Beta Distribution PDFs for different r values but constant r+s values\n",
    "\n",
    "x = np.arange(0, 1, 0.01)\n",
    "plt.plot(x, stats.beta.pdf(x, a=2, b=8), label='r=2; s=8')\n",
    "plt.plot(x, stats.beta.pdf(x, a=8, b=2), label='r=8; s=2')\n",
    "plt.plot(x, stats.beta.pdf(x, a=5, b=5), label='r=5; s=5')\n",
    "\n",
    "plt.xlabel('x')\n",
    "plt.ylabel('f(x)')\n",
    "plt.title('Beta Distribution PDF')\n",
    "plt.legend()\n",
    "plt.show()"
   ]
  },
  {
   "cell_type": "code",
   "execution_count": null,
   "id": "c075ebd7",
   "metadata": {},
   "outputs": [],
   "source": [
    "#Beta Distribution PDFs for different r+s values but constant r/(r+s) values\n",
    "\n",
    "x = np.arange(0, 1, 0.01)\n",
    "plt.plot(x, stats.beta.pdf(x, a=1, b=4), label='r=1, s=4')\n",
    "plt.plot(x, stats.beta.pdf(x, a=2, b=8), label='r=4, s=16')\n",
    "plt.plot(x, stats.beta.pdf(x, a=16, b=64), label='r=16, s=64')\n",
    "\n",
    "plt.xlabel('x')\n",
    "plt.ylabel('f(x)')\n",
    "plt.title('Beta Distribution PDF')\n",
    "plt.legend()\n",
    "plt.show()"
   ]
  },
  {
   "cell_type": "markdown",
   "id": "6d5623c9",
   "metadata": {},
   "source": [
    "## Binomial Experiment with Beta Prior\n",
    "Earlier we mentioned that the Beta distribution is frequently used as a prior distribution to model a proportion/percentage. We'll try to explore this further as it relates to a coin.\n",
    "\n",
    "Let's say we have a coin and we want to figure out what the probability is that the coin lands on heads. Somebody tells us that the coin is a fair coin, but this person seems a little bit suspicious so we aren't sure if we should trust them. As a result, we take them at their word and assume the coin is fair, but with a low level of confidence. Thus, we choose our prior distribution to be $Beta(3, 3)$ to model this situation."
   ]
  },
  {
   "cell_type": "code",
   "execution_count": null,
   "id": "8730d1ea",
   "metadata": {},
   "outputs": [],
   "source": [
    "# Our Prior Beta Distribution\n",
    "# Notice distibution is maximized near 0.5, but there is still some weight on the edges\n",
    "\n",
    "# Set r and s according to expectation and level of confidence of prior.\n",
    "r = 3\n",
    "s = 3\n",
    "\n",
    "x = np.arange(0, 1, 0.01)\n",
    "plt.plot(x, stats.beta.pdf(x, a=r, b=s), label='r={}, s={}'.format(r, s))\n",
    "\n",
    "plt.xlabel('x')\n",
    "plt.ylabel('f(x)')\n",
    "plt.title('Prior Distribution PDF')\n",
    "plt.legend()\n",
    "plt.show()"
   ]
  },
  {
   "cell_type": "markdown",
   "id": "8760c838",
   "metadata": {},
   "source": [
    "To gain some more information about this coin, we flip the coin 10 times and see how many times it actually lands heads."
   ]
  },
  {
   "cell_type": "code",
   "execution_count": null,
   "id": "32457344",
   "metadata": {},
   "outputs": [],
   "source": [
    "# Generate 10 random coin flips\n",
    "num_flips = 10\n",
    "coin_flips = np.random.binomial(n=1, p=0.5, size=10)\n",
    "num_heads = sum(coin_flips)\n",
    "print(\"Coin Flips: \", coin_flips)\n",
    "print(\"Number of Heads: \", num_heads)\n",
    "print(\"Number of Flips: \", num_flips)"
   ]
  },
  {
   "cell_type": "markdown",
   "id": "a11fc23b",
   "metadata": {},
   "source": [
    "Based on this data that we generated, we can adjust our distribution that models the coin. If our prior distribution was a $Beta(r,s)$ distribution, our posterior distribution will be a $Beta(r+k,s+n-k)$ distribution. Let's see what this looks like for us."
   ]
  },
  {
   "cell_type": "code",
   "execution_count": null,
   "id": "9971306c",
   "metadata": {
    "scrolled": true
   },
   "outputs": [],
   "source": [
    "# Our Prior and Posterior Beta Distribution\n",
    "# Notice the posterior distribution is much narrower than the prior distribution. \n",
    "\n",
    "x = np.arange(0, 1, 0.01)\n",
    "plt.plot(x, stats.beta.pdf(x, a=r, b=s), label='Prior (Beta({},{}))'.format(r, s))\n",
    "plt.plot(x, stats.beta.pdf(x, a=r+num_heads, b=s+num_flips-num_heads), \n",
    "                                         label='Posterior (Beta({},{}))'.format(r+num_heads, s+num_flips-num_heads))\n",
    "\n",
    "plt.xlabel('x')\n",
    "plt.ylabel('f(x)')\n",
    "plt.title('Prior and Posterior Distribution PDF ({}/{} heads in experiment)'.format(num_heads, num_flips))\n",
    "plt.legend()\n",
    "plt.show()"
   ]
  },
  {
   "cell_type": "markdown",
   "id": "c33e8760",
   "metadata": {},
   "source": [
    "We can also adjust our prior to see how things would change if we had a different assumption to begin with."
   ]
  },
  {
   "cell_type": "markdown",
   "id": "5dce4494",
   "metadata": {},
   "source": [
    "<a id='conclusion'></a>\n",
    "## Conclusion\n",
    "Phew that was a lot of distributions! As a recap, we covered PDF, CDF, Normal Distribution, t-distribution, Poisson Process and its associated distributions (Poisson, Exponential, Erlang), Gamma, Chi-Square, and Beta Distributions. As you may have noticed, many of these distributions have connections with one another (i.e. Erlang is a subset of Gamma distributions). Overall, all these distributions serve to describe ways to model probabilistic events in the world, so the next time you face a situation with randomness, think about what distribution might best model it!"
   ]
  }
 ],
 "metadata": {
  "kernelspec": {
   "display_name": "Python 3 (ipykernel)",
   "language": "python",
   "name": "python3"
  },
  "language_info": {
   "codemirror_mode": {
    "name": "ipython",
    "version": 3
   },
   "file_extension": ".py",
   "mimetype": "text/x-python",
   "name": "python",
   "nbconvert_exporter": "python",
   "pygments_lexer": "ipython3",
   "version": "3.9.12"
  }
 },
 "nbformat": 4,
 "nbformat_minor": 5
}
