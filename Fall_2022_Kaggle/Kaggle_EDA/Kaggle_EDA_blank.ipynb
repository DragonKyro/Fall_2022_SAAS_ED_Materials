{
 "cells": [
  {
   "cell_type": "code",
   "execution_count": 1,
   "metadata": {
    "colab": {
     "base_uri": "https://localhost:8080/"
    },
    "id": "gf951CbOyz2p",
    "outputId": "d2186bfa-79c3-4d82-91a2-98ba9dd09df9"
   },
   "outputs": [],
   "source": [
    "import pandas as pd \n",
    "import numpy as np\n",
    "import matplotlib.pyplot as plt"
   ]
  },
  {
   "cell_type": "markdown",
   "metadata": {
    "tags": []
   },
   "source": [
    "# CX Kaggle Competition: Salary Prediction\n",
    "\n",
    "### Table of Contents\n",
    "\n",
    "* [1. Data Loading](#loading)\n",
    "* [2. Exploring the Features](#features)\n",
    "* [3. Exploring the ```Salary``` Response](#response)\n",
    "* [4. Relationships between Features and Response](#relations)\n",
    "\n",
    "### Hosted by and maintained by the [SAAS](https://saas.berkeley.edu). Authored by Carlos Gonzalez and Suparna Kompalli. "
   ]
  },
  {
   "cell_type": "code",
   "execution_count": null,
   "metadata": {},
   "outputs": [],
   "source": []
  }
 ],
 "metadata": {
  "kernelspec": {
   "display_name": "Python 3 (ipykernel)",
   "language": "python",
   "name": "python3"
  },
  "language_info": {
   "codemirror_mode": {
    "name": "ipython",
    "version": 3
   },
   "file_extension": ".py",
   "mimetype": "text/x-python",
   "name": "python",
   "nbconvert_exporter": "python",
   "pygments_lexer": "ipython3",
   "version": "3.9.12"
  },
  "vscode": {
   "interpreter": {
    "hash": "aee8b7b246df8f9039afb4144a1f6fd8d2ca17a180786b69acc140d282b71a49"
   }
  }
 },
 "nbformat": 4,
 "nbformat_minor": 4
}
