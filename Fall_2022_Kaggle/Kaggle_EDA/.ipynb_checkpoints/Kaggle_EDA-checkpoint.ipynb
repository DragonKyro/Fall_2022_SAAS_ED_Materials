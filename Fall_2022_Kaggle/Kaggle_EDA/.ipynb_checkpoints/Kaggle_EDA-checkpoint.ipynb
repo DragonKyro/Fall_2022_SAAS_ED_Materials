{
 "cells": [
  {
   "cell_type": "code",
   "execution_count": null,
   "metadata": {
    "colab": {
     "base_uri": "https://localhost:8080/"
    },
    "id": "gf951CbOyz2p",
    "outputId": "d2186bfa-79c3-4d82-91a2-98ba9dd09df9"
   },
   "outputs": [],
   "source": [
    "import pandas as pd \n",
    "import numpy as np\n",
    "import matplotlib.pyplot as plt\n",
    "import seaborn as sns"
   ]
  },
  {
   "cell_type": "markdown",
   "metadata": {
    "tags": []
   },
   "source": [
    "# CX Kaggle Competition: Mobile Price Classification\n",
    "\n",
    "In this notebook you will be working on visualizing a Kaggle dataset containing sales data of mobiles phones of various companies. We'll perform Exploratory Data Analysis and learn some preliminary tips for working with Matplotlib and seaborn.\n",
    "\n",
    "### Table of Contents\n",
    "\n",
    "* [1. Data Loading](#loading)\n",
    "* [2. Exploring the Features](#features)\n",
    "* [3. Exploring Differences in Price](#response)\n",
    "* [4. Relationships between Features and Response](#relations)\n",
    "\n",
    "### Hosted by and maintained by [SAAS](https://saas.berkeley.edu). Authored by Carlos Gonzalez and Suparna Kompalli. "
   ]
  },
  {
   "cell_type": "markdown",
   "metadata": {
    "tags": []
   },
   "source": [
    "<span id=\"loading\"></span>\n",
    "\n",
    "## Data Loading \n",
    "\n",
    "Assume you are hired as a consultant for a startup electronic company. This company wants to eventually compete with big tech giants such like Apple, Samsung, etc. They hire you to perform a data analysis on a collection of mobile phones sales data. The company affiliated with the particular device is obscured.\n",
    "\n",
    "\n",
    "\n",
    "**Question 1:** Let's load our training and test sets using Pandas' ```pd.read_csv``` function. Fill in the following two lines with code which loads the ```train.csv``` and ```test.csv``` data sets into a ```pandas.DataFrame``` object. "
   ]
  },
  {
   "cell_type": "code",
   "execution_count": null,
   "metadata": {
    "colab": {
     "base_uri": "https://localhost:8080/",
     "height": 506
    },
    "id": "qvbDCYlby6Jh",
    "outputId": "c45eab0f-a7a1-4cbb-d865-d6860bfdde5b"
   },
   "outputs": [],
   "source": [
    "train = ...\n",
    "test = ...\n",
    "\n",
    "train.head()"
   ]
  },
  {
   "cell_type": "markdown",
   "metadata": {},
   "source": [
    "Notice that the shape of ```train``` is (1500, 21), where we follow matrix notation (1500 rows, 21 cols). We can verify this by calling ```pd.DataFrame.shape```:"
   ]
  },
  {
   "cell_type": "code",
   "execution_count": null,
   "metadata": {},
   "outputs": [],
   "source": [
    "train.shape"
   ]
  },
  {
   "cell_type": "markdown",
   "metadata": {},
   "source": [
    "Before diving straight in, let's get a feel for the variables in our data. We recommend taking a second to familiarize yourself with the dataframe before moving forward."
   ]
  },
  {
   "cell_type": "markdown",
   "metadata": {},
   "source": [
    "The column descriptions are as follows:\n",
    "\n",
    "```battery_power``` - Total energy a battery can store in one time measured in mAh\n",
    "\n",
    "```blue``` - Has bluetooth or not\n",
    "\n",
    "```clock_speed``` - Speed at which microprocessor executes instructions\n",
    "\n",
    "```dual_sim``` - Has dual sim support or not\n",
    "\n",
    "```fc``` - Front Camera mega pixels\n",
    "\n",
    "```four_g``` - Has 4G or not\n",
    "\n",
    "```int_memory``` - Internal Memory in Gigabytes\n",
    "\n",
    "```m_dep``` - Mobile Depth in cm\n",
    "\n",
    "```mobile_wt``` - Weight of mobile phone\n",
    "\n",
    "```n_cores``` - Number of cores of processor\n",
    "\n",
    "```pc``` - Primary Camera mega pixels\n",
    "\n",
    "```px_height``` - Pixel Resolution Height\n",
    "\n",
    "```px_weidth``` - Pixel Resolution Width\n",
    "\n",
    "```ram``` - Rando Access Memory in Megabytes\n",
    "\n",
    "```sc_h``` - Screen Height of mobile in cm\n",
    "\n",
    "```sc_w``` - Screen Width of mobile in cm\n",
    "\n",
    "```talk_time``` - Longest time that a single battery charge will last when you are on the phone talking in hours.\n",
    "\n",
    "```three_g``` - Has 3G or not\n",
    "\n",
    "```touch_screen``` - Has touch screen or not\n",
    "\n",
    "```wifi``` - Has wifi or not"
   ]
  },
  {
   "cell_type": "markdown",
   "metadata": {},
   "source": [
    "**Question 2:** Based on the columns present in this data set and the values that they take, what do you think each row represents? That is, what is the granularity of this data set?\n",
    "\n",
    "_Hint: Check the Data Loading Section_\n",
    "\n",
    "*Answer: The specs of a particular mobile device, with its respective price range the time this data was recorded.*"
   ]
  },
  {
   "cell_type": "markdown",
   "metadata": {},
   "source": [
    "**Question 3:** Now, we want to create a combined data set for the first step in our EDA process. Use Pandas' ```pd.concat``` [function](https://pandas.pydata.org/docs/reference/api/pandas.concat.html) to append the rows of the training and test data sets together. "
   ]
  },
  {
   "cell_type": "code",
   "execution_count": null,
   "metadata": {},
   "outputs": [],
   "source": [
    "combined = ...\n",
    "combined.head()"
   ]
  },
  {
   "cell_type": "markdown",
   "metadata": {},
   "source": [
    "Let's look at the unique values in the ```price_range``` column for the ```combined``` dataframe."
   ]
  },
  {
   "cell_type": "code",
   "execution_count": null,
   "metadata": {},
   "outputs": [],
   "source": [
    "combined[\"price_range\"].unique()"
   ]
  },
  {
   "cell_type": "markdown",
   "metadata": {},
   "source": [
    "Take a look at the ```train``` and ```test``` dataframes and understand why there are None values in the ```price_range``` column of ```combined```."
   ]
  },
  {
   "cell_type": "markdown",
   "metadata": {},
   "source": [
    "<span id=\"features\"></span>\n",
    "\n",
    "## Exploring the Features\n",
    "\n",
    "**Question 4:** Use the ```combined``` dataframe to visualize the distributions of two quantitative features of your choice. \n",
    "\n",
    "*Hint: What is a good visualization chart for a quantitative variable?*"
   ]
  },
  {
   "cell_type": "code",
   "execution_count": null,
   "metadata": {},
   "outputs": [],
   "source": [
    "# Generate visualization #1 \n"
   ]
  },
  {
   "cell_type": "markdown",
   "metadata": {},
   "source": [
    "*Interpretation:*"
   ]
  },
  {
   "cell_type": "code",
   "execution_count": null,
   "metadata": {},
   "outputs": [],
   "source": [
    "# Generate visualization #2 \n"
   ]
  },
  {
   "cell_type": "markdown",
   "metadata": {},
   "source": [
    "*Interpretation:*"
   ]
  },
  {
   "cell_type": "markdown",
   "metadata": {},
   "source": [
    "**Question 5:** Use the Pandas' function ```df.describe()``` to generate summary statistics for the features available in the combined data set. What is roughly the percentage of mobile devices in this dataframe that have wifi? What about touch screen? What do these findings tell you about the types of phones in this collection?"
   ]
  },
  {
   "cell_type": "code",
   "execution_count": null,
   "metadata": {},
   "outputs": [],
   "source": [
    "..."
   ]
  },
  {
   "cell_type": "markdown",
   "metadata": {},
   "source": [
    "*Type your answer here, replacing this text.* "
   ]
  },
  {
   "cell_type": "markdown",
   "metadata": {},
   "source": [
    "The correlation coefficient is defined as the degree to which changes of one variable predict change to another. In other words, this measure the strength of the linear relationship between two variables. We will more formally go over how to calculate this value later in the semester. The correlation coefficient can take on values\n",
    "\n",
    "\n",
    "$$-1 <= r <= 1$$\n",
    "\n",
    "A coefficient of zero represents no linear relationship. As one variable increases, there is no tendency in the other variable to either increase or decrease. When the value is in-between $0$ and $+1/-1$, there is a relationship, but the points don’t all fall on a line. As r approaches $-1$ or $1$, the strength of the relationship increases and the data points tend to fall closer to a line.\n",
    "\n",
    "**Question 6:** How correlated are the ```px_height``` and ```px_width``` features in the ```combined``` data set? Interpret this correlation in words. \n",
    "\n",
    "*Hint: Use* ```np.corrcoef(...)``` *to calculate the value of $r$, the correlation coefficient.*"
   ]
  },
  {
   "cell_type": "code",
   "execution_count": null,
   "metadata": {},
   "outputs": [],
   "source": [
    "r = ...\n",
    "print(f'The value of the correlation coefficient was: {r[0, 1]}')"
   ]
  },
  {
   "cell_type": "markdown",
   "metadata": {},
   "source": [
    "*Type your answer here, replacing this text.* "
   ]
  },
  {
   "cell_type": "markdown",
   "metadata": {},
   "source": [
    "**Question 7:** It might also be useful to visualize the percentage of mobile device price ranges in the original dataset. Use the ```train``` dataframe to make a pie chart visualization of the ```price_range``` column. Do the percentages mean anything? Do the distributions of price ranges make testing the our data easier or harder?"
   ]
  },
  {
   "cell_type": "code",
   "execution_count": null,
   "metadata": {},
   "outputs": [],
   "source": [
    "# Generate a pie chart of price_range count\n"
   ]
  },
  {
   "cell_type": "markdown",
   "metadata": {
    "tags": []
   },
   "source": [
    "*Type your answer here, replacing this text.* "
   ]
  },
  {
   "cell_type": "markdown",
   "metadata": {},
   "source": [
    "<span id=\"response\"></span>\n",
    "\n",
    "## Exploring Differences in Price\n",
    "\n",
    "Now, we will restrict our EDA to the training set in order to investigate trends in the response variable. Let us look at the hardware of the mobile devices and perform a basic analysis.\n",
    "\n",
    "**Question 8:** Create a bar chat displaying the averages of ```ram``` in the ```train``` set per each price in ```price_range```. "
   ]
  },
  {
   "cell_type": "code",
   "execution_count": null,
   "metadata": {},
   "outputs": [],
   "source": [
    "price_range = [0, 1, 2, 3] #Using this variablei is optional\n",
    "\n",
    "...\n",
    "\n",
    "\n",
    "plt.xlabel(\"Price Range\")"
   ]
  },
  {
   "cell_type": "markdown",
   "metadata": {},
   "source": [
    "**Question 9:** Create a scatter plot using the ```train``` data to display the relationship between ```px_width``` and ```px_height```. What observations can be made? How does this relate to question 6?"
   ]
  },
  {
   "cell_type": "code",
   "execution_count": null,
   "metadata": {},
   "outputs": [],
   "source": [
    "# Generate a scatterplot of px_width vs px_height \n"
   ]
  },
  {
   "cell_type": "markdown",
   "metadata": {},
   "source": [
    "*Type your answer here, replacing this text.* "
   ]
  },
  {
   "cell_type": "markdown",
   "metadata": {},
   "source": [
    "Say, for example, the startup is looking to price one of their newer, more expensive phone prototypes. They have the option to either $1)$ make the phone lighter, performing and competing with other mobile devices within their expected price range, or $2)$ make the phone slightly heavier, with more advanced specs, thus slightly increasing the overall performance stats within it's expected price margin. The startup asks you whether a lighter or heavier phone would be appropriate for what they're attempting to sell.\n",
    "\n",
    "It's hard to predict whether changing a particular feature will significantly impact the price of a mobile device. Let's make an overlaid histogram and see if we can draw any conclusions.\n",
    "\n",
    "We're going to use the median weight from the ```train``` dataset to make this observation. Weight below the mean will be considered a \"lighter\" phone, and \"heavier\" phones will be denoted by a weight greater than or equal to the mean.\n",
    "\n",
    "**Question 10:** Using the ```train``` dataset, produce two overlaid histrograms following the distribution of ```price_range```. The number of bins should be equal to the possible price range values, and your histograms should differ by the ```mobile_wt``` column's median in the ```train``` dataset.\n"
   ]
  },
  {
   "cell_type": "code",
   "execution_count": null,
   "metadata": {},
   "outputs": [],
   "source": [
    "#Generate an overlaid histogram dependent on the median of the dataset\n",
    "\n",
    "median_weight = ...\n",
    "\n",
    "less_than_med = ...\n",
    "greater_than_med = ...\n",
    "\n",
    "..."
   ]
  },
  {
   "cell_type": "markdown",
   "metadata": {},
   "source": [
    "Based on the histogram above, what type of device should the startup invest in: a lighter or heaver phone? How did you draw this conclusion from above?\n",
    "\n",
    "*Type your answer here, replacing this text.* "
   ]
  },
  {
   "cell_type": "markdown",
   "metadata": {},
   "source": [
    "**Question 11:** Great job! The startup wants you to to perform one more visualization for research purposes before you leave. Create a scatter plot to display the relationship between ```n_cores``` and ```ram``` of the mobile devices. Categorize by ```price_range```. What can we say about the scatterplot?"
   ]
  },
  {
   "cell_type": "code",
   "execution_count": null,
   "metadata": {},
   "outputs": [],
   "source": [
    "..."
   ]
  },
  {
   "cell_type": "markdown",
   "metadata": {},
   "source": [
    "*Type your answer here, replacing this text.* "
   ]
  },
  {
   "cell_type": "markdown",
   "metadata": {},
   "source": [
    "**Question 12:** Based on what we've observed thus far, what generalizations can we you infer from all of the visualizations above? Is there any conclusion that you can draw?"
   ]
  },
  {
   "cell_type": "markdown",
   "metadata": {},
   "source": [
    "*Type your answer here, replacing this text.* "
   ]
  }
 ],
 "metadata": {
  "kernelspec": {
   "display_name": "Python 3 (ipykernel)",
   "language": "python",
   "name": "python3"
  },
  "language_info": {
   "codemirror_mode": {
    "name": "ipython",
    "version": 3
   },
   "file_extension": ".py",
   "mimetype": "text/x-python",
   "name": "python",
   "nbconvert_exporter": "python",
   "pygments_lexer": "ipython3",
   "version": "3.9.12"
  },
  "vscode": {
   "interpreter": {
    "hash": "aee8b7b246df8f9039afb4144a1f6fd8d2ca17a180786b69acc140d282b71a49"
   }
  }
 },
 "nbformat": 4,
 "nbformat_minor": 4
}
