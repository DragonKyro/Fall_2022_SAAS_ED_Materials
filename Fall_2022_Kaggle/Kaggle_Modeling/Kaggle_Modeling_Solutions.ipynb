{
 "cells": [
  {
   "cell_type": "code",
   "execution_count": 1,
   "metadata": {},
   "outputs": [],
   "source": [
    "import numpy as np\n",
    "import pandas as pd"
   ]
  },
  {
   "cell_type": "markdown",
   "metadata": {},
   "source": [
    "# CX Kaggle Competition: Phone Price Prediction\n",
    "\n",
    "### Table of Contents\n",
    "\n",
    "* [4. Data Splitting](#setup)\n",
    "* [5. Validation Dataset](#validation)\n",
    "* [6. Model Evaluation Function](#rmse)\n",
    "* [7. Regression Model Training](#models)\n",
    "* [8. Classification Model Training](#models)\n",
    "* [9. Suggestions for Improving Models](#models)\n",
    "* [10. Submission](#submission)\n",
    "\n",
    "### Hosted by and maintained by the [Students Association of Applied Statistics (SAAS)](https://saas.berkeley.edu). Authored by Ashwin Natampalli and Sarang Deshpande. "
   ]
  },
  {
   "cell_type": "markdown",
   "metadata": {},
   "source": [
    "# Modeling Overview\n",
    "\n",
    "We are going to be creating various regression models in order to predict the ```price_range``` column of our dataset that contains features about different mobile phones. There are steps to the modeling process and we will be walking through each step individually. We will split the data appropriately, fit a model to our data, test and evaluate our model adjusting our model as necessary, and finally use the test dataset to make predictions using our model. We will also later determine which model performs the best on our data."
   ]
  },
  {
   "cell_type": "markdown",
   "metadata": {},
   "source": [
    "## Data Splitting\n",
    "\n",
    "**Step 1:** Split the dataset into our features and response variable."
   ]
  },
  {
   "cell_type": "code",
   "execution_count": 2,
   "metadata": {},
   "outputs": [
    {
     "data": {
      "text/html": [
       "<div>\n",
       "<style scoped>\n",
       "    .dataframe tbody tr th:only-of-type {\n",
       "        vertical-align: middle;\n",
       "    }\n",
       "\n",
       "    .dataframe tbody tr th {\n",
       "        vertical-align: top;\n",
       "    }\n",
       "\n",
       "    .dataframe thead th {\n",
       "        text-align: right;\n",
       "    }\n",
       "</style>\n",
       "<table border=\"1\" class=\"dataframe\">\n",
       "  <thead>\n",
       "    <tr style=\"text-align: right;\">\n",
       "      <th></th>\n",
       "      <th>battery_power</th>\n",
       "      <th>blue</th>\n",
       "      <th>clock_speed</th>\n",
       "      <th>dual_sim</th>\n",
       "      <th>fc</th>\n",
       "      <th>four_g</th>\n",
       "      <th>int_memory</th>\n",
       "      <th>m_dep</th>\n",
       "      <th>mobile_wt</th>\n",
       "      <th>n_cores</th>\n",
       "      <th>pc</th>\n",
       "      <th>px_height</th>\n",
       "      <th>px_width</th>\n",
       "      <th>ram</th>\n",
       "      <th>sc_h</th>\n",
       "      <th>sc_w</th>\n",
       "      <th>talk_time</th>\n",
       "      <th>three_g</th>\n",
       "      <th>touch_screen</th>\n",
       "      <th>wifi</th>\n",
       "    </tr>\n",
       "  </thead>\n",
       "  <tbody>\n",
       "    <tr>\n",
       "      <th>0</th>\n",
       "      <td>842</td>\n",
       "      <td>0</td>\n",
       "      <td>2.2</td>\n",
       "      <td>0</td>\n",
       "      <td>1</td>\n",
       "      <td>0</td>\n",
       "      <td>7</td>\n",
       "      <td>0.6</td>\n",
       "      <td>188</td>\n",
       "      <td>2</td>\n",
       "      <td>2</td>\n",
       "      <td>20</td>\n",
       "      <td>756</td>\n",
       "      <td>2549</td>\n",
       "      <td>9</td>\n",
       "      <td>7</td>\n",
       "      <td>19</td>\n",
       "      <td>0</td>\n",
       "      <td>0</td>\n",
       "      <td>1</td>\n",
       "    </tr>\n",
       "    <tr>\n",
       "      <th>1</th>\n",
       "      <td>1021</td>\n",
       "      <td>1</td>\n",
       "      <td>0.5</td>\n",
       "      <td>1</td>\n",
       "      <td>0</td>\n",
       "      <td>1</td>\n",
       "      <td>53</td>\n",
       "      <td>0.7</td>\n",
       "      <td>136</td>\n",
       "      <td>3</td>\n",
       "      <td>6</td>\n",
       "      <td>905</td>\n",
       "      <td>1988</td>\n",
       "      <td>2631</td>\n",
       "      <td>17</td>\n",
       "      <td>3</td>\n",
       "      <td>7</td>\n",
       "      <td>1</td>\n",
       "      <td>1</td>\n",
       "      <td>0</td>\n",
       "    </tr>\n",
       "    <tr>\n",
       "      <th>2</th>\n",
       "      <td>563</td>\n",
       "      <td>1</td>\n",
       "      <td>0.5</td>\n",
       "      <td>1</td>\n",
       "      <td>2</td>\n",
       "      <td>1</td>\n",
       "      <td>41</td>\n",
       "      <td>0.9</td>\n",
       "      <td>145</td>\n",
       "      <td>5</td>\n",
       "      <td>6</td>\n",
       "      <td>1263</td>\n",
       "      <td>1716</td>\n",
       "      <td>2603</td>\n",
       "      <td>11</td>\n",
       "      <td>2</td>\n",
       "      <td>9</td>\n",
       "      <td>1</td>\n",
       "      <td>1</td>\n",
       "      <td>0</td>\n",
       "    </tr>\n",
       "    <tr>\n",
       "      <th>3</th>\n",
       "      <td>1859</td>\n",
       "      <td>0</td>\n",
       "      <td>0.5</td>\n",
       "      <td>1</td>\n",
       "      <td>3</td>\n",
       "      <td>0</td>\n",
       "      <td>22</td>\n",
       "      <td>0.7</td>\n",
       "      <td>164</td>\n",
       "      <td>1</td>\n",
       "      <td>7</td>\n",
       "      <td>1004</td>\n",
       "      <td>1654</td>\n",
       "      <td>1067</td>\n",
       "      <td>17</td>\n",
       "      <td>1</td>\n",
       "      <td>10</td>\n",
       "      <td>1</td>\n",
       "      <td>0</td>\n",
       "      <td>0</td>\n",
       "    </tr>\n",
       "    <tr>\n",
       "      <th>4</th>\n",
       "      <td>1821</td>\n",
       "      <td>0</td>\n",
       "      <td>1.7</td>\n",
       "      <td>0</td>\n",
       "      <td>4</td>\n",
       "      <td>1</td>\n",
       "      <td>10</td>\n",
       "      <td>0.8</td>\n",
       "      <td>139</td>\n",
       "      <td>8</td>\n",
       "      <td>10</td>\n",
       "      <td>381</td>\n",
       "      <td>1018</td>\n",
       "      <td>3220</td>\n",
       "      <td>13</td>\n",
       "      <td>8</td>\n",
       "      <td>18</td>\n",
       "      <td>1</td>\n",
       "      <td>0</td>\n",
       "      <td>1</td>\n",
       "    </tr>\n",
       "    <tr>\n",
       "      <th>...</th>\n",
       "      <td>...</td>\n",
       "      <td>...</td>\n",
       "      <td>...</td>\n",
       "      <td>...</td>\n",
       "      <td>...</td>\n",
       "      <td>...</td>\n",
       "      <td>...</td>\n",
       "      <td>...</td>\n",
       "      <td>...</td>\n",
       "      <td>...</td>\n",
       "      <td>...</td>\n",
       "      <td>...</td>\n",
       "      <td>...</td>\n",
       "      <td>...</td>\n",
       "      <td>...</td>\n",
       "      <td>...</td>\n",
       "      <td>...</td>\n",
       "      <td>...</td>\n",
       "      <td>...</td>\n",
       "      <td>...</td>\n",
       "    </tr>\n",
       "    <tr>\n",
       "      <th>1495</th>\n",
       "      <td>674</td>\n",
       "      <td>1</td>\n",
       "      <td>2.9</td>\n",
       "      <td>1</td>\n",
       "      <td>1</td>\n",
       "      <td>0</td>\n",
       "      <td>21</td>\n",
       "      <td>0.2</td>\n",
       "      <td>198</td>\n",
       "      <td>3</td>\n",
       "      <td>4</td>\n",
       "      <td>576</td>\n",
       "      <td>1809</td>\n",
       "      <td>1180</td>\n",
       "      <td>6</td>\n",
       "      <td>3</td>\n",
       "      <td>4</td>\n",
       "      <td>1</td>\n",
       "      <td>1</td>\n",
       "      <td>1</td>\n",
       "    </tr>\n",
       "    <tr>\n",
       "      <th>1496</th>\n",
       "      <td>858</td>\n",
       "      <td>0</td>\n",
       "      <td>2.2</td>\n",
       "      <td>0</td>\n",
       "      <td>1</td>\n",
       "      <td>0</td>\n",
       "      <td>50</td>\n",
       "      <td>0.1</td>\n",
       "      <td>84</td>\n",
       "      <td>1</td>\n",
       "      <td>2</td>\n",
       "      <td>528</td>\n",
       "      <td>1416</td>\n",
       "      <td>3978</td>\n",
       "      <td>17</td>\n",
       "      <td>16</td>\n",
       "      <td>3</td>\n",
       "      <td>1</td>\n",
       "      <td>1</td>\n",
       "      <td>0</td>\n",
       "    </tr>\n",
       "    <tr>\n",
       "      <th>1497</th>\n",
       "      <td>794</td>\n",
       "      <td>1</td>\n",
       "      <td>0.5</td>\n",
       "      <td>1</td>\n",
       "      <td>0</td>\n",
       "      <td>1</td>\n",
       "      <td>2</td>\n",
       "      <td>0.8</td>\n",
       "      <td>106</td>\n",
       "      <td>6</td>\n",
       "      <td>14</td>\n",
       "      <td>1222</td>\n",
       "      <td>1890</td>\n",
       "      <td>668</td>\n",
       "      <td>13</td>\n",
       "      <td>4</td>\n",
       "      <td>19</td>\n",
       "      <td>1</td>\n",
       "      <td>1</td>\n",
       "      <td>0</td>\n",
       "    </tr>\n",
       "    <tr>\n",
       "      <th>1498</th>\n",
       "      <td>1911</td>\n",
       "      <td>0</td>\n",
       "      <td>0.9</td>\n",
       "      <td>1</td>\n",
       "      <td>1</td>\n",
       "      <td>1</td>\n",
       "      <td>36</td>\n",
       "      <td>0.7</td>\n",
       "      <td>108</td>\n",
       "      <td>8</td>\n",
       "      <td>3</td>\n",
       "      <td>868</td>\n",
       "      <td>1632</td>\n",
       "      <td>3057</td>\n",
       "      <td>9</td>\n",
       "      <td>1</td>\n",
       "      <td>5</td>\n",
       "      <td>1</td>\n",
       "      <td>1</td>\n",
       "      <td>0</td>\n",
       "    </tr>\n",
       "    <tr>\n",
       "      <th>1499</th>\n",
       "      <td>510</td>\n",
       "      <td>1</td>\n",
       "      <td>2.0</td>\n",
       "      <td>1</td>\n",
       "      <td>5</td>\n",
       "      <td>1</td>\n",
       "      <td>45</td>\n",
       "      <td>0.9</td>\n",
       "      <td>168</td>\n",
       "      <td>6</td>\n",
       "      <td>16</td>\n",
       "      <td>483</td>\n",
       "      <td>754</td>\n",
       "      <td>3919</td>\n",
       "      <td>19</td>\n",
       "      <td>4</td>\n",
       "      <td>2</td>\n",
       "      <td>1</td>\n",
       "      <td>1</td>\n",
       "      <td>1</td>\n",
       "    </tr>\n",
       "  </tbody>\n",
       "</table>\n",
       "<p>1500 rows × 20 columns</p>\n",
       "</div>"
      ],
      "text/plain": [
       "      battery_power  blue  clock_speed  dual_sim  fc  four_g  int_memory  \\\n",
       "0               842     0          2.2         0   1       0           7   \n",
       "1              1021     1          0.5         1   0       1          53   \n",
       "2               563     1          0.5         1   2       1          41   \n",
       "3              1859     0          0.5         1   3       0          22   \n",
       "4              1821     0          1.7         0   4       1          10   \n",
       "...             ...   ...          ...       ...  ..     ...         ...   \n",
       "1495            674     1          2.9         1   1       0          21   \n",
       "1496            858     0          2.2         0   1       0          50   \n",
       "1497            794     1          0.5         1   0       1           2   \n",
       "1498           1911     0          0.9         1   1       1          36   \n",
       "1499            510     1          2.0         1   5       1          45   \n",
       "\n",
       "      m_dep  mobile_wt  n_cores  pc  px_height  px_width   ram  sc_h  sc_w  \\\n",
       "0       0.6        188        2   2         20       756  2549     9     7   \n",
       "1       0.7        136        3   6        905      1988  2631    17     3   \n",
       "2       0.9        145        5   6       1263      1716  2603    11     2   \n",
       "3       0.7        164        1   7       1004      1654  1067    17     1   \n",
       "4       0.8        139        8  10        381      1018  3220    13     8   \n",
       "...     ...        ...      ...  ..        ...       ...   ...   ...   ...   \n",
       "1495    0.2        198        3   4        576      1809  1180     6     3   \n",
       "1496    0.1         84        1   2        528      1416  3978    17    16   \n",
       "1497    0.8        106        6  14       1222      1890   668    13     4   \n",
       "1498    0.7        108        8   3        868      1632  3057     9     1   \n",
       "1499    0.9        168        6  16        483       754  3919    19     4   \n",
       "\n",
       "      talk_time  three_g  touch_screen  wifi  \n",
       "0            19        0             0     1  \n",
       "1             7        1             1     0  \n",
       "2             9        1             1     0  \n",
       "3            10        1             0     0  \n",
       "4            18        1             0     1  \n",
       "...         ...      ...           ...   ...  \n",
       "1495          4        1             1     1  \n",
       "1496          3        1             1     0  \n",
       "1497         19        1             1     0  \n",
       "1498          5        1             1     0  \n",
       "1499          2        1             1     1  \n",
       "\n",
       "[1500 rows x 20 columns]"
      ]
     },
     "execution_count": 2,
     "metadata": {},
     "output_type": "execute_result"
    }
   ],
   "source": [
    "train_data = pd.read_csv('true_train.csv')\n",
    "X = train_data.drop(columns=['price_range']) # extract X variables\n",
    "y = train_data.loc[:, 'price_range'] # extract y variable\n",
    "\n",
    "X"
   ]
  },
  {
   "cell_type": "markdown",
   "metadata": {},
   "source": [
    "## Validation Dataset\n",
    "\n",
    "We plan to create multiple different models using different model architectures and potentially by adjusting hyperparameters. In order to effectively compare different models, we need to create a validation dataset and compare the model performance on this validation dataset to see which model architecture and hyperparameters are optimal."
   ]
  },
  {
   "cell_type": "markdown",
   "metadata": {},
   "source": [
    "**Step 2:** Split your data into a training set and a validation set."
   ]
  },
  {
   "cell_type": "code",
   "execution_count": 3,
   "metadata": {},
   "outputs": [
    {
     "name": "stderr",
     "output_type": "stream",
     "text": [
      "/Users/sarangmdeshpande/opt/anaconda3/lib/python3.8/site-packages/scipy/__init__.py:146: UserWarning: A NumPy version >=1.16.5 and <1.23.0 is required for this version of SciPy (detected version 1.23.1\n",
      "  warnings.warn(f\"A NumPy version >={np_minversion} and <{np_maxversion}\"\n"
     ]
    }
   ],
   "source": [
    "from sklearn.model_selection import train_test_split\n",
    "X_train, X_val, y_train, y_val = train_test_split(X, y, test_size=0.2, random_state=21)"
   ]
  },
  {
   "cell_type": "markdown",
   "metadata": {},
   "source": [
    "#### K-fold Cross Validation (Optional)\n",
    "\n",
    "You can also use k-fold cross-validation as a more robust approach to validation. \n",
    "View https://scikit-learn.org/stable/modules/generated/sklearn.model_selection.KFold.html for more documentation.\n",
    "\n",
    "**Step 3:** Set up cross-validation."
   ]
  },
  {
   "cell_type": "code",
   "execution_count": 4,
   "metadata": {},
   "outputs": [],
   "source": [
    "from sklearn.model_selection import KFold\n",
    "kf = KFold(n_splits = 5)\n",
    "for train_index, val_index in kf.split(X):\n",
    "    X_train_cv, X_val_cv = X.iloc[train_index, :], X.iloc[val_index, :]\n",
    "    y_train_cv, y_val_cv = y[train_index], y[val_index]\n",
    "    \n",
    "    # continue to fit and evaluate model\n",
    "    ..."
   ]
  },
  {
   "cell_type": "markdown",
   "metadata": {},
   "source": [
    "## Model Evaluation Function\n",
    "\n",
    "We are going to use Root-Mean-Squared-Error as our evaluation metric. This error function is shown below.\n",
    "\n",
    "$$\\text{RMSE}(\\hat{y}, y) = \\sqrt{\\frac{1}{n} \\sum_{i = 1}^n (y_i - \\hat{y}_i)^2}.$$\n",
    "\n",
    "**Step 4:** Complete the function below that returns the RMSE given true y-values and predicted y-values."
   ]
  },
  {
   "cell_type": "code",
   "execution_count": 154,
   "metadata": {},
   "outputs": [],
   "source": [
    "def rmse(y_true, y_pred):\n",
    "    return np.sqrt(np.mean((y_true-y_pred)**2))"
   ]
  },
  {
   "cell_type": "markdown",
   "metadata": {},
   "source": [
    "## Regression Model Training\n",
    "\n",
    "Given the format of the predictor variable in our dataset, we can try to use both regression and classification models. Let's look at the regression models first."
   ]
  },
  {
   "cell_type": "markdown",
   "metadata": {},
   "source": [
    "### Linear Regression\n",
    "\n",
    "**Step 5:** Create and fit a linear regression model to the training data."
   ]
  },
  {
   "cell_type": "code",
   "execution_count": 155,
   "metadata": {},
   "outputs": [
    {
     "name": "stdout",
     "output_type": "stream",
     "text": [
      "Training RMSE: 0.31585674882173426\n",
      "Validation RMSE: 0.33064651119948174\n"
     ]
    }
   ],
   "source": [
    "from sklearn.linear_model import LinearRegression\n",
    "\n",
    "lin_reg = LinearRegression() # Create sklearn's linear regression object\n",
    "lin_reg.fit(X_train, y_train) # Fit linear regression model to training data\n",
    "\n",
    "lin_reg_train_pred = lin_reg.predict(X_train) # Predict against training data using fitted model\n",
    "print('Training RMSE:', rmse(y_train, lin_reg_train_pred)) # Calculate RMSE on training data\n",
    "\n",
    "lr_val_pred = lr.predict(X_val) # Predict against validation data using fitted model\n",
    "print('Validation RMSE:', rmse(y_val, lr_val_pred)) # Calculate RMSE on validation data"
   ]
  },
  {
   "cell_type": "markdown",
   "metadata": {},
   "source": [
    "### Ridge Regression\n",
    "\n",
    "**Step 6:** Create and fit a ridge regression model to the training data.\n",
    "\n",
    "Again, it is probably a good idea to tune the ```alpha``` hyperparameter. Review https://scikit-learn.org/stable/modules/generated/sklearn.linear_model.Ridge.html for documentation on sklearn's Ridge Regression model."
   ]
  },
  {
   "cell_type": "code",
   "execution_count": 156,
   "metadata": {},
   "outputs": [
    {
     "name": "stdout",
     "output_type": "stream",
     "text": [
      "Training RMSE: 0.31635818476779604\n",
      "Validation RMSE: 0.3293175263323787\n"
     ]
    }
   ],
   "source": [
    "from sklearn.linear_model import Ridge\n",
    "\n",
    "ridge = Ridge(alpha=1000) # Create ridge regression object\n",
    "ridge.fit(X_train, y_train) # Fit ridge regression model\n",
    "\n",
    "ridge_train_pred = ridge.predict(X_train) # Predict against X_train using fitted model\n",
    "print('Training RMSE:', rmse(y_train, ridge_train_pred)) # Calculate RMSE on training data\n",
    "\n",
    "ridge_val_pred = ridge.predict(X_val) # Predict against X_val using fitted model\n",
    "print('Validation RMSE:', rmse(y_val, ridge_val_pred)) # Calculate RMSE on validation data"
   ]
  },
  {
   "cell_type": "markdown",
   "metadata": {},
   "source": [
    "### Random Forest Regression\n",
    "\n",
    "**Step 7:** Create and fit a random forest regression model to the training data. \n",
    "\n",
    "Note that it is a good idea to tune the hyperparameters of the random forest regression model. Take a look at https://scikit-learn.org/stable/modules/generated/sklearn.ensemble.RandomForestRegressor.html for documentation on various hyperparameters for the Random Forest model. It is likely though that ```n_estimators``` and ```max_depth``` are the most relevant hyperparameters."
   ]
  },
  {
   "cell_type": "code",
   "execution_count": 157,
   "metadata": {},
   "outputs": [
    {
     "name": "stdout",
     "output_type": "stream",
     "text": [
      "Training RMSE: 0.10046848593796291\n",
      "Validation RMSE: 0.2857697208126386\n"
     ]
    }
   ],
   "source": [
    "from sklearn.ensemble import RandomForestRegressor\n",
    "\n",
    "rf_reg = RandomForestRegressor(n_estimators=100) # Create random forest regressor object\n",
    "rf_reg.fit(X_train, y_train) # Fit random forest regression model\n",
    "\n",
    "rf_reg_train_pred = rf_reg.predict(X_train) # Predict against X_train using fitted model\n",
    "print('Training RMSE:', rmse(y_train, rf_reg_train_pred)) # Calculate RMSE on training data\n",
    "\n",
    "rf_reg_val_pred = rf_reg.predict(X_val) # Predict against X_val using fitted model\n",
    "print('Validation RMSE:', rmse(y_val, rf_reg_val_pred)) # Calculate RMSE on validation data"
   ]
  },
  {
   "cell_type": "markdown",
   "metadata": {},
   "source": [
    "### Other Regression Models to try\n",
    "\n",
    "Polynomial Regression\n",
    "\n",
    "LASSO Regression\n",
    "\n",
    "Support Vector Regression"
   ]
  },
  {
   "cell_type": "code",
   "execution_count": 158,
   "metadata": {},
   "outputs": [],
   "source": [
    "# Your code here\n",
    "..."
   ]
  },
  {
   "cell_type": "markdown",
   "metadata": {},
   "source": [
    "## Classification Model Training\n",
    "\n",
    "Let's look at the classification models now. Note that while you would normally evaluate classification models using a different metric such as accuracy, we will be evaluating the models using RMSE since that is the chosen evaluation function for the Kaggle competition as it allows for evaluating both regression and classification models."
   ]
  },
  {
   "cell_type": "markdown",
   "metadata": {},
   "source": [
    "### Decision Tree Classifier\n",
    "\n",
    "**Step 9:** Create and fit a decision tree classifier model to the training data.\n",
    "\n",
    "Explore https://scikit-learn.org/stable/modules/generated/sklearn.tree.DecisionTreeClassifier.html for hyperparameters."
   ]
  },
  {
   "cell_type": "code",
   "execution_count": 159,
   "metadata": {},
   "outputs": [
    {
     "name": "stdout",
     "output_type": "stream",
     "text": [
      "Training RMSE: 0.0\n",
      "Training RMSE: 0.41231056256176607\n"
     ]
    }
   ],
   "source": [
    "from sklearn.tree import DecisionTreeClassifier\n",
    "\n",
    "tree_classifier = DecisionTreeClassifier() # Create Decision Tree Classifier object\n",
    "tree_classifier.fit(X_train, y_train) # Fit decision tree classifier model\n",
    "\n",
    "tree_classifier_train_pred = tree_classifier.predict(X_train) # Predict against X_train using fitted model\n",
    "print('Training RMSE:', rmse(y_train, tree_classifier_train_pred)) # Calculate RMSE on training data\n",
    "\n",
    "tree_classifier_val_pred = tree_classifier.predict(X_val) # Predict against X_train using fitted model\n",
    "print('Training RMSE:', rmse(y_val, tree_classifier_val_pred)) # Calculate RMSE on training data"
   ]
  },
  {
   "cell_type": "markdown",
   "metadata": {},
   "source": [
    "### Random Forest Classifier\n",
    "\n",
    "Let's try to see if we can improve our decision tree classifier by adding more trees and building a random forest classifier.\n",
    "\n",
    "**Step 10:** Create and fit a random forest classifier model to the training data.\n",
    "\n",
    "Explore https://scikit-learn.org/stable/modules/generated/sklearn.ensemble.RandomForestClassifier.html for hyperparameters."
   ]
  },
  {
   "cell_type": "code",
   "execution_count": 160,
   "metadata": {},
   "outputs": [
    {
     "name": "stdout",
     "output_type": "stream",
     "text": [
      "Training RMSE: 0.0\n",
      "Training RMSE: 0.33665016461206926\n"
     ]
    }
   ],
   "source": [
    "from sklearn.ensemble import RandomForestClassifier\n",
    "\n",
    "rf_classifier = RandomForestClassifier(n_estimators=100) # Create Random Forest Classifier object\n",
    "rf_classifier.fit(X_train, y_train) # Fit random forest classifier model\n",
    "\n",
    "rf_classifier_train_pred = rf_classifier.predict(X_train) # Predict against X_train using fitted model\n",
    "print('Training RMSE:', rmse(y_train, rf_classifier_train_pred)) # Calculate RMSE on training data\n",
    "\n",
    "rf_classifier_val_pred = rf_classifier.predict(X_val) # Predict against X_train using fitted model\n",
    "print('Training RMSE:', rmse(y_val, rf_classifier_val_pred)) # Calculate RMSE on training data"
   ]
  },
  {
   "cell_type": "markdown",
   "metadata": {},
   "source": [
    "### Other Classification Models to try\n",
    "\n",
    "K-Nearest Neighbors\n",
    "\n",
    "Support Vector Classification\n",
    "\n",
    "Logisitic Regression\n"
   ]
  },
  {
   "cell_type": "code",
   "execution_count": 161,
   "metadata": {},
   "outputs": [],
   "source": [
    "# Your Code Here\n",
    "..."
   ]
  },
  {
   "cell_type": "markdown",
   "metadata": {},
   "source": [
    "## Suggestions for Improving Your Model\n",
    "\n",
    "**Variable Selection:** Consider which variables are most important to be included in your model. The EDA of the dataset that you did will be useful for this task.\n",
    "\n",
    "**Feature Engineering:** Transform the variables in the dataset somehow by taking logs of variables, squaring variables, etc. Also you can try to combine columns.\n",
    "\n",
    "**Hyperparameter Tuning:** This technique is only applicable to some models.\n",
    "\n",
    "**Explore a different model:** Feel free to explore models that you haven't been introduced to yet! Google is your best friend."
   ]
  },
  {
   "cell_type": "markdown",
   "metadata": {},
   "source": [
    "## Submission\n",
    "\n",
    "**Step 11:** Choose the model that performed best on the validation data. Use that model to predict against the test data."
   ]
  },
  {
   "cell_type": "code",
   "execution_count": 162,
   "metadata": {},
   "outputs": [],
   "source": [
    "X_test = pd.read_csv(\"true_test.csv\")\n",
    "y_test_pred = rf.predict(X_test)    # Predict against test data using the best model you created"
   ]
  },
  {
   "cell_type": "markdown",
   "metadata": {},
   "source": [
    "Run the cells below to save your predicted test values."
   ]
  },
  {
   "cell_type": "code",
   "execution_count": 163,
   "metadata": {},
   "outputs": [],
   "source": [
    "from datetime import datetime\n",
    "\n",
    "def results_to_csv(data, y_test):\n",
    "    df = pd.DataFrame({'price_range': y_test})\n",
    "    df.to_csv(data + '_submission_' + datetime.now().strftime(\"%Y_%m_%d-%H_%M_%S\") + '.csv',\n",
    "              index_label='id')"
   ]
  },
  {
   "cell_type": "code",
   "execution_count": 164,
   "metadata": {},
   "outputs": [],
   "source": [
    "results_to_csv(\"price_range\", y_test_pred)"
   ]
  },
  {
   "cell_type": "code",
   "execution_count": null,
   "metadata": {},
   "outputs": [],
   "source": []
  }
 ],
 "metadata": {
  "kernelspec": {
   "display_name": "Python 3 (ipykernel)",
   "language": "python",
   "name": "python3"
  },
  "language_info": {
   "codemirror_mode": {
    "name": "ipython",
    "version": 3
   },
   "file_extension": ".py",
   "mimetype": "text/x-python",
   "name": "python",
   "nbconvert_exporter": "python",
   "pygments_lexer": "ipython3",
   "version": "3.8.3"
  }
 },
 "nbformat": 4,
 "nbformat_minor": 4
}
