{
 "cells": [
  {
   "cell_type": "code",
   "execution_count": null,
   "metadata": {},
   "outputs": [],
   "source": [
    "import numpy as np\n",
    "import pandas as pd"
   ]
  },
  {
   "cell_type": "markdown",
   "metadata": {},
   "source": [
    "# CX Kaggle Competition: Phone Price Prediction\n",
    "\n",
    "### Table of Contents\n",
    "\n",
    "* [4. Data Splitting](#setup)\n",
    "* [5. Validation Dataset](#validation)\n",
    "* [6. Model Evaluation Function](#rmse)\n",
    "* [7. Regression Model Training](#models)\n",
    "* [8. Classification Model Training](#models)\n",
    "* [9. Suggestions for Improving Models](#models)\n",
    "* [10. Submission](#submission)\n",
    "\n",
    "### Hosted by and maintained by the [Students Association of Applied Statistics (SAAS)](https://saas.berkeley.edu). Authored by Ashwin Natampalli and Sarang Deshpande. "
   ]
  },
  {
   "cell_type": "markdown",
   "metadata": {},
   "source": [
    "# Modeling Overview\n",
    "\n",
    "We are going to be creating various regression models in order to predict the ```price_range``` column of our dataset that contains features about different mobile phones. There are steps to the modeling process and we will be walking through each step individually. We will split the data appropriately, fit a model to our data, test and evaluate our model adjusting our model as necessary, and finally use the test dataset to make predictions using our model. We will also later determine which model performs the best on our data."
   ]
  },
  {
   "cell_type": "markdown",
   "metadata": {},
   "source": [
    "## Data Splitting\n",
    "\n",
    "**Step 1:** Split the dataset into our features and response variable."
   ]
  },
  {
   "cell_type": "code",
   "execution_count": null,
   "metadata": {},
   "outputs": [],
   "source": [
    "train_data = pd.read_csv('true_train.csv')\n",
    "X = train_data.drop(...) # extract X variables\n",
    "y = train_data.loc[:, ...] # extract y variable\n",
    "\n",
    "X"
   ]
  },
  {
   "cell_type": "markdown",
   "metadata": {},
   "source": [
    "## Validation Dataset\n",
    "\n",
    "We plan to create multiple different models using different model architectures and potentially by adjusting hyperparameters. In order to effectively compare different models, we need to create a validation dataset and compare the model performance on this validation dataset to see which model architecture and hyperparameters are optimal."
   ]
  },
  {
   "cell_type": "markdown",
   "metadata": {},
   "source": [
    "**Step 2:** Split your data into a training set and a validation set."
   ]
  },
  {
   "cell_type": "code",
   "execution_count": null,
   "metadata": {},
   "outputs": [],
   "source": [
    "from sklearn.model_selection import train_test_split\n",
    "X_train, X_val, y_train, y_val = train_test_split(..., ..., test_size=..., random_state=21)"
   ]
  },
  {
   "cell_type": "markdown",
   "metadata": {},
   "source": [
    "#### K-fold Cross Validation (Optional)\n",
    "\n",
    "You can also use k-fold cross-validation as a more robust approach to validation. \n",
    "View https://scikit-learn.org/stable/modules/generated/sklearn.model_selection.KFold.html for more documentation.\n",
    "\n",
    "**Step 3:** Set up cross-validation."
   ]
  },
  {
   "cell_type": "code",
   "execution_count": null,
   "metadata": {},
   "outputs": [],
   "source": [
    "from sklearn.model_selection import KFold\n",
    "kf = KFold(n_splits = ...)\n",
    "for train_index, val_index in kf.split(X):\n",
    "    X_train_cv, X_val_cv = X.iloc[..., :], X.iloc[..., :]\n",
    "    y_train_cv, y_val_cv = y[...], y[...]\n",
    "    \n",
    "    # continue to fit and evaluate model\n",
    "    ..."
   ]
  },
  {
   "cell_type": "markdown",
   "metadata": {},
   "source": [
    "## Model Evaluation Function\n",
    "\n",
    "We are going to use Root-Mean-Squared-Error as our evaluation metric. This error function is shown below.\n",
    "\n",
    "$$\\text{RMSE}(\\hat{y}, y) = \\sqrt{\\frac{1}{n} \\sum_{i = 1}^n (y_i - \\hat{y}_i)^2}.$$\n",
    "\n",
    "**Step 4:** Complete the function below that returns the RMSE given true y-values and predicted y-values."
   ]
  },
  {
   "cell_type": "code",
   "execution_count": null,
   "metadata": {},
   "outputs": [],
   "source": [
    "def rmse(y_true, y_pred):\n",
    "    return ..."
   ]
  },
  {
   "cell_type": "markdown",
   "metadata": {},
   "source": [
    "## Regression Model Training\n",
    "\n",
    "Given the format of the predictor variable in our dataset, we can try to use both regression and classification models. Let's look at the regression models first."
   ]
  },
  {
   "cell_type": "markdown",
   "metadata": {},
   "source": [
    "### Linear Regression\n",
    "\n",
    "**Step 5:** Create and fit a linear regression model to the training data."
   ]
  },
  {
   "cell_type": "code",
   "execution_count": null,
   "metadata": {},
   "outputs": [],
   "source": [
    "from sklearn.linear_model import LinearRegression\n",
    "\n",
    "lin_reg = LinearRegression() # Create sklearn's linear regression object\n",
    "lin_reg.fit(..., ...) # Fit linear regression model to training data\n",
    "\n",
    "lin_reg_train_pred = lin_reg.predict(...) # Predict against training data using fitted model\n",
    "print('Training RMSE:', rmse(..., ...)) # Calculate RMSE on training data\n",
    "\n",
    "lr_val_pred = lr.predict(...) # Predict against validation data using fitted model\n",
    "print('Validation RMSE:', rmse(..., ...)) # Calculate RMSE on validation data"
   ]
  },
  {
   "cell_type": "markdown",
   "metadata": {},
   "source": [
    "### Ridge Regression\n",
    "\n",
    "**Step 6:** Create and fit a ridge regression model to the training data.\n",
    "\n",
    "Again, it is probably a good idea to tune the ```alpha``` hyperparameter. Review https://scikit-learn.org/stable/modules/generated/sklearn.linear_model.Ridge.html for documentation on sklearn's Ridge Regression model."
   ]
  },
  {
   "cell_type": "code",
   "execution_count": null,
   "metadata": {},
   "outputs": [],
   "source": [
    "from sklearn.linear_model import Ridge\n",
    "\n",
    "ridge = Ridge(alpha=...)\n",
    "ridge.fit(..., ...)\n",
    "\n",
    "ridge_train_pred = ridge.predict(...)\n",
    "print('Training RMSE:', rmse(..., ...))\n",
    "\n",
    "ridge_val_pred = ridge.predict(...)\n",
    "print('Validation RMSE:', rmse(..., ...))"
   ]
  },
  {
   "cell_type": "markdown",
   "metadata": {},
   "source": [
    "### Random Forest Regression\n",
    "\n",
    "**Step 7:** Create and fit a random forest regression model to the training data. \n",
    "\n",
    "Note that it is a good idea to tune the hyperparameters of the random forest regression model. Take a look at https://scikit-learn.org/stable/modules/generated/sklearn.ensemble.RandomForestRegressor.html for documentation on various hyperparameters for the Random Forest model. It is likely though that ```n_estimators``` and ```max_depth``` are the most relevant hyperparameters."
   ]
  },
  {
   "cell_type": "code",
   "execution_count": null,
   "metadata": {},
   "outputs": [],
   "source": [
    "from sklearn.ensemble import RandomForestRegressor\n",
    "\n",
    "# Your code here\n",
    "..."
   ]
  },
  {
   "cell_type": "markdown",
   "metadata": {},
   "source": [
    "### Other Regression Models to try\n",
    "\n",
    "Polynomial Regression\n",
    "\n",
    "LASSO Regression\n",
    "\n",
    "Support Vector Regression"
   ]
  },
  {
   "cell_type": "code",
   "execution_count": null,
   "metadata": {},
   "outputs": [],
   "source": [
    "# Your code here\n",
    "..."
   ]
  },
  {
   "cell_type": "markdown",
   "metadata": {},
   "source": [
    "## Classification Model Training\n",
    "\n",
    "Let's look at the classification models now. Note that while you would normally evaluate classification models using a different metric such as accuracy, we will be evaluating the models using RMSE since that is the chosen evaluation function for the Kaggle competition as it allows for evaluating both regression and classification models."
   ]
  },
  {
   "cell_type": "markdown",
   "metadata": {},
   "source": [
    "### Decision Tree Classifier\n",
    "\n",
    "**Step 9:** Create and fit a decision tree classifier model to the training data.\n",
    "\n",
    "Explore https://scikit-learn.org/stable/modules/generated/sklearn.tree.DecisionTreeClassifier.html for hyperparameters."
   ]
  },
  {
   "cell_type": "code",
   "execution_count": null,
   "metadata": {},
   "outputs": [],
   "source": [
    "from sklearn.tree import DecisionTreeClassifier\n",
    "\n",
    "# Your code here\n",
    "..."
   ]
  },
  {
   "cell_type": "markdown",
   "metadata": {},
   "source": [
    "### Random Forest Classifier\n",
    "\n",
    "Let's try to see if we can improve our decision tree classifier by adding more trees and building a random forest classifier.\n",
    "\n",
    "**Step 10:** Create and fit a random forest classifier model to the training data.\n",
    "\n",
    "Explore https://scikit-learn.org/stable/modules/generated/sklearn.ensemble.RandomForestClassifier.html for hyperparameters."
   ]
  },
  {
   "cell_type": "code",
   "execution_count": null,
   "metadata": {},
   "outputs": [],
   "source": [
    "from sklearn.ensemble import RandomForestClassifier\n",
    "\n",
    "# Your code here\n",
    "..."
   ]
  },
  {
   "cell_type": "markdown",
   "metadata": {},
   "source": [
    "### Other Classification Models to try\n",
    "\n",
    "K-Nearest Neighbors\n",
    "\n",
    "Support Vector Classification\n",
    "\n",
    "Logisitic Regression\n"
   ]
  },
  {
   "cell_type": "code",
   "execution_count": null,
   "metadata": {},
   "outputs": [],
   "source": [
    "# Your code here\n",
    "..."
   ]
  },
  {
   "cell_type": "markdown",
   "metadata": {},
   "source": [
    "## Suggestions for Improving Your Model\n",
    "\n",
    "**Variable Selection:** Consider which variables are most important to be included in your model. The EDA of the dataset that you did will be useful for this task.\n",
    "\n",
    "**Feature Engineering:** Transform the variables in the dataset somehow by taking logs of variables, squaring variables, etc. Also you can try to combine columns.\n",
    "\n",
    "**Hyperparameter Tuning:** This technique is only applicable to some models.\n",
    "\n",
    "**Explore a different model:** Feel free to explore models that you haven't been introduced to yet! Google is your best friend."
   ]
  },
  {
   "cell_type": "markdown",
   "metadata": {},
   "source": [
    "## Submission\n",
    "\n",
    "**Step 11:** Choose the model that performed best on the validation data. Use that model to predict against the test data."
   ]
  },
  {
   "cell_type": "code",
   "execution_count": null,
   "metadata": {},
   "outputs": [],
   "source": [
    "X_test = pd.read_csv(\"true_test.csv\")\n",
    "y_test_pred = rf.predict(...)    # Predict against test data using the best model you created"
   ]
  },
  {
   "cell_type": "markdown",
   "metadata": {},
   "source": [
    "Run the cells below to save your predicted test values."
   ]
  },
  {
   "cell_type": "code",
   "execution_count": null,
   "metadata": {},
   "outputs": [],
   "source": [
    "from datetime import datetime\n",
    "\n",
    "def results_to_csv(data, y_test):\n",
    "    df = pd.DataFrame({'price_range': y_test})\n",
    "    df.to_csv(data + '_submission_' + datetime.now().strftime(\"%Y_%m_%d-%H_%M_%S\") + '.csv',\n",
    "              index_label='id')"
   ]
  },
  {
   "cell_type": "code",
   "execution_count": null,
   "metadata": {},
   "outputs": [],
   "source": [
    "results_to_csv(\"price_range\", y_test_pred)"
   ]
  },
  {
   "cell_type": "code",
   "execution_count": null,
   "metadata": {},
   "outputs": [],
   "source": []
  }
 ],
 "metadata": {
  "kernelspec": {
   "display_name": "Python 3 (ipykernel)",
   "language": "python",
   "name": "python3"
  },
  "language_info": {
   "codemirror_mode": {
    "name": "ipython",
    "version": 3
   },
   "file_extension": ".py",
   "mimetype": "text/x-python",
   "name": "python",
   "nbconvert_exporter": "python",
   "pygments_lexer": "ipython3",
   "version": "3.8.3"
  }
 },
 "nbformat": 4,
 "nbformat_minor": 4
}
