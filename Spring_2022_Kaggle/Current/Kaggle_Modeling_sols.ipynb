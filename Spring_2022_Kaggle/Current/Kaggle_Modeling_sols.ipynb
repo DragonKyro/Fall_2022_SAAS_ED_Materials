{
 "cells": [
  {
   "cell_type": "code",
   "execution_count": 1,
   "id": "9c47ef14",
   "metadata": {},
   "outputs": [],
   "source": [
    "import numpy as np\n",
    "import pandas as pd"
   ]
  },
  {
   "cell_type": "markdown",
   "id": "af9a1f3b",
   "metadata": {},
   "source": [
    "# CX Kaggle Competition: Salary Prediction\n",
    "\n",
    "### Table of Contents\n",
    "\n",
    "* [5. Setup](#setup)\n",
    "* [6. Validation](#validation)\n",
    "* [7. Accuracy & Error](#rmse)\n",
    "* [8. Different Models](#models)\n",
    "* [9. Submission](#submission)\n",
    "\n",
    "### Hosted by and maintained by the [Students Association of Applied Statistics (SAAS)](https://saas.berkeley.edu). Authored by Jasmine Lee and Akhil Vemuri. "
   ]
  },
  {
   "cell_type": "markdown",
   "id": "c62b97eb",
   "metadata": {},
   "source": [
    "# Modeling\n",
    "\n",
    "We will now be creating various regression models in order to predict the ```totalyearlycompensation``` column of our data. There are multiple different parts to manage when modeling, such as splitting the data, fitting an appropriate model, testing / evaluating our model, and predicting against the test dataset. We will also later determine which model performs the best on our data.\n",
    "\n",
    "<span id=\"setup\"></span>\n",
    "\n",
    "## Setup\n",
    "\n",
    "**Question 1:** While it is possible to use categorical features in predictive modeling, for simplicity sake, we will filter out all non-numerical columns. Fill in the blanks such that only columns of type ```int``` or ```float``` remain."
   ]
  },
  {
   "cell_type": "code",
   "execution_count": 2,
   "id": "258b4c2c",
   "metadata": {},
   "outputs": [
    {
     "data": {
      "text/html": [
       "<div>\n",
       "<style scoped>\n",
       "    .dataframe tbody tr th:only-of-type {\n",
       "        vertical-align: middle;\n",
       "    }\n",
       "\n",
       "    .dataframe tbody tr th {\n",
       "        vertical-align: top;\n",
       "    }\n",
       "\n",
       "    .dataframe thead th {\n",
       "        text-align: right;\n",
       "    }\n",
       "</style>\n",
       "<table border=\"1\" class=\"dataframe\">\n",
       "  <thead>\n",
       "    <tr style=\"text-align: right;\">\n",
       "      <th></th>\n",
       "      <th>yearsofexperience</th>\n",
       "      <th>yearsatcompany</th>\n",
       "      <th>stockgrantvalue</th>\n",
       "      <th>bonus</th>\n",
       "      <th>cityid</th>\n",
       "      <th>Masters_Degree</th>\n",
       "      <th>Bachelors_Degree</th>\n",
       "      <th>Doctorate_Degree</th>\n",
       "      <th>Highschool</th>\n",
       "      <th>Some_College</th>\n",
       "      <th>Race_Asian</th>\n",
       "      <th>Race_White</th>\n",
       "      <th>Race_Two_Or_More</th>\n",
       "      <th>Race_Black</th>\n",
       "      <th>Race_Hispanic</th>\n",
       "    </tr>\n",
       "  </thead>\n",
       "  <tbody>\n",
       "    <tr>\n",
       "      <th>0</th>\n",
       "      <td>2.0</td>\n",
       "      <td>0.0</td>\n",
       "      <td>0.0</td>\n",
       "      <td>20000.0</td>\n",
       "      <td>7839</td>\n",
       "      <td>1</td>\n",
       "      <td>0</td>\n",
       "      <td>0</td>\n",
       "      <td>0</td>\n",
       "      <td>0</td>\n",
       "      <td>0</td>\n",
       "      <td>0</td>\n",
       "      <td>0</td>\n",
       "      <td>0</td>\n",
       "      <td>1</td>\n",
       "    </tr>\n",
       "    <tr>\n",
       "      <th>1</th>\n",
       "      <td>15.0</td>\n",
       "      <td>4.0</td>\n",
       "      <td>0.0</td>\n",
       "      <td>23000.0</td>\n",
       "      <td>8909</td>\n",
       "      <td>0</td>\n",
       "      <td>0</td>\n",
       "      <td>0</td>\n",
       "      <td>0</td>\n",
       "      <td>0</td>\n",
       "      <td>0</td>\n",
       "      <td>0</td>\n",
       "      <td>0</td>\n",
       "      <td>0</td>\n",
       "      <td>0</td>\n",
       "    </tr>\n",
       "    <tr>\n",
       "      <th>2</th>\n",
       "      <td>2.0</td>\n",
       "      <td>0.0</td>\n",
       "      <td>29000.0</td>\n",
       "      <td>23000.0</td>\n",
       "      <td>10182</td>\n",
       "      <td>0</td>\n",
       "      <td>1</td>\n",
       "      <td>0</td>\n",
       "      <td>0</td>\n",
       "      <td>0</td>\n",
       "      <td>0</td>\n",
       "      <td>1</td>\n",
       "      <td>0</td>\n",
       "      <td>0</td>\n",
       "      <td>0</td>\n",
       "    </tr>\n",
       "    <tr>\n",
       "      <th>3</th>\n",
       "      <td>1.0</td>\n",
       "      <td>1.0</td>\n",
       "      <td>65000.0</td>\n",
       "      <td>30000.0</td>\n",
       "      <td>7392</td>\n",
       "      <td>1</td>\n",
       "      <td>0</td>\n",
       "      <td>0</td>\n",
       "      <td>0</td>\n",
       "      <td>0</td>\n",
       "      <td>1</td>\n",
       "      <td>0</td>\n",
       "      <td>0</td>\n",
       "      <td>0</td>\n",
       "      <td>0</td>\n",
       "    </tr>\n",
       "    <tr>\n",
       "      <th>4</th>\n",
       "      <td>9.0</td>\n",
       "      <td>0.0</td>\n",
       "      <td>12000.0</td>\n",
       "      <td>15000.0</td>\n",
       "      <td>8816</td>\n",
       "      <td>0</td>\n",
       "      <td>1</td>\n",
       "      <td>0</td>\n",
       "      <td>0</td>\n",
       "      <td>0</td>\n",
       "      <td>1</td>\n",
       "      <td>0</td>\n",
       "      <td>0</td>\n",
       "      <td>0</td>\n",
       "      <td>0</td>\n",
       "    </tr>\n",
       "    <tr>\n",
       "      <th>...</th>\n",
       "      <td>...</td>\n",
       "      <td>...</td>\n",
       "      <td>...</td>\n",
       "      <td>...</td>\n",
       "      <td>...</td>\n",
       "      <td>...</td>\n",
       "      <td>...</td>\n",
       "      <td>...</td>\n",
       "      <td>...</td>\n",
       "      <td>...</td>\n",
       "      <td>...</td>\n",
       "      <td>...</td>\n",
       "      <td>...</td>\n",
       "      <td>...</td>\n",
       "      <td>...</td>\n",
       "    </tr>\n",
       "    <tr>\n",
       "      <th>50108</th>\n",
       "      <td>12.0</td>\n",
       "      <td>1.0</td>\n",
       "      <td>10000.0</td>\n",
       "      <td>0.0</td>\n",
       "      <td>7419</td>\n",
       "      <td>0</td>\n",
       "      <td>0</td>\n",
       "      <td>0</td>\n",
       "      <td>0</td>\n",
       "      <td>0</td>\n",
       "      <td>0</td>\n",
       "      <td>0</td>\n",
       "      <td>0</td>\n",
       "      <td>0</td>\n",
       "      <td>0</td>\n",
       "    </tr>\n",
       "    <tr>\n",
       "      <th>50109</th>\n",
       "      <td>10.0</td>\n",
       "      <td>0.0</td>\n",
       "      <td>39000.0</td>\n",
       "      <td>29000.0</td>\n",
       "      <td>40303</td>\n",
       "      <td>0</td>\n",
       "      <td>0</td>\n",
       "      <td>0</td>\n",
       "      <td>0</td>\n",
       "      <td>0</td>\n",
       "      <td>0</td>\n",
       "      <td>0</td>\n",
       "      <td>0</td>\n",
       "      <td>0</td>\n",
       "      <td>0</td>\n",
       "    </tr>\n",
       "    <tr>\n",
       "      <th>50110</th>\n",
       "      <td>6.0</td>\n",
       "      <td>0.0</td>\n",
       "      <td>91000.0</td>\n",
       "      <td>28000.0</td>\n",
       "      <td>7419</td>\n",
       "      <td>0</td>\n",
       "      <td>0</td>\n",
       "      <td>0</td>\n",
       "      <td>0</td>\n",
       "      <td>0</td>\n",
       "      <td>0</td>\n",
       "      <td>0</td>\n",
       "      <td>0</td>\n",
       "      <td>0</td>\n",
       "      <td>0</td>\n",
       "    </tr>\n",
       "    <tr>\n",
       "      <th>50111</th>\n",
       "      <td>2.0</td>\n",
       "      <td>2.0</td>\n",
       "      <td>75000.0</td>\n",
       "      <td>0.0</td>\n",
       "      <td>7351</td>\n",
       "      <td>0</td>\n",
       "      <td>0</td>\n",
       "      <td>0</td>\n",
       "      <td>0</td>\n",
       "      <td>0</td>\n",
       "      <td>0</td>\n",
       "      <td>0</td>\n",
       "      <td>0</td>\n",
       "      <td>0</td>\n",
       "      <td>0</td>\n",
       "    </tr>\n",
       "    <tr>\n",
       "      <th>50112</th>\n",
       "      <td>6.0</td>\n",
       "      <td>6.0</td>\n",
       "      <td>0.0</td>\n",
       "      <td>14000.0</td>\n",
       "      <td>7422</td>\n",
       "      <td>0</td>\n",
       "      <td>0</td>\n",
       "      <td>0</td>\n",
       "      <td>0</td>\n",
       "      <td>0</td>\n",
       "      <td>0</td>\n",
       "      <td>0</td>\n",
       "      <td>0</td>\n",
       "      <td>0</td>\n",
       "      <td>0</td>\n",
       "    </tr>\n",
       "  </tbody>\n",
       "</table>\n",
       "<p>50113 rows × 15 columns</p>\n",
       "</div>"
      ],
      "text/plain": [
       "       yearsofexperience  yearsatcompany  stockgrantvalue    bonus  cityid  \\\n",
       "0                    2.0             0.0              0.0  20000.0    7839   \n",
       "1                   15.0             4.0              0.0  23000.0    8909   \n",
       "2                    2.0             0.0          29000.0  23000.0   10182   \n",
       "3                    1.0             1.0          65000.0  30000.0    7392   \n",
       "4                    9.0             0.0          12000.0  15000.0    8816   \n",
       "...                  ...             ...              ...      ...     ...   \n",
       "50108               12.0             1.0          10000.0      0.0    7419   \n",
       "50109               10.0             0.0          39000.0  29000.0   40303   \n",
       "50110                6.0             0.0          91000.0  28000.0    7419   \n",
       "50111                2.0             2.0          75000.0      0.0    7351   \n",
       "50112                6.0             6.0              0.0  14000.0    7422   \n",
       "\n",
       "       Masters_Degree  Bachelors_Degree  Doctorate_Degree  Highschool  \\\n",
       "0                   1                 0                 0           0   \n",
       "1                   0                 0                 0           0   \n",
       "2                   0                 1                 0           0   \n",
       "3                   1                 0                 0           0   \n",
       "4                   0                 1                 0           0   \n",
       "...               ...               ...               ...         ...   \n",
       "50108               0                 0                 0           0   \n",
       "50109               0                 0                 0           0   \n",
       "50110               0                 0                 0           0   \n",
       "50111               0                 0                 0           0   \n",
       "50112               0                 0                 0           0   \n",
       "\n",
       "       Some_College  Race_Asian  Race_White  Race_Two_Or_More  Race_Black  \\\n",
       "0                 0           0           0                 0           0   \n",
       "1                 0           0           0                 0           0   \n",
       "2                 0           0           1                 0           0   \n",
       "3                 0           1           0                 0           0   \n",
       "4                 0           1           0                 0           0   \n",
       "...             ...         ...         ...               ...         ...   \n",
       "50108             0           0           0                 0           0   \n",
       "50109             0           0           0                 0           0   \n",
       "50110             0           0           0                 0           0   \n",
       "50111             0           0           0                 0           0   \n",
       "50112             0           0           0                 0           0   \n",
       "\n",
       "       Race_Hispanic  \n",
       "0                  1  \n",
       "1                  0  \n",
       "2                  0  \n",
       "3                  0  \n",
       "4                  0  \n",
       "...              ...  \n",
       "50108              0  \n",
       "50109              0  \n",
       "50110              0  \n",
       "50111              0  \n",
       "50112              0  \n",
       "\n",
       "[50113 rows x 15 columns]"
      ]
     },
     "execution_count": 2,
     "metadata": {},
     "output_type": "execute_result"
    }
   ],
   "source": [
    "train = pd.read_csv(\"train.csv\")\n",
    "X_train = train.drop(labels=['totalyearlycompensation'], axis=1)\n",
    "y_train = train.loc[:, 'totalyearlycompensation']\n",
    "\n",
    "X_train = X_train.select_dtypes(include=['int', 'float']).drop(train.columns[0], axis=1)\n",
    "X_train"
   ]
  },
  {
   "cell_type": "markdown",
   "id": "b70fe9ca",
   "metadata": {},
   "source": [
    "#### One Hot Encoding (OPTIONAL)\n",
    "\n",
    "Although we just removed all the categorical columns, those extra features can still be leveraged to potentially obtain a better model.\n",
    "\n",
    "Use sklearn's [OneHotEncoder](https://scikit-learn.org/stable/modules/generated/sklearn.preprocessing.OneHotEncoder.html) object to transform the categorical columns to numerical ones."
   ]
  },
  {
   "cell_type": "code",
   "execution_count": 3,
   "id": "0aa71b56",
   "metadata": {},
   "outputs": [
    {
     "data": {
      "text/plain": [
       "Ellipsis"
      ]
     },
     "execution_count": 3,
     "metadata": {},
     "output_type": "execute_result"
    }
   ],
   "source": [
    "from sklearn.preprocessing import OneHotEncoder\n",
    "\n",
    "# train = pd.read_csv(\"train.csv\")\n",
    "# X_train = train.drop(labels=['totalyearlycompensation'], axis=1)\n",
    "# y_train = train.loc[:, 'totalyearlycompensation']\n",
    "\n",
    "# YOUR CODE HERE\n",
    "..."
   ]
  },
  {
   "cell_type": "markdown",
   "id": "e494ae90",
   "metadata": {},
   "source": [
    "<span id=\"validation\"></span>\n",
    "\n",
    "## Validation\n",
    "\n",
    "**Question 2:** Use the [train_test_split](https://scikit-learn.org/stable/modules/generated/sklearn.model_selection.train_test_split.html) function to split up your training data into a training set and a validation set. The typical size of the validation set is also 20% of the full training data."
   ]
  },
  {
   "cell_type": "code",
   "execution_count": 4,
   "id": "9b99a614",
   "metadata": {},
   "outputs": [],
   "source": [
    "from sklearn.model_selection import train_test_split\n",
    "X_train, X_val, y_train, y_val = train_test_split(X_train, y_train, test_size=0.2, random_state=42)"
   ]
  },
  {
   "cell_type": "markdown",
   "id": "6fa43601",
   "metadata": {},
   "source": [
    "#### K-Fold Cross Validation\n",
    "\n",
    "The validation method above is usable but not that robust. K-Fold Cross-Validation should be better.\n",
    "\n",
    "**Question 3:** Feel free to set up your own K-Fold cross-validation scheme. For more information, please read https://towardsdatascience.com/cross-validation-a-beginners-guide-5b8ca04962cd."
   ]
  },
  {
   "cell_type": "code",
   "execution_count": 5,
   "id": "3fb0c7e9",
   "metadata": {},
   "outputs": [],
   "source": [
    "# Complete this as an exercise, but you can continue rest of this notebook using single validation\n",
    "from sklearn.model_selection import KFold\n",
    "kf = KFold(n_splits=5)"
   ]
  },
  {
   "cell_type": "markdown",
   "id": "0965620a",
   "metadata": {},
   "source": [
    "<span id=\"rmse\"></span>\n",
    "\n",
    "## Accuracy & Error\n",
    "\n",
    "Our Kaggle competition uses Root-Mean-Square-Error (RMSE) as the error metric. In mathematical notation, it is:\n",
    "\n",
    "$$\\text{RMSE}(\\hat{y}, y) = \\sqrt{\\frac{1}{n} \\sum_{i = 1}^n (y_i - \\hat{y}_i)^2}.$$\n",
    "\n",
    "**Question 4:** Complete the function below."
   ]
  },
  {
   "cell_type": "code",
   "execution_count": 6,
   "id": "330964b4",
   "metadata": {},
   "outputs": [],
   "source": [
    "from sklearn.metrics import mean_squared_error\n",
    "def rmse(y_true, y_pred):\n",
    "    return mean_squared_error(y_true, y_pred)**0.5"
   ]
  },
  {
   "cell_type": "markdown",
   "id": "546bcb8f",
   "metadata": {},
   "source": [
    "<span id=\"models\"></span>\n",
    "\n",
    "## Analyzing Different Models\n",
    "\n",
    "We will now analyze various different regressive models and compare how well they perform.\n",
    "\n",
    "### Linear Regression\n",
    "\n",
    "**Question 5:** Fit a linear regression model to your training data and report your RMSE.\n",
    "\n",
    "*Hint: Simply run the following cells*"
   ]
  },
  {
   "cell_type": "code",
   "execution_count": 7,
   "id": "c9dc0c81",
   "metadata": {},
   "outputs": [
    {
     "data": {
      "text/plain": [
       "LinearRegression()"
      ]
     },
     "execution_count": 7,
     "metadata": {},
     "output_type": "execute_result"
    }
   ],
   "source": [
    "from sklearn.linear_model import LinearRegression\n",
    "\n",
    "# Instantiate sklearn's linear regression object\n",
    "lr = LinearRegression()\n",
    "\n",
    "# Fit linear regression model\n",
    "lr.fit(X_train, y_train)"
   ]
  },
  {
   "cell_type": "code",
   "execution_count": 8,
   "id": "6f6f4afc",
   "metadata": {},
   "outputs": [
    {
     "data": {
      "text/plain": [
       "74637.41605606221"
      ]
     },
     "execution_count": 8,
     "metadata": {},
     "output_type": "execute_result"
    }
   ],
   "source": [
    "# Predict against X_train using fitted model above\n",
    "lr_train_pred = lr.predict(X_train)\n",
    "\n",
    "# Calculate RMSE of predicted training output\n",
    "rmse(y_train, lr_train_pred)"
   ]
  },
  {
   "cell_type": "code",
   "execution_count": 9,
   "id": "9428b3c8",
   "metadata": {},
   "outputs": [
    {
     "data": {
      "text/plain": [
       "78331.596485081"
      ]
     },
     "execution_count": 9,
     "metadata": {},
     "output_type": "execute_result"
    }
   ],
   "source": [
    "lr_val_pred = lr.predict(X_val)\n",
    "\n",
    "# Calculate RMSE of validation output\n",
    "## Notice our accuracy on the validation data is slightly worse - this is expected\n",
    "rmse(y_val, lr_val_pred)"
   ]
  },
  {
   "cell_type": "markdown",
   "id": "b1f1b319",
   "metadata": {},
   "source": [
    "### Random Forests\n",
    "\n",
    "**Question 6:** Fit a random forest model to your data and report your RMSE.\n",
    "\n",
    "**NOTE:** If you're finding that your model is performing worse than your linear regression, make sure you tune the parameters to the RandomForestRegressor! Try to understand what the parameters mean by looking at the Decision Trees lecture."
   ]
  },
  {
   "cell_type": "code",
   "execution_count": 10,
   "id": "eaba9192",
   "metadata": {},
   "outputs": [
    {
     "data": {
      "text/plain": [
       "RandomForestRegressor(n_estimators=50)"
      ]
     },
     "execution_count": 10,
     "metadata": {},
     "output_type": "execute_result"
    }
   ],
   "source": [
    "from sklearn.ensemble import RandomForestRegressor\n",
    "rf = RandomForestRegressor(n_estimators=50)\n",
    "rf.fit(X_train, y_train)"
   ]
  },
  {
   "cell_type": "code",
   "execution_count": 11,
   "id": "5351fd59",
   "metadata": {},
   "outputs": [
    {
     "data": {
      "text/plain": [
       "26525.306970041373"
      ]
     },
     "execution_count": 11,
     "metadata": {},
     "output_type": "execute_result"
    }
   ],
   "source": [
    "rf_train_pred = rf.predict(X_train)\n",
    "rmse(y_train, rf_train_pred)"
   ]
  },
  {
   "cell_type": "code",
   "execution_count": 12,
   "id": "083b83ba",
   "metadata": {},
   "outputs": [
    {
     "data": {
      "text/plain": [
       "55838.78673244079"
      ]
     },
     "execution_count": 12,
     "metadata": {},
     "output_type": "execute_result"
    }
   ],
   "source": [
    "rf_val_pred = rf.predict(X_val)\n",
    "rmse(y_val, rf_val_pred)"
   ]
  },
  {
   "cell_type": "markdown",
   "id": "7a7afbb1",
   "metadata": {},
   "source": [
    "Looks like a case of overfitting since the training error >> validation error. Random forests / decision trees are notorious for overfitting as well due to how much they fit to the training data, but we can tune different parameters such as ```max_depth``` or ```n_estimators``` in order to increase bias and improve the model's predictive ability.\n",
    "\n",
    "When tuning parameters, remember to predict against the validation data and not the test data!!"
   ]
  },
  {
   "cell_type": "markdown",
   "id": "ee5b3552",
   "metadata": {},
   "source": [
    "### Logistic Regression\n",
    "\n",
    "Haha, don't get fooled here! Logistic regression (when combined with a decision rule) is really just a classification algorithm in disguise. In this case, we are looking for a numerical output, so logistic regression doesn't make sense at all."
   ]
  },
  {
   "cell_type": "markdown",
   "id": "be80cb71",
   "metadata": {},
   "source": [
    "### Ridge Regression\n",
    "\n",
    "**Question 7:** Fit a ridge regression model and report your RMSE."
   ]
  },
  {
   "cell_type": "code",
   "execution_count": 13,
   "id": "e4088b0e",
   "metadata": {},
   "outputs": [
    {
     "name": "stdout",
     "output_type": "stream",
     "text": [
      "74675.03810460602\n",
      "78383.87930547282\n"
     ]
    }
   ],
   "source": [
    "from sklearn.linear_model import Ridge\n",
    "\n",
    "# YOUR CODE HERE\n",
    "rr = Ridge(alpha=1e3)\n",
    "rr.fit(X_train, y_train)\n",
    "\n",
    "rr_train_pred = rr.predict(X_train)\n",
    "print(rmse(y_train, rr_train_pred))\n",
    "\n",
    "rr_val_pred = rr.predict(X_val)\n",
    "print(rmse(y_val, rr_val_pred))"
   ]
  },
  {
   "cell_type": "markdown",
   "id": "d8cc3c89",
   "metadata": {},
   "source": [
    "**Question 8:** Do you notice a difference between the Ridge Regression model and the Linear Regression one? Does changing the regularization parameter increase or decrease accuracy? What does this tell you about the data?"
   ]
  },
  {
   "cell_type": "markdown",
   "id": "6fa6d097",
   "metadata": {},
   "source": [
    "**Answer:** There isn't much difference between the two models. Regularization is supposed to penalize larger weights such that one feature doesn't take up all the predicting power, so increasing ```alpha``` should reduce the variance, but the accuracy still doesn't seem to be any better than the Linear Regression model. This shows that our data doesn't suffer much from multicollinearity, and therefore a Ridge Regression model probably isn't the best choice."
   ]
  },
  {
   "cell_type": "markdown",
   "id": "f7baf52a",
   "metadata": {},
   "source": [
    "### Support Vector Regression (OPTIONAL)\n",
    "\n",
    "Fit a support vector regression model and report your RMSE.\n",
    "\n",
    "**NOTE:** Support vectors machines (SVMs) often tend to overfit due to the nature of how they \"enforce\" correct classification of data points. This is also an out-of-scope topic, but it serves just to show that fancier models don't always prevail.\n",
    "\n",
    "If you would like to understand more about support vector regression, please read https://towardsdatascience.com/unlocking-the-true-power-of-support-vector-regression-847fd123a4a0."
   ]
  },
  {
   "cell_type": "code",
   "execution_count": 14,
   "id": "c6bf1b13",
   "metadata": {},
   "outputs": [],
   "source": [
    "from sklearn.svm import SVR\n",
    "svr = SVR(C=0.001, kernel='linear')"
   ]
  },
  {
   "cell_type": "code",
   "execution_count": 15,
   "id": "db5cdf10",
   "metadata": {},
   "outputs": [
    {
     "data": {
      "text/plain": [
       "SVR(C=0.001, kernel='linear')"
      ]
     },
     "execution_count": 15,
     "metadata": {},
     "output_type": "execute_result"
    }
   ],
   "source": [
    "svr.fit(X_train[:10000], y_train[:10000])    # Limiting to 10000 samples b/c SVR takes a while"
   ]
  },
  {
   "cell_type": "code",
   "execution_count": 16,
   "id": "b88cb4bb",
   "metadata": {},
   "outputs": [
    {
     "data": {
      "text/plain": [
       "78540.53106286435"
      ]
     },
     "execution_count": 16,
     "metadata": {},
     "output_type": "execute_result"
    }
   ],
   "source": [
    "svr_train_pred = svr.predict(X_train)\n",
    "rmse(y_train, svr_train_pred)"
   ]
  },
  {
   "cell_type": "code",
   "execution_count": 17,
   "id": "053e69f4",
   "metadata": {},
   "outputs": [
    {
     "data": {
      "text/plain": [
       "83998.36471966408"
      ]
     },
     "execution_count": 17,
     "metadata": {},
     "output_type": "execute_result"
    }
   ],
   "source": [
    "svr_val_pred = svr.predict(X_val)\n",
    "rmse(y_val, svr_val_pred)"
   ]
  },
  {
   "cell_type": "markdown",
   "id": "1be1dfcb",
   "metadata": {},
   "source": [
    "### Neural Networks (OPTIONAL)\n",
    "\n",
    "Train a neural network on the data. Report your RMSE.\n",
    "\n",
    "**NOTE**: Neural Networks require a lot of time to train and it is better to use GPU to train them. Kaggle provides free weekly GPU usage(37 hours/week). To use GPU, choose 'GPU' in the Accelerator from Settings located on the right side of your screen."
   ]
  },
  {
   "cell_type": "code",
   "execution_count": 18,
   "id": "acb4091b",
   "metadata": {},
   "outputs": [],
   "source": [
    "# YOUR CODE HERE\n",
    "..."
   ]
  },
  {
   "cell_type": "markdown",
   "id": "a4a66150",
   "metadata": {},
   "source": [
    "### Your Own Model\n",
    "\n",
    "There's tons of regressive models out there to choose from. Some perform better in certain situations than others, and some require specific assumptions about the data to even work. If you would like to try out more models, please read https://towardsdatascience.com/7-of-the-most-commonly-used-regression-algorithms-and-how-to-choose-the-right-one-fc3c8890f9e3."
   ]
  },
  {
   "cell_type": "markdown",
   "id": "2b3adbe4",
   "metadata": {},
   "source": [
    "<span id=\"submission\"></span>\n",
    "\n",
    "## Submission\n",
    "\n",
    "**Question 9:** Choose the model that performed best on the validation data. Use that model to predict against the test data."
   ]
  },
  {
   "cell_type": "code",
   "execution_count": 19,
   "id": "cee82d31",
   "metadata": {},
   "outputs": [
    {
     "data": {
      "text/html": [
       "<div>\n",
       "<style scoped>\n",
       "    .dataframe tbody tr th:only-of-type {\n",
       "        vertical-align: middle;\n",
       "    }\n",
       "\n",
       "    .dataframe tbody tr th {\n",
       "        vertical-align: top;\n",
       "    }\n",
       "\n",
       "    .dataframe thead th {\n",
       "        text-align: right;\n",
       "    }\n",
       "</style>\n",
       "<table border=\"1\" class=\"dataframe\">\n",
       "  <thead>\n",
       "    <tr style=\"text-align: right;\">\n",
       "      <th></th>\n",
       "      <th>yearsofexperience</th>\n",
       "      <th>yearsatcompany</th>\n",
       "      <th>stockgrantvalue</th>\n",
       "      <th>bonus</th>\n",
       "      <th>cityid</th>\n",
       "      <th>Masters_Degree</th>\n",
       "      <th>Bachelors_Degree</th>\n",
       "      <th>Doctorate_Degree</th>\n",
       "      <th>Highschool</th>\n",
       "      <th>Some_College</th>\n",
       "      <th>Race_Asian</th>\n",
       "      <th>Race_White</th>\n",
       "      <th>Race_Two_Or_More</th>\n",
       "      <th>Race_Black</th>\n",
       "      <th>Race_Hispanic</th>\n",
       "    </tr>\n",
       "  </thead>\n",
       "  <tbody>\n",
       "    <tr>\n",
       "      <th>0</th>\n",
       "      <td>4.0</td>\n",
       "      <td>0.0</td>\n",
       "      <td>6000.0</td>\n",
       "      <td>15000.0</td>\n",
       "      <td>6580</td>\n",
       "      <td>0</td>\n",
       "      <td>0</td>\n",
       "      <td>0</td>\n",
       "      <td>0</td>\n",
       "      <td>0</td>\n",
       "      <td>0</td>\n",
       "      <td>0</td>\n",
       "      <td>0</td>\n",
       "      <td>0</td>\n",
       "      <td>0</td>\n",
       "    </tr>\n",
       "    <tr>\n",
       "      <th>1</th>\n",
       "      <td>10.0</td>\n",
       "      <td>1.0</td>\n",
       "      <td>74000.0</td>\n",
       "      <td>16000.0</td>\n",
       "      <td>8198</td>\n",
       "      <td>0</td>\n",
       "      <td>0</td>\n",
       "      <td>0</td>\n",
       "      <td>0</td>\n",
       "      <td>0</td>\n",
       "      <td>0</td>\n",
       "      <td>0</td>\n",
       "      <td>0</td>\n",
       "      <td>0</td>\n",
       "      <td>0</td>\n",
       "    </tr>\n",
       "    <tr>\n",
       "      <th>2</th>\n",
       "      <td>10.0</td>\n",
       "      <td>5.0</td>\n",
       "      <td>40000.0</td>\n",
       "      <td>0.0</td>\n",
       "      <td>1311</td>\n",
       "      <td>0</td>\n",
       "      <td>0</td>\n",
       "      <td>0</td>\n",
       "      <td>0</td>\n",
       "      <td>0</td>\n",
       "      <td>0</td>\n",
       "      <td>0</td>\n",
       "      <td>0</td>\n",
       "      <td>0</td>\n",
       "      <td>0</td>\n",
       "    </tr>\n",
       "    <tr>\n",
       "      <th>3</th>\n",
       "      <td>2.0</td>\n",
       "      <td>2.0</td>\n",
       "      <td>0.0</td>\n",
       "      <td>1000.0</td>\n",
       "      <td>9592</td>\n",
       "      <td>0</td>\n",
       "      <td>1</td>\n",
       "      <td>0</td>\n",
       "      <td>0</td>\n",
       "      <td>0</td>\n",
       "      <td>1</td>\n",
       "      <td>0</td>\n",
       "      <td>0</td>\n",
       "      <td>0</td>\n",
       "      <td>0</td>\n",
       "    </tr>\n",
       "    <tr>\n",
       "      <th>4</th>\n",
       "      <td>5.0</td>\n",
       "      <td>1.0</td>\n",
       "      <td>15000.0</td>\n",
       "      <td>15000.0</td>\n",
       "      <td>7422</td>\n",
       "      <td>1</td>\n",
       "      <td>0</td>\n",
       "      <td>0</td>\n",
       "      <td>0</td>\n",
       "      <td>0</td>\n",
       "      <td>0</td>\n",
       "      <td>0</td>\n",
       "      <td>0</td>\n",
       "      <td>0</td>\n",
       "      <td>0</td>\n",
       "    </tr>\n",
       "    <tr>\n",
       "      <th>...</th>\n",
       "      <td>...</td>\n",
       "      <td>...</td>\n",
       "      <td>...</td>\n",
       "      <td>...</td>\n",
       "      <td>...</td>\n",
       "      <td>...</td>\n",
       "      <td>...</td>\n",
       "      <td>...</td>\n",
       "      <td>...</td>\n",
       "      <td>...</td>\n",
       "      <td>...</td>\n",
       "      <td>...</td>\n",
       "      <td>...</td>\n",
       "      <td>...</td>\n",
       "      <td>...</td>\n",
       "    </tr>\n",
       "    <tr>\n",
       "      <th>12524</th>\n",
       "      <td>8.0</td>\n",
       "      <td>3.0</td>\n",
       "      <td>165000.0</td>\n",
       "      <td>0.0</td>\n",
       "      <td>7472</td>\n",
       "      <td>0</td>\n",
       "      <td>0</td>\n",
       "      <td>0</td>\n",
       "      <td>0</td>\n",
       "      <td>0</td>\n",
       "      <td>0</td>\n",
       "      <td>0</td>\n",
       "      <td>0</td>\n",
       "      <td>0</td>\n",
       "      <td>0</td>\n",
       "    </tr>\n",
       "    <tr>\n",
       "      <th>12525</th>\n",
       "      <td>17.0</td>\n",
       "      <td>10.0</td>\n",
       "      <td>320000.0</td>\n",
       "      <td>0.0</td>\n",
       "      <td>11527</td>\n",
       "      <td>1</td>\n",
       "      <td>0</td>\n",
       "      <td>0</td>\n",
       "      <td>0</td>\n",
       "      <td>0</td>\n",
       "      <td>1</td>\n",
       "      <td>0</td>\n",
       "      <td>0</td>\n",
       "      <td>0</td>\n",
       "      <td>0</td>\n",
       "    </tr>\n",
       "    <tr>\n",
       "      <th>12526</th>\n",
       "      <td>11.0</td>\n",
       "      <td>0.0</td>\n",
       "      <td>30000.0</td>\n",
       "      <td>30000.0</td>\n",
       "      <td>7434</td>\n",
       "      <td>1</td>\n",
       "      <td>0</td>\n",
       "      <td>0</td>\n",
       "      <td>0</td>\n",
       "      <td>0</td>\n",
       "      <td>1</td>\n",
       "      <td>0</td>\n",
       "      <td>0</td>\n",
       "      <td>0</td>\n",
       "      <td>0</td>\n",
       "    </tr>\n",
       "    <tr>\n",
       "      <th>12527</th>\n",
       "      <td>10.0</td>\n",
       "      <td>1.0</td>\n",
       "      <td>75000.0</td>\n",
       "      <td>30000.0</td>\n",
       "      <td>11420</td>\n",
       "      <td>0</td>\n",
       "      <td>1</td>\n",
       "      <td>0</td>\n",
       "      <td>0</td>\n",
       "      <td>0</td>\n",
       "      <td>0</td>\n",
       "      <td>1</td>\n",
       "      <td>0</td>\n",
       "      <td>0</td>\n",
       "      <td>0</td>\n",
       "    </tr>\n",
       "    <tr>\n",
       "      <th>12528</th>\n",
       "      <td>2.0</td>\n",
       "      <td>2.0</td>\n",
       "      <td>51000.0</td>\n",
       "      <td>9000.0</td>\n",
       "      <td>7419</td>\n",
       "      <td>1</td>\n",
       "      <td>0</td>\n",
       "      <td>0</td>\n",
       "      <td>0</td>\n",
       "      <td>0</td>\n",
       "      <td>0</td>\n",
       "      <td>0</td>\n",
       "      <td>0</td>\n",
       "      <td>0</td>\n",
       "      <td>0</td>\n",
       "    </tr>\n",
       "  </tbody>\n",
       "</table>\n",
       "<p>12529 rows × 15 columns</p>\n",
       "</div>"
      ],
      "text/plain": [
       "       yearsofexperience  yearsatcompany  stockgrantvalue    bonus  cityid  \\\n",
       "0                    4.0             0.0           6000.0  15000.0    6580   \n",
       "1                   10.0             1.0          74000.0  16000.0    8198   \n",
       "2                   10.0             5.0          40000.0      0.0    1311   \n",
       "3                    2.0             2.0              0.0   1000.0    9592   \n",
       "4                    5.0             1.0          15000.0  15000.0    7422   \n",
       "...                  ...             ...              ...      ...     ...   \n",
       "12524                8.0             3.0         165000.0      0.0    7472   \n",
       "12525               17.0            10.0         320000.0      0.0   11527   \n",
       "12526               11.0             0.0          30000.0  30000.0    7434   \n",
       "12527               10.0             1.0          75000.0  30000.0   11420   \n",
       "12528                2.0             2.0          51000.0   9000.0    7419   \n",
       "\n",
       "       Masters_Degree  Bachelors_Degree  Doctorate_Degree  Highschool  \\\n",
       "0                   0                 0                 0           0   \n",
       "1                   0                 0                 0           0   \n",
       "2                   0                 0                 0           0   \n",
       "3                   0                 1                 0           0   \n",
       "4                   1                 0                 0           0   \n",
       "...               ...               ...               ...         ...   \n",
       "12524               0                 0                 0           0   \n",
       "12525               1                 0                 0           0   \n",
       "12526               1                 0                 0           0   \n",
       "12527               0                 1                 0           0   \n",
       "12528               1                 0                 0           0   \n",
       "\n",
       "       Some_College  Race_Asian  Race_White  Race_Two_Or_More  Race_Black  \\\n",
       "0                 0           0           0                 0           0   \n",
       "1                 0           0           0                 0           0   \n",
       "2                 0           0           0                 0           0   \n",
       "3                 0           1           0                 0           0   \n",
       "4                 0           0           0                 0           0   \n",
       "...             ...         ...         ...               ...         ...   \n",
       "12524             0           0           0                 0           0   \n",
       "12525             0           1           0                 0           0   \n",
       "12526             0           1           0                 0           0   \n",
       "12527             0           0           1                 0           0   \n",
       "12528             0           0           0                 0           0   \n",
       "\n",
       "       Race_Hispanic  \n",
       "0                  0  \n",
       "1                  0  \n",
       "2                  0  \n",
       "3                  0  \n",
       "4                  0  \n",
       "...              ...  \n",
       "12524              0  \n",
       "12525              0  \n",
       "12526              0  \n",
       "12527              0  \n",
       "12528              0  \n",
       "\n",
       "[12529 rows x 15 columns]"
      ]
     },
     "execution_count": 19,
     "metadata": {},
     "output_type": "execute_result"
    }
   ],
   "source": [
    "X_test = pd.read_csv(\"test.csv\")\n",
    "X_test = X_test.select_dtypes(include=['int', 'float']).drop(train.columns[0], axis=1)\n",
    "X_test"
   ]
  },
  {
   "cell_type": "code",
   "execution_count": 20,
   "id": "6b2f45f9",
   "metadata": {},
   "outputs": [
    {
     "data": {
      "text/plain": [
       "array([110640., 254820., 158020., ..., 229660., 298280., 200640.])"
      ]
     },
     "execution_count": 20,
     "metadata": {},
     "output_type": "execute_result"
    }
   ],
   "source": [
    "y_test_pred = rf.predict(X_test)    # Choose best model to predict using\n",
    "y_test_pred"
   ]
  },
  {
   "cell_type": "markdown",
   "id": "2bcc04b1",
   "metadata": {},
   "source": [
    "Run the below cells to save your predicted test values."
   ]
  },
  {
   "cell_type": "code",
   "execution_count": 23,
   "id": "720a5585",
   "metadata": {},
   "outputs": [],
   "source": [
    "from datetime import datetime\n",
    "\n",
    "def results_to_csv(data, y_test):\n",
    "    y_test = y_test.astype(int)\n",
    "    df = pd.DataFrame({'totalyearlycompensation': y_test})\n",
    "    df.to_csv(data + '_submission_' + datetime.now().strftime(\"%Y_%m_%d-%H_%M_%S\") + '.csv',\n",
    "              index_label='key')"
   ]
  },
  {
   "cell_type": "code",
   "execution_count": 24,
   "id": "d0354c3c",
   "metadata": {},
   "outputs": [],
   "source": [
    "results_to_csv(\"salary\", y_test_pred)"
   ]
  }
 ],
 "metadata": {
  "kernelspec": {
   "display_name": "Python 3",
   "language": "python",
   "name": "python3"
  },
  "language_info": {
   "codemirror_mode": {
    "name": "ipython",
    "version": 3
   },
   "file_extension": ".py",
   "mimetype": "text/x-python",
   "name": "python",
   "nbconvert_exporter": "python",
   "pygments_lexer": "ipython3",
   "version": "3.8.8"
  }
 },
 "nbformat": 4,
 "nbformat_minor": 5
}
