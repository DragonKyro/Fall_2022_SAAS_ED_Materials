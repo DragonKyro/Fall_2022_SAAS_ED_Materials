{
 "cells": [
  {
   "cell_type": "code",
   "execution_count": 1,
   "id": "f663953e-4fe9-4457-bff7-5e9b94c45d5f",
   "metadata": {
    "colab": {
     "base_uri": "https://localhost:8080/"
    },
    "id": "gf951CbOyz2p",
    "outputId": "d2186bfa-79c3-4d82-91a2-98ba9dd09df9"
   },
   "outputs": [],
   "source": [
    "import pandas as pd \n",
    "import numpy as np\n",
    "import matplotlib.pyplot as plt"
   ]
  },
  {
   "cell_type": "markdown",
   "id": "b2344940-a619-432c-b075-8ff5e3f9633b",
   "metadata": {
    "tags": []
   },
   "source": [
    "# CX Kaggle Competition: Salary Prediction\n",
    "\n",
    "### Table of Contents\n",
    "\n",
    "* [1. Data Loading](#loading)\n",
    "* [2. Exploring the Features](#features)\n",
    "* [3. Exploring the ```Salary``` Response](#response)\n",
    "* [4. Relationships between Features and Response](#relations)\n",
    "\n",
    "### Hosted by and maintained by the [Students Association of Applied Statistics (SAAS)](https://saas.berkeley.edu). Authored by Ritvik Iyer and Derek Cai. "
   ]
  },
  {
   "cell_type": "markdown",
   "id": "fe90fe49-e8ce-489d-b898-60b33b2152a8",
   "metadata": {
    "tags": []
   },
   "source": [
    "<span id=\"loading\"></span>\n",
    "\n",
    "## Data Loading \n",
    "\n",
    "**Question 1:** Let's load our training and test sets using Pandas' ```pd.read_csv``` function. Fill in the following two lines with code which loads the ```train.csv``` and ```test.csv``` data sets. "
   ]
  },
  {
   "cell_type": "code",
   "execution_count": 2,
   "id": "b4ee7e13-7690-4382-8ffe-1fdac5137072",
   "metadata": {
    "colab": {
     "base_uri": "https://localhost:8080/",
     "height": 506
    },
    "id": "qvbDCYlby6Jh",
    "outputId": "c45eab0f-a7a1-4cbb-d865-d6860bfdde5b"
   },
   "outputs": [
    {
     "data": {
      "text/html": [
       "<div>\n",
       "<style scoped>\n",
       "    .dataframe tbody tr th:only-of-type {\n",
       "        vertical-align: middle;\n",
       "    }\n",
       "\n",
       "    .dataframe tbody tr th {\n",
       "        vertical-align: top;\n",
       "    }\n",
       "\n",
       "    .dataframe thead th {\n",
       "        text-align: right;\n",
       "    }\n",
       "</style>\n",
       "<table border=\"1\" class=\"dataframe\">\n",
       "  <thead>\n",
       "    <tr style=\"text-align: right;\">\n",
       "      <th></th>\n",
       "      <th>Unnamed: 0</th>\n",
       "      <th>timestamp</th>\n",
       "      <th>company</th>\n",
       "      <th>level</th>\n",
       "      <th>title</th>\n",
       "      <th>totalyearlycompensation</th>\n",
       "      <th>location</th>\n",
       "      <th>yearsofexperience</th>\n",
       "      <th>yearsatcompany</th>\n",
       "      <th>tag</th>\n",
       "      <th>...</th>\n",
       "      <th>Doctorate_Degree</th>\n",
       "      <th>Highschool</th>\n",
       "      <th>Some_College</th>\n",
       "      <th>Race_Asian</th>\n",
       "      <th>Race_White</th>\n",
       "      <th>Race_Two_Or_More</th>\n",
       "      <th>Race_Black</th>\n",
       "      <th>Race_Hispanic</th>\n",
       "      <th>Race</th>\n",
       "      <th>Education</th>\n",
       "    </tr>\n",
       "  </thead>\n",
       "  <tbody>\n",
       "    <tr>\n",
       "      <th>0</th>\n",
       "      <td>0</td>\n",
       "      <td>3/28/2021 15:48:22</td>\n",
       "      <td>Ernst and Young</td>\n",
       "      <td>Senior Consultant</td>\n",
       "      <td>Management Consultant</td>\n",
       "      <td>135000</td>\n",
       "      <td>Atlanta, GA</td>\n",
       "      <td>2.0</td>\n",
       "      <td>0.0</td>\n",
       "      <td>Data &amp; Analytics Consulting</td>\n",
       "      <td>...</td>\n",
       "      <td>0</td>\n",
       "      <td>0</td>\n",
       "      <td>0</td>\n",
       "      <td>0</td>\n",
       "      <td>0</td>\n",
       "      <td>0</td>\n",
       "      <td>0</td>\n",
       "      <td>1</td>\n",
       "      <td>Hispanic</td>\n",
       "      <td>Master's Degree</td>\n",
       "    </tr>\n",
       "    <tr>\n",
       "      <th>1</th>\n",
       "      <td>1</td>\n",
       "      <td>4/3/2021 18:41:29</td>\n",
       "      <td>Deloitte</td>\n",
       "      <td>Senior Manager</td>\n",
       "      <td>Management Consultant</td>\n",
       "      <td>216000</td>\n",
       "      <td>Baltimore, MD</td>\n",
       "      <td>15.0</td>\n",
       "      <td>4.0</td>\n",
       "      <td>General</td>\n",
       "      <td>...</td>\n",
       "      <td>0</td>\n",
       "      <td>0</td>\n",
       "      <td>0</td>\n",
       "      <td>0</td>\n",
       "      <td>0</td>\n",
       "      <td>0</td>\n",
       "      <td>0</td>\n",
       "      <td>0</td>\n",
       "      <td>NaN</td>\n",
       "      <td>NaN</td>\n",
       "    </tr>\n",
       "    <tr>\n",
       "      <th>2</th>\n",
       "      <td>2</td>\n",
       "      <td>2/2/2021 13:05:18</td>\n",
       "      <td>Amazon</td>\n",
       "      <td>L4</td>\n",
       "      <td>Software Engineer</td>\n",
       "      <td>192000</td>\n",
       "      <td>New York, NY</td>\n",
       "      <td>2.0</td>\n",
       "      <td>0.0</td>\n",
       "      <td>API Development (Back-End)</td>\n",
       "      <td>...</td>\n",
       "      <td>0</td>\n",
       "      <td>0</td>\n",
       "      <td>0</td>\n",
       "      <td>0</td>\n",
       "      <td>1</td>\n",
       "      <td>0</td>\n",
       "      <td>0</td>\n",
       "      <td>0</td>\n",
       "      <td>White</td>\n",
       "      <td>Bachelor's Degree</td>\n",
       "    </tr>\n",
       "    <tr>\n",
       "      <th>3</th>\n",
       "      <td>3</td>\n",
       "      <td>7/19/2021 1:37:17</td>\n",
       "      <td>Oracle</td>\n",
       "      <td>IC-2</td>\n",
       "      <td>Software Engineer</td>\n",
       "      <td>235000</td>\n",
       "      <td>Redwood City, CA</td>\n",
       "      <td>1.0</td>\n",
       "      <td>1.0</td>\n",
       "      <td>Distributed Systems (Back-End)</td>\n",
       "      <td>...</td>\n",
       "      <td>0</td>\n",
       "      <td>0</td>\n",
       "      <td>0</td>\n",
       "      <td>1</td>\n",
       "      <td>0</td>\n",
       "      <td>0</td>\n",
       "      <td>0</td>\n",
       "      <td>0</td>\n",
       "      <td>Asian</td>\n",
       "      <td>Master's Degree</td>\n",
       "    </tr>\n",
       "    <tr>\n",
       "      <th>4</th>\n",
       "      <td>4</td>\n",
       "      <td>3/29/2021 21:27:36</td>\n",
       "      <td>Wayfair</td>\n",
       "      <td>L3</td>\n",
       "      <td>Software Engineer</td>\n",
       "      <td>177000</td>\n",
       "      <td>Boston, MA</td>\n",
       "      <td>9.0</td>\n",
       "      <td>0.0</td>\n",
       "      <td>API Development (Back-End)</td>\n",
       "      <td>...</td>\n",
       "      <td>0</td>\n",
       "      <td>0</td>\n",
       "      <td>0</td>\n",
       "      <td>1</td>\n",
       "      <td>0</td>\n",
       "      <td>0</td>\n",
       "      <td>0</td>\n",
       "      <td>0</td>\n",
       "      <td>Asian</td>\n",
       "      <td>Bachelor's Degree</td>\n",
       "    </tr>\n",
       "  </tbody>\n",
       "</table>\n",
       "<p>5 rows × 27 columns</p>\n",
       "</div>"
      ],
      "text/plain": [
       "   Unnamed: 0           timestamp          company              level  \\\n",
       "0           0  3/28/2021 15:48:22  Ernst and Young  Senior Consultant   \n",
       "1           1   4/3/2021 18:41:29         Deloitte     Senior Manager   \n",
       "2           2   2/2/2021 13:05:18           Amazon                 L4   \n",
       "3           3   7/19/2021 1:37:17           Oracle               IC-2   \n",
       "4           4  3/29/2021 21:27:36          Wayfair                 L3   \n",
       "\n",
       "                   title  totalyearlycompensation          location  \\\n",
       "0  Management Consultant                   135000       Atlanta, GA   \n",
       "1  Management Consultant                   216000     Baltimore, MD   \n",
       "2      Software Engineer                   192000      New York, NY   \n",
       "3      Software Engineer                   235000  Redwood City, CA   \n",
       "4      Software Engineer                   177000        Boston, MA   \n",
       "\n",
       "   yearsofexperience  yearsatcompany                             tag  ...  \\\n",
       "0                2.0             0.0     Data & Analytics Consulting  ...   \n",
       "1               15.0             4.0                         General  ...   \n",
       "2                2.0             0.0      API Development (Back-End)  ...   \n",
       "3                1.0             1.0  Distributed Systems (Back-End)  ...   \n",
       "4                9.0             0.0      API Development (Back-End)  ...   \n",
       "\n",
       "   Doctorate_Degree  Highschool Some_College Race_Asian  Race_White  \\\n",
       "0                 0           0            0          0           0   \n",
       "1                 0           0            0          0           0   \n",
       "2                 0           0            0          0           1   \n",
       "3                 0           0            0          1           0   \n",
       "4                 0           0            0          1           0   \n",
       "\n",
       "   Race_Two_Or_More  Race_Black  Race_Hispanic      Race          Education  \n",
       "0                 0           0              1  Hispanic    Master's Degree  \n",
       "1                 0           0              0       NaN                NaN  \n",
       "2                 0           0              0     White  Bachelor's Degree  \n",
       "3                 0           0              0     Asian    Master's Degree  \n",
       "4                 0           0              0     Asian  Bachelor's Degree  \n",
       "\n",
       "[5 rows x 27 columns]"
      ]
     },
     "metadata": {},
     "output_type": "display_data"
    },
    {
     "name": "stdout",
     "output_type": "stream",
     "text": [
      "The columns in the data frame are: ['timestamp', 'company', 'level', 'title', 'totalyearlycompensation', 'location', 'yearsofexperience', 'yearsatcompany', 'tag', 'stockgrantvalue', 'bonus', 'gender', 'otherdetails', 'cityid', 'Masters_Degree', 'Bachelors_Degree', 'Doctorate_Degree', 'Highschool', 'Some_College', 'Race_Asian', 'Race_White', 'Race_Two_Or_More', 'Race_Black', 'Race_Hispanic', 'Race', 'Education']\n"
     ]
    }
   ],
   "source": [
    "train = pd.read_csv('train.csv')\n",
    "test = pd.read_csv('test.csv')\n",
    "display(train.head())\n",
    "print(f'The columns in the data frame are: {list(train.columns)[1:]}')"
   ]
  },
  {
   "cell_type": "markdown",
   "id": "49f8dda0-21e0-4ea7-9a27-3beb6e766c32",
   "metadata": {},
   "source": [
    "**Question 2:** Now, we want to create a combined data set for the first step in our EDA process. Use Pandas' ```pd.concat``` function to append the rows of the training and test data sets together. "
   ]
  },
  {
   "cell_type": "code",
   "execution_count": 3,
   "id": "44cb98eb-5f42-4874-a149-850af3571ec0",
   "metadata": {},
   "outputs": [
    {
     "data": {
      "text/html": [
       "<div>\n",
       "<style scoped>\n",
       "    .dataframe tbody tr th:only-of-type {\n",
       "        vertical-align: middle;\n",
       "    }\n",
       "\n",
       "    .dataframe tbody tr th {\n",
       "        vertical-align: top;\n",
       "    }\n",
       "\n",
       "    .dataframe thead th {\n",
       "        text-align: right;\n",
       "    }\n",
       "</style>\n",
       "<table border=\"1\" class=\"dataframe\">\n",
       "  <thead>\n",
       "    <tr style=\"text-align: right;\">\n",
       "      <th></th>\n",
       "      <th>Unnamed: 0</th>\n",
       "      <th>timestamp</th>\n",
       "      <th>company</th>\n",
       "      <th>level</th>\n",
       "      <th>title</th>\n",
       "      <th>totalyearlycompensation</th>\n",
       "      <th>location</th>\n",
       "      <th>yearsofexperience</th>\n",
       "      <th>yearsatcompany</th>\n",
       "      <th>tag</th>\n",
       "      <th>...</th>\n",
       "      <th>Doctorate_Degree</th>\n",
       "      <th>Highschool</th>\n",
       "      <th>Some_College</th>\n",
       "      <th>Race_Asian</th>\n",
       "      <th>Race_White</th>\n",
       "      <th>Race_Two_Or_More</th>\n",
       "      <th>Race_Black</th>\n",
       "      <th>Race_Hispanic</th>\n",
       "      <th>Race</th>\n",
       "      <th>Education</th>\n",
       "    </tr>\n",
       "  </thead>\n",
       "  <tbody>\n",
       "    <tr>\n",
       "      <th>0</th>\n",
       "      <td>0</td>\n",
       "      <td>3/28/2021 15:48:22</td>\n",
       "      <td>Ernst and Young</td>\n",
       "      <td>Senior Consultant</td>\n",
       "      <td>Management Consultant</td>\n",
       "      <td>135000.0</td>\n",
       "      <td>Atlanta, GA</td>\n",
       "      <td>2.0</td>\n",
       "      <td>0.0</td>\n",
       "      <td>Data &amp; Analytics Consulting</td>\n",
       "      <td>...</td>\n",
       "      <td>0</td>\n",
       "      <td>0</td>\n",
       "      <td>0</td>\n",
       "      <td>0</td>\n",
       "      <td>0</td>\n",
       "      <td>0</td>\n",
       "      <td>0</td>\n",
       "      <td>1</td>\n",
       "      <td>Hispanic</td>\n",
       "      <td>Master's Degree</td>\n",
       "    </tr>\n",
       "    <tr>\n",
       "      <th>1</th>\n",
       "      <td>1</td>\n",
       "      <td>4/3/2021 18:41:29</td>\n",
       "      <td>Deloitte</td>\n",
       "      <td>Senior Manager</td>\n",
       "      <td>Management Consultant</td>\n",
       "      <td>216000.0</td>\n",
       "      <td>Baltimore, MD</td>\n",
       "      <td>15.0</td>\n",
       "      <td>4.0</td>\n",
       "      <td>General</td>\n",
       "      <td>...</td>\n",
       "      <td>0</td>\n",
       "      <td>0</td>\n",
       "      <td>0</td>\n",
       "      <td>0</td>\n",
       "      <td>0</td>\n",
       "      <td>0</td>\n",
       "      <td>0</td>\n",
       "      <td>0</td>\n",
       "      <td>NaN</td>\n",
       "      <td>NaN</td>\n",
       "    </tr>\n",
       "    <tr>\n",
       "      <th>2</th>\n",
       "      <td>2</td>\n",
       "      <td>2/2/2021 13:05:18</td>\n",
       "      <td>Amazon</td>\n",
       "      <td>L4</td>\n",
       "      <td>Software Engineer</td>\n",
       "      <td>192000.0</td>\n",
       "      <td>New York, NY</td>\n",
       "      <td>2.0</td>\n",
       "      <td>0.0</td>\n",
       "      <td>API Development (Back-End)</td>\n",
       "      <td>...</td>\n",
       "      <td>0</td>\n",
       "      <td>0</td>\n",
       "      <td>0</td>\n",
       "      <td>0</td>\n",
       "      <td>1</td>\n",
       "      <td>0</td>\n",
       "      <td>0</td>\n",
       "      <td>0</td>\n",
       "      <td>White</td>\n",
       "      <td>Bachelor's Degree</td>\n",
       "    </tr>\n",
       "    <tr>\n",
       "      <th>3</th>\n",
       "      <td>3</td>\n",
       "      <td>7/19/2021 1:37:17</td>\n",
       "      <td>Oracle</td>\n",
       "      <td>IC-2</td>\n",
       "      <td>Software Engineer</td>\n",
       "      <td>235000.0</td>\n",
       "      <td>Redwood City, CA</td>\n",
       "      <td>1.0</td>\n",
       "      <td>1.0</td>\n",
       "      <td>Distributed Systems (Back-End)</td>\n",
       "      <td>...</td>\n",
       "      <td>0</td>\n",
       "      <td>0</td>\n",
       "      <td>0</td>\n",
       "      <td>1</td>\n",
       "      <td>0</td>\n",
       "      <td>0</td>\n",
       "      <td>0</td>\n",
       "      <td>0</td>\n",
       "      <td>Asian</td>\n",
       "      <td>Master's Degree</td>\n",
       "    </tr>\n",
       "    <tr>\n",
       "      <th>4</th>\n",
       "      <td>4</td>\n",
       "      <td>3/29/2021 21:27:36</td>\n",
       "      <td>Wayfair</td>\n",
       "      <td>L3</td>\n",
       "      <td>Software Engineer</td>\n",
       "      <td>177000.0</td>\n",
       "      <td>Boston, MA</td>\n",
       "      <td>9.0</td>\n",
       "      <td>0.0</td>\n",
       "      <td>API Development (Back-End)</td>\n",
       "      <td>...</td>\n",
       "      <td>0</td>\n",
       "      <td>0</td>\n",
       "      <td>0</td>\n",
       "      <td>1</td>\n",
       "      <td>0</td>\n",
       "      <td>0</td>\n",
       "      <td>0</td>\n",
       "      <td>0</td>\n",
       "      <td>Asian</td>\n",
       "      <td>Bachelor's Degree</td>\n",
       "    </tr>\n",
       "  </tbody>\n",
       "</table>\n",
       "<p>5 rows × 27 columns</p>\n",
       "</div>"
      ],
      "text/plain": [
       "   Unnamed: 0           timestamp          company              level  \\\n",
       "0           0  3/28/2021 15:48:22  Ernst and Young  Senior Consultant   \n",
       "1           1   4/3/2021 18:41:29         Deloitte     Senior Manager   \n",
       "2           2   2/2/2021 13:05:18           Amazon                 L4   \n",
       "3           3   7/19/2021 1:37:17           Oracle               IC-2   \n",
       "4           4  3/29/2021 21:27:36          Wayfair                 L3   \n",
       "\n",
       "                   title  totalyearlycompensation          location  \\\n",
       "0  Management Consultant                 135000.0       Atlanta, GA   \n",
       "1  Management Consultant                 216000.0     Baltimore, MD   \n",
       "2      Software Engineer                 192000.0      New York, NY   \n",
       "3      Software Engineer                 235000.0  Redwood City, CA   \n",
       "4      Software Engineer                 177000.0        Boston, MA   \n",
       "\n",
       "   yearsofexperience  yearsatcompany                             tag  ...  \\\n",
       "0                2.0             0.0     Data & Analytics Consulting  ...   \n",
       "1               15.0             4.0                         General  ...   \n",
       "2                2.0             0.0      API Development (Back-End)  ...   \n",
       "3                1.0             1.0  Distributed Systems (Back-End)  ...   \n",
       "4                9.0             0.0      API Development (Back-End)  ...   \n",
       "\n",
       "   Doctorate_Degree  Highschool Some_College Race_Asian  Race_White  \\\n",
       "0                 0           0            0          0           0   \n",
       "1                 0           0            0          0           0   \n",
       "2                 0           0            0          0           1   \n",
       "3                 0           0            0          1           0   \n",
       "4                 0           0            0          1           0   \n",
       "\n",
       "   Race_Two_Or_More  Race_Black  Race_Hispanic      Race          Education  \n",
       "0                 0           0              1  Hispanic    Master's Degree  \n",
       "1                 0           0              0       NaN                NaN  \n",
       "2                 0           0              0     White  Bachelor's Degree  \n",
       "3                 0           0              0     Asian    Master's Degree  \n",
       "4                 0           0              0     Asian  Bachelor's Degree  \n",
       "\n",
       "[5 rows x 27 columns]"
      ]
     },
     "execution_count": 3,
     "metadata": {},
     "output_type": "execute_result"
    }
   ],
   "source": [
    "combined = pd.concat([train, test], axis=0)\n",
    "combined.head()"
   ]
  },
  {
   "cell_type": "markdown",
   "id": "0a6d2a76-99b8-432e-b4a3-c724bb91a487",
   "metadata": {},
   "source": [
    "<span id=\"features\"></span>\n",
    "\n",
    "## Exploring the Features\n",
    "\n",
    "**Question 3:** Use the ```combined``` dataframe to visualize the distributions of two quantitative features of your choice. \n",
    "\n",
    "*Hint: What is a good visualization chart for a quantitative variable?*"
   ]
  },
  {
   "cell_type": "code",
   "execution_count": 4,
   "id": "9fe6ffae-c0c4-4978-be2d-3773f0c8eb03",
   "metadata": {},
   "outputs": [
    {
     "data": {
      "image/png": "[encoded data removed]",
      "text/plain": [
       "<Figure size 576x432 with 1 Axes>"
      ]
     },
     "metadata": {
      "needs_background": "light"
     },
     "output_type": "display_data"
    }
   ],
   "source": [
    "# Generate visualization #1 \n",
    "\n",
    "plt.figure(figsize=(8, 6))\n",
    "plt.hist(combined['yearsofexperience'], bins=30);"
   ]
  },
  {
   "cell_type": "markdown",
   "id": "bcc6c367-5e50-47d1-b78a-f5d1bd624650",
   "metadata": {},
   "source": [
    "**Interpretation:** This is a right-tailed distribution, where most workers have years of experience between 0 and 10. "
   ]
  },
  {
   "cell_type": "code",
   "execution_count": 5,
   "id": "ce5c1ac3-79c1-4966-b21b-35bf1777e625",
   "metadata": {},
   "outputs": [
    {
     "data": {
      "image/png": "[encoded data removed]",
      "text/plain": [
       "<Figure size 576x432 with 1 Axes>"
      ]
     },
     "metadata": {
      "needs_background": "light"
     },
     "output_type": "display_data"
    }
   ],
   "source": [
    "# Generate visualization #2 \n",
    "\n",
    "plt.figure(figsize=(8, 6))\n",
    "plt.hist(combined['stockgrantvalue'], bins=10);"
   ]
  },
  {
   "cell_type": "markdown",
   "id": "d8b27f1f-85fc-4975-a940-44d2bf168ef3",
   "metadata": {},
   "source": [
    "**Interpretation:** Another right-tailed distribution here, which makes sense because most companies do not provide stock-based compensation. "
   ]
  },
  {
   "cell_type": "markdown",
   "id": "0e03c3bb-7f20-4cd1-82d4-7c77023199cd",
   "metadata": {},
   "source": [
    "**Question 4:** Use the Pandas' function ```df.describe()``` to generate summary statistics for the features available in the combined data set. "
   ]
  },
  {
   "cell_type": "code",
   "execution_count": 6,
   "id": "6c91a9ab-ca7d-4dbe-a44c-e036ddcd91f2",
   "metadata": {},
   "outputs": [
    {
     "data": {
      "text/html": [
       "<div>\n",
       "<style scoped>\n",
       "    .dataframe tbody tr th:only-of-type {\n",
       "        vertical-align: middle;\n",
       "    }\n",
       "\n",
       "    .dataframe tbody tr th {\n",
       "        vertical-align: top;\n",
       "    }\n",
       "\n",
       "    .dataframe thead th {\n",
       "        text-align: right;\n",
       "    }\n",
       "</style>\n",
       "<table border=\"1\" class=\"dataframe\">\n",
       "  <thead>\n",
       "    <tr style=\"text-align: right;\">\n",
       "      <th></th>\n",
       "      <th>Unnamed: 0</th>\n",
       "      <th>totalyearlycompensation</th>\n",
       "      <th>yearsofexperience</th>\n",
       "      <th>yearsatcompany</th>\n",
       "      <th>stockgrantvalue</th>\n",
       "      <th>bonus</th>\n",
       "      <th>cityid</th>\n",
       "      <th>Masters_Degree</th>\n",
       "      <th>Bachelors_Degree</th>\n",
       "      <th>Doctorate_Degree</th>\n",
       "      <th>Highschool</th>\n",
       "      <th>Some_College</th>\n",
       "      <th>Race_Asian</th>\n",
       "      <th>Race_White</th>\n",
       "      <th>Race_Two_Or_More</th>\n",
       "      <th>Race_Black</th>\n",
       "      <th>Race_Hispanic</th>\n",
       "    </tr>\n",
       "  </thead>\n",
       "  <tbody>\n",
       "    <tr>\n",
       "      <th>count</th>\n",
       "      <td>62642.000000</td>\n",
       "      <td>5.011300e+04</td>\n",
       "      <td>62642.000000</td>\n",
       "      <td>62642.000000</td>\n",
       "      <td>6.264200e+04</td>\n",
       "      <td>62642.000000</td>\n",
       "      <td>62642.000000</td>\n",
       "      <td>62642.000000</td>\n",
       "      <td>62642.000000</td>\n",
       "      <td>62642.000000</td>\n",
       "      <td>62642.000000</td>\n",
       "      <td>62642.000000</td>\n",
       "      <td>62642.000000</td>\n",
       "      <td>62642.000000</td>\n",
       "      <td>62642.000000</td>\n",
       "      <td>62642.000000</td>\n",
       "      <td>62642.000000</td>\n",
       "    </tr>\n",
       "    <tr>\n",
       "      <th>mean</th>\n",
       "      <td>21297.420006</td>\n",
       "      <td>2.161279e+05</td>\n",
       "      <td>7.204135</td>\n",
       "      <td>2.702093</td>\n",
       "      <td>5.148608e+04</td>\n",
       "      <td>19334.746588</td>\n",
       "      <td>9856.201989</td>\n",
       "      <td>0.245698</td>\n",
       "      <td>0.201223</td>\n",
       "      <td>0.028783</td>\n",
       "      <td>0.005108</td>\n",
       "      <td>0.005667</td>\n",
       "      <td>0.187925</td>\n",
       "      <td>0.128221</td>\n",
       "      <td>0.012835</td>\n",
       "      <td>0.011015</td>\n",
       "      <td>0.018039</td>\n",
       "    </tr>\n",
       "    <tr>\n",
       "      <th>std</th>\n",
       "      <td>15051.350908</td>\n",
       "      <td>1.393194e+05</td>\n",
       "      <td>5.840375</td>\n",
       "      <td>3.263656</td>\n",
       "      <td>8.187457e+04</td>\n",
       "      <td>26781.292040</td>\n",
       "      <td>6679.104563</td>\n",
       "      <td>0.430504</td>\n",
       "      <td>0.400917</td>\n",
       "      <td>0.167196</td>\n",
       "      <td>0.071291</td>\n",
       "      <td>0.075067</td>\n",
       "      <td>0.390655</td>\n",
       "      <td>0.334338</td>\n",
       "      <td>0.112562</td>\n",
       "      <td>0.104373</td>\n",
       "      <td>0.133094</td>\n",
       "    </tr>\n",
       "    <tr>\n",
       "      <th>min</th>\n",
       "      <td>0.000000</td>\n",
       "      <td>1.000000e+04</td>\n",
       "      <td>0.000000</td>\n",
       "      <td>0.000000</td>\n",
       "      <td>0.000000e+00</td>\n",
       "      <td>0.000000</td>\n",
       "      <td>0.000000</td>\n",
       "      <td>0.000000</td>\n",
       "      <td>0.000000</td>\n",
       "      <td>0.000000</td>\n",
       "      <td>0.000000</td>\n",
       "      <td>0.000000</td>\n",
       "      <td>0.000000</td>\n",
       "      <td>0.000000</td>\n",
       "      <td>0.000000</td>\n",
       "      <td>0.000000</td>\n",
       "      <td>0.000000</td>\n",
       "    </tr>\n",
       "    <tr>\n",
       "      <th>25%</th>\n",
       "      <td>7830.000000</td>\n",
       "      <td>1.350000e+05</td>\n",
       "      <td>3.000000</td>\n",
       "      <td>0.000000</td>\n",
       "      <td>0.000000e+00</td>\n",
       "      <td>1000.000000</td>\n",
       "      <td>7369.000000</td>\n",
       "      <td>0.000000</td>\n",
       "      <td>0.000000</td>\n",
       "      <td>0.000000</td>\n",
       "      <td>0.000000</td>\n",
       "      <td>0.000000</td>\n",
       "      <td>0.000000</td>\n",
       "      <td>0.000000</td>\n",
       "      <td>0.000000</td>\n",
       "      <td>0.000000</td>\n",
       "      <td>0.000000</td>\n",
       "    </tr>\n",
       "    <tr>\n",
       "      <th>50%</th>\n",
       "      <td>18791.500000</td>\n",
       "      <td>1.880000e+05</td>\n",
       "      <td>6.000000</td>\n",
       "      <td>2.000000</td>\n",
       "      <td>2.500000e+04</td>\n",
       "      <td>14000.000000</td>\n",
       "      <td>7839.000000</td>\n",
       "      <td>0.000000</td>\n",
       "      <td>0.000000</td>\n",
       "      <td>0.000000</td>\n",
       "      <td>0.000000</td>\n",
       "      <td>0.000000</td>\n",
       "      <td>0.000000</td>\n",
       "      <td>0.000000</td>\n",
       "      <td>0.000000</td>\n",
       "      <td>0.000000</td>\n",
       "      <td>0.000000</td>\n",
       "    </tr>\n",
       "    <tr>\n",
       "      <th>75%</th>\n",
       "      <td>34451.750000</td>\n",
       "      <td>2.620000e+05</td>\n",
       "      <td>10.000000</td>\n",
       "      <td>4.000000</td>\n",
       "      <td>6.500000e+04</td>\n",
       "      <td>26000.000000</td>\n",
       "      <td>11521.000000</td>\n",
       "      <td>0.000000</td>\n",
       "      <td>0.000000</td>\n",
       "      <td>0.000000</td>\n",
       "      <td>0.000000</td>\n",
       "      <td>0.000000</td>\n",
       "      <td>0.000000</td>\n",
       "      <td>0.000000</td>\n",
       "      <td>0.000000</td>\n",
       "      <td>0.000000</td>\n",
       "      <td>0.000000</td>\n",
       "    </tr>\n",
       "    <tr>\n",
       "      <th>max</th>\n",
       "      <td>50112.000000</td>\n",
       "      <td>4.980000e+06</td>\n",
       "      <td>69.000000</td>\n",
       "      <td>69.000000</td>\n",
       "      <td>2.800000e+06</td>\n",
       "      <td>1000000.000000</td>\n",
       "      <td>47926.000000</td>\n",
       "      <td>1.000000</td>\n",
       "      <td>1.000000</td>\n",
       "      <td>1.000000</td>\n",
       "      <td>1.000000</td>\n",
       "      <td>1.000000</td>\n",
       "      <td>1.000000</td>\n",
       "      <td>1.000000</td>\n",
       "      <td>1.000000</td>\n",
       "      <td>1.000000</td>\n",
       "      <td>1.000000</td>\n",
       "    </tr>\n",
       "  </tbody>\n",
       "</table>\n",
       "</div>"
      ],
      "text/plain": [
       "         Unnamed: 0  totalyearlycompensation  yearsofexperience  \\\n",
       "count  62642.000000             5.011300e+04       62642.000000   \n",
       "mean   21297.420006             2.161279e+05           7.204135   \n",
       "std    15051.350908             1.393194e+05           5.840375   \n",
       "min        0.000000             1.000000e+04           0.000000   \n",
       "25%     7830.000000             1.350000e+05           3.000000   \n",
       "50%    18791.500000             1.880000e+05           6.000000   \n",
       "75%    34451.750000             2.620000e+05          10.000000   \n",
       "max    50112.000000             4.980000e+06          69.000000   \n",
       "\n",
       "       yearsatcompany  stockgrantvalue           bonus        cityid  \\\n",
       "count    62642.000000     6.264200e+04    62642.000000  62642.000000   \n",
       "mean         2.702093     5.148608e+04    19334.746588   9856.201989   \n",
       "std          3.263656     8.187457e+04    26781.292040   6679.104563   \n",
       "min          0.000000     0.000000e+00        0.000000      0.000000   \n",
       "25%          0.000000     0.000000e+00     1000.000000   7369.000000   \n",
       "50%          2.000000     2.500000e+04    14000.000000   7839.000000   \n",
       "75%          4.000000     6.500000e+04    26000.000000  11521.000000   \n",
       "max         69.000000     2.800000e+06  1000000.000000  47926.000000   \n",
       "\n",
       "       Masters_Degree  Bachelors_Degree  Doctorate_Degree    Highschool  \\\n",
       "count    62642.000000      62642.000000      62642.000000  62642.000000   \n",
       "mean         0.245698          0.201223          0.028783      0.005108   \n",
       "std          0.430504          0.400917          0.167196      0.071291   \n",
       "min          0.000000          0.000000          0.000000      0.000000   \n",
       "25%          0.000000          0.000000          0.000000      0.000000   \n",
       "50%          0.000000          0.000000          0.000000      0.000000   \n",
       "75%          0.000000          0.000000          0.000000      0.000000   \n",
       "max          1.000000          1.000000          1.000000      1.000000   \n",
       "\n",
       "       Some_College    Race_Asian    Race_White  Race_Two_Or_More  \\\n",
       "count  62642.000000  62642.000000  62642.000000      62642.000000   \n",
       "mean       0.005667      0.187925      0.128221          0.012835   \n",
       "std        0.075067      0.390655      0.334338          0.112562   \n",
       "min        0.000000      0.000000      0.000000          0.000000   \n",
       "25%        0.000000      0.000000      0.000000          0.000000   \n",
       "50%        0.000000      0.000000      0.000000          0.000000   \n",
       "75%        0.000000      0.000000      0.000000          0.000000   \n",
       "max        1.000000      1.000000      1.000000          1.000000   \n",
       "\n",
       "         Race_Black  Race_Hispanic  \n",
       "count  62642.000000   62642.000000  \n",
       "mean       0.011015       0.018039  \n",
       "std        0.104373       0.133094  \n",
       "min        0.000000       0.000000  \n",
       "25%        0.000000       0.000000  \n",
       "50%        0.000000       0.000000  \n",
       "75%        0.000000       0.000000  \n",
       "max        1.000000       1.000000  "
      ]
     },
     "execution_count": 6,
     "metadata": {},
     "output_type": "execute_result"
    }
   ],
   "source": [
    "combined.describe()"
   ]
  },
  {
   "cell_type": "markdown",
   "id": "da00ee2c-4dfc-4cf3-a9bc-6b6bba370f9a",
   "metadata": {},
   "source": [
    "**Interpretation:** The most common race is 'Asian', with 18.8% of the workers falling into that category. It looks like the workers have generally high education levels. "
   ]
  },
  {
   "cell_type": "markdown",
   "id": "983093d5-34b8-40b4-9da5-d48f81fd2875",
   "metadata": {},
   "source": [
    "**Question 5:** How correlated are the ```yearsatcompany``` and ```stockgrantvalue``` features in the ```combined``` data set? Interpret this correlation in words. \n",
    "\n",
    "*Hint: Use ```np.corrcoef(...)``` to calculate the value of $r$, the correlation coefficient.*"
   ]
  },
  {
   "cell_type": "code",
   "execution_count": 7,
   "id": "4b7ace13-31cb-4c99-ba59-670c007ea47f",
   "metadata": {},
   "outputs": [
    {
     "name": "stdout",
     "output_type": "stream",
     "text": [
      "The value of the correlation coefficient was: 0.08949233055576707\n"
     ]
    }
   ],
   "source": [
    "r = np.corrcoef(combined['yearsatcompany'], combined['stockgrantvalue'])\n",
    "print(f'The value of the correlation coefficient was: {r[0, 1]}')"
   ]
  },
  {
   "cell_type": "markdown",
   "id": "3b87d92a-e30f-42eb-9c74-a1cc799fd4cf",
   "metadata": {},
   "source": [
    "**Answer:** There is a weak, positive correlation between the number of years at a company and the stock grant value provided. They don't seem to be linearly related by much. "
   ]
  },
  {
   "cell_type": "markdown",
   "id": "e76be368-ed17-4399-8069-0fc5809e440d",
   "metadata": {},
   "source": [
    "**Question 6:** Use the ```combined``` dataframe to visualize the counts of two categorical features of your choice. \n",
    "\n",
    "\n",
    "*Hint: What is a good visualization chart for a categorical variable?*"
   ]
  },
  {
   "cell_type": "code",
   "execution_count": 8,
   "id": "b2da10f2-61c1-4f23-a33f-d26bcf899bd6",
   "metadata": {},
   "outputs": [
    {
     "data": {
      "text/html": [
       "<div>\n",
       "<style scoped>\n",
       "    .dataframe tbody tr th:only-of-type {\n",
       "        vertical-align: middle;\n",
       "    }\n",
       "\n",
       "    .dataframe tbody tr th {\n",
       "        vertical-align: top;\n",
       "    }\n",
       "\n",
       "    .dataframe thead th {\n",
       "        text-align: right;\n",
       "    }\n",
       "</style>\n",
       "<table border=\"1\" class=\"dataframe\">\n",
       "  <thead>\n",
       "    <tr style=\"text-align: right;\">\n",
       "      <th></th>\n",
       "      <th>index</th>\n",
       "      <th>Education</th>\n",
       "    </tr>\n",
       "  </thead>\n",
       "  <tbody>\n",
       "    <tr>\n",
       "      <th>0</th>\n",
       "      <td>Master's Degree</td>\n",
       "      <td>15391</td>\n",
       "    </tr>\n",
       "    <tr>\n",
       "      <th>1</th>\n",
       "      <td>Bachelor's Degree</td>\n",
       "      <td>12601</td>\n",
       "    </tr>\n",
       "    <tr>\n",
       "      <th>2</th>\n",
       "      <td>PhD</td>\n",
       "      <td>1703</td>\n",
       "    </tr>\n",
       "    <tr>\n",
       "      <th>3</th>\n",
       "      <td>Some College</td>\n",
       "      <td>355</td>\n",
       "    </tr>\n",
       "    <tr>\n",
       "      <th>4</th>\n",
       "      <td>Highschool</td>\n",
       "      <td>320</td>\n",
       "    </tr>\n",
       "  </tbody>\n",
       "</table>\n",
       "</div>"
      ],
      "text/plain": [
       "               index  Education\n",
       "0    Master's Degree      15391\n",
       "1  Bachelor's Degree      12601\n",
       "2                PhD       1703\n",
       "3       Some College        355\n",
       "4         Highschool        320"
      ]
     },
     "execution_count": 8,
     "metadata": {},
     "output_type": "execute_result"
    }
   ],
   "source": [
    "combined['Education'].value_counts().reset_index()"
   ]
  },
  {
   "cell_type": "code",
   "execution_count": 9,
   "id": "2f5838a1-b7bd-4e61-a419-f0d559f6cb30",
   "metadata": {},
   "outputs": [
    {
     "data": {
      "image/png": "[encoded data removed]",
      "text/plain": [
       "<Figure size 432x288 with 1 Axes>"
      ]
     },
     "metadata": {
      "needs_background": "light"
     },
     "output_type": "display_data"
    }
   ],
   "source": [
    "# Generate visualization #1 \n",
    "\n",
    "education_counts = combined['Education'].value_counts().reset_index()\n",
    "plt.barh(education_counts['index'], education_counts['Education']);"
   ]
  },
  {
   "cell_type": "markdown",
   "id": "bbc3db8f-6ee9-4751-9017-5a4967595d2d",
   "metadata": {
    "tags": []
   },
   "source": [
    "**Interpretation:** Most common education level (which we have data for) is a Master's degree. "
   ]
  },
  {
   "cell_type": "code",
   "execution_count": 10,
   "id": "538ed36e-7a4f-4449-b03e-293630248051",
   "metadata": {},
   "outputs": [
    {
     "data": {
      "image/png": "[encoded data removed]",
      "text/plain": [
       "<Figure size 432x288 with 1 Axes>"
      ]
     },
     "metadata": {
      "needs_background": "light"
     },
     "output_type": "display_data"
    }
   ],
   "source": [
    "# Generate visualization #2\n",
    "\n",
    "location_counts = combined['location'].value_counts().reset_index().sort_values('location', ascending=False).iloc[0:10]\n",
    "plt.barh(location_counts['index'], location_counts['location']);"
   ]
  },
  {
   "cell_type": "markdown",
   "id": "9fd22c11-2988-418c-87ea-fd33bde637a8",
   "metadata": {},
   "source": [
    "**Interpretation:** Looks like this is a data set highly biased towards technology companies, seeing as the cities are mostly tech hubs. "
   ]
  },
  {
   "cell_type": "markdown",
   "id": "614b62b9-7a76-4dca-b7f8-13d84557f854",
   "metadata": {},
   "source": [
    "<span id=\"response\"></span>\n",
    "\n",
    "## Exploring the Salary Response\n",
    "\n",
    "Now, we will restrict our EDA to the training set in order to investigate trends in the response variable. \n",
    "\n",
    "**Question 7:** Create a histogram displaying the distribution of salaries in the training set. "
   ]
  },
  {
   "cell_type": "code",
   "execution_count": 11,
   "id": "eb7ca2da-644e-4d51-a95e-030c20da690f",
   "metadata": {},
   "outputs": [
    {
     "data": {
      "image/png": "[encoded data removed]",
      "text/plain": [
       "<Figure size 720x432 with 1 Axes>"
      ]
     },
     "metadata": {
      "needs_background": "light"
     },
     "output_type": "display_data"
    }
   ],
   "source": [
    "# Generate a histogram of salaries here \n",
    "\n",
    "plt.figure(figsize=(10, 6))\n",
    "plt.xlim(0, 1.5e6)\n",
    "plt.hist(train['totalyearlycompensation'], bins=30, density=True);"
   ]
  },
  {
   "cell_type": "markdown",
   "id": "3b9ddfb4-cf6c-4c7d-8759-24dacfb66185",
   "metadata": {},
   "source": [
    "**Question 8:** In the training set, we are provided the ```timestamp``` feature, which gives us a rough idea of when each entry was recorded in the data set. Let's extract the year from each timestamp and create a new column in the training set with this information. Fill in the line of code below, where you will need to use ```pd.DatetimeIndex``` on the ```timestamp``` column to extract the year. "
   ]
  },
  {
   "cell_type": "code",
   "execution_count": 12,
   "id": "9e14e8d6-2548-4f14-bbad-d6176d9fc32d",
   "metadata": {},
   "outputs": [],
   "source": [
    "train['year'] = pd.DatetimeIndex(train['timestamp']).year"
   ]
  },
  {
   "cell_type": "markdown",
   "id": "c586cf45-96ca-41ca-81ae-5711d64c03e0",
   "metadata": {},
   "source": [
    "**Question 9:** Create a scatter plot to display the relationship between ```year``` and ```totalyearlycompensation```. "
   ]
  },
  {
   "cell_type": "code",
   "execution_count": 13,
   "id": "22143e0e-d2e0-40b8-bc58-9ce7c99a0373",
   "metadata": {},
   "outputs": [
    {
     "data": {
      "image/png": "[encoded data removed]",
      "text/plain": [
       "<Figure size 432x288 with 1 Axes>"
      ]
     },
     "metadata": {
      "needs_background": "light"
     },
     "output_type": "display_data"
    }
   ],
   "source": [
    "# Generate a scatterplot of salary vs. year here \n",
    "\n",
    "plt.scatter(train['year'], train['totalyearlycompensation']);"
   ]
  },
  {
   "cell_type": "markdown",
   "id": "4a847cda-1e5d-41bb-840a-2825f6e156df",
   "metadata": {},
   "source": [
    "<span id=\"relations\"></span>\n",
    "\n",
    "## Relationships between Features and Response\n",
    "\n",
    "In the following questions, we'll look at the relationships between some features and the response variable. \n",
    "\n",
    "**Question 10:** Create a horizontal bar plot of the top 10 average salaries by ```company```. \n",
    "\n",
    "*Hint: You'll need to group the data frame first, then extract the relevant columns.*"
   ]
  },
  {
   "cell_type": "code",
   "execution_count": 14,
   "id": "2db3bda5-b9b2-414c-9f5e-c54336cf0a6b",
   "metadata": {},
   "outputs": [
    {
     "data": {
      "image/png": "[encoded data removed]",
      "text/plain": [
       "<Figure size 432x288 with 1 Axes>"
      ]
     },
     "metadata": {
      "needs_background": "light"
     },
     "output_type": "display_data"
    }
   ],
   "source": [
    "top_position_salary = train.groupby('company').agg(np.mean)[['totalyearlycompensation']].reset_index().sort_values('totalyearlycompensation', ascending=False).iloc[0:10, :]\n",
    "plt.barh(top_position_salary['company'], top_position_salary['totalyearlycompensation']); "
   ]
  },
  {
   "cell_type": "markdown",
   "id": "49d3175e-bfb2-4458-945c-d5c53f6ec1ce",
   "metadata": {},
   "source": [
    "**Question 11:** Create a horizontal bar plot of the 10 lowest average salaries by ```location```. \n",
    "\n",
    "*Hint: You can take a similar approach to Q10, but you will need to sort the data frame in the opposite way.*"
   ]
  },
  {
   "cell_type": "code",
   "execution_count": 15,
   "id": "79e8dfd3-3c1d-4bb8-bace-1e984807757c",
   "metadata": {},
   "outputs": [
    {
     "data": {
      "image/png": "[encoded data removed]",
      "text/plain": [
       "<Figure size 432x288 with 1 Axes>"
      ]
     },
     "metadata": {
      "needs_background": "light"
     },
     "output_type": "display_data"
    }
   ],
   "source": [
    "bot_location_salary = train.groupby('location').agg(np.mean)[['totalyearlycompensation']].reset_index().sort_values('totalyearlycompensation').iloc[0:10, :]\n",
    "plt.barh(bot_location_salary['location'], bot_location_salary['totalyearlycompensation']); "
   ]
  },
  {
   "cell_type": "markdown",
   "id": "ee2d3dfa-a9ed-4477-a0e7-7816c6f379a9",
   "metadata": {},
   "source": [
    "**Question 12:** Create a horizontal bar plot of the average salary by ```Education``` level. "
   ]
  },
  {
   "cell_type": "code",
   "execution_count": 16,
   "id": "1f42d999-3310-4f3b-b9d2-eb8364d66e35",
   "metadata": {},
   "outputs": [
    {
     "data": {
      "image/png": "[encoded data removed]",
      "text/plain": [
       "<Figure size 432x288 with 1 Axes>"
      ]
     },
     "metadata": {
      "needs_background": "light"
     },
     "output_type": "display_data"
    }
   ],
   "source": [
    "education_salary = train.groupby('Education').agg(np.mean)[['totalyearlycompensation']].reset_index().sort_values('totalyearlycompensation')\n",
    "plt.barh(education_salary['Education'], education_salary['totalyearlycompensation']); "
   ]
  },
  {
   "cell_type": "markdown",
   "id": "50f39f68-ef93-49e5-a292-a74bbc9c4d3d",
   "metadata": {},
   "source": [
    "Now, let's explore the relationships between quantitative features and the response variable. \n",
    "\n",
    "**Question 13:** Create a scatter plot to show the relationship between ```yearsofexperience``` and the average ```totalyearlycompensation``` by year. Overlay the line of best fit onto the scatter plot. \n",
    "\n",
    "*Hint: You'll need to group the data frame first before plotting. To overlay the line of best fit, use ```np.polyfit``` with the appropriate inputs.*"
   ]
  },
  {
   "cell_type": "code",
   "execution_count": 17,
   "id": "59a590fa-3ace-48e3-b5ad-6a1120a7f126",
   "metadata": {},
   "outputs": [
    {
     "data": {
      "image/png": "[encoded data removed]",
      "text/plain": [
       "<Figure size 432x288 with 1 Axes>"
      ]
     },
     "metadata": {
      "needs_background": "light"
     },
     "output_type": "display_data"
    }
   ],
   "source": [
    "yoe_salary = train[['yearsofexperience', 'totalyearlycompensation']]\n",
    "yoe_salary_means = yoe_salary.groupby('yearsofexperience').mean().reset_index()\n",
    "m, b = np.polyfit(yoe_salary_means['yearsofexperience'], yoe_salary_means['totalyearlycompensation'], 1) \n",
    "plt.scatter(yoe_salary_means['yearsofexperience'], yoe_salary_means['totalyearlycompensation'])\n",
    "plt.plot(yoe_salary_means['yearsofexperience'], m * yoe_salary_means['yearsofexperience'] + b);"
   ]
  },
  {
   "cell_type": "markdown",
   "id": "34680f8b-c1c4-4e8c-ac72-6addc1c15675",
   "metadata": {},
   "source": [
    "**Question 14:** Whew! We've done a lot of plotting and interpretation. Based on what you've seen so far, which features do you think are promising in terms of predicting yearly compensation? "
   ]
  },
  {
   "cell_type": "markdown",
   "id": "56010792-a7c5-468f-b3c6-6ead81695c14",
   "metadata": {},
   "source": [
    "**Answer:** This is a subjective question and there are multiple right answers!"
   ]
  }
 ],
 "metadata": {
  "kernelspec": {
   "display_name": "Python 3 (ipykernel)",
   "language": "python",
   "name": "python3"
  },
  "language_info": {
   "codemirror_mode": {
    "name": "ipython",
    "version": 3
   },
   "file_extension": ".py",
   "mimetype": "text/x-python",
   "name": "python",
   "nbconvert_exporter": "python",
   "pygments_lexer": "ipython3",
   "version": "3.9.7"
  }
 },
 "nbformat": 4,
 "nbformat_minor": 5
}
