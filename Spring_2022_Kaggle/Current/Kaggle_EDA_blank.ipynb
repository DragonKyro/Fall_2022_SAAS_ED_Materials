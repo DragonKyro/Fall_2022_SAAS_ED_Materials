{
 "cells": [
  {
   "cell_type": "code",
   "execution_count": null,
   "metadata": {
    "colab": {
     "base_uri": "https://localhost:8080/"
    },
    "id": "gf951CbOyz2p",
    "outputId": "d2186bfa-79c3-4d82-91a2-98ba9dd09df9"
   },
   "outputs": [],
   "source": [
    "import pandas as pd \n",
    "import numpy as np\n",
    "import matplotlib.pyplot as plt"
   ]
  },
  {
   "cell_type": "markdown",
   "metadata": {
    "tags": []
   },
   "source": [
    "# CX Kaggle Competition: Salary Prediction\n",
    "\n",
    "### Table of Contents\n",
    "\n",
    "* [1. Data Loading](#loading)\n",
    "* [2. Exploring the Features](#features)\n",
    "* [3. Exploring the ```Salary``` Response](#response)\n",
    "* [4. Relationships between Features and Response](#relations)\n",
    "\n",
    "### Hosted by and maintained by the [Students Association of Applied Statistics (SAAS)](https://saas.berkeley.edu). Authored by Ritvik Iyer and Derek Cai. "
   ]
  },
  {
   "cell_type": "markdown",
   "metadata": {
    "tags": []
   },
   "source": [
    "<span id=\"loading\"></span>\n",
    "\n",
    "## Data Loading \n",
    "\n",
    "**Question 1:** Let's load our training and test sets using Pandas' ```pd.read_csv``` function. Fill in the following two lines with code which loads the ```train.csv``` and ```test.csv``` data sets. "
   ]
  },
  {
   "cell_type": "code",
   "execution_count": null,
   "metadata": {
    "colab": {
     "base_uri": "https://localhost:8080/",
     "height": 506
    },
    "id": "qvbDCYlby6Jh",
    "outputId": "c45eab0f-a7a1-4cbb-d865-d6860bfdde5b"
   },
   "outputs": [],
   "source": [
    "train = pd.read_csv(...)\n",
    "test = pd.read_csv(...)\n",
    "display(train.head())\n",
    "print(f'The columns in the data frame are: {list(train.columns)[1:]}')"
   ]
  },
  {
   "cell_type": "markdown",
   "metadata": {},
   "source": [
    "**Question 2:** Now, we want to create a combined data set for the first step in our EDA process. Use Pandas' ```pd.concat``` function to append the rows of the training and test data sets together. "
   ]
  },
  {
   "cell_type": "code",
   "execution_count": null,
   "metadata": {},
   "outputs": [],
   "source": [
    "combined = pd.concat(..., axis=...)\n",
    "combined.head()"
   ]
  },
  {
   "cell_type": "markdown",
   "metadata": {},
   "source": [
    "<span id=\"features\"></span>\n",
    "\n",
    "## Exploring the Features\n",
    "\n",
    "**Question 3:** Use the ```combined``` dataframe to visualize the distributions of two quantitative features of your choice. \n",
    "\n",
    "*Hint: What is a good visualization chart for a quantitative variable?*"
   ]
  },
  {
   "cell_type": "code",
   "execution_count": null,
   "metadata": {},
   "outputs": [],
   "source": [
    "# Generate visualization #1 \n",
    "\n"
   ]
  },
  {
   "cell_type": "markdown",
   "metadata": {},
   "source": [
    "**Interpretation:** [TODO: Insert a couple sentences of what you observed from this plot.]"
   ]
  },
  {
   "cell_type": "code",
   "execution_count": null,
   "metadata": {},
   "outputs": [],
   "source": [
    "# Generate visualization #2 \n",
    "\n"
   ]
  },
  {
   "cell_type": "markdown",
   "metadata": {},
   "source": [
    "**Interpretation:** [TODO: Insert a couple sentences of what you observed from this plot.]"
   ]
  },
  {
   "cell_type": "markdown",
   "metadata": {},
   "source": [
    "**Question 4:** Use the Pandas' function ```df.describe()``` to generate summary statistics for the features available in the combined data set. "
   ]
  },
  {
   "cell_type": "code",
   "execution_count": null,
   "metadata": {},
   "outputs": [],
   "source": []
  },
  {
   "cell_type": "markdown",
   "metadata": {},
   "source": [
    "**Interpretation:** [TODO: Insert a couple sentences about some interesting findings from the output table.]"
   ]
  },
  {
   "cell_type": "markdown",
   "metadata": {},
   "source": []
  },
  {
   "cell_type": "markdown",
   "metadata": {},
   "source": [
    "**Question 5:** How correlated are the ```yearsatcompany``` and ```stockgrantvalue``` features in the ```combined``` data set? Interpret this correlation in words. \n",
    "\n",
    "*Hint: Use ```np.corrcoef(...)``` to calculate the value of $r$, the correlation coefficient.*"
   ]
  },
  {
   "cell_type": "code",
   "execution_count": null,
   "metadata": {},
   "outputs": [],
   "source": [
    "r = ... \n",
    "print(f'The value of the correlation coefficient was: {r[0, 1]}')"
   ]
  },
  {
   "cell_type": "markdown",
   "metadata": {},
   "source": [
    "**Answer:** [TODO, insert explanation here]"
   ]
  },
  {
   "cell_type": "markdown",
   "metadata": {},
   "source": [
    "**Question 6:** Use the ```combined``` dataframe to visualize the counts of two categorical features of your choice. \n",
    "\n",
    "\n",
    "*Hint: What is a good visualization chart for a categorical variable?*"
   ]
  },
  {
   "cell_type": "code",
   "execution_count": null,
   "metadata": {},
   "outputs": [],
   "source": [
    "# Generate visualization #1 \n",
    "\n"
   ]
  },
  {
   "cell_type": "markdown",
   "metadata": {
    "tags": []
   },
   "source": [
    "**Interpretation:** [TODO: Insert a couple sentences of what you observed from this plot.]"
   ]
  },
  {
   "cell_type": "code",
   "execution_count": null,
   "metadata": {},
   "outputs": [],
   "source": [
    "# Generate visualization #2\n",
    "\n"
   ]
  },
  {
   "cell_type": "markdown",
   "metadata": {},
   "source": [
    "**Interpretation:** [TODO: Insert a couple sentences of what you observed from this plot.]"
   ]
  },
  {
   "cell_type": "markdown",
   "metadata": {},
   "source": [
    "<span id=\"response\"></span>\n",
    "\n",
    "## Exploring the Salary Response\n",
    "\n",
    "Now, we will restrict our EDA to the training set in order to investigate trends in the response variable. \n",
    "\n",
    "**Question 7:** Create a histogram displaying the distribution of salaries in the training set. "
   ]
  },
  {
   "cell_type": "code",
   "execution_count": null,
   "metadata": {},
   "outputs": [],
   "source": [
    "# Generate a histogram of salaries here \n",
    "\n"
   ]
  },
  {
   "cell_type": "markdown",
   "metadata": {},
   "source": [
    "**Question 8:** In the training set, we are provided the ```timestamp``` feature, which gives us a rough idea of when each entry was recorded in the data set. Let's extract the year from each timestamp and create a new column in the training set with this information. Fill in the line of code below, where you will need to use ```pd.DatetimeIndex``` on the ```timestamp``` column to extract the year. "
   ]
  },
  {
   "cell_type": "code",
   "execution_count": null,
   "metadata": {},
   "outputs": [],
   "source": [
    "train['year'] = ..."
   ]
  },
  {
   "cell_type": "markdown",
   "metadata": {},
   "source": [
    "**Question 9:** Create a scatter plot to display the relationship between ```year``` and ```totalyearlycompensation```. "
   ]
  },
  {
   "cell_type": "code",
   "execution_count": null,
   "metadata": {},
   "outputs": [],
   "source": [
    "# Generate a scatterplot of salary vs. year here \n",
    "\n"
   ]
  },
  {
   "cell_type": "markdown",
   "metadata": {},
   "source": [
    "<span id=\"relations\"></span>\n",
    "\n",
    "## Relationships between Features and Response\n",
    "\n",
    "In the following questions, we'll look at the relationships between some features and the response variable. \n",
    "\n",
    "**Question 10:** Create a horizontal bar plot of the top 10 average salaries by ```company```. \n",
    "\n",
    "*Hint: You'll need to group the data frame first, then extract the relevant columns.*"
   ]
  },
  {
   "cell_type": "code",
   "execution_count": null,
   "metadata": {},
   "outputs": [],
   "source": [
    "top_position_salary = ...\n",
    "plt.barh(..., ...); "
   ]
  },
  {
   "cell_type": "markdown",
   "metadata": {},
   "source": [
    "**Question 11:** Create a horizontal bar plot of the 10 lowest average salaries by ```location```. \n",
    "\n",
    "*Hint: You can take a similar approach to Q10, but you will need to sort the data frame in the opposite way.*"
   ]
  },
  {
   "cell_type": "code",
   "execution_count": null,
   "metadata": {},
   "outputs": [],
   "source": [
    "bot_location_salary = ...\n",
    "plt.barh(..., ...); "
   ]
  },
  {
   "cell_type": "markdown",
   "metadata": {},
   "source": [
    "**Question 12:** Create a horizontal bar plot of the average salary by ```Education``` level. "
   ]
  },
  {
   "cell_type": "code",
   "execution_count": null,
   "metadata": {},
   "outputs": [],
   "source": [
    "education_salary = ...\n",
    "plt.barh(..., ...); "
   ]
  },
  {
   "cell_type": "markdown",
   "metadata": {},
   "source": [
    "Now, let's explore the relationships between quantitative features and the response variable. \n",
    "\n",
    "**Question 13:** Create a scatter plot to show the relationship between ```yearsofexperience``` and the average ```totalyearlycompensation``` by year. Overlay the line of best fit onto the scatter plot. \n",
    "\n",
    "*Hint: You'll need to group the data frame first before plotting. To overlay the line of best fit, use ```np.polyfit``` with the appropriate inputs.*"
   ]
  },
  {
   "cell_type": "code",
   "execution_count": null,
   "metadata": {},
   "outputs": [],
   "source": [
    "yoe_salary = train[['yearsofexperience', 'totalyearlycompensation']]\n",
    "yoe_salary_means = ...\n",
    "m, b = np.polyfit(..., ..., 1) \n",
    "plt.scatter(..., ...) # Use this line to plot the actual data \n",
    "plt.plot(..., ...) # Use this line to plot the line of best fit "
   ]
  },
  {
   "cell_type": "markdown",
   "metadata": {},
   "source": [
    "**Question 14:** Whew! We've done a lot of plotting and interpretation. Based on what you've seen so far, which features do you think are promising in terms of predicting yearly compensation? "
   ]
  },
  {
   "cell_type": "markdown",
   "metadata": {},
   "source": [
    "**Answer:** [TODO, write your answer here]"
   ]
  }
 ],
 "metadata": {
  "colab": {
   "name": "Kaggle EDA Demo.ipynb",
   "provenance": []
  },
  "kernelspec": {
   "display_name": "Python 3",
   "language": "python",
   "name": "python3"
  },
  "language_info": {
   "codemirror_mode": {
    "name": "ipython",
    "version": 3
   },
   "file_extension": ".py",
   "mimetype": "text/x-python",
   "name": "python",
   "nbconvert_exporter": "python",
   "pygments_lexer": "ipython3",
   "version": "3.8.8"
  }
 },
 "nbformat": 4,
 "nbformat_minor": 4
}
