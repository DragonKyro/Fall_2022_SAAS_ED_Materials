{
 "cells": [
  {
   "cell_type": "markdown",
   "id": "d7a3ab5f",
   "metadata": {},
   "source": [
    "# Homework 7"
   ]
  },
  {
   "cell_type": "code",
   "execution_count": 1,
   "id": "07045c63",
   "metadata": {},
   "outputs": [],
   "source": [
    "import matplotlib.pyplot as plt\n",
    "from mpl_toolkits import mplot3d\n",
    "import ipympl\n",
    "%matplotlib inline\n",
    "\n",
    "import random\n",
    "import numpy as np\n",
    "import pandas as pd\n",
    "from sklearn import metrics\n",
    "from sklearn.model_selection import train_test_split\n",
    "from sklearn.preprocessing import PolynomialFeatures\n",
    "from sklearn.linear_model import LinearRegression\n",
    "from sklearn.metrics import mean_squared_error\n",
    "from imageio import imread, imsave"
   ]
  },
  {
   "cell_type": "markdown",
   "id": "77fd82ff",
   "metadata": {},
   "source": [
    "In our homework, you will again be using the iris data set to create a linear model based on Sepal Length vs the Sepal Width. We will start by creating the scatter plot of the Sepal Length and Sepal Width. First, make training and testing data using iris dataset."
   ]
  },
  {
   "cell_type": "code",
   "execution_count": 17,
   "id": "a5010520",
   "metadata": {},
   "outputs": [
    {
     "data": {
      "text/html": [
       "<div>\n",
       "<style scoped>\n",
       "    .dataframe tbody tr th:only-of-type {\n",
       "        vertical-align: middle;\n",
       "    }\n",
       "\n",
       "    .dataframe tbody tr th {\n",
       "        vertical-align: top;\n",
       "    }\n",
       "\n",
       "    .dataframe thead th {\n",
       "        text-align: right;\n",
       "    }\n",
       "</style>\n",
       "<table border=\"1\" class=\"dataframe\">\n",
       "  <thead>\n",
       "    <tr style=\"text-align: right;\">\n",
       "      <th></th>\n",
       "      <th>Id</th>\n",
       "      <th>SepalLengthCm</th>\n",
       "      <th>SepalWidthCm</th>\n",
       "      <th>PetalLengthCm</th>\n",
       "      <th>PetalWidthCm</th>\n",
       "      <th>Species</th>\n",
       "    </tr>\n",
       "  </thead>\n",
       "  <tbody>\n",
       "    <tr>\n",
       "      <th>137</th>\n",
       "      <td>138</td>\n",
       "      <td>6.4</td>\n",
       "      <td>3.1</td>\n",
       "      <td>5.5</td>\n",
       "      <td>1.8</td>\n",
       "      <td>Iris-virginica</td>\n",
       "    </tr>\n",
       "    <tr>\n",
       "      <th>84</th>\n",
       "      <td>85</td>\n",
       "      <td>5.4</td>\n",
       "      <td>3.0</td>\n",
       "      <td>4.5</td>\n",
       "      <td>1.5</td>\n",
       "      <td>Iris-versicolor</td>\n",
       "    </tr>\n",
       "    <tr>\n",
       "      <th>27</th>\n",
       "      <td>28</td>\n",
       "      <td>5.2</td>\n",
       "      <td>3.5</td>\n",
       "      <td>1.5</td>\n",
       "      <td>0.2</td>\n",
       "      <td>Iris-setosa</td>\n",
       "    </tr>\n",
       "    <tr>\n",
       "      <th>127</th>\n",
       "      <td>128</td>\n",
       "      <td>6.1</td>\n",
       "      <td>3.0</td>\n",
       "      <td>4.9</td>\n",
       "      <td>1.8</td>\n",
       "      <td>Iris-virginica</td>\n",
       "    </tr>\n",
       "    <tr>\n",
       "      <th>132</th>\n",
       "      <td>133</td>\n",
       "      <td>6.4</td>\n",
       "      <td>2.8</td>\n",
       "      <td>5.6</td>\n",
       "      <td>2.2</td>\n",
       "      <td>Iris-virginica</td>\n",
       "    </tr>\n",
       "  </tbody>\n",
       "</table>\n",
       "</div>"
      ],
      "text/plain": [
       "      Id  SepalLengthCm  SepalWidthCm  PetalLengthCm  PetalWidthCm  \\\n",
       "137  138            6.4           3.1            5.5           1.8   \n",
       "84    85            5.4           3.0            4.5           1.5   \n",
       "27    28            5.2           3.5            1.5           0.2   \n",
       "127  128            6.1           3.0            4.9           1.8   \n",
       "132  133            6.4           2.8            5.6           2.2   \n",
       "\n",
       "             Species  \n",
       "137   Iris-virginica  \n",
       "84   Iris-versicolor  \n",
       "27       Iris-setosa  \n",
       "127   Iris-virginica  \n",
       "132   Iris-virginica  "
      ]
     },
     "execution_count": 17,
     "metadata": {},
     "output_type": "execute_result"
    }
   ],
   "source": [
    "iris = pd.read_csv(\"Iris.csv\") \n",
    "\n",
    "iris_train, iris_test = ...\n",
    "\n",
    "iris_train.head()"
   ]
  },
  {
   "cell_type": "markdown",
   "id": "8e6f1cc1",
   "metadata": {},
   "source": [
    "Now we will create a model of the SepalengthCm vs SepalWidthCm based on the training data. Make sure to create test data as well."
   ]
  },
  {
   "cell_type": "code",
   "execution_count": 18,
   "id": "d753a3d0",
   "metadata": {},
   "outputs": [
    {
     "name": "stderr",
     "output_type": "stream",
     "text": [
      "/opt/conda/lib/python3.9/site-packages/sklearn/utils/validation.py:727: FutureWarning: np.matrix usage is deprecated in 1.0 and will raise a TypeError in 1.2. Please convert to a numpy array with np.asarray. For more information see: https://numpy.org/doc/stable/reference/generated/numpy.matrix.html\n",
      "  warnings.warn(\n"
     ]
    },
    {
     "data": {
      "text/html": [
       "<style>#sk-container-id-4 {color: black;background-color: white;}#sk-container-id-4 pre{padding: 0;}#sk-container-id-4 div.sk-toggleable {background-color: white;}#sk-container-id-4 label.sk-toggleable__label {cursor: pointer;display: block;width: 100%;margin-bottom: 0;padding: 0.3em;box-sizing: border-box;text-align: center;}#sk-container-id-4 label.sk-toggleable__label-arrow:before {content: \"▸\";float: left;margin-right: 0.25em;color: #696969;}#sk-container-id-4 label.sk-toggleable__label-arrow:hover:before {color: black;}#sk-container-id-4 div.sk-estimator:hover label.sk-toggleable__label-arrow:before {color: black;}#sk-container-id-4 div.sk-toggleable__content {max-height: 0;max-width: 0;overflow: hidden;text-align: left;background-color: #f0f8ff;}#sk-container-id-4 div.sk-toggleable__content pre {margin: 0.2em;color: black;border-radius: 0.25em;background-color: #f0f8ff;}#sk-container-id-4 input.sk-toggleable__control:checked~div.sk-toggleable__content {max-height: 200px;max-width: 100%;overflow: auto;}#sk-container-id-4 input.sk-toggleable__control:checked~label.sk-toggleable__label-arrow:before {content: \"▾\";}#sk-container-id-4 div.sk-estimator input.sk-toggleable__control:checked~label.sk-toggleable__label {background-color: #d4ebff;}#sk-container-id-4 div.sk-label input.sk-toggleable__control:checked~label.sk-toggleable__label {background-color: #d4ebff;}#sk-container-id-4 input.sk-hidden--visually {border: 0;clip: rect(1px 1px 1px 1px);clip: rect(1px, 1px, 1px, 1px);height: 1px;margin: -1px;overflow: hidden;padding: 0;position: absolute;width: 1px;}#sk-container-id-4 div.sk-estimator {font-family: monospace;background-color: #f0f8ff;border: 1px dotted black;border-radius: 0.25em;box-sizing: border-box;margin-bottom: 0.5em;}#sk-container-id-4 div.sk-estimator:hover {background-color: #d4ebff;}#sk-container-id-4 div.sk-parallel-item::after {content: \"\";width: 100%;border-bottom: 1px solid gray;flex-grow: 1;}#sk-container-id-4 div.sk-label:hover label.sk-toggleable__label {background-color: #d4ebff;}#sk-container-id-4 div.sk-serial::before {content: \"\";position: absolute;border-left: 1px solid gray;box-sizing: border-box;top: 0;bottom: 0;left: 50%;z-index: 0;}#sk-container-id-4 div.sk-serial {display: flex;flex-direction: column;align-items: center;background-color: white;padding-right: 0.2em;padding-left: 0.2em;position: relative;}#sk-container-id-4 div.sk-item {position: relative;z-index: 1;}#sk-container-id-4 div.sk-parallel {display: flex;align-items: stretch;justify-content: center;background-color: white;position: relative;}#sk-container-id-4 div.sk-item::before, #sk-container-id-4 div.sk-parallel-item::before {content: \"\";position: absolute;border-left: 1px solid gray;box-sizing: border-box;top: 0;bottom: 0;left: 50%;z-index: -1;}#sk-container-id-4 div.sk-parallel-item {display: flex;flex-direction: column;z-index: 1;position: relative;background-color: white;}#sk-container-id-4 div.sk-parallel-item:first-child::after {align-self: flex-end;width: 50%;}#sk-container-id-4 div.sk-parallel-item:last-child::after {align-self: flex-start;width: 50%;}#sk-container-id-4 div.sk-parallel-item:only-child::after {width: 0;}#sk-container-id-4 div.sk-dashed-wrapped {border: 1px dashed gray;margin: 0 0.4em 0.5em 0.4em;box-sizing: border-box;padding-bottom: 0.4em;background-color: white;}#sk-container-id-4 div.sk-label label {font-family: monospace;font-weight: bold;display: inline-block;line-height: 1.2em;}#sk-container-id-4 div.sk-label-container {text-align: center;}#sk-container-id-4 div.sk-container {/* jupyter's `normalize.less` sets `[hidden] { display: none; }` but bootstrap.min.css set `[hidden] { display: none !important; }` so we also need the `!important` here to be able to override the default hidden behavior on the sphinx rendered scikit-learn.org. See: https://github.com/scikit-learn/scikit-learn/issues/21755 */display: inline-block !important;position: relative;}#sk-container-id-4 div.sk-text-repr-fallback {display: none;}</style><div id=\"sk-container-id-4\" class=\"sk-top-container\"><div class=\"sk-text-repr-fallback\"><pre>LinearRegression()</pre><b>In a Jupyter environment, please rerun this cell to show the HTML representation or trust the notebook. <br />On GitHub, the HTML representation is unable to render, please try loading this page with nbviewer.org.</b></div><div class=\"sk-container\" hidden><div class=\"sk-item\"><div class=\"sk-estimator sk-toggleable\"><input class=\"sk-toggleable__control sk-hidden--visually\" id=\"sk-estimator-id-4\" type=\"checkbox\" checked><label for=\"sk-estimator-id-4\" class=\"sk-toggleable__label sk-toggleable__label-arrow\">LinearRegression</label><div class=\"sk-toggleable__content\"><pre>LinearRegression()</pre></div></div></div></div></div>"
      ],
      "text/plain": [
       "LinearRegression()"
      ]
     },
     "execution_count": 18,
     "metadata": {},
     "output_type": "execute_result"
    }
   ],
   "source": [
    "X_train = ...\n",
    "y_train = ...\n",
    "\n",
    "\n",
    "X_test = ...\n",
    "\n",
    "\n",
    "linear_model = LinearRegression()\n",
    "linear_model.fit(X_train, y_train)"
   ]
  },
  {
   "cell_type": "markdown",
   "id": "4e4f4e9e",
   "metadata": {},
   "source": [
    "Using the function given below, create a scatterplot of the Sepal Length vs Petal Length."
   ]
  },
  {
   "cell_type": "code",
   "execution_count": 2,
   "id": "066fc6b6",
   "metadata": {},
   "outputs": [],
   "source": [
    "def overlay_simple_linear_model(data, x_name, y_name, linear_model):\n",
    "    \"\"\"\n",
    "    This function plots a simple linear model on top of the scatterplot of the data it was fit to.\n",
    "    \n",
    "    data(DataFrame): e.g. mpg_train\n",
    "    x_name(string): the name of the column representing the predictor variable\n",
    "    y_name(string): the name of the column representing the dependent/response variable\n",
    "    linear_model\n",
    "    \n",
    "    returns None but outputs linear model overlaid on scatterplot\n",
    "    \"\"\"\n",
    "    \n",
    "    x = np.arange(max(data[x_name])).reshape(-1, 1) # a 2D array of integers between 0 and the maximum value of the x_name column\n",
    "    y = linear_model.predict(x)\n",
    "    \n",
    "    \n",
    "    data.plot.scatter(x_name,y_name) # scatter plot of x_name vs. y_name\n",
    "    \n",
    "    plt.plot(x,y)\n",
    "    plt.title(\"Linear Model vs. Data: \" + x_name + \" vs. \" + y_name)\n",
    "    plt.show()"
   ]
  },
  {
   "cell_type": "code",
   "execution_count": 3,
   "id": "330e71ec",
   "metadata": {},
   "outputs": [
    {
     "ename": "TypeError",
     "evalue": "overlay_simple_linear_model() missing 3 required positional arguments: 'x_name', 'y_name', and 'linear_model'",
     "output_type": "error",
     "traceback": [
      "\u001b[0;31m---------------------------------------------------------------------------\u001b[0m",
      "\u001b[0;31mTypeError\u001b[0m                                 Traceback (most recent call last)",
      "Cell \u001b[0;32mIn [3], line 1\u001b[0m\n\u001b[0;32m----> 1\u001b[0m overlay_simple_linear_model(\u001b[38;5;241m.\u001b[39m\u001b[38;5;241m.\u001b[39m\u001b[38;5;241m.\u001b[39m)\n",
      "\u001b[0;31mTypeError\u001b[0m: overlay_simple_linear_model() missing 3 required positional arguments: 'x_name', 'y_name', and 'linear_model'"
     ]
    }
   ],
   "source": [
    "overlay_simple_linear_model(...)"
   ]
  },
  {
   "cell_type": "markdown",
   "id": "ee0a5f12",
   "metadata": {},
   "source": [
    "Now let's use the mpg data again. Create the training and test data. With the X variable this time being weight and the y variable being mpg."
   ]
  },
  {
   "cell_type": "code",
   "execution_count": 47,
   "id": "028ca754",
   "metadata": {},
   "outputs": [
    {
     "data": {
      "text/html": [
       "<div>\n",
       "<style scoped>\n",
       "    .dataframe tbody tr th:only-of-type {\n",
       "        vertical-align: middle;\n",
       "    }\n",
       "\n",
       "    .dataframe tbody tr th {\n",
       "        vertical-align: top;\n",
       "    }\n",
       "\n",
       "    .dataframe thead th {\n",
       "        text-align: right;\n",
       "    }\n",
       "</style>\n",
       "<table border=\"1\" class=\"dataframe\">\n",
       "  <thead>\n",
       "    <tr style=\"text-align: right;\">\n",
       "      <th></th>\n",
       "      <th>mpg</th>\n",
       "      <th>cylinders</th>\n",
       "      <th>displacement</th>\n",
       "      <th>horsepower</th>\n",
       "      <th>weight</th>\n",
       "      <th>acceleration</th>\n",
       "      <th>model_year</th>\n",
       "      <th>origin</th>\n",
       "    </tr>\n",
       "    <tr>\n",
       "      <th>name</th>\n",
       "      <th></th>\n",
       "      <th></th>\n",
       "      <th></th>\n",
       "      <th></th>\n",
       "      <th></th>\n",
       "      <th></th>\n",
       "      <th></th>\n",
       "      <th></th>\n",
       "    </tr>\n",
       "  </thead>\n",
       "  <tbody>\n",
       "    <tr>\n",
       "      <th>plymouth satellite sebring</th>\n",
       "      <td>18</td>\n",
       "      <td>6</td>\n",
       "      <td>225</td>\n",
       "      <td>105</td>\n",
       "      <td>3613</td>\n",
       "      <td>16</td>\n",
       "      <td>74</td>\n",
       "      <td>1</td>\n",
       "    </tr>\n",
       "    <tr>\n",
       "      <th>vw rabbit</th>\n",
       "      <td>29</td>\n",
       "      <td>4</td>\n",
       "      <td>90</td>\n",
       "      <td>70</td>\n",
       "      <td>1937</td>\n",
       "      <td>14</td>\n",
       "      <td>76</td>\n",
       "      <td>2</td>\n",
       "    </tr>\n",
       "    <tr>\n",
       "      <th>dodge coronet custom</th>\n",
       "      <td>15</td>\n",
       "      <td>8</td>\n",
       "      <td>318</td>\n",
       "      <td>150</td>\n",
       "      <td>3777</td>\n",
       "      <td>12</td>\n",
       "      <td>73</td>\n",
       "      <td>1</td>\n",
       "    </tr>\n",
       "    <tr>\n",
       "      <th>plymouth reliant</th>\n",
       "      <td>27</td>\n",
       "      <td>4</td>\n",
       "      <td>135</td>\n",
       "      <td>84</td>\n",
       "      <td>2490</td>\n",
       "      <td>15</td>\n",
       "      <td>81</td>\n",
       "      <td>1</td>\n",
       "    </tr>\n",
       "    <tr>\n",
       "      <th>vw rabbit c (diesel)</th>\n",
       "      <td>44</td>\n",
       "      <td>4</td>\n",
       "      <td>90</td>\n",
       "      <td>48</td>\n",
       "      <td>2085</td>\n",
       "      <td>21</td>\n",
       "      <td>80</td>\n",
       "      <td>2</td>\n",
       "    </tr>\n",
       "  </tbody>\n",
       "</table>\n",
       "</div>"
      ],
      "text/plain": [
       "                            mpg  cylinders  displacement  horsepower  weight  \\\n",
       "name                                                                           \n",
       "plymouth satellite sebring   18          6           225         105    3613   \n",
       "vw rabbit                    29          4            90          70    1937   \n",
       "dodge coronet custom         15          8           318         150    3777   \n",
       "plymouth reliant             27          4           135          84    2490   \n",
       "vw rabbit c (diesel)         44          4            90          48    2085   \n",
       "\n",
       "                            acceleration  model_year  origin  \n",
       "name                                                          \n",
       "plymouth satellite sebring            16          74       1  \n",
       "vw rabbit                             14          76       2  \n",
       "dodge coronet custom                  12          73       1  \n",
       "plymouth reliant                      15          81       1  \n",
       "vw rabbit c (diesel)                  21          80       2  "
      ]
     },
     "execution_count": 47,
     "metadata": {},
     "output_type": "execute_result"
    }
   ],
   "source": [
    "mpg = pd.read_csv(\"mpg.csv\", index_col=\"name\") \n",
    "\n",
    "# Remove rows that have missing horsepower\n",
    "mpg = ...\n",
    "\n",
    "mpg_train, mpg_test = train_test_split(...) \n",
    "\n",
    "# Train, validation split\n",
    "mpg_train, mpg_validation = train_test_split(...)\n",
    "\n",
    "# Notice that the splitting above creates a 60/20/20 split\n",
    "mpg_train.head()"
   ]
  },
  {
   "cell_type": "code",
   "execution_count": 48,
   "id": "caa16f6e",
   "metadata": {},
   "outputs": [
    {
     "name": "stdout",
     "output_type": "stream",
     "text": [
      "(234, 1)\n",
      "(234,)\n"
     ]
    }
   ],
   "source": [
    "X_train = ...\n",
    "y_train = ...\n",
    "\n",
    "X_val = ...\n",
    "y_val = ...\n",
    "\n",
    "X_test = ...\n",
    "\n",
    "print(X_train.shape)\n",
    "print(y_train.shape)"
   ]
  },
  {
   "cell_type": "markdown",
   "id": "c085c84e",
   "metadata": {},
   "source": [
    "Use function below from lecture to make a polynomial model."
   ]
  },
  {
   "cell_type": "code",
   "execution_count": 50,
   "id": "541c1cda",
   "metadata": {},
   "outputs": [],
   "source": [
    "def polynomial_regression(degree, X, y):\n",
    "    poly = PolynomialFeatures(degree)\n",
    "    X_poly = poly.fit_transform(X)\n",
    "    \n",
    "    poly.fit(X_poly, y)\n",
    "    \n",
    "    linear_model = LinearRegression()\n",
    "    linear_model = linear_model.fit(X_poly, y)\n",
    "    \n",
    "    x_range = np.arange(min(np.asarray(X.flatten())[0]), \n",
    "                  max(np.asarray(X.flatten())[0]) + .001, .001).reshape((-1, 1))\n",
    "\n",
    "    predicted = linear_model.predict(poly.fit_transform(x_range))\n",
    "    \n",
    "    fig, ax = plt.subplots(figsize=(10, 8))\n",
    "\n",
    "    plt.title(\"Polynomial Degree \" + str(degree))\n",
    "    plt.xlabel(\"Height\")\n",
    "    plt.ylabel(\"Weight\")\n",
    "    plt.plot(x_range, predicted, color='red')\n",
    "    plt.scatter(mpg.weight, mpg.mpg)\n",
    "    return linear_model, poly\n",
    "def polynomial_predict(linear_model, poly, X):\n",
    "    return linear_model.predict(poly.fit_transform(X))\n",
    "def compute_mse(pred, actual):\n",
    "    return mean_squared_error(pred, actual, squared=True)"
   ]
  },
  {
   "cell_type": "code",
   "execution_count": 51,
   "id": "09d2a8cf",
   "metadata": {},
   "outputs": [
    {
     "name": "stderr",
     "output_type": "stream",
     "text": [
      "/opt/conda/lib/python3.9/site-packages/sklearn/utils/validation.py:727: FutureWarning: np.matrix usage is deprecated in 1.0 and will raise a TypeError in 1.2. Please convert to a numpy array with np.asarray. For more information see: https://numpy.org/doc/stable/reference/generated/numpy.matrix.html\n",
      "  warnings.warn(\n",
      "/opt/conda/lib/python3.9/site-packages/sklearn/utils/validation.py:727: FutureWarning: np.matrix usage is deprecated in 1.0 and will raise a TypeError in 1.2. Please convert to a numpy array with np.asarray. For more information see: https://numpy.org/doc/stable/reference/generated/numpy.matrix.html\n",
      "  warnings.warn(\n"
     ]
    },
    {
     "data": {
      "image/png": "[encoded data removed]",
      "text/plain": [
       "<Figure size 1000x800 with 1 Axes>"
      ]
     },
     "metadata": {},
     "output_type": "display_data"
    }
   ],
   "source": [
    "model_deg2, poly_deg2 = polynomial_regression(...)"
   ]
  },
  {
   "cell_type": "markdown",
   "id": "8d4cefe5",
   "metadata": {},
   "source": [
    "Do you believe the linear model is the best model for this case. If not which degree of polynomial regression would be the best for this case?"
   ]
  },
  {
   "cell_type": "markdown",
   "id": "81795fa8",
   "metadata": {},
   "source": [
    "**Write your answer here:**"
   ]
  },
  {
   "cell_type": "code",
   "execution_count": null,
   "id": "4221353d",
   "metadata": {},
   "outputs": [],
   "source": []
  }
 ],
 "metadata": {
  "kernelspec": {
   "display_name": "Python 3 (ipykernel)",
   "language": "python",
   "name": "python3"
  },
  "language_info": {
   "codemirror_mode": {
    "name": "ipython",
    "version": 3
   },
   "file_extension": ".py",
   "mimetype": "text/x-python",
   "name": "python",
   "nbconvert_exporter": "python",
   "pygments_lexer": "ipython3",
   "version": "3.9.13"
  }
 },
 "nbformat": 4,
 "nbformat_minor": 5
}
