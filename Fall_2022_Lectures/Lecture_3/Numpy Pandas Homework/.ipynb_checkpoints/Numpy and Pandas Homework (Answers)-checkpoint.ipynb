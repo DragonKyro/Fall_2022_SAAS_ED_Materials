{
 "cells": [
  {
   "cell_type": "markdown",
   "metadata": {},
   "source": [
    "# Answers to Exercises"
   ]
  },
  {
   "cell_type": "code",
   "execution_count": 3,
   "metadata": {},
   "outputs": [],
   "source": [
    "import numpy as np\n",
    "import pandas as pd\n",
    "import random"
   ]
  },
  {
   "cell_type": "markdown",
   "metadata": {},
   "source": [
    "**Exercise 1**"
   ]
  },
  {
   "cell_type": "code",
   "execution_count": 4,
   "metadata": {},
   "outputs": [
    {
     "data": {
      "text/plain": [
       "3008"
      ]
     },
     "execution_count": 4,
     "metadata": {},
     "output_type": "execute_result"
    }
   ],
   "source": [
    "big_array = np.arange(1, 193, 3)\n",
    "np.sum(big_array[big_array % 2 == 1])"
   ]
  },
  {
   "cell_type": "markdown",
   "metadata": {},
   "source": [
    "**Exercise 2**"
   ]
  },
  {
   "cell_type": "code",
   "execution_count": 5,
   "metadata": {},
   "outputs": [
    {
     "data": {
      "text/plain": [
       "array([[-11., -13.,   1.],\n",
       "       [ -9.,  16.,  33.],\n",
       "       [ -3.,   1.,  -3.]])"
      ]
     },
     "execution_count": 5,
     "metadata": {},
     "output_type": "execute_result"
    }
   ],
   "source": [
    "A = np.array([[-12, -13, 1], [-9, 15, 33], [-3, 1, -4]])\n",
    "np.random.seed(50) #this just makes it so everyone has the same random matrix\n",
    "random = (np.random.randn(4, 6) * 10).astype(int)\n",
    "random[1:5, 2:5] + np.eye(3, 3)"
   ]
  },
  {
   "cell_type": "markdown",
   "metadata": {},
   "source": [
    "**Exercise 3**"
   ]
  },
  {
   "cell_type": "code",
   "execution_count": 6,
   "metadata": {},
   "outputs": [
    {
     "data": {
      "text/plain": [
       "-0.0625"
      ]
     },
     "execution_count": 6,
     "metadata": {},
     "output_type": "execute_result"
    }
   ],
   "source": [
    "big_part = random[:3, :5].reshape((1, 15))\n",
    "negative_1 = random[3][5]\n",
    "\n",
    "small_part = np.array([negative_1]) #this just puts -1 into an array so it can be appended to the vector big_part\n",
    "\n",
    "combined = np.append(big_part, small_part)\n",
    "square = combined.reshape((4, 4))\n",
    "square_mean = np.mean(square)\n",
    "square_mean"
   ]
  },
  {
   "cell_type": "markdown",
   "metadata": {},
   "source": [
    "**Exercise 4**"
   ]
  },
  {
   "cell_type": "code",
   "execution_count": 7,
   "metadata": {},
   "outputs": [],
   "source": [
    "x = np.array([3.0, 5.0, 8.0])\n",
    "y = np.array([3.0, 5.0, 8.0])\n",
    "\n",
    "#Square x here:\n",
    "x = x ** 2\n",
    "\n",
    "#Square y here:\n",
    "for i in range(len(y)):\n",
    "    y[i] = y[i] ** 2"
   ]
  },
  {
   "cell_type": "markdown",
   "metadata": {},
   "source": [
    "**Exercise 5:**"
   ]
  },
  {
   "cell_type": "code",
   "execution_count": 8,
   "metadata": {},
   "outputs": [
    {
     "data": {
      "text/plain": [
       "array([82, 68, 42])"
      ]
     },
     "execution_count": 8,
     "metadata": {},
     "output_type": "execute_result"
    }
   ],
   "source": [
    "np.random.seed(30)\n",
    "prices = np.absolute((np.random.randn(8, 3) * 10).astype(int))\n",
    "prices.sum(axis=0)"
   ]
  },
  {
   "cell_type": "code",
   "execution_count": 9,
   "metadata": {},
   "outputs": [],
   "source": [
    "cheapest_store = \"C\""
   ]
  },
  {
   "cell_type": "markdown",
   "metadata": {},
   "source": [
    "**Exercise 6:**"
   ]
  },
  {
   "cell_type": "code",
   "execution_count": 10,
   "metadata": {},
   "outputs": [
    {
     "data": {
      "text/plain": [
       "array([[1, 0, 0],\n",
       "       [0, 1, 0],\n",
       "       [0, 0, 1]])"
      ]
     },
     "execution_count": 10,
     "metadata": {},
     "output_type": "execute_result"
    }
   ],
   "source": [
    "vector = np.array([3, 1, -3])\n",
    "an_array = np.array([[-2, -1, 3], [-3, 0, 3], [-3, -1, 4]])\n",
    "identity = an_array + vector #does this look like np.eye(3, 3)?\n",
    "identity"
   ]
  },
  {
   "cell_type": "markdown",
   "metadata": {},
   "source": [
    "**Exercise 7:**"
   ]
  },
  {
   "cell_type": "code",
   "execution_count": 11,
   "metadata": {
    "scrolled": false
   },
   "outputs": [],
   "source": [
    "y = np.array([[3], [-2]])\n",
    "z = np.array([[-4, 10], [-9, 5]])\n",
    "x = np.array([-7, 7])"
   ]
  },
  {
   "cell_type": "markdown",
   "metadata": {},
   "source": [
    "**Exercise 8:**"
   ]
  },
  {
   "cell_type": "code",
   "execution_count": 12,
   "metadata": {},
   "outputs": [
    {
     "name": "stderr",
     "output_type": "stream",
     "text": [
      "C:\\Users\\Kyle\\Anaconda3\\lib\\site-packages\\ipykernel_launcher.py:3: RuntimeWarning: invalid value encountered in sqrt\n",
      "  This is separate from the ipykernel package so we can avoid doing imports until\n"
     ]
    },
    {
     "data": {
      "text/plain": [
       "array(['r', 'u', 'b'], dtype='<U1')"
      ]
     },
     "execution_count": 12,
     "metadata": {},
     "output_type": "execute_result"
    }
   ],
   "source": [
    "x = np.array([-3, 1, 4, -9, 6, 4, 6, -2, -3, 5, 3, -5, 21, -3, 2, 1, -2, 3, 4, -3, 1, -2, -1])\n",
    "y = np.array(['s','e','r','u','z','u','i','s','a','e','s','i','p','s','e','s','c','w','b','o','m','o','l'])\n",
    "y[np.sqrt(x) == 2]"
   ]
  },
  {
   "cell_type": "markdown",
   "metadata": {},
   "source": [
    "**Exercise 9:**"
   ]
  },
  {
   "cell_type": "code",
   "execution_count": 13,
   "metadata": {},
   "outputs": [],
   "source": [
    "x, b = np.arange(1000).reshape(1000, 1), np.ones((1000, 1))\n",
    "\n",
    "X = np.append(x, b, axis=1)\n",
    "#all you need to know is that this is the X you will use in the equation below\n",
    "\n",
    "Y = 2 * x[:,0] + 4*b + np.random.random()\n",
    "#all you need to know is that this is the Y you will use in the equation below\n",
    "theta_hat = np.linalg.solve((X.T @ X), (X.T @ Y))"
   ]
  },
  {
   "cell_type": "code",
   "execution_count": 14,
   "metadata": {},
   "outputs": [],
   "source": [
    "loss = np.dot(np.linalg.norm(Y - (X @theta_hat)), np.linalg.norm(Y - (X @ theta_hat)))"
   ]
  },
  {
   "cell_type": "markdown",
   "metadata": {},
   "source": [
    "**Exercise 10:**"
   ]
  },
  {
   "cell_type": "code",
   "execution_count": 15,
   "metadata": {},
   "outputs": [],
   "source": [
    "# import titanic dataset\n",
    "titanic = pd.read_csv(\"train.csv\")\n",
    "titanic = titanic.set_index(\"PassengerId\")"
   ]
  },
  {
   "cell_type": "code",
   "execution_count": 16,
   "metadata": {
    "scrolled": false
   },
   "outputs": [
    {
     "data": {
      "text/plain": [
       "44.47981783439487"
      ]
     },
     "execution_count": 16,
     "metadata": {},
     "output_type": "execute_result"
    }
   ],
   "source": [
    "male = titanic[titanic[\"Sex\"] == \"male\"]\n",
    "male_avg = male[\"Fare\"].mean()\n",
    "male_avg\n",
    "\n",
    "female = titanic[titanic[\"Sex\"] == \"female\"]\n",
    "female_avg = female[\"Fare\"].mean()\n",
    "female_avg"
   ]
  },
  {
   "cell_type": "markdown",
   "metadata": {},
   "source": [
    "**Exercise 11:**"
   ]
  },
  {
   "cell_type": "code",
   "execution_count": 17,
   "metadata": {},
   "outputs": [
    {
     "data": {
      "text/plain": [
       "28.343689655172415"
      ]
     },
     "execution_count": 17,
     "metadata": {},
     "output_type": "execute_result"
    }
   ],
   "source": [
    "survived = titanic[titanic[\"Survived\"] == 1]\n",
    "age_survived = survived[\"Age\"].mean()\n",
    "age_survived"
   ]
  },
  {
   "cell_type": "code",
   "execution_count": 18,
   "metadata": {},
   "outputs": [
    {
     "data": {
      "text/plain": [
       "30.62617924528302"
      ]
     },
     "execution_count": 18,
     "metadata": {},
     "output_type": "execute_result"
    }
   ],
   "source": [
    "died = titanic[titanic[\"Survived\"] == 0]\n",
    "age_died = died[\"Age\"].mean()\n",
    "age_died"
   ]
  },
  {
   "cell_type": "markdown",
   "metadata": {},
   "source": [
    "**Exercise 12:**"
   ]
  },
  {
   "cell_type": "code",
   "execution_count": 19,
   "metadata": {},
   "outputs": [],
   "source": [
    "class_1 = titanic[titanic[\"Pclass\"] == 1]\n",
    "survived_1 = len(class_1[class_1[\"Survived\"] == 1])\n",
    "total_1 = len(class_1)\n",
    "proportion_1 = survived_1 / total_1"
   ]
  },
  {
   "cell_type": "code",
   "execution_count": 20,
   "metadata": {},
   "outputs": [],
   "source": [
    "class_2 = titanic[titanic[\"Pclass\"] == 2]\n",
    "survived_2 = len(class_2[class_2[\"Survived\"] == 1])\n",
    "total_2 = len(class_2)\n",
    "proportion_2 = survived_2 / total_2"
   ]
  },
  {
   "cell_type": "code",
   "execution_count": 21,
   "metadata": {},
   "outputs": [],
   "source": [
    "class_3 = titanic[titanic[\"Pclass\"] == 3]\n",
    "survived_3 = len(class_3[class_3[\"Survived\"] == 1])\n",
    "total_3 = len(class_3)\n",
    "proportion_3 = survived_3 / total_3"
   ]
  },
  {
   "cell_type": "markdown",
   "metadata": {},
   "source": [
    "**Exercise 13.0**"
   ]
  },
  {
   "cell_type": "code",
   "execution_count": 22,
   "metadata": {},
   "outputs": [
    {
     "data": {
      "text/html": [
       "<div>\n",
       "<style scoped>\n",
       "    .dataframe tbody tr th:only-of-type {\n",
       "        vertical-align: middle;\n",
       "    }\n",
       "\n",
       "    .dataframe tbody tr th {\n",
       "        vertical-align: top;\n",
       "    }\n",
       "\n",
       "    .dataframe thead th {\n",
       "        text-align: right;\n",
       "    }\n",
       "</style>\n",
       "<table border=\"1\" class=\"dataframe\">\n",
       "  <thead>\n",
       "    <tr style=\"text-align: right;\">\n",
       "      <th></th>\n",
       "      <th>type</th>\n",
       "      <th>title</th>\n",
       "      <th>director</th>\n",
       "      <th>cast</th>\n",
       "      <th>country</th>\n",
       "      <th>date_added</th>\n",
       "      <th>release_year</th>\n",
       "      <th>rating</th>\n",
       "      <th>duration</th>\n",
       "      <th>listed_in</th>\n",
       "      <th>description</th>\n",
       "    </tr>\n",
       "    <tr>\n",
       "      <th>show_id</th>\n",
       "      <th></th>\n",
       "      <th></th>\n",
       "      <th></th>\n",
       "      <th></th>\n",
       "      <th></th>\n",
       "      <th></th>\n",
       "      <th></th>\n",
       "      <th></th>\n",
       "      <th></th>\n",
       "      <th></th>\n",
       "      <th></th>\n",
       "    </tr>\n",
       "  </thead>\n",
       "  <tbody>\n",
       "    <tr>\n",
       "      <th>s1</th>\n",
       "      <td>Movie</td>\n",
       "      <td>Dick Johnson Is Dead</td>\n",
       "      <td>Kirsten Johnson</td>\n",
       "      <td>NaN</td>\n",
       "      <td>United States</td>\n",
       "      <td>September 25, 2021</td>\n",
       "      <td>2020</td>\n",
       "      <td>PG-13</td>\n",
       "      <td>90 min</td>\n",
       "      <td>Documentaries</td>\n",
       "      <td>As her father nears the end of his life, filmm...</td>\n",
       "    </tr>\n",
       "    <tr>\n",
       "      <th>s2</th>\n",
       "      <td>TV Show</td>\n",
       "      <td>Blood &amp; Water</td>\n",
       "      <td>NaN</td>\n",
       "      <td>Ama Qamata, Khosi Ngema, Gail Mabalane, Thaban...</td>\n",
       "      <td>South Africa</td>\n",
       "      <td>September 24, 2021</td>\n",
       "      <td>2021</td>\n",
       "      <td>TV-MA</td>\n",
       "      <td>2 Seasons</td>\n",
       "      <td>International TV Shows, TV Dramas, TV Mysteries</td>\n",
       "      <td>After crossing paths at a party, a Cape Town t...</td>\n",
       "    </tr>\n",
       "    <tr>\n",
       "      <th>s3</th>\n",
       "      <td>TV Show</td>\n",
       "      <td>Ganglands</td>\n",
       "      <td>Julien Leclercq</td>\n",
       "      <td>Sami Bouajila, Tracy Gotoas, Samuel Jouy, Nabi...</td>\n",
       "      <td>NaN</td>\n",
       "      <td>September 24, 2021</td>\n",
       "      <td>2021</td>\n",
       "      <td>TV-MA</td>\n",
       "      <td>1 Season</td>\n",
       "      <td>Crime TV Shows, International TV Shows, TV Act...</td>\n",
       "      <td>To protect his family from a powerful drug lor...</td>\n",
       "    </tr>\n",
       "    <tr>\n",
       "      <th>s4</th>\n",
       "      <td>TV Show</td>\n",
       "      <td>Jailbirds New Orleans</td>\n",
       "      <td>NaN</td>\n",
       "      <td>NaN</td>\n",
       "      <td>NaN</td>\n",
       "      <td>September 24, 2021</td>\n",
       "      <td>2021</td>\n",
       "      <td>TV-MA</td>\n",
       "      <td>1 Season</td>\n",
       "      <td>Docuseries, Reality TV</td>\n",
       "      <td>Feuds, flirtations and toilet talk go down amo...</td>\n",
       "    </tr>\n",
       "    <tr>\n",
       "      <th>s5</th>\n",
       "      <td>TV Show</td>\n",
       "      <td>Kota Factory</td>\n",
       "      <td>NaN</td>\n",
       "      <td>Mayur More, Jitendra Kumar, Ranjan Raj, Alam K...</td>\n",
       "      <td>India</td>\n",
       "      <td>September 24, 2021</td>\n",
       "      <td>2021</td>\n",
       "      <td>TV-MA</td>\n",
       "      <td>2 Seasons</td>\n",
       "      <td>International TV Shows, Romantic TV Shows, TV ...</td>\n",
       "      <td>In a city of coaching centers known to train I...</td>\n",
       "    </tr>\n",
       "    <tr>\n",
       "      <th>...</th>\n",
       "      <td>...</td>\n",
       "      <td>...</td>\n",
       "      <td>...</td>\n",
       "      <td>...</td>\n",
       "      <td>...</td>\n",
       "      <td>...</td>\n",
       "      <td>...</td>\n",
       "      <td>...</td>\n",
       "      <td>...</td>\n",
       "      <td>...</td>\n",
       "      <td>...</td>\n",
       "    </tr>\n",
       "    <tr>\n",
       "      <th>s96</th>\n",
       "      <td>TV Show</td>\n",
       "      <td>The Circle</td>\n",
       "      <td>NaN</td>\n",
       "      <td>Michelle Buteau</td>\n",
       "      <td>United States, United Kingdom</td>\n",
       "      <td>September 8, 2021</td>\n",
       "      <td>2021</td>\n",
       "      <td>TV-MA</td>\n",
       "      <td>3 Seasons</td>\n",
       "      <td>Reality TV</td>\n",
       "      <td>Status and strategy collide in this social exp...</td>\n",
       "    </tr>\n",
       "    <tr>\n",
       "      <th>s97</th>\n",
       "      <td>Movie</td>\n",
       "      <td>If I Leave Here Tomorrow: A Film About Lynyrd ...</td>\n",
       "      <td>Stephen Kijak</td>\n",
       "      <td>Ronnie Van Zandt, Gary Rossington, Allen Colli...</td>\n",
       "      <td>United States</td>\n",
       "      <td>September 7, 2021</td>\n",
       "      <td>2018</td>\n",
       "      <td>TV-MA</td>\n",
       "      <td>97 min</td>\n",
       "      <td>Documentaries, Music &amp; Musicals</td>\n",
       "      <td>Using interviews and archival footage, this do...</td>\n",
       "    </tr>\n",
       "    <tr>\n",
       "      <th>s98</th>\n",
       "      <td>TV Show</td>\n",
       "      <td>Kid Cosmic</td>\n",
       "      <td>NaN</td>\n",
       "      <td>Jack Fisher, Tom Kenny, Amanda C. Miller, Kim ...</td>\n",
       "      <td>United States</td>\n",
       "      <td>September 7, 2021</td>\n",
       "      <td>2021</td>\n",
       "      <td>TV-Y7</td>\n",
       "      <td>2 Seasons</td>\n",
       "      <td>Kids' TV, TV Comedies, TV Sci-Fi &amp; Fantasy</td>\n",
       "      <td>A boy's superhero dreams come true when he fin...</td>\n",
       "    </tr>\n",
       "    <tr>\n",
       "      <th>s99</th>\n",
       "      <td>TV Show</td>\n",
       "      <td>Octonauts: Above &amp; Beyond</td>\n",
       "      <td>NaN</td>\n",
       "      <td>Antonio Aakeel, Chipo Chung, Simon Foster, Ter...</td>\n",
       "      <td>United Kingdom</td>\n",
       "      <td>September 7, 2021</td>\n",
       "      <td>2021</td>\n",
       "      <td>TV-Y</td>\n",
       "      <td>1 Season</td>\n",
       "      <td>British TV Shows, Kids' TV</td>\n",
       "      <td>The Octonauts expand their exploration beyond ...</td>\n",
       "    </tr>\n",
       "    <tr>\n",
       "      <th>s100</th>\n",
       "      <td>TV Show</td>\n",
       "      <td>On the Verge</td>\n",
       "      <td>NaN</td>\n",
       "      <td>Julie Delpy, Elisabeth Shue, Sarah Jones, Alex...</td>\n",
       "      <td>France, United States</td>\n",
       "      <td>September 7, 2021</td>\n",
       "      <td>2021</td>\n",
       "      <td>TV-MA</td>\n",
       "      <td>1 Season</td>\n",
       "      <td>TV Comedies, TV Dramas</td>\n",
       "      <td>Four women — a chef, a single mom, an heiress ...</td>\n",
       "    </tr>\n",
       "  </tbody>\n",
       "</table>\n",
       "<p>100 rows × 11 columns</p>\n",
       "</div>"
      ],
      "text/plain": [
       "            type                                              title  \\\n",
       "show_id                                                               \n",
       "s1         Movie                               Dick Johnson Is Dead   \n",
       "s2       TV Show                                      Blood & Water   \n",
       "s3       TV Show                                          Ganglands   \n",
       "s4       TV Show                              Jailbirds New Orleans   \n",
       "s5       TV Show                                       Kota Factory   \n",
       "...          ...                                                ...   \n",
       "s96      TV Show                                         The Circle   \n",
       "s97        Movie  If I Leave Here Tomorrow: A Film About Lynyrd ...   \n",
       "s98      TV Show                                         Kid Cosmic   \n",
       "s99      TV Show                          Octonauts: Above & Beyond   \n",
       "s100     TV Show                                       On the Verge   \n",
       "\n",
       "                director                                               cast  \\\n",
       "show_id                                                                       \n",
       "s1       Kirsten Johnson                                                NaN   \n",
       "s2                   NaN  Ama Qamata, Khosi Ngema, Gail Mabalane, Thaban...   \n",
       "s3       Julien Leclercq  Sami Bouajila, Tracy Gotoas, Samuel Jouy, Nabi...   \n",
       "s4                   NaN                                                NaN   \n",
       "s5                   NaN  Mayur More, Jitendra Kumar, Ranjan Raj, Alam K...   \n",
       "...                  ...                                                ...   \n",
       "s96                  NaN                                    Michelle Buteau   \n",
       "s97        Stephen Kijak  Ronnie Van Zandt, Gary Rossington, Allen Colli...   \n",
       "s98                  NaN  Jack Fisher, Tom Kenny, Amanda C. Miller, Kim ...   \n",
       "s99                  NaN  Antonio Aakeel, Chipo Chung, Simon Foster, Ter...   \n",
       "s100                 NaN  Julie Delpy, Elisabeth Shue, Sarah Jones, Alex...   \n",
       "\n",
       "                               country          date_added  release_year  \\\n",
       "show_id                                                                    \n",
       "s1                       United States  September 25, 2021          2020   \n",
       "s2                        South Africa  September 24, 2021          2021   \n",
       "s3                                 NaN  September 24, 2021          2021   \n",
       "s4                                 NaN  September 24, 2021          2021   \n",
       "s5                               India  September 24, 2021          2021   \n",
       "...                                ...                 ...           ...   \n",
       "s96      United States, United Kingdom   September 8, 2021          2021   \n",
       "s97                      United States   September 7, 2021          2018   \n",
       "s98                      United States   September 7, 2021          2021   \n",
       "s99                     United Kingdom   September 7, 2021          2021   \n",
       "s100             France, United States   September 7, 2021          2021   \n",
       "\n",
       "        rating   duration                                          listed_in  \\\n",
       "show_id                                                                        \n",
       "s1       PG-13     90 min                                      Documentaries   \n",
       "s2       TV-MA  2 Seasons    International TV Shows, TV Dramas, TV Mysteries   \n",
       "s3       TV-MA   1 Season  Crime TV Shows, International TV Shows, TV Act...   \n",
       "s4       TV-MA   1 Season                             Docuseries, Reality TV   \n",
       "s5       TV-MA  2 Seasons  International TV Shows, Romantic TV Shows, TV ...   \n",
       "...        ...        ...                                                ...   \n",
       "s96      TV-MA  3 Seasons                                         Reality TV   \n",
       "s97      TV-MA     97 min                    Documentaries, Music & Musicals   \n",
       "s98      TV-Y7  2 Seasons         Kids' TV, TV Comedies, TV Sci-Fi & Fantasy   \n",
       "s99       TV-Y   1 Season                         British TV Shows, Kids' TV   \n",
       "s100     TV-MA   1 Season                             TV Comedies, TV Dramas   \n",
       "\n",
       "                                               description  \n",
       "show_id                                                     \n",
       "s1       As her father nears the end of his life, filmm...  \n",
       "s2       After crossing paths at a party, a Cape Town t...  \n",
       "s3       To protect his family from a powerful drug lor...  \n",
       "s4       Feuds, flirtations and toilet talk go down amo...  \n",
       "s5       In a city of coaching centers known to train I...  \n",
       "...                                                    ...  \n",
       "s96      Status and strategy collide in this social exp...  \n",
       "s97      Using interviews and archival footage, this do...  \n",
       "s98      A boy's superhero dreams come true when he fin...  \n",
       "s99      The Octonauts expand their exploration beyond ...  \n",
       "s100     Four women — a chef, a single mom, an heiress ...  \n",
       "\n",
       "[100 rows x 11 columns]"
      ]
     },
     "execution_count": 22,
     "metadata": {},
     "output_type": "execute_result"
    }
   ],
   "source": [
    "# import netflix dataset\n",
    "netflix = pd.read_csv(\"netflix_titles.csv\")\n",
    "netflix = netflix.set_index('show_id')\n",
    "netflix.head(100)"
   ]
  },
  {
   "cell_type": "markdown",
   "metadata": {},
   "source": [
    "**Exercise 13.1**"
   ]
  },
  {
   "cell_type": "code",
   "execution_count": 23,
   "metadata": {},
   "outputs": [
    {
     "data": {
      "text/html": [
       "<div>\n",
       "<style scoped>\n",
       "    .dataframe tbody tr th:only-of-type {\n",
       "        vertical-align: middle;\n",
       "    }\n",
       "\n",
       "    .dataframe tbody tr th {\n",
       "        vertical-align: top;\n",
       "    }\n",
       "\n",
       "    .dataframe thead th {\n",
       "        text-align: right;\n",
       "    }\n",
       "</style>\n",
       "<table border=\"1\" class=\"dataframe\">\n",
       "  <thead>\n",
       "    <tr style=\"text-align: right;\">\n",
       "      <th></th>\n",
       "      <th>title</th>\n",
       "    </tr>\n",
       "    <tr>\n",
       "      <th>release_year</th>\n",
       "      <th></th>\n",
       "    </tr>\n",
       "  </thead>\n",
       "  <tbody>\n",
       "    <tr>\n",
       "      <th>1925</th>\n",
       "      <td>1</td>\n",
       "    </tr>\n",
       "    <tr>\n",
       "      <th>1942</th>\n",
       "      <td>2</td>\n",
       "    </tr>\n",
       "    <tr>\n",
       "      <th>1943</th>\n",
       "      <td>3</td>\n",
       "    </tr>\n",
       "    <tr>\n",
       "      <th>1944</th>\n",
       "      <td>3</td>\n",
       "    </tr>\n",
       "    <tr>\n",
       "      <th>1945</th>\n",
       "      <td>4</td>\n",
       "    </tr>\n",
       "    <tr>\n",
       "      <th>...</th>\n",
       "      <td>...</td>\n",
       "    </tr>\n",
       "    <tr>\n",
       "      <th>2017</th>\n",
       "      <td>1032</td>\n",
       "    </tr>\n",
       "    <tr>\n",
       "      <th>2018</th>\n",
       "      <td>1147</td>\n",
       "    </tr>\n",
       "    <tr>\n",
       "      <th>2019</th>\n",
       "      <td>1030</td>\n",
       "    </tr>\n",
       "    <tr>\n",
       "      <th>2020</th>\n",
       "      <td>953</td>\n",
       "    </tr>\n",
       "    <tr>\n",
       "      <th>2021</th>\n",
       "      <td>592</td>\n",
       "    </tr>\n",
       "  </tbody>\n",
       "</table>\n",
       "<p>74 rows × 1 columns</p>\n",
       "</div>"
      ],
      "text/plain": [
       "              title\n",
       "release_year       \n",
       "1925              1\n",
       "1942              2\n",
       "1943              3\n",
       "1944              3\n",
       "1945              4\n",
       "...             ...\n",
       "2017           1032\n",
       "2018           1147\n",
       "2019           1030\n",
       "2020            953\n",
       "2021            592\n",
       "\n",
       "[74 rows x 1 columns]"
      ]
     },
     "execution_count": 23,
     "metadata": {},
     "output_type": "execute_result"
    }
   ],
   "source": [
    "num_titles_per_year = netflix.groupby(\"release_year\")[[\"title\"]].count()\n",
    "num_titles_per_year"
   ]
  },
  {
   "cell_type": "markdown",
   "metadata": {},
   "source": [
    "**Exercise 13.2:**"
   ]
  },
  {
   "cell_type": "code",
   "execution_count": 24,
   "metadata": {},
   "outputs": [
    {
     "data": {
      "text/plain": [
       "1147"
      ]
     },
     "execution_count": 24,
     "metadata": {},
     "output_type": "execute_result"
    }
   ],
   "source": [
    "max_titles_in_year = num_titles_per_year['title'].max()\n",
    "max_titles_in_year"
   ]
  },
  {
   "cell_type": "code",
   "execution_count": 25,
   "metadata": {},
   "outputs": [
    {
     "data": {
      "text/html": [
       "<div>\n",
       "<style scoped>\n",
       "    .dataframe tbody tr th:only-of-type {\n",
       "        vertical-align: middle;\n",
       "    }\n",
       "\n",
       "    .dataframe tbody tr th {\n",
       "        vertical-align: top;\n",
       "    }\n",
       "\n",
       "    .dataframe thead th {\n",
       "        text-align: right;\n",
       "    }\n",
       "</style>\n",
       "<table border=\"1\" class=\"dataframe\">\n",
       "  <thead>\n",
       "    <tr style=\"text-align: right;\">\n",
       "      <th></th>\n",
       "      <th>title</th>\n",
       "    </tr>\n",
       "    <tr>\n",
       "      <th>release_year</th>\n",
       "      <th></th>\n",
       "    </tr>\n",
       "  </thead>\n",
       "  <tbody>\n",
       "    <tr>\n",
       "      <th>2018</th>\n",
       "      <td>1147</td>\n",
       "    </tr>\n",
       "  </tbody>\n",
       "</table>\n",
       "</div>"
      ],
      "text/plain": [
       "              title\n",
       "release_year       \n",
       "2018           1147"
      ]
     },
     "execution_count": 25,
     "metadata": {},
     "output_type": "execute_result"
    }
   ],
   "source": [
    "num_titles_per_year[num_titles_per_year['title'] == max_titles_in_year]"
   ]
  },
  {
   "cell_type": "markdown",
   "metadata": {},
   "source": [
    "**Exercise 13.3:**"
   ]
  },
  {
   "cell_type": "code",
   "execution_count": 26,
   "metadata": {},
   "outputs": [
    {
     "data": {
      "text/plain": [
       "119.01351351351352"
      ]
     },
     "execution_count": 26,
     "metadata": {},
     "output_type": "execute_result"
    }
   ],
   "source": [
    "num_titles_per_year['title'].mean()"
   ]
  }
 ],
 "metadata": {
  "kernelspec": {
   "display_name": "Python 3",
   "language": "python",
   "name": "python3"
  },
  "language_info": {
   "codemirror_mode": {
    "name": "ipython",
    "version": 3
   },
   "file_extension": ".py",
   "mimetype": "text/x-python",
   "name": "python",
   "nbconvert_exporter": "python",
   "pygments_lexer": "ipython3",
   "version": "3.7.3"
  }
 },
 "nbformat": 4,
 "nbformat_minor": 2
}
