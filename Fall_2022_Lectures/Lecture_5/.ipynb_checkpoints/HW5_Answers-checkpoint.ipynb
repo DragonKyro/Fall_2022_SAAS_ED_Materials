{
 "cells": [
  {
   "cell_type": "markdown",
   "id": "b8a53858",
   "metadata": {},
   "source": [
    "# SAAS CX Homework 5\n",
    "## James Cheng and Claire Mai\n",
    "### Fall 2022"
   ]
  },
  {
   "cell_type": "code",
   "execution_count": 1,
   "id": "8b702644",
   "metadata": {},
   "outputs": [],
   "source": [
    "# initial setup code\n",
    "import scipy\n",
    "import numpy as np\n",
    "import pandas as pd\n",
    "from scipy import stats\n",
    "import math"
   ]
  },
  {
   "cell_type": "markdown",
   "id": "f964dbc1",
   "metadata": {},
   "source": [
    "# Problem 1: Counting\n",
    "Suppose we have a set of n = 5 items, (let’s label them A, B, C, D, and E) and would like to choose k = 3 items"
   ]
  },
  {
   "cell_type": "markdown",
   "id": "9cd9b115",
   "metadata": {},
   "source": [
    "a) How many ways can we select 3 items from the set, if order matters (e.g., selecting (A, B, C) and (B, A, C) in those respective orders should be counted as distinct)?"
   ]
  },
  {
   "cell_type": "code",
   "execution_count": 2,
   "id": "1daf13a2",
   "metadata": {},
   "outputs": [
    {
     "data": {
      "text/plain": [
       "60.0"
      ]
     },
     "execution_count": 2,
     "metadata": {},
     "output_type": "execute_result"
    }
   ],
   "source": [
    "# your work or answer here \n",
    "q_1a = scipy.special.perm(5, 3)\n",
    "q_1a"
   ]
  },
  {
   "cell_type": "markdown",
   "id": "711fb997",
   "metadata": {},
   "source": [
    "b) How many ways can we select 3 items from the set, if order doesn’t matter (now, (A, B, C) and (B, A, C) should be counted for only once)?"
   ]
  },
  {
   "cell_type": "code",
   "execution_count": 3,
   "id": "20b4ce18",
   "metadata": {},
   "outputs": [
    {
     "data": {
      "text/plain": [
       "10.0"
      ]
     },
     "execution_count": 3,
     "metadata": {},
     "output_type": "execute_result"
    }
   ],
   "source": [
    "# your work or answer here \n",
    "q_1b = scipy.special.comb(5, 3)\n",
    "q_1b"
   ]
  },
  {
   "cell_type": "markdown",
   "id": "8386ae50",
   "metadata": {},
   "source": [
    "c) Extend the above two parts for general n and k."
   ]
  },
  {
   "cell_type": "markdown",
   "id": "c7e8b090",
   "metadata": {},
   "source": [
    "Your work or answer here:  \n",
    "a) $n(n-1)(n-2)...(n-k+1)=\\frac{n!}{(n-k)!}=$ $_nP_k$  \n",
    "b) $_nC_k = \\frac{n!}{(n-k)!k!}$"
   ]
  },
  {
   "cell_type": "markdown",
   "id": "23e72b86",
   "metadata": {},
   "source": [
    "# Problem 2: Coin Flipping\n",
    "Suppose we flip 4 coins."
   ]
  },
  {
   "cell_type": "markdown",
   "id": "43858b25",
   "metadata": {},
   "source": [
    "a) What is the probability we get exactly one head?"
   ]
  },
  {
   "cell_type": "code",
   "execution_count": 4,
   "id": "e2c108ba",
   "metadata": {},
   "outputs": [
    {
     "data": {
      "text/plain": [
       "0.25"
      ]
     },
     "execution_count": 4,
     "metadata": {},
     "output_type": "execute_result"
    }
   ],
   "source": [
    "# your work or answer here \n",
    "# answer: the probability that we get exactly one head if order doesn't matter is (1/2)**4. However, order does matter.\n",
    "# (i.e. HTTT != THTT), so we multiply by 4 as the head could be in any of the four coin flips, getting 1/4.\n",
    "q_2a = 4*(0.5**4)\n",
    "q_2a"
   ]
  },
  {
   "cell_type": "markdown",
   "id": "5d4d4647",
   "metadata": {},
   "source": [
    "b) What is the probability we get exactly one head, or exactly one tail?"
   ]
  },
  {
   "cell_type": "code",
   "execution_count": 5,
   "id": "64d8edbe",
   "metadata": {},
   "outputs": [
    {
     "data": {
      "text/plain": [
       "0.5"
      ]
     },
     "execution_count": 5,
     "metadata": {},
     "output_type": "execute_result"
    }
   ],
   "source": [
    "# your work or answer here\n",
    "# P(exactly one head) = P(exactly one tail) = 1/4. Since the events exactly one head and exactly one tail are disjoint,\n",
    "# we can add the probabilities to get 1/2.\n",
    "q_2b = (1/4) * 2\n",
    "q_2b"
   ]
  },
  {
   "cell_type": "markdown",
   "id": "a9a14814",
   "metadata": {},
   "source": [
    "c) What is the probability we get at least one head?"
   ]
  },
  {
   "cell_type": "code",
   "execution_count": 6,
   "id": "ae9f1105",
   "metadata": {},
   "outputs": [
    {
     "data": {
      "text/plain": [
       "0.9375"
      ]
     },
     "execution_count": 6,
     "metadata": {},
     "output_type": "execute_result"
    }
   ],
   "source": [
    "# your work or answer here\n",
    "# using the complement rule, P(at least one head) = 1 - P(no heads) = 1 - (1/2)**4 = 15/16\n",
    "q_2c = 1 - (1/2)**4\n",
    "q_2c"
   ]
  },
  {
   "cell_type": "markdown",
   "id": "889a03f6",
   "metadata": {},
   "source": [
    "d) What is the probability we get at least one head, or at least one tail?"
   ]
  },
  {
   "cell_type": "code",
   "execution_count": 7,
   "id": "3cf2bffb",
   "metadata": {},
   "outputs": [
    {
     "data": {
      "text/plain": [
       "1"
      ]
     },
     "execution_count": 7,
     "metadata": {},
     "output_type": "execute_result"
    }
   ],
   "source": [
    "# your work or answer here \n",
    "# P(at least one head or at least one tail) = 1 - P(no head AND no tail) = 1 - 0 = 1\n",
    "q_2d = 1\n",
    "q_2d"
   ]
  },
  {
   "cell_type": "markdown",
   "id": "6de10d61",
   "metadata": {},
   "source": [
    "# Problem 3: Rain and Sun\n",
    "We are trying to forecast the weather. On days when it rains, we forecast\n",
    "that it rains correctly with 80% probability. On sunny days, we forecast that it is sunny\n",
    "properly with 90% probability. If it is sunny on 60% of days, then what is the probability\n",
    "our forecast is correct on an arbitrary day?"
   ]
  },
  {
   "cell_type": "code",
   "execution_count": 8,
   "id": "1f74a651",
   "metadata": {},
   "outputs": [
    {
     "data": {
      "text/plain": [
       "0.8600000000000001"
      ]
     },
     "execution_count": 8,
     "metadata": {},
     "output_type": "execute_result"
    }
   ],
   "source": [
    "# your work or answer here\n",
    "# P(forecast correct) = P(forecast correct | sunny) * P(sunny) + P(forecast correct | rainy) * P(rainy)\n",
    "q_3 = 0.9*0.6 + 0.8*0.4\n",
    "q_3"
   ]
  },
  {
   "cell_type": "markdown",
   "id": "312b812d",
   "metadata": {},
   "source": [
    "# Problem 4: Spam Filtering"
   ]
  },
  {
   "cell_type": "markdown",
   "id": "1ec20797",
   "metadata": {},
   "source": [
    "Let's try to use Bayes' Rule for spam filtering. If an e-mail has the phrase \"you have won,\" the probability that it is spam is 0.95. If the e-mail does not have the phrase \"you have won,\" it is not spam with probability 0.85. Let's say 0.01% of all e-mails have the phrase \"you have won.\" What is the probability that the e-mail had the phrase \"you have won\" if the e-mail was marked as spam?"
   ]
  },
  {
   "cell_type": "code",
   "execution_count": 9,
   "id": "f77d0042",
   "metadata": {},
   "outputs": [
    {
     "data": {
      "text/plain": [
       "0.0006329957356076758"
      ]
     },
     "execution_count": 9,
     "metadata": {},
     "output_type": "execute_result"
    }
   ],
   "source": [
    "# msg is \"you have won\"\n",
    "prob_spam_if_msg = 0.95\n",
    "prob_spam_if_notmsg = 0.15\n",
    "prob_msg = 0.0001\n",
    "prob_not_msg = 1 - prob_msg\n",
    "prob_spam = prob_spam_if_msg*prob_msg + prob_spam_if_notmsg*prob_not_msg # law of total probability\n",
    "prob_msg_ifspam = prob_spam_if_msg * prob_msg / prob_spam # apply Bayes' Rule\n",
    "prob_msg_ifspam"
   ]
  },
  {
   "cell_type": "markdown",
   "id": "165778aa",
   "metadata": {},
   "source": [
    "# Problem 5: $$$\n",
    "\n",
    "Let’s flip 8 pennies, 4 nickels, 6 dimes and 1 quarter. Let $X$ be the amount of money (in cents) that lands heads facing up."
   ]
  },
  {
   "cell_type": "markdown",
   "id": "ab4c2a75",
   "metadata": {},
   "source": [
    "a) Compute the mean $\\mu = E(X)$"
   ]
  },
  {
   "cell_type": "code",
   "execution_count": 10,
   "id": "3cd93f62",
   "metadata": {},
   "outputs": [
    {
     "data": {
      "text/plain": [
       "56.5"
      ]
     },
     "execution_count": 10,
     "metadata": {},
     "output_type": "execute_result"
    }
   ],
   "source": [
    "# your work or answer here\n",
    "# Let P = number of pennies facing up, N = number of nickels facing up, D = number of dimes facing up, \n",
    "# and Q = num of quarters facing up. \n",
    "# Note that P ~ Binom(8, 0.5), N ~ Binom(4, 0.5), D ~ Binom(6, 0.5), Q ~ Bernoulli(0.5)\n",
    "# Then, E[X] = 1*E[P] + 5*E[N] + 10*E[D] + 25*E[Q] = 1*4 + 5*2 + 10*3 + 25*0.5 = 56.5\n",
    "q_5a = 1*4 + 5*2 + 10*3 + 25*0.5\n",
    "q_5a"
   ]
  },
  {
   "cell_type": "markdown",
   "id": "c0dc5a4b",
   "metadata": {},
   "source": [
    "b) Compute the standard deviation $\\sigma = \\sqrt{Var(X)}$."
   ]
  },
  {
   "cell_type": "code",
   "execution_count": 11,
   "id": "3efab765",
   "metadata": {},
   "outputs": [
    {
     "data": {
      "text/plain": [
       "18.255136263528684"
      ]
     },
     "execution_count": 11,
     "metadata": {},
     "output_type": "execute_result"
    }
   ],
   "source": [
    "# your work or answer here \n",
    "# Var(X) = Var(1P+5N+10D+25Q) = Var(1P) + Var(5N) + Var(10D) + Var(25Q)\n",
    "# = 1*Var(P) + 25Var(N) + 100Var(D) + 625Var(Q)\n",
    "# = 8*0.5*0.5 + 25*4*0.5*0.5 + 100*6*0.5*0.5 + 625*0.5*0.5\n",
    "# SD(X) = sqrt(Var(X))\n",
    "q_5b = (8*0.5*0.5 + 25*4*0.5*0.5 + 100*6*0.5*0.5 + 625*0.5*0.5)**(1/2)\n",
    "q_5b"
   ]
  },
  {
   "cell_type": "markdown",
   "id": "a68335cb",
   "metadata": {},
   "source": [
    "c) If we make the rough approximation of $X$ as a Gaussian $N(\\mu, \\sigma^2)$, compute the interval centered at $\\mu$ in which we would expect $X$ to fall within 95% of of the time. This is known as the 95%-confidence interval."
   ]
  },
  {
   "cell_type": "code",
   "execution_count": 12,
   "id": "e89dd5c5",
   "metadata": {},
   "outputs": [
    {
     "data": {
      "text/plain": [
       "[19.979999999999997, 93.02000000000001]"
      ]
     },
     "execution_count": 12,
     "metadata": {},
     "output_type": "execute_result"
    }
   ],
   "source": [
    "# your work or answer here\n",
    "# A 95% confidence interval's bounds are 2 standard deviations above and below the mean.\n",
    "# 2 * sigma = 2 * 18.26\n",
    "# 95% CI = [56.5 - 2 * 18.26, ]\n",
    "q_5c = [56.5 - 2 * 18.26, 56.5 + 2 * 18.26]\n",
    "q_5c"
   ]
  },
  {
   "cell_type": "markdown",
   "id": "d1171e5a",
   "metadata": {},
   "source": [
    "# Problem 6: Class Count\n",
    "\n",
    "Let's have a population of 10 freshmen, 20 sophomores, 15 juniors, and 25 seniors in a classroom. We want to collect a sample of 20 of them in one of two ways:"
   ]
  },
  {
   "cell_type": "markdown",
   "id": "71265e72",
   "metadata": {},
   "source": [
    "a) What is the probability that we choose 5 freshmen, 4 sophomores, 3 juniors, and 8 seniors if we choose the sample with replacement? What kind of distribution should we use to solve for this?"
   ]
  },
  {
   "cell_type": "code",
   "execution_count": 13,
   "id": "1bbba084",
   "metadata": {},
   "outputs": [
    {
     "data": {
      "text/plain": [
       "0.003605897556085832"
      ]
     },
     "execution_count": 13,
     "metadata": {},
     "output_type": "execute_result"
    }
   ],
   "source": [
    "# your work or answer here\n",
    "# This is a multinomial distribution because we are sampling with replacement and have more than 2 classes.\n",
    "# total population is 10 + 20 + 15 + 25 = 70\n",
    "n = 20   # number of trials\n",
    "k = [5, 4, 3, 8] # array of what we want our sample to look like; should sum to n\n",
    "p = [10/70, 20/70, 15/70, 25/70] # array of the probabilities of falling into each category; should sum to 1\n",
    "q_6a = stats.multinomial.pmf(k, n, p)\n",
    "q_6a"
   ]
  },
  {
   "cell_type": "markdown",
   "id": "a013da9c",
   "metadata": {},
   "source": [
    "b) What is the probability that we choose exactly 6 freshmen if we choose the sample without replacement? What kind of distribution should we use to solve for this?"
   ]
  },
  {
   "cell_type": "code",
   "execution_count": 14,
   "id": "607deeaf",
   "metadata": {},
   "outputs": [
    {
     "data": {
      "text/plain": [
       "0.02250145247937658"
      ]
     },
     "execution_count": 14,
     "metadata": {},
     "output_type": "execute_result"
    }
   ],
   "source": [
    "# your work or answer here \n",
    "# This is a hypergeometric distribution because we are sampling without replacement and we have\n",
    "# \"good\" elements (freshman) and \"bad\" elements (not freshman)\n",
    "g = 6  # how many good elements we want to choose\n",
    "N = 70 # population size\n",
    "G = 10  # number of good elements in population\n",
    "n = 20  # simple random sample size\n",
    "q_6b = stats.hypergeom.pmf(g, N, G, n)\n",
    "q_6b"
   ]
  }
 ],
 "metadata": {
  "kernelspec": {
   "display_name": "Python 3 (ipykernel)",
   "language": "python",
   "name": "python3"
  },
  "language_info": {
   "codemirror_mode": {
    "name": "ipython",
    "version": 3
   },
   "file_extension": ".py",
   "mimetype": "text/x-python",
   "name": "python",
   "nbconvert_exporter": "python",
   "pygments_lexer": "ipython3",
   "version": "3.9.13"
  }
 },
 "nbformat": 4,
 "nbformat_minor": 5
}
