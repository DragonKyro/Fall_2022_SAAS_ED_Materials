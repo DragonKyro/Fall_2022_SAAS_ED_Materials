{
 "cells": [
  {
   "cell_type": "markdown",
   "id": "b8a53858",
   "metadata": {},
   "source": [
    "# SAAS CX Homework 5\n",
    "## James Cheng and Claire Mai\n",
    "### Fall 2022"
   ]
  },
  {
   "cell_type": "code",
   "execution_count": null,
   "id": "8b702644",
   "metadata": {},
   "outputs": [],
   "source": [
    "# initial\n",
    "# Setup code\n",
    "import seaborn as sns\n",
    "import csv\n",
    "import scipy\n",
    "import numpy as np\n",
    "import pandas as pd\n",
    "import matplotlib.pyplot as plt\n",
    "from scipy import stats\n",
    "import math\n",
    "\n",
    "%matplotlib inline\n",
    "plt.rcParams['figure.figsize'] = (16,8)\n",
    "plt.rcParams['figure.dpi'] = 150\n",
    "sns.set()\n",
    "\n",
    "from IPython.display import display, Latex, Markdown"
   ]
  },
  {
   "cell_type": "markdown",
   "id": "f964dbc1",
   "metadata": {},
   "source": [
    "# Problem 1\n",
    "Suppose we have a set of n = 5 items, (let’s label them A, B, C, D, and E) and would like to choose k = 3 items"
   ]
  },
  {
   "cell_type": "markdown",
   "id": "9cd9b115",
   "metadata": {},
   "source": [
    "a) How many ways can we select 3 items from the set, if order matters (e.g., selecting (A, B, C) and (B, A, C) in those respective orders should be counted as distinct)?"
   ]
  },
  {
   "cell_type": "code",
   "execution_count": null,
   "id": "1daf13a2",
   "metadata": {},
   "outputs": [],
   "source": [
    "# your work or answer here \n",
    "q_1a = ..."
   ]
  },
  {
   "cell_type": "markdown",
   "id": "711fb997",
   "metadata": {},
   "source": [
    "b) How many ways can we select 3 items from the set, if order doesn’t matter (now, (A, B, C) and (B, A, C) should be counted for only once)?"
   ]
  },
  {
   "cell_type": "code",
   "execution_count": null,
   "id": "20b4ce18",
   "metadata": {},
   "outputs": [],
   "source": [
    "# your work or answer here \n",
    "q_1b = ..."
   ]
  },
  {
   "cell_type": "markdown",
   "id": "8386ae50",
   "metadata": {},
   "source": [
    "c) Extend the above two parts for general n and k."
   ]
  },
  {
   "cell_type": "code",
   "execution_count": null,
   "id": "68c9e0bb",
   "metadata": {},
   "outputs": [],
   "source": [
    "# your work or answer here \n",
    "q_1c = ..."
   ]
  },
  {
   "cell_type": "markdown",
   "id": "23e72b86",
   "metadata": {},
   "source": [
    "# Problem 2"
   ]
  },
  {
   "cell_type": "markdown",
   "id": "43858b25",
   "metadata": {},
   "source": [
    "a) What is the probability we get exactly one head?"
   ]
  },
  {
   "cell_type": "code",
   "execution_count": null,
   "id": "e2c108ba",
   "metadata": {},
   "outputs": [],
   "source": [
    "# your work or answer here \n",
    "q_2a = ..."
   ]
  },
  {
   "cell_type": "markdown",
   "id": "5d4d4647",
   "metadata": {},
   "source": [
    "b) What is the probability we get exactly one head, or exactly one tail?"
   ]
  },
  {
   "cell_type": "code",
   "execution_count": null,
   "id": "64d8edbe",
   "metadata": {},
   "outputs": [],
   "source": [
    "# your work or answer here \n",
    "q_2b = ..."
   ]
  },
  {
   "cell_type": "markdown",
   "id": "a9a14814",
   "metadata": {},
   "source": [
    "c) What is the probability we get at least one head?"
   ]
  },
  {
   "cell_type": "code",
   "execution_count": null,
   "id": "ae9f1105",
   "metadata": {},
   "outputs": [],
   "source": [
    "# your work or answer here \n",
    "q_2c = ..."
   ]
  },
  {
   "cell_type": "markdown",
   "id": "889a03f6",
   "metadata": {},
   "source": [
    "d) What is the probability we get at least one head, or at least one tail?"
   ]
  },
  {
   "cell_type": "code",
   "execution_count": null,
   "id": "3cf2bffb",
   "metadata": {},
   "outputs": [],
   "source": [
    "# your work or answer here \n",
    "q_2d = ..."
   ]
  },
  {
   "cell_type": "markdown",
   "id": "6de10d61",
   "metadata": {},
   "source": [
    "# Problem 3\n",
    "We are trying to forecast the weather. On days when it rains, we forecast\n",
    "that it rains correctly with 80% probability. On sunny days, we forecast that it is sunny\n",
    "properly with 90% probability. If it is sunny on 60% of days, then what is the probability\n",
    "our forecast is correct on an arbitrary day?"
   ]
  },
  {
   "cell_type": "code",
   "execution_count": null,
   "id": "1f74a651",
   "metadata": {},
   "outputs": [],
   "source": [
    "# your work or answer here \n",
    "q_3 = ..."
   ]
  },
  {
   "cell_type": "markdown",
   "id": "312b812d",
   "metadata": {},
   "source": [
    "# Problem 4\n",
    "..."
   ]
  },
  {
   "cell_type": "markdown",
   "id": "165778aa",
   "metadata": {},
   "source": [
    "# Problem 5\n",
    "\n",
    "Let’s flip 8 pennies, 4 nickels, 6 dimes and 1 quarter. Let $X$ be the amount of money that lands heads facing up."
   ]
  },
  {
   "cell_type": "markdown",
   "id": "ab4c2a75",
   "metadata": {},
   "source": [
    "a) Compute the mean $\\mu = E(X)$"
   ]
  },
  {
   "cell_type": "code",
   "execution_count": null,
   "id": "3cd93f62",
   "metadata": {},
   "outputs": [],
   "source": [
    "# your work or answer here \n",
    "q_5a = ..."
   ]
  },
  {
   "cell_type": "markdown",
   "id": "c0dc5a4b",
   "metadata": {},
   "source": [
    "b) Compute the standard deviation $\\sigma = \\sqrt{Var(X)}$."
   ]
  },
  {
   "cell_type": "code",
   "execution_count": null,
   "id": "3efab765",
   "metadata": {},
   "outputs": [],
   "source": [
    "# your work or answer here \n",
    "q_5b = ..."
   ]
  },
  {
   "cell_type": "markdown",
   "id": "d1171e5a",
   "metadata": {},
   "source": [
    "# Problem 6\n",
    "\n",
    "Let's have a population of 10 freshmen, 20 sophomores, 15 juniors, and 25 seniors in a classroom. We want to collect a sample of 20 of them in one of two ways:"
   ]
  },
  {
   "cell_type": "markdown",
   "id": "71265e72",
   "metadata": {},
   "source": [
    "a) What is the probability that we choose 5 freshmen, 4 sophomores, 3 juniors, and 8 seniors if we choose the sample with replacement? What kind of distribution should we use to solve for this?"
   ]
  },
  {
   "cell_type": "code",
   "execution_count": null,
   "id": "1bbba084",
   "metadata": {},
   "outputs": [],
   "source": [
    "# your work or answer here \n",
    "q_6a = ..."
   ]
  },
  {
   "cell_type": "markdown",
   "id": "a013da9c",
   "metadata": {},
   "source": [
    "b) What is the probability that we choose exactly 6 freshmen if we choose the sample without replacement? What kind of distribution should we use to solve for this?"
   ]
  },
  {
   "cell_type": "code",
   "execution_count": null,
   "id": "607deeaf",
   "metadata": {},
   "outputs": [],
   "source": [
    "# your work or answer here \n",
    "q_6b = ..."
   ]
  }
 ],
 "metadata": {
  "kernelspec": {
   "display_name": "Python 3 (ipykernel)",
   "language": "python",
   "name": "python3"
  },
  "language_info": {
   "codemirror_mode": {
    "name": "ipython",
    "version": 3
   },
   "file_extension": ".py",
   "mimetype": "text/x-python",
   "name": "python",
   "nbconvert_exporter": "python",
   "pygments_lexer": "ipython3",
   "version": "3.9.13"
  }
 },
 "nbformat": 4,
 "nbformat_minor": 5
}
