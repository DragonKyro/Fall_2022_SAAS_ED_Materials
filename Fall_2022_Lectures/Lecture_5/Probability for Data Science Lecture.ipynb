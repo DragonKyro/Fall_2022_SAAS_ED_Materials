{
 "cells": [
  {
   "cell_type": "markdown",
   "id": "b6858f32",
   "metadata": {},
   "source": [
    "# Lecture 5: Probability for Data Science\n",
    "\n",
    "## 10/18/22\n",
    "\n",
    "### Table of Contents\n",
    "1. [Counting](#count)\n",
    "2. [Probability](#prob)\n",
    "3. [Random Variables](#rv)\n",
    "4. [Expectation and Variance](#expvar)  \n",
    "5. [Binomial Distribution](#binomial)\n",
    "6. [Multinomial Distribution](#multinomial)\n",
    "7. [Geometric Distribution](#geometric)\n",
    "8. [Hypergeometric Distribution](#hypergeometric)\n",
    "9. [References/Resources](#ref)\n",
    "\n",
    "### Hosted by and maintained by the [Student Association for Applied Statistics (SAAS)](https://saas.berkeley.edu/).\n",
    "\n",
    "### Presented by [James Cheng](jamescheng@berkeley.edu) and Claire Mai (Fall 2022)."
   ]
  },
  {
   "cell_type": "code",
   "execution_count": 1,
   "id": "62f1eea7",
   "metadata": {},
   "outputs": [],
   "source": [
    "# initial setup code\n",
    "import seaborn as sns\n",
    "import csv\n",
    "import scipy\n",
    "import numpy as np\n",
    "import pandas as pd\n",
    "import matplotlib.pyplot as plt\n",
    "from scipy import stats\n",
    "import math\n",
    "\n",
    "%matplotlib inline\n",
    "plt.rcParams['figure.figsize'] = (16,8)\n",
    "plt.rcParams['figure.dpi'] = 150\n",
    "sns.set()\n",
    "\n",
    "from IPython.display import display, Latex, Markdown"
   ]
  },
  {
   "cell_type": "markdown",
   "id": "1a5ad72d",
   "metadata": {},
   "source": [
    "<a id='count'></a>\n",
    "# Counting\n",
    "\n",
    "***Permutation***: the ordered arrangement of k items out of a list of n. Calculated using the formula $_nP_k = \\frac{n!}{(n-k)!}$ or use the built in function: <br><br>`scipy.special.perm(n,k,exact = False)` *(when exact = false, any floats are rounded to the nearest integer)*<br><br>For example, you and 4 other friends (Sarah, Skyler, Claire, James) are visiting Imm Thai for the first time. There are 6 different entrees you can order from the menu (Pad Thai, Pad Se Ew, Chicken Curry, Duck Curry, Noodle Soup, Fried Rice). You each want to order a different dish. Permutation is the different ordered arrangements you all can pick.<br><br> Do you think order matters in this case? Why?"
   ]
  },
  {
   "cell_type": "markdown",
   "id": "59167269",
   "metadata": {},
   "source": [
    "**Question:** Write out some permutations for Imm Thai example <br>\n",
    "chicken curry, pad thai, duck curry, noodle, soup, fried rice\n",
    "\n",
    "**Question:** Use the formula or function provided above, calculate the permutation. What is n? What is k? <br>"
   ]
  },
  {
   "cell_type": "code",
   "execution_count": 2,
   "id": "5ff03a6a",
   "metadata": {},
   "outputs": [
    {
     "data": {
      "text/plain": [
       "720.0"
      ]
     },
     "execution_count": 2,
     "metadata": {},
     "output_type": "execute_result"
    }
   ],
   "source": [
    "# your code here\n",
    "scipy.special.perm(6, 5)"
   ]
  },
  {
   "cell_type": "markdown",
   "id": "156e0b07",
   "metadata": {},
   "source": [
    "***Combination***: all possible groupings of k items out of n items where order does not matter. Calculated using the formula $_nC_k = \\binom{n}{k} = \\frac{n!}{(n-k)!k!}$ or using the built in function: <br><br> `scipy.special.comb(n,k,exact = False, repetition = False)` *(when repetition = True, each element can be used more than one time)*<br><br>\n",
    "For example, the education committee needs to choose a group of 2 people to design and present the next CX lecture. Combination is the different possible groups we can choose. <br><br>\n",
    "Does order matter in this case? Why?"
   ]
  },
  {
   "cell_type": "markdown",
   "id": "d9b662f4",
   "metadata": {},
   "source": [
    "*Your answer here*"
   ]
  },
  {
   "cell_type": "markdown",
   "id": "1c740331",
   "metadata": {},
   "source": [
    "**Question:** The education committee lecturers include Ashwin, Carlos, Claire, James, Robert, Sarang, Suparna, and Wenhao. Write out some lecturer combinations for the next CX lecture. <br>\n",
    "Robert and James.\n",
    "\n",
    "<br> **Question:** Use the formula or function provided above, calculate the combination. What is n? What is k?"
   ]
  },
  {
   "cell_type": "code",
   "execution_count": 3,
   "id": "931b50fc",
   "metadata": {},
   "outputs": [
    {
     "data": {
      "text/plain": [
       "28.0"
      ]
     },
     "execution_count": 3,
     "metadata": {},
     "output_type": "execute_result"
    }
   ],
   "source": [
    "# your code here\n",
    "scipy.special.comb(8, 2)"
   ]
  },
  {
   "cell_type": "markdown",
   "id": "ded3e4bc",
   "metadata": {},
   "source": [
    "[Here](https://youtu.be/p8vIcmr_Pqo) is a helpful video that shows how to derive the formulas for permutation and combination."
   ]
  },
  {
   "cell_type": "markdown",
   "id": "bb58f8b0",
   "metadata": {},
   "source": [
    "<a id='prob'></a>\n",
    "# Probability\n",
    "\n",
    "How do you define probability?\n"
   ]
  },
  {
   "cell_type": "markdown",
   "id": "887666b5",
   "metadata": {},
   "source": [
    "<img src='lecture_images/prob_joke.jpg'>"
   ]
  },
  {
   "cell_type": "markdown",
   "id": "de87c746",
   "metadata": {},
   "source": [
    "One definition is the branch of mathematics that calculates, estimates, or simulates the likelihood of a given event. In today's lesson we will explore various probability properties, definitions, and distributions."
   ]
  },
  {
   "cell_type": "markdown",
   "id": "f75deb6b",
   "metadata": {},
   "source": [
    "## Adding\n",
    "**Mutually Exclusive/Disjoint**: Given two events, at most one can occur. Both events cannot occur simultaneously.\n",
    "\n",
    "Examples: \n",
    "<ol>\n",
    "<li>Flipping heads or tails in one coin toss</li>\n",
    "<li>Getting an even or odd number in one roll of a die</li>\n",
    "<li>Drawing a face card or number card from a standard deck of 52 cards</li>\n",
    "<li><b>Fill this in with your own example</b></li>\n",
    "</ol>\n"
   ]
  },
  {
   "cell_type": "markdown",
   "id": "cce64237",
   "metadata": {},
   "source": [
    "<img src=\"lecture_images/mutually_exclusive.png\" alt=\"mutually_exclusive\" width=\"500\"/>"
   ]
  },
  {
   "cell_type": "markdown",
   "id": "54118237",
   "metadata": {},
   "source": [
    "***Addition Rule***: If two events $A$ and $B$ are **mutually exclusive**, then the probability that either event will occur (the **union** of $A$ and $B$) is the sum of the probabilities that each individual event will occur, so $P(A \\cup B) = P(A) + P(B)$.\n",
    "\n",
    "**Exercise**: In the cell below, calculate the probability that either you draw a face card or a number card. \n",
    "\n",
    "**Hint**: A standard deck of 52 cards has 4 suites: Hearts, Spades, Clubs, Diamonds. Each suite has 3 face cards (King, Queen, and Jack) and 9 number cards (2 through 10).\n",
    "<img src=\"lecture_images/card_suites.jpg\" alt=\"card_suites\" width=\"200\"/>"
   ]
  },
  {
   "cell_type": "code",
   "execution_count": 4,
   "id": "53693144",
   "metadata": {},
   "outputs": [
    {
     "data": {
      "text/plain": [
       "0.9230769230769231"
      ]
     },
     "execution_count": 4,
     "metadata": {},
     "output_type": "execute_result"
    }
   ],
   "source": [
    "prob_face_card = 12/52\n",
    "prob_number_card = 36/52\n",
    "prob_face_or_number = prob_face_card + prob_number_card\n",
    "prob_face_or_number"
   ]
  },
  {
   "cell_type": "markdown",
   "id": "8c1c3803",
   "metadata": {},
   "source": [
    "The Addition Rule can be expanded to multiple events, as long as they are all mutually exclusive. \n",
    "\n",
    "Given $n$ mutually exclusive events $A_1, A_2, ... , A_n$, then:\n",
    "\n",
    "$$P(\\bigcup_{i=1}^{n}A_i) = \\sum_{i=1}^{n}P(A_i)$$"
   ]
  },
  {
   "cell_type": "markdown",
   "id": "4e7a78d5",
   "metadata": {},
   "source": [
    "What happens when two events $A$ and $B$ are ***not*** mutually exclusive? \n",
    "\n",
    "This means there is a nonzero probability that both events occur, which is the **intersection** of $A$ and $B$. We denote this as the $P(A\\cap B)$, which is often written as $P(A$ and $B)$ or $P(AB)$. The intersection is represented by the overlapping region in the figure below."
   ]
  },
  {
   "cell_type": "markdown",
   "id": "bc98dc1b",
   "metadata": {},
   "source": [
    "<img src=\"lecture_images/intersection.png\" width=\"400\"/>"
   ]
  },
  {
   "cell_type": "markdown",
   "id": "b7c52775",
   "metadata": {},
   "source": [
    "In order to calculate the probability that either $A$ or $B$ occurs, we have to subtract the intersection of the two events otherwise we count this probability twice. This means that $$P(A\\cup B) = P(A) + P(B) - P(A \\cap B)$$."
   ]
  },
  {
   "cell_type": "markdown",
   "id": "bab95883",
   "metadata": {},
   "source": [
    "**Exercise**: Suppose we randomly choose a CX member from the list of 12 names below. Calculate the probability that we choose either a name with more than 5 letters or a name with 2 syllables.\n",
    " - **List of CX members**: \n",
    "- Aathreya (3 syllables)\n",
    "- Brandon (2 syllables)\n",
    "- Elizabeth (4 syllables)\n",
    "- Ethan (2 syllables)\n",
    "- Evan (2 syllables)\n",
    "- Gizell (2 syllables)\n",
    "- Jon (1 syllable)\n",
    "- Jinn (1 syllable)\n",
    "- Rachel (2 syllables)\n",
    "- Tom (1 syllable)\n",
    "- Tiffany (3 syllables)\n",
    "- Wenyi (2 syllables)"
   ]
  },
  {
   "cell_type": "code",
   "execution_count": 5,
   "id": "b22be14f",
   "metadata": {},
   "outputs": [
    {
     "data": {
      "text/plain": [
       "0.75"
      ]
     },
     "execution_count": 5,
     "metadata": {},
     "output_type": "execute_result"
    }
   ],
   "source": [
    "prob_more_than_5 = 6/12\n",
    "prob_2_syllables = 6/12\n",
    "prob_both = 3/12\n",
    "prob_either = prob_more_than_5 + prob_2_syllables - prob_both\n",
    "prob_either"
   ]
  },
  {
   "cell_type": "markdown",
   "id": "3644ff1f",
   "metadata": {},
   "source": [
    "***Inclusion-Exclusion Principle***: The calculation of the union of events can also be extended to multiple, not necessarily mutually exclusive events. \n",
    "\n",
    "Given $n$ events $A_1, A_2, ... , A_n$, then:\n",
    "\n",
    "$$P(\\bigcup_{i=1}^{n}A_i) = \\sum_{i=1}^{n}P(A_i) - \\sum_{1\\leq{i}<}\\sum_{j\\leq{n}}P(A_iA_j) + \\sum_{1\\leq{i}<}\\sum_{j<k}\\sum_{\\leq{n}}P(A_iA_jA_k) - ... + (-1)^{n-1}P(A_1A_2...A_n)$$\n",
    "\n",
    "This formula looks complicated but it's just the result of including the probabilities of all events, excluding intersections of two events, including intersections of three events, exlcuding intersections of four events, etc.\n",
    "\n",
    "Check out this cool [matching problem](http://prob140.org/textbook/content/Chapter_05/03_The_Matching_Problem.html) using Inclusion-Exclusion."
   ]
  },
  {
   "cell_type": "markdown",
   "id": "661a4225",
   "metadata": {},
   "source": [
    "***Complement***: Given an event $A$, the complement of $A$ (denoted by $A^C$) is the probability that $A$ does ***not*** happen. Since the total probability adds up to one, this means that $P(A^C) = 1 - P(A).$"
   ]
  },
  {
   "cell_type": "markdown",
   "id": "4a751743",
   "metadata": {},
   "source": [
    "<img src=\"lecture_images/complement.png\" alt=\"complement\" width=\"400\"/>"
   ]
  },
  {
   "cell_type": "markdown",
   "id": "34cc4cd3",
   "metadata": {},
   "source": [
    "**Note**: Sometimes, calculating the probability of the complement of an event is easier than calculating the probability of the event. In the example from earlier of calculating the probability of drawing either a face card or a number card, we might notice that Ace is the only card that is not a face or number card. \n",
    "\n",
    "**Exercise**: In the cell below, calculate the probability of ***not*** drawing an Ace."
   ]
  },
  {
   "cell_type": "code",
   "execution_count": 6,
   "id": "308d8b55",
   "metadata": {},
   "outputs": [
    {
     "data": {
      "text/plain": [
       "0.9230769230769231"
      ]
     },
     "execution_count": 6,
     "metadata": {},
     "output_type": "execute_result"
    }
   ],
   "source": [
    "# your code here\n",
    "1 - 4/52"
   ]
  },
  {
   "cell_type": "markdown",
   "id": "bbb04ab4",
   "metadata": {},
   "source": [
    "Compare this with the probability we calculated before using the Addition Rule:"
   ]
  },
  {
   "cell_type": "code",
   "execution_count": 7,
   "id": "8652708a",
   "metadata": {},
   "outputs": [
    {
     "data": {
      "text/plain": [
       "0.9230769230769231"
      ]
     },
     "execution_count": 7,
     "metadata": {},
     "output_type": "execute_result"
    }
   ],
   "source": [
    "prob_face_or_number"
   ]
  },
  {
   "cell_type": "markdown",
   "id": "262c3af1",
   "metadata": {},
   "source": [
    "**Exercise (Monty Hall Problem)**: This is a puzzle based on an old American game show. There are three doors in front of you: behind two doors are goats, and behind one door is a prize car. You point to one of the doors. Then, the host opens one of the other two doors, and that door has a goat. Now, you can either stick to your initial choice or switch to the other unopened door. You win if you choose the door with the prize. Should you switch?"
   ]
  },
  {
   "cell_type": "markdown",
   "id": "8d7b5568",
   "metadata": {},
   "source": [
    "Your answer here"
   ]
  },
  {
   "cell_type": "markdown",
   "id": "432d3087",
   "metadata": {},
   "source": [
    "Here is a [video](https://www.youtube.com/watch?v=7WvlPgIjx_M&ab_channel=BonCrowderPresents) that explains the Monty Hall Problem using a probability tree (listing out possible outcomes). There are many ways to think about the problem!"
   ]
  },
  {
   "cell_type": "markdown",
   "id": "574fe868",
   "metadata": {},
   "source": [
    "## Multiplication"
   ]
  },
  {
   "cell_type": "markdown",
   "id": "1d4b9d8f",
   "metadata": {},
   "source": [
    "***Conditional Probability***: Suppose we have two events, $A$ and $B$. The conditional probability of $A$ given $B$, denoted as $P(A | B)$, is the probability that $A$ occurs, given that $B$ has already occurred. We calculate this with the following formula: $$P(A | B) = \\frac{P(A \\cap B)}{P(B)}$$\n",
    "\n",
    "***Multiplication Rule***: The probability that both $A$ and $B$ occur can be calculated using conditional probability as defined above. \n",
    "\n",
    "$$P(A \\cap B) = P(A | B) P(B)$$\n",
    "\n",
    "**Exercise**: How would you calculate $P(A \\cap B)$ using $P(B | A)$? Replace the question mark with your answer below.\n",
    "\n",
    "$$P(A \\cap B) = P(B | A) * P(A)$$"
   ]
  },
  {
   "cell_type": "markdown",
   "id": "539744cf",
   "metadata": {},
   "source": [
    "***Bayes' Rule***: Using $P(A \\cap B) = P(A | B) P(B)$ and $P(A \\cap B) = P(B | A) P(A)$, we can set both right hand sides equal to one another with $P(A | B) P(B) = P(B | A) P(A)$. Dividing both sides by $P(B)$, we get Bayes' Rule: $$P(A | B) = \\frac{P(B | A) P(A)}{P(B)}$$ The right-hand side of the equation is also equal to $\\frac{P(B | A) P(A)}{P(B | A) P(A) + P(B | A^c) P(A^c)}$, where the denominator makes use of the Law of Total Probability. Essentially, we are finding all possible ways that B can occur given whether A occurs (or not), and then adding the probabilities."
   ]
  },
  {
   "cell_type": "markdown",
   "id": "e16d7b6f",
   "metadata": {},
   "source": [
    "Bayes' Rule is extremely useful for calculating conditional probabilities because sometimes $P(B|A)$ is much easier to calculate then $P(A|B)$."
   ]
  },
  {
   "cell_type": "markdown",
   "id": "2dcace4a",
   "metadata": {},
   "source": [
    "**Exercise**: Here is a question posed by researcher and professor Chris Wiggins to a group of medical students: \"A patient goes to see a doctor. The doctor performs a test with 99 percent reliability--that is, 99 percent of people who are sick test positive and 99 percent of the healthy people test negative. The doctor knows that only 1 percent of the people in the country are sick. Now the question is: if the patient tests positive, what are the chances the patient is sick?\" "
   ]
  },
  {
   "cell_type": "code",
   "execution_count": 9,
   "id": "2bb69c65",
   "metadata": {},
   "outputs": [
    {
     "data": {
      "text/plain": [
       "0.9166666666666666"
      ]
     },
     "execution_count": 9,
     "metadata": {},
     "output_type": "execute_result"
    }
   ],
   "source": [
    "# Your answer here\n",
    "prob_positive_if_sick = 0.99\n",
    "prob_positive_if_healthy = 0.01\n",
    "prob_sick = 0.10\n",
    "prob_healthy = 1 - prob_sick\n",
    "prob_positive = prob_positive_if_sick * prob_sick + prob_positive_if_healthy * prob_healthy\n",
    "prob_sick_if_positive = prob_positive_if_sick * prob_sick / prob_positive\n",
    "prob_sick_if_positive"
   ]
  },
  {
   "cell_type": "markdown",
   "id": "91f657c9",
   "metadata": {},
   "source": [
    "Intuitively, you might have thought that $P(sick | positive)$ is 0.99! However, the actual probability is 0.5, which is much lower than we might've thought. The reason it is lower is that the probability of being sick in general is 0.01, which is very low! However, if 10% of the country are sick, then $P(sick | positive) = 0.9166$, which is much higher, as expected."
   ]
  },
  {
   "cell_type": "markdown",
   "id": "89c16186",
   "metadata": {},
   "source": [
    "**Independence**: $A$ and $B$ are independent if $P(A|B) = P(A)$. This means that the outcome of $B$ does not affect the outcome of $A$ and vice versa. Using the Multiplication Rule, we can see that $P(AB) = P(A) * P(B)$ if A and B are independent."
   ]
  },
  {
   "cell_type": "markdown",
   "id": "86bf5d44",
   "metadata": {},
   "source": [
    "**Exercise**: Using the complement rule and independence, calculate the probability that in 10 rolls of a fair die, at least one 6 is rolled."
   ]
  },
  {
   "cell_type": "code",
   "execution_count": 10,
   "id": "4e927b5f",
   "metadata": {},
   "outputs": [
    {
     "data": {
      "text/plain": [
       "0.8384944171101543"
      ]
     },
     "execution_count": 10,
     "metadata": {},
     "output_type": "execute_result"
    }
   ],
   "source": [
    "# your code here\n",
    "1 - (5/6)**10"
   ]
  },
  {
   "cell_type": "markdown",
   "id": "e344b050",
   "metadata": {},
   "source": [
    "<a id='rv'></a>\n",
    "# Random Variables\n",
    "So far, we have been referring to events such as $A$ and $B$ but have not formally defined them as variables.\n",
    "\n",
    "**Random Variable**: A numerical function defined on an outcome space.\n",
    "\n",
    "In the example below, our random variable $X$ represents the toss of a coin where the outcome space is $\\{H, T\\}$."
   ]
  },
  {
   "cell_type": "markdown",
   "id": "b813ffd9",
   "metadata": {},
   "source": [
    "<img src='lecture_images/random_variable.svg' width=400px>"
   ]
  },
  {
   "cell_type": "markdown",
   "id": "915f011d",
   "metadata": {},
   "source": [
    "**Note**: If the probability that the coin lands as heads is $p$ and the probability that the coin lands as tails is $1-p$, then $X$ has a **Bernoulli(p)** distribution. One toss of a fair coin has a $Bernoulli(.5)$ distribution. Rolling a 6 vs. any other number on a fair die has a $Bernoulli(1/6)$ distribution.\n",
    "\n",
    "\n",
    "The code below gives us the outcome space of two tosses of a coin."
   ]
  },
  {
   "cell_type": "code",
   "execution_count": 11,
   "id": "6fde8ca3",
   "metadata": {},
   "outputs": [
    {
     "data": {
      "text/plain": [
       "[('H', 'H'), ('H', 'T'), ('T', 'H'), ('T', 'T')]"
      ]
     },
     "execution_count": 11,
     "metadata": {},
     "output_type": "execute_result"
    }
   ],
   "source": [
    "from itertools import product\n",
    "one_toss = np.array(['H', 'T'])\n",
    "two_tosses = list(product(one_toss, repeat=2))\n",
    "two_tosses"
   ]
  },
  {
   "cell_type": "markdown",
   "id": "09b7b88e",
   "metadata": {},
   "source": [
    "<a id='expvar'></a>\n",
    "# Expectation and Variance\n",
    "**Expectation**: The expected value of a random variable $X$ is the average of the possible values weighted by each respective probability. \n",
    "\n",
    "$$E(X) = \\sum_{\\text{all } x}xP(X=x)$$\n",
    "\n",
    "For a $Bernoulli(p)$ variable $X$, we have the following possible values and their corresponding probabilities:\n",
    "\n",
    "| Possible Values | Probability |\n",
    "| -----------     | ----------- |\n",
    "| 1               | $p$         |\n",
    "| 0               | $1-p$       |\n",
    "\n",
    "So the calculation of the expectation of $X$ is $E(X) = 1*P(X=1) + 0*P(X=0) = 1(p) + 0(1-p) = p$."
   ]
  },
  {
   "cell_type": "markdown",
   "id": "55e0163b",
   "metadata": {},
   "source": [
    "**Exercise**: What is the expected value of rolling a fair die? Use the cell below for calculations if you need it."
   ]
  },
  {
   "cell_type": "code",
   "execution_count": 12,
   "id": "b5318950",
   "metadata": {},
   "outputs": [
    {
     "data": {
      "text/plain": [
       "3.5"
      ]
     },
     "execution_count": 12,
     "metadata": {},
     "output_type": "execute_result"
    }
   ],
   "source": [
    "# Use this cell to calculate the expectation of rolling a fair die\n",
    "(1 + 2 + 3 + 4 + 5 +6) * 1/6"
   ]
  },
  {
   "cell_type": "markdown",
   "id": "c22fea22",
   "metadata": {},
   "source": [
    "The code below simulates 10,000 rolls of a fair die and calculates the mean. Compare this to your expected value."
   ]
  },
  {
   "cell_type": "code",
   "execution_count": 13,
   "id": "b0dc0396",
   "metadata": {},
   "outputs": [
    {
     "data": {
      "text/plain": [
       "3.5014"
      ]
     },
     "execution_count": 13,
     "metadata": {},
     "output_type": "execute_result"
    }
   ],
   "source": [
    "die_rolls = []\n",
    "for i in range(10000): # Try changing the number of rolls to see what happens\n",
    "    one_roll = np.random.randint(1, 7)\n",
    "    die_rolls.append(one_roll)\n",
    "np.mean(die_rolls)"
   ]
  },
  {
   "cell_type": "markdown",
   "id": "bf1eb709",
   "metadata": {},
   "source": [
    "The expectation of a random variable can be thought of as the long run average value of independently generated values of the variable.\n",
    "\n",
    "**Linearity of Expectation**\n",
    "<ol>\n",
    "<li>The expected value of a constant is itself. So given a constant $c$, $E(c) = c$.</li>\n",
    "<li>Expectation is <b>additive</b>. This means that for two random variables $X$ and $Y$, $E(X+Y) = E(X) + E(Y)$ </li>\n",
    "</ol>\n",
    "\n",
    "When we combine these two properties, we get the linearity of expectation.\n",
    "\n",
    "For some constant $c$ and random variables $X$ and $Y$: $$E(cX+Y) = c*E(X) + E(Y)$$.\n",
    "\n",
    "Note that there are no assumptions about $X$ and $Y$, they could be independent or dependent.\n",
    "\n",
    "**Exercise**: Given $E(X) = 9$ and $E(Y) = 4$, replace the question mark with the answer to the equation below.\n",
    "\n",
    "$$E(2X-3Y+6) = 12$$\n"
   ]
  },
  {
   "cell_type": "markdown",
   "id": "3a955126",
   "metadata": {},
   "source": [
    "**Variance**: The variance of a random variable $X$ (often denoted as $\\sigma_{x}^2$) is the expected value of the square of deviations from the mean. \n",
    "\n",
    "$$Var(X) = \\sigma_{x}^{2} = E((X-E(X))^2)$$ \n",
    "\n",
    "Let $E(X) = \\mu_x$ then we have:\n",
    "\n",
    "$$Var(X) = \\sigma_{x}^{2} = E((X-\\mu_x)^2)$$ \n"
   ]
  },
  {
   "cell_type": "markdown",
   "id": "9d3a097d",
   "metadata": {},
   "source": [
    "**Standard Deviation**: The standard deviation of $X$ (often denoted as $\\sigma_{x}$) is simply the square root of the variance. This puts the standard deviation in the same units as $X$ and $E(X)$. \n",
    "\n",
    "$$\\sigma_x = \\sqrt{E((X-\\mu_x)^2)}$$"
   ]
  },
  {
   "cell_type": "markdown",
   "id": "a9cfc508",
   "metadata": {},
   "source": [
    "\n",
    "**Properties of Variance and Standard Deviation**\n",
    "<ol>\n",
    "<li>Given a constant c, $Var(cX) = c^2Var(X) = c^2\\sigma_{x}^2$.</li>\n",
    "<li>For standard deviation, $SD(cX) = |c|SD(X) = |c|\\sigma_x$. </li>\n",
    "<li>Shifts do not affect variance since the values are still the same in relation to each other. So for a constant $b$, $Var(X + b) = Var(X) = \\sigma_{x}^2$.</li>\n",
    "<li>Similarly for standard deviation, $SD(X + b) = SD(X) = \\sigma_x$</li>\n",
    "    \n",
    "</ol>\n",
    "\n",
    "**Exercise**: Using properties we have learned so far, calculate $Var(X)$ in terms of $E(X)$ and $\\mu_{x}^2$.\n",
    "\n",
    "Check your answer [here](http://prob140.org/textbook/content/Chapter_12/01_Definition.html#computational-formula-for-variance)."
   ]
  },
  {
   "cell_type": "markdown",
   "id": "d56336b2",
   "metadata": {},
   "source": [
    "<a id='binomial'></a>\n",
    "# Binomial Distribution\n",
    "\n",
    "Earlier we defined the $Bernoulli(p)$ distribution. The binomial distribution is an extension of the Bernoulli distribution and finds the probability of $k$ successes in $n$ independent Bernoulli trials each with probability $p$ of success.\n",
    "\n",
    "If a random variable $X$ has a $Binomial(n, p)$ distribution, then:\n",
    "\n",
    "$$P(X=k) = {n \\choose k}p^k(1-p)^{n-k}$$ \n"
   ]
  },
  {
   "cell_type": "markdown",
   "id": "1e46671b",
   "metadata": {},
   "source": [
    "**Exercise**: Find the probability that you get exactly 7 heads in 15 tosses of a biased coin where $p = .25$.\n",
    "\n",
    "**Hint**: Feel free to use `scipy.special.comb(n, k)`. Documentation is linked [here](https://docs.scipy.org/doc/scipy/reference/generated/scipy.special.comb.html)"
   ]
  },
  {
   "cell_type": "code",
   "execution_count": 14,
   "id": "c6fbb6c1",
   "metadata": {},
   "outputs": [
    {
     "data": {
      "text/plain": [
       "0.039320471696555614"
      ]
     },
     "execution_count": 14,
     "metadata": {},
     "output_type": "execute_result"
    }
   ],
   "source": [
    "prob_7_H = scipy.special.comb(15, 7) * 0.25 ** 7 * (1 - 0.25) ** 8\n",
    "prob_7_H"
   ]
  },
  {
   "cell_type": "markdown",
   "id": "4e79932d",
   "metadata": {},
   "source": [
    "Now calculate this exercise using `stats.binom.pmf(k, n, p).` Documentation is linked [here](https://docs.scipy.org/doc/scipy/reference/generated/scipy.stats.binom.html)"
   ]
  },
  {
   "cell_type": "code",
   "execution_count": 15,
   "id": "1e258f3b",
   "metadata": {},
   "outputs": [
    {
     "data": {
      "text/plain": [
       "0.0393204716965556"
      ]
     },
     "execution_count": 15,
     "metadata": {},
     "output_type": "execute_result"
    }
   ],
   "source": [
    "prob_7_H = stats.binom.pmf(7, 15, 0.25)\n",
    "prob_7_H"
   ]
  },
  {
   "cell_type": "markdown",
   "id": "42191b62",
   "metadata": {},
   "source": [
    "We can actually visualize what the probability of getting all possible values of k successes on a histogram using `stats.binom.pmf(k, n, p)` by passing in k as an array of all of the possible values that X can take on. "
   ]
  },
  {
   "cell_type": "code",
   "execution_count": 16,
   "id": "c2111ec8",
   "metadata": {
    "scrolled": true
   },
   "outputs": [
    {
     "data": {
      "image/png": "[encoded data removed]",
      "text/plain": [
       "<Figure size 2400x1200 with 1 Axes>"
      ]
     },
     "metadata": {},
     "output_type": "display_data"
    }
   ],
   "source": [
    "possible_values = np.arange(15)\n",
    "all_probabilities = stats.binom.pmf(possible_values, 15, 0.25)\n",
    "plt.bar(possible_values, all_probabilities);"
   ]
  },
  {
   "cell_type": "markdown",
   "id": "807ff036",
   "metadata": {},
   "source": [
    "<a id='multinomial'></a>\n",
    "# Multinomial Distribution\n",
    "\n",
    "We just defined the binomial distribution as number of sucesses in $n$ trials. When we flip a coin, our coin can land in one of 2 categories: heads or tails. We can extend this to multiple classes. If we were drawing from a jar of red, green, and white balls with replacement, we can calculate the distribution of how many red, green, and white balls we chose. \n",
    "\n",
    "In the binomial case, when we calculate the probability of getting k successes, we are also essentially saying we want to get n - k failures. In the multinomial case with more than 2 categories, we have to define ourselves how many we want in each category.\n",
    "\n",
    "The formula for calculating the multinomial distribution is as follows:\n",
    "\n",
    "$$P(N_1 = n_1, N_2 = n_2, ..., N_k = n_k) = \\frac{n!}{n_1!n_2!...n_k!}p_1^{n_1}p_2^{n_2}...p_k^{n_k}$$\n",
    "\n",
    "where $n_i \\geq 0$ for $1 \\leq i \\leq k$ and $\\sum_{i=1}^{k}p_i = 1$ and $\\sum_{i=1}^{k}n_i = n$\n",
    "\n",
    "**Exercise**: Suppose you have a box of 10 red, 7 green, and 3 white balls. You draw one ball from the box at random with replacement a total of 10 times. What is the probability you choose 6 red, 2 green, and 2 white balls?"
   ]
  },
  {
   "cell_type": "code",
   "execution_count": null,
   "id": "7cdf56a0",
   "metadata": {},
   "outputs": [],
   "source": [
    "n = ...   # number of trials\n",
    "k = ... # array of what we want our sample to look like; should sum to n\n",
    "p = ... # array of the probabilities of falling into each category; should sum to 1\n",
    "stats.multinomial.pmf(k, n, p)"
   ]
  },
  {
   "cell_type": "markdown",
   "id": "be6dc950",
   "metadata": {},
   "source": [
    "<a id='geometric'></a>\n",
    "# Geometric Distribution\n",
    "\n",
    "While the binomial distribution answers the question of \"How many sucesses in $n$ trials\", the geometric distribution answers, \"How many trials do we need to run to get our first success?\".\n",
    "\n",
    "If a random variable $X$ has a $Geometric(p)$ distribution, then:\n",
    "\n",
    "$$P(X=k) = (1-p)^{k-1}p$$ \n",
    "\n",
    "**Exercise**: Suppose you have a biased coin that lands heads with probability 0.8. Find the probability that it takes you 6 tosses to get your first head."
   ]
  },
  {
   "cell_type": "code",
   "execution_count": 17,
   "id": "82e3f8c2",
   "metadata": {},
   "outputs": [
    {
     "data": {
      "text/plain": [
       "0.0002559999999999997"
      ]
     },
     "execution_count": 17,
     "metadata": {},
     "output_type": "execute_result"
    }
   ],
   "source": [
    "prob_6_trials = (1-0.8)**5 * 0.8\n",
    "prob_6_trials"
   ]
  },
  {
   "cell_type": "markdown",
   "id": "fb32caf6",
   "metadata": {},
   "source": [
    "<a id='hypergeometric'></a>\n",
    "# Hypergeometric Distribution\n",
    "\n",
    "Though it has geometric in the name, a hypergeometric distribution is actually not super related to the geometric distribution. The hypergeometric distribution is more similar to the multinomial distribution with one main difference: the multinomial distribution is for drawing with replacement, while the hypergeometric distribution is for drawing without replacement (ex. drawing a sample). A hypergeometric distribution is used in the following scenario taken from the Data 140 textbook:\n",
    "\n",
    "Suppose you have a population of a fixed size $N$, and suppose you are interested in a particular group of those $N$ individuals. Let’s call them “successes” or “good elements”. For example, you might be interested in:\n",
    "\n",
    "- a population of voters, and among them the group who will vote for a particular candidate\n",
    "\n",
    "- a population of households, and among them the group that have annual incomes below $50,000\n",
    "\n",
    "- a deck of cards, and the suit of diamonds\n",
    "\n",
    "Let $N = G + B$ where $G$ is the number of good elements and $B$ the remaining number of elements which we will unkindly describe as “bad”.\n",
    "\n",
    "Now suppose you take a simple random sample (SRS) of  elements from the population.\n",
    "\n",
    "Let $X$ be the number of good elements in the sample. What is the distribution of $X$?\n",
    "\n",
    "$$P(X=g) = \\frac{{G \\choose g} {B \\choose b}}{{N \\choose n}}, g + b = n$$\n",
    "\n",
    "We can also use the `scipy.stats` library, documentation is [here](https://docs.scipy.org/doc/scipy/reference/generated/scipy.stats.hypergeom.html), to calculate the probability in Python.\n",
    "\n",
    "**Example:** Suppose we have a standard deck of cards with 52 cards, and within the 52 cards, there are 13 suits and 4 cards of each suit. We decide to randomly pick 5 cards from the shuffled deck. What is the probability that we get 2 Aces within the 5 cards that we sampled?"
   ]
  },
  {
   "cell_type": "code",
   "execution_count": 18,
   "id": "7a221aad",
   "metadata": {},
   "outputs": [
    {
     "data": {
      "text/plain": [
       "0.039929818081078594"
      ]
     },
     "execution_count": 18,
     "metadata": {},
     "output_type": "execute_result"
    }
   ],
   "source": [
    "g = 2  # how many good elements we want to choose\n",
    "N = 52 # population size\n",
    "G = 4  # number of good elements in population\n",
    "n = 5  # simple random sample size\n",
    "stats.hypergeom.pmf(g, N, G, n)"
   ]
  },
  {
   "cell_type": "markdown",
   "id": "358e01cd",
   "metadata": {},
   "source": [
    "**Exercise:** Suppose we have a standard deck of cards with 52 cards, and within the 52 cards, there are 13 suits and 4 cards of each suit. We decide to randomly pick 4 cards from the shuffled deck. What is the probability that all of the cards we sampled are face cards (J, Q, K)?"
   ]
  },
  {
   "cell_type": "code",
   "execution_count": 19,
   "id": "ff32d524",
   "metadata": {},
   "outputs": [
    {
     "data": {
      "text/plain": [
       "0.0018284236771631743"
      ]
     },
     "execution_count": 19,
     "metadata": {},
     "output_type": "execute_result"
    }
   ],
   "source": [
    "g = 4  # how many good elements we want to choose\n",
    "N = 52  # population size\n",
    "G = 12  # number of good elements in population\n",
    "n = 4  # simple random sample size\n",
    "stats.hypergeom.pmf(g, N, G, n)"
   ]
  },
  {
   "cell_type": "markdown",
   "id": "37202bdc",
   "metadata": {},
   "source": [
    "<a id='normal'></a>\n",
    "# Normal Distribution\n",
    "A **continuous** random variable follows the normal distribution if it has most values clustered around some mean $\\mu$ and tapers off symmetrically to the extremes. We indicate a normal random variable as $X \\sim \\mathcal{N}(\\mu, \\sigma^2)$ where $\\mu$ is the mean and $\\sigma^2$ is the variance. The area under a normal curve is always 1. \n",
    "\n",
    "The function has its peak at the mean, and its “spread” increases with the standard deviation. The normal distribution is useful for the Central Limit Theorem which will be covered in a later lecture. \n",
    "\n",
    "The standard normal distribution has a mean of 0, and standard deviation of 1. We can convert any normal distribution to the standard normal distribution by calculating the z scores.\n",
    "\n",
    "<img src='lecture_images/standard_normal.png' width=500px>"
   ]
  },
  {
   "cell_type": "markdown",
   "id": "7fcfe423",
   "metadata": {},
   "source": [
    "One convenient characteristic of the normal distribution is the 68 - 95 - 99.7 rule.\n",
    "<img src='lecture_images/68-95-997-rule.png' width=500px>  \n",
    "Let's test out this rule on the standard normal distribution. \n",
    "\n",
    "`stats.norm(mu,sigma).cdf(x)` will give you the CDF of x where all x are follow a normal distribution with mean of $\\mu$ and standard deviation of $\\sigma$. Note that the function takes in the standard deviation $\\sigma$, not variance $\\sigma^2$. A CDF is the the probability that x is less than or equal to a value, or $P(X \\leq x)$ for any random variable $X$.\n",
    "\n",
    "What are the parameters for a standard normal distribution? Mean of 0 and standard deviation of 1.<br>\n",
    "What does it mean when I type in `stats.norm(0,1).cdf(0)`? What should the answer be?"
   ]
  },
  {
   "cell_type": "code",
   "execution_count": 20,
   "id": "521ff40e",
   "metadata": {},
   "outputs": [
    {
     "data": {
      "text/plain": [
       "0.5"
      ]
     },
     "execution_count": 20,
     "metadata": {},
     "output_type": "execute_result"
    }
   ],
   "source": [
    "# Guess what the below cell should return!\n",
    "stats.norm(0,1).cdf(0)"
   ]
  },
  {
   "cell_type": "markdown",
   "id": "8716ef81",
   "metadata": {},
   "source": [
    "Now, let's test out the 68-95-99.7 rule:"
   ]
  },
  {
   "cell_type": "code",
   "execution_count": 21,
   "id": "830512f9",
   "metadata": {},
   "outputs": [
    {
     "name": "stdout",
     "output_type": "stream",
     "text": [
      "Probability that X is one standard deviation away from the mean: 0.6826894921370859\n",
      "Probability that X is two standard deviations away from the mean: 0.9544997361036416\n",
      "Probability that X is three standard deviations away from the mean: 0.9973002039367398\n"
     ]
    }
   ],
   "source": [
    "# your code here\n",
    "prob_one_sd_away = stats.norm(0,1).cdf(1) - stats.norm(0, 1).cdf(-1)\n",
    "prob_two_sd_away = stats.norm(0,1).cdf(2) - stats.norm(0, 1).cdf(-2)\n",
    "prob_three_sd_away = stats.norm(0,1).cdf(3) - stats.norm(0, 1).cdf(-3)\n",
    "\n",
    "print(f\"Probability that X is one standard deviation away from the mean: {prob_one_sd_away}\")\n",
    "print(f\"Probability that X is two standard deviations away from the mean: {prob_two_sd_away}\")\n",
    "print(f\"Probability that X is three standard deviations away from the mean: {prob_three_sd_away}\")"
   ]
  },
  {
   "cell_type": "markdown",
   "id": "0a635281",
   "metadata": {},
   "source": [
    "**Exercise:** Assume the class midterm average follows a normal distribution with mean of 65 and standard deviation of 10. What is the score range for the middle 95% scores?"
   ]
  },
  {
   "cell_type": "markdown",
   "id": "29f21a69",
   "metadata": {},
   "source": [
    "**Exercise:** James scored 85 points on the midterm. What percent of the class scored better than him? <br> How about if he scored 74 points?"
   ]
  },
  {
   "cell_type": "code",
   "execution_count": null,
   "id": "7a485d9c",
   "metadata": {},
   "outputs": [],
   "source": [
    "# your work here\n",
    "# part 1\n",
    "percent_better1 = ...\n",
    "\n",
    "# part 2\n",
    "percent_better2 = ..."
   ]
  },
  {
   "cell_type": "markdown",
   "id": "5aaac95d",
   "metadata": {},
   "source": [
    "That's it for this lecture! Today, we went over counting, probability, (mostly discrete) random variables, expectation and variance, and dipped our feet into continuous random variables in the form of the normal distribution! Now, you have an idea of how to deal with randomness with probability. We hope you had fun!"
   ]
  },
  {
   "cell_type": "markdown",
   "id": "d9f3464b",
   "metadata": {},
   "source": [
    "<a id='ref'></a>\n",
    "# Resources"
   ]
  },
  {
   "cell_type": "markdown",
   "id": "06a004a1",
   "metadata": {},
   "source": [
    "[Data 140 Textbook](http://prob140.org/textbook/content/README.html)"
   ]
  }
 ],
 "metadata": {
  "kernelspec": {
   "display_name": "Python 3 (ipykernel)",
   "language": "python",
   "name": "python3"
  },
  "language_info": {
   "codemirror_mode": {
    "name": "ipython",
    "version": 3
   },
   "file_extension": ".py",
   "mimetype": "text/x-python",
   "name": "python",
   "nbconvert_exporter": "python",
   "pygments_lexer": "ipython3",
   "version": "3.9.12"
  }
 },
 "nbformat": 4,
 "nbformat_minor": 5
}
