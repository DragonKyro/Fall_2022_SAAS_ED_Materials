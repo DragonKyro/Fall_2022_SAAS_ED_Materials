{
 "cells": [
  {
   "cell_type": "markdown",
   "metadata": {
    "cell_id": "00000-0b2745f4-065e-4d12-9ee6-70f126ea1d89",
    "deepnote_cell_type": "markdown",
    "output_cleared": false
   },
   "source": [
    "# Lecture 6: Linear Algebra and Linear Regression\n",
    "\n",
    "## 10/25/2022\n",
    "\n",
    "### Table of Contents\n",
    "* [Linear Algebra](#linear_algebra)  \n",
    "    * [Motivation](#motivation)  \n",
    "    * [Notation](#notation)  \n",
    "    * [Matrix Terminology](#terminology) \n",
    "    * [Matrix Operations](#operation) \n",
    "        * [Transpose](#transpose)\n",
    "        * [Addition & Subtraction](#addsub)\n",
    "        * [Scalar Multiplication](#scalar_mul)\n",
    "        * [Matrix Multiplication](#matrix_mul)\n",
    "    * [Linear Independence](#linear_independence) \n",
    "    * [Invertibility](#invert) \n",
    "    * [Matrix Operations in numpy](#Matrix-Operations-in-numpy)\n",
    "        * [Scalar Multiplication](#Scaler-Multiplication)\n",
    "        * [Matrix Multiplication](#Matrix-Multiplication)\n",
    "        * [Matrix Inverse](#Matrix-Inverse) \n",
    "        * [Matrix Linear Independence](#Matrix-Linear-Independence) \n",
    "        * [Matrix Transpose](#Matrix-Transpose)\n",
    "\n",
    "* [Regression](#regression)\n",
    "    * [Introduction](#intro)\n",
    "        * [What Is A Model?](#what_model)\n",
    "        * [Why Make A Model?](#why_model)\n",
    "    * [Linear Regression](#linear_regression)\n",
    "        * [Simple Linear Regression](#simple)\n",
    "        * [Model Assumptions](#assumptions)\n",
    "        * [Introduction to Least Square Error](#loss)\n",
    "        * [Minimizing the Error](#ols)\n",
    "        * [Making the Model](#making_model)\n",
    "        * [Interpreting the Model](#interpreting_model)\n",
    "        * [Assessing the Model](#assessment)\n",
    "            * [Coefficient of Determination ($R^2$)](#r_squared)\n",
    "            * [Residual Plots](#residual_plots)\n",
    "            * [Q-Q Plots](#qq_plots)\n",
    "        * [When Can I Use A Linear Model?](#when_to_use)\n",
    "\n",
    "\n",
    "### Hosted by and maintained by the [Student Association for Applied Statistics (SAAS)](https://saas.berkeley.edu/).\n",
    "Presented by Sarang Deshpande, Wenhao Pan"
   ]
  },
  {
   "cell_type": "markdown",
   "metadata": {},
   "source": [
    "<a id='operation'></a>\n",
    "## Matrices and Vectors\n",
    "\n",
    "A matrix is a grid of numbers such as below. You can think of it as being represented by a 2-dimensional array.  \n",
    "\n",
    "$$\\mathbf{A} = \\begin{bmatrix} a_1 & a_2 & a_3 \\\\ a_4 & a_5 & a_6 \\\\ a_7 & a_8 & a_9 \\end{bmatrix}$$  \n",
    "\n",
    "A vector is a list of numbers such as below. You can think of it as being represented by a 1-dimensional array.\n",
    "\n",
    "$$\\mathbf{v} = \\begin{bmatrix} v_1 \\\\ v_2 \\\\ v_3 \\end{bmatrix}$$  \n",
    "<a id='notation'></a>\n",
    "## Notation\n",
    "Common notation:\n",
    "\n",
    "* $\\mathbf{A}$: Bold capital letters represent matrices\n",
    "* $\\mathbf{x}$: Bold lowercase letters represent vectors\n",
    "* $\\theta$: Non-bold values represent scalars\n",
    "\n",
    "<a id='terminology'></a>\n",
    "## Matrix Terminology\n",
    "* **Identity** matrix: A square matrix with diagonal elements equal to $1$ and all off diagonal elements equal to zero. A $n\\times n$ identity matrix is often denoted as $I$ or $I_n$.\n",
    "* **Order or Size** of matrix: If a matrix has m rows and n columns, the order of the matrix is $m\\times n$. We denote the set of (real-valued) matrices $\\mathbb{M}_{m,n}$\n",
    "* **Transpose** of a matrix: The transpose of matrix $\\mathbf{A}$ satisfies the condition $\\mathbf{A_{j,i}} = \\mathbf{A_{i,j}}^T$. That is, the first row of $\\mathbf{A}$ is the first column of $\\mathbf{A}^T$.\n",
    "* **Square** matrix: A matrix with the same number of rows as columns. This matrix is in the shape of a square.\n",
    "* **Diagonal** matrix: A matrix with all the non-diagonal elements equal to $0$ is called a diagonal matrix.\n",
    "* **Scalar** matrix: An identity matrix multiplied by a constant.\n",
    "* **Column** matrix: A matrix which consists of exactly $1$ column. If it has $m$ rows, it can be treated as a $m\\times 1$ vector. \n",
    "* **Row** matrix: A matrix which consists of exactly $1$ row. If it has $n$ columns, it can be treated as a $1\\times n$ vector. \n",
    "* **Determinant**: A scalar value that can be computed from the elements of a square matrix and encodes certain properties of the linear transformation described by the matrix.\n",
    "* **Rank**: The maximal number of linearly independent columns of a matrix.\n",
    "\n",
    "<a id='operation'></a>\n",
    "## Matrix Operations\n",
    "Several of the important things that we are going to go over how to code include scalar multiplication, matrix multiplication, matrix inverses, and matrix transposing.\n",
    "# First, let's import some useful libraries \n",
    "import numpy as np \n",
    "# First, let's declare a couple of matrices to play with \n",
    "\n",
    "A = np.array([[-24, -18, 5],\n",
    "              [20, -15, -4],\n",
    "              [-5, 4, 1]])\n",
    "\n",
    "B = np.array([[16, -3, -8], \n",
    "              [-10, 15, 4],\n",
    "              [-9, 4, 1]])\n",
    "\n",
    "v = np.array([4, 9, 2])\n",
    "<a id='transpose'></a>\n",
    "### Matrix Transpose\n",
    "Transpose converts row vectors into column vectors, and vice versa. For example, for a $3 \\times 2$ matrix $\\mathbf{A}$ where $$ \\mathbf{A} = \\begin{bmatrix} 0 & 4\\\\ 7 & 0 \\\\ 3 & 1\\end{bmatrix}, \\mathbf{A}^T = \\begin{bmatrix} 0 & 7 & 3\\\\ 4 & 0 & 1\\end{bmatrix}$$ \n",
    "\n",
    "Note that $$(\\mathbf{A}^T)^T = \\mathbf{A}$$\n",
    "\n",
    "Lastly, let's try to find the transpose of a matrix \n",
    "# Let's transpose that matrix!!! \n",
    "A.transpose()\n",
    "# You can also do this!\n",
    "A.T\n",
    "\n",
    "<a id='addsub'></a>\n",
    "### Addition & Subtraction\n",
    "if $\\mathbf{A}$ and $\\mathbf{B}$ are both $m \\times n$, we form $\\mathbf{A} + \\mathbf{B}$ by adding corresponding entries. $$\\mathbf{A} = \\begin{bmatrix} a_1 & a_2\\\\ a_3 & a_4 \\end{bmatrix}, \\mathbf{B} = \\begin{bmatrix} b_1 & b_2\\\\ b_3 & b_4 \\end{bmatrix}, \\mathbf{A} + \\mathbf{B} = \\begin{bmatrix} a_1+b_1 & a_2+b_2\\\\ a_3+b_3 & a_4+b_4 \\end{bmatrix}$$ A fact about matrix addition and transpose is that $(\\mathbf{A} + \\mathbf{B})^T = \\mathbf{A}^T + \\mathbf{B}^T$.\n",
    "\n",
    "Similarly, we can perform subtraction in the same way, where we form $\\mathbf{A} - \\mathbf{B}$ by subtracting entries of $\\mathbf{B}$ from corresponding entries of $\\mathbf{A}$.\n",
    "\n",
    "Note that we can only perform matrix addition and subtraction when both matrices in the operation have the same dimension.\n",
    "# Addition\n",
    "print(A + B)\n",
    "\n",
    "# Subtraction\n",
    "print(A - B)\n",
    "<a id='scalar_mul'></a>\n",
    "### Scalar Multiplication\n",
    "We can multiply a scalar (a.k.a. number) by a matrix by multiplying every entry of the matrix by the scalar. This is denoted $\\cdot$ between the scalar and the matrix. $$c \\cdot \\begin{bmatrix} a_1 & a_2\\\\ a_3 & a_4 \\end{bmatrix} = \\begin{bmatrix} c\\times a_1 & c\\times a_2\\\\ c\\times a_3 & c\\times a_4 \\end{bmatrix}$$\n",
    "\n",
    "First, let's do an example of scalar multiplication. It works just like normal multiplication. \n",
    "5 * A\n",
    "<a id='matrix_mul'></a>\n",
    "### Matrix Multiplication\n",
    "If $\\mathbf{A}$ is $m \\times p$ and $\\mathbf{B}$ is $p \\times n$, we can form $\\mathbf{C} = \\mathbf{A}\\mathbf{B}$, which has dimension $m \\times n$. For matrix multiplication to occur, the number of columns of $\\mathbf{A}$ has to equal the number of rows of $\\mathbf{B}$. A fact about matrix multiplication and transpose is that $(\\mathbf{A}\\mathbf{B})^T = \\mathbf{B}^T\\mathbf{A}^T$. $$\\begin{bmatrix} a_{11} & a_{12} & a_{13} \\\\ a_{21} & a_{22} & a_{23} \\end{bmatrix} \\begin{bmatrix} b_{11} & b_{12}\\\\ b_{21} & b_{22} \\\\ b_{31} & b_{32} \\end{bmatrix} = \\begin{bmatrix} \\mathbf{a_{1\\cdot}}\\cdot \\mathbf{b_{\\cdot1}} & \\mathbf{a_{1\\cdot}}\\cdot \\mathbf{b_{\\cdot2}}\\\\ \\mathbf{a_{2\\cdot}}\\cdot \\mathbf{b_{\\cdot1}} & \\mathbf{a_{2\\cdot}}\\cdot \\mathbf{b_{\\cdot2}} \\end{bmatrix}$$ where $\\mathbf{a_{i\\cdot}}$ is the $i$th row of matrix $\\mathbf{A}$ and $\\mathbf{b_{\\cdot j}}$ is the $j$th column of matrix $\\mathbf{B}.$\n",
    "\n",
    "For matrix multiplication, in general we don't have $\\mathbf{A}\\mathbf{B} = \\mathbf{B}\\mathbf{A}$.\n",
    "\n",
    "Next, write down matrix multiplication. Unfortunately, it is slightly different from scalar multiplication\n",
    "# Option 1\n",
    "\n",
    "# Product of A and B\n",
    "AB = np.dot(A, B)\n",
    "print(AB)\n",
    "\n",
    "# Next, try out the product of B and A. Remember, order matters! \n",
    "BA = np.dot(B, A)\n",
    "print(BA)\n",
    "# Option 2\n",
    "\n",
    "#Product of A and B\n",
    "AB_2 = A @ B\n",
    "print(AB_2)\n",
    "\n",
    "#Product of B and A\n",
    "BA_2 = B @ A\n",
    "print(BA_2)\n",
    "**Exercise**: If $\\mathbf{A}$ is $a \\times b$ and $\\mathbf{B}$ is $b \\times c$, what are the dimensions of $(\\mathbf{A}\\mathbf{B})^T? $ How about $(\\mathbf{B}\\mathbf{A})^T$?\n",
    "<a id='linear_independence'></a>\n",
    "## Linear Independence\n",
    "What does it mean for a set of vectors to be **linearly independent**? It is easier to define what it means to be linearly dependent. A set of vectors $$\\mathbf{x_1, x_2, ..., x_n}$$ is linearly dependent if there exist scalars ${\\alpha_1, \\alpha_2, ..., \\alpha_n}$, not all equal to 0 such that $$\\sum_{i=1}^n \\alpha_ix_i = 0.$$\n",
    "In words, this means that there exists at least one vector that can be written as a linear combination of the remaining vectors.\n",
    "\n",
    "\n",
    "<img src=\"https://thejuniverse.org/PUBLIC/LinearAlgebra/LOLA/indep/linIndep.png\">\n",
    "**Exercise**: Are the vectors $$ \\begin{bmatrix} 1 \\\\ 2\\\\ -1 \\end{bmatrix} , \\begin{bmatrix} 0 \\\\ 1\\\\ -1 \\end{bmatrix}, \\begin{bmatrix} 1 \\\\ 1\\\\ 0 \\end{bmatrix} $$ linearly independent? \n",
    "\n",
    "<a id='invert'></a>\n",
    "## Invertibility\n",
    "The inverse of an $n\\times n$ matrix $\\mathbf{A}$, denoted as $\\mathbf{A}^{-1}$, satisfies the following properties:\n",
    "\n",
    "$$\\mathbf{A A}^{-1} = I_{n\\times n},\\ \\mathbf{A}^{-1} \\mathbf{A}=I_{n\\times n}.$$\n",
    "We may consider a concrete example with a $2\\times 2$ matrix. \n",
    "$$\\mathbf{A} = \\begin{bmatrix} a & b\\\\ c & d\\end{bmatrix}$$\n",
    "$$\\mathbf{A}^{-1} = (\\det \\mathbf{A})^{-1}\\begin{bmatrix} d & -b\\\\ -c & a\\end{bmatrix} = \\frac{1}{ad-bc} \\begin{bmatrix} d & -b\\\\ -c & a\\end{bmatrix}$$\n",
    "\n",
    "For inverting matrices of higher dimensions, the calculation is much more difficult. We will often want to use a computer to compute these for us. But why do we care about inverse matrices in the first place? Why do they come up in linear regression?\n",
    "\n",
    "The answer to this will show up toward the end of this lecture when we consider the normal equations.\n",
    "\n",
    "Remember for later: If a matrix $\\mathbf{A}$ is invertible, so is its transpose, and the inverse of $\\mathbf{A}^T$ is the transpose of the inverse of $\\mathbf{A}$: $(\\mathbf{A}^T)^{-1} = (\\mathbf{A}^{-1})^T$.\n",
    "### Matrix Inverse\n",
    "Now we are going to try out inverses. We are going to be using some linear algebra functions from the numpy function. \n",
    "\n",
    "These functions are accessed by calling `numpy.linalg`.\n",
    "\n",
    "#Try to find the inverse of matrix A. Notice how easy this is compared to doing it by hand\n",
    "\n",
    "inv = np.linalg.inv(A)\n",
    "print(inv)\n",
    "\n",
    "\n",
    "# Observe how the results are not exact. Sometimes there are rounding errors when the computer is calculating \n",
    "# the inverse of a matrix. This can resolved by rounding (you can use np.matrix.round(yourMatrixHere)) or simply \n",
    "# ignored since it is such a small error. \n",
    "print(np.round(inv))\n",
    "\n",
    "### Matrix Linear Independence \n",
    "\n",
    "However, as we learned earlier, not all matricies are invertible. How can we tell if a matrix is invertible or not? \n",
    "# If a matrix's determinant is 0, it is not invertible.\n",
    "\n",
    "if np.linalg.det(A) == 0:\n",
    "    print(\"Matrix is not invertible\")\n",
    "else:\n",
    "    print(\"Matrix is invertible\")\n",
    "\n",
    "# Try to find inverse of matrix with linearly dependent columns using numpy operations.\n",
    "\n",
    "C = np.array([[1, 0, 1],\n",
    "              [2, 1, 1],\n",
    "              [-1, -1, 0]])\n",
    "\n",
    "inv_C = np.linalg.inv(C)\n",
    "print(inv_C)\n",
    "\n",
    "# Trying to do this leads to an error. This is because a matrix with linearly dependent columns is not invertible.<a id='regression'></a>\n",
    "# Regression"
   ]
  },
  {
   "cell_type": "markdown",
   "metadata": {},
   "source": [
    "## Introduction"
   ]
  },
  {
   "cell_type": "markdown",
   "metadata": {},
   "source": [
    "Suppose you are a data scientist in Amazon. One day, the manager of your team gave you the following dataset collected by the company."
   ]
  },
  {
   "cell_type": "code",
   "execution_count": 14,
   "metadata": {},
   "outputs": [
    {
     "data": {
      "text/html": [
       "<div>\n",
       "<style scoped>\n",
       "    .dataframe tbody tr th:only-of-type {\n",
       "        vertical-align: middle;\n",
       "    }\n",
       "\n",
       "    .dataframe tbody tr th {\n",
       "        vertical-align: top;\n",
       "    }\n",
       "\n",
       "    .dataframe thead th {\n",
       "        text-align: right;\n",
       "    }\n",
       "</style>\n",
       "<table border=\"1\" class=\"dataframe\">\n",
       "  <thead>\n",
       "    <tr style=\"text-align: right;\">\n",
       "      <th></th>\n",
       "      <th>mpg</th>\n",
       "      <th>cylinders</th>\n",
       "      <th>displacement</th>\n",
       "      <th>horsepower</th>\n",
       "      <th>weight</th>\n",
       "      <th>acceleration</th>\n",
       "      <th>model_year</th>\n",
       "      <th>origin</th>\n",
       "    </tr>\n",
       "    <tr>\n",
       "      <th>name</th>\n",
       "      <th></th>\n",
       "      <th></th>\n",
       "      <th></th>\n",
       "      <th></th>\n",
       "      <th></th>\n",
       "      <th></th>\n",
       "      <th></th>\n",
       "      <th></th>\n",
       "    </tr>\n",
       "  </thead>\n",
       "  <tbody>\n",
       "    <tr>\n",
       "      <th>chevrolet chevelle malibu</th>\n",
       "      <td>18.0</td>\n",
       "      <td>8</td>\n",
       "      <td>307.0</td>\n",
       "      <td>130</td>\n",
       "      <td>3504</td>\n",
       "      <td>12.0</td>\n",
       "      <td>70</td>\n",
       "      <td>1</td>\n",
       "    </tr>\n",
       "    <tr>\n",
       "      <th>buick skylark 320</th>\n",
       "      <td>15.0</td>\n",
       "      <td>8</td>\n",
       "      <td>350.0</td>\n",
       "      <td>165</td>\n",
       "      <td>3693</td>\n",
       "      <td>11.5</td>\n",
       "      <td>70</td>\n",
       "      <td>1</td>\n",
       "    </tr>\n",
       "    <tr>\n",
       "      <th>plymouth satellite</th>\n",
       "      <td>18.0</td>\n",
       "      <td>8</td>\n",
       "      <td>318.0</td>\n",
       "      <td>150</td>\n",
       "      <td>3436</td>\n",
       "      <td>11.0</td>\n",
       "      <td>70</td>\n",
       "      <td>1</td>\n",
       "    </tr>\n",
       "    <tr>\n",
       "      <th>amc rebel sst</th>\n",
       "      <td>16.0</td>\n",
       "      <td>8</td>\n",
       "      <td>304.0</td>\n",
       "      <td>150</td>\n",
       "      <td>3433</td>\n",
       "      <td>12.0</td>\n",
       "      <td>70</td>\n",
       "      <td>1</td>\n",
       "    </tr>\n",
       "    <tr>\n",
       "      <th>ford torino</th>\n",
       "      <td>17.0</td>\n",
       "      <td>8</td>\n",
       "      <td>302.0</td>\n",
       "      <td>140</td>\n",
       "      <td>3449</td>\n",
       "      <td>10.5</td>\n",
       "      <td>70</td>\n",
       "      <td>1</td>\n",
       "    </tr>\n",
       "  </tbody>\n",
       "</table>\n",
       "</div>"
      ],
      "text/plain": [
       "                            mpg  cylinders  displacement horsepower  weight  \\\n",
       "name                                                                          \n",
       "chevrolet chevelle malibu  18.0          8         307.0        130    3504   \n",
       "buick skylark 320          15.0          8         350.0        165    3693   \n",
       "plymouth satellite         18.0          8         318.0        150    3436   \n",
       "amc rebel sst              16.0          8         304.0        150    3433   \n",
       "ford torino                17.0          8         302.0        140    3449   \n",
       "\n",
       "                           acceleration  model_year  origin  \n",
       "name                                                         \n",
       "chevrolet chevelle malibu          12.0          70       1  \n",
       "buick skylark 320                  11.5          70       1  \n",
       "plymouth satellite                 11.0          70       1  \n",
       "amc rebel sst                      12.0          70       1  \n",
       "ford torino                        10.5          70       1  "
      ]
     },
     "execution_count": 14,
     "metadata": {},
     "output_type": "execute_result"
    }
   ],
   "source": [
    "import matplotlib.pyplot as plt\n",
    "%matplotlib inline\n",
    "import random\n",
    "import pandas as pd\n",
    "\n",
    "data = pd.read_csv(\"./mpg.csv\", index_col=\"name\") # load mpg dataset\n",
    "data.head()"
   ]
  },
  {
   "cell_type": "markdown",
   "metadata": {},
   "source": [
    "**Pop quiz**: How to quickly find the numbers of rows and columns of this dataset?"
   ]
  },
  {
   "cell_type": "code",
   "execution_count": 2,
   "metadata": {},
   "outputs": [
    {
     "data": {
      "text/plain": [
       "Ellipsis"
      ]
     },
     "execution_count": 2,
     "metadata": {},
     "output_type": "execute_result"
    }
   ],
   "source": [
    "... # TODO"
   ]
  },
  {
   "cell_type": "markdown",
   "metadata": {},
   "source": [
    "Based on the output above, we have $398$ rows and $8$ columns in this dataset. "
   ]
  },
  {
   "cell_type": "markdown",
   "metadata": {},
   "source": [
    "This dataset tells various attributes of different cars, including a car's make and model, miles per gallon, number of cylinders, weight, and more! Your manager want you to predict `mpg`, miles per gallon, of a car in this dataset by using the information of other cars also in this dataset. How will you start this?\n",
    "\n",
    "Let's first try to formulate a mathematical form of this problem. Let $y_i$ denote the `mpg` of $i$-th car in the dataset, so for example $y_1 = 18$ and $y_4 = 16$ based on the table above. Let $f(\\cdot)$ denote a magic function that can take in anything and return a number and let $\\hat{y}_i$ denote the return of $f$ for $i$-th car. Thus, to our problem, we want to find such a magic function $f(\\cdot)$ such that \n",
    "\n",
    "$$ y_i \\approx \\hat{y}_i = f(\\text{all the information of cars other than $i$-th car})$$\n",
    "\n",
    "for each $i = 1, 2, \\dots, 398$. i.e., we want $y_i$ and $\\hat{y}_i$ as close to each other as possible."
   ]
  },
  {
   "cell_type": "markdown",
   "metadata": {},
   "source": [
    "**Question**: Why do we want to find such a magic function $f$? When will it be useful?\n",
    "\n",
    "*Hint: Suppose you boss want you to tell the `mpg` of car that is not in this dataset based on the same type of information (e.g. `cylinders`, `horsepower`, etc). How can you do this?*"
   ]
  },
  {
   "cell_type": "markdown",
   "metadata": {},
   "source": [
    "## Constant Regression"
   ]
  },
  {
   "cell_type": "markdown",
   "metadata": {},
   "source": [
    "Let's start with the simplest (but actually the hardest) scenario: we only use the `mpg` to predict `mpg`. In other words, using the same formulation above, we need find a $f$ such that\n",
    "\n",
    "$$ y_i \\approx \\hat{y}_i = f(\\text{mpg of cars other than $i$-th car})$$\n",
    "\n",
    "for each $i = 1, 2, \\dots, 398$. For example, for the first car, we want $f$ to be\n",
    "\n",
    "$$ y_1 \\approx \\hat{y}_i = f(y_2, y_3, \\cdots, y_{398})$$\n",
    "\n",
    "Let's try to create a data visualization of `mpg` and see if we can get some intuition. Since it is one dimensional, we can use a histogram."
   ]
  },
  {
   "cell_type": "code",
   "execution_count": 11,
   "metadata": {},
   "outputs": [
    {
     "data": {
      "image/png": "[encoded data removed]",
      "text/plain": [
       "<Figure size 640x480 with 1 Axes>"
      ]
     },
     "metadata": {},
     "output_type": "display_data"
    }
   ],
   "source": [
    "mpg = ... # extract the mpg column\n",
    "... # Plot a histogram of mpg\n",
    "plt.xlabel('mpg')\n",
    "plt.ylabel('count')\n",
    "plt.show()"
   ]
  },
  {
   "cell_type": "markdown",
   "metadata": {},
   "source": [
    "It looks like most cars have `mpg` around $15$, so why don't we define $f$ to be\n",
    "\n",
    "$$f(\\text{mpg of cars other than $i$-th car}) = 15$$\n",
    "\n",
    "for each $i = 1, 2, \\dots, 398$. "
   ]
  },
  {
   "cell_type": "code",
   "execution_count": 15,
   "metadata": {},
   "outputs": [
    {
     "data": {
      "image/png": "[encoded data removed]",
      "text/plain": [
       "<Figure size 640x480 with 1 Axes>"
      ]
     },
     "metadata": {},
     "output_type": "display_data"
    }
   ],
   "source": [
    "prediction_1 = ...\n",
    "plt.hist(mpg, label='Data')\n",
    "plt.axvline(prediction_1, color = 'red', label='Prediction')\n",
    "plt.xlabel('mpg')\n",
    "plt.ylabel('count')\n",
    "plt.legend()\n",
    "plt.show()"
   ]
  },
  {
   "cell_type": "markdown",
   "metadata": {},
   "source": [
    "**Question**: Is it a good idea? What will $f$ return for a car with `mpg` 40?"
   ]
  },
  {
   "cell_type": "markdown",
   "metadata": {},
   "source": [
    "The red vertical line marks our prediction for **every** car in our dataset. Intuitively, you may feel it is too left and see that it is far from many cars in higher `mpg` bins. Perhaps we should shift the red vertical bar to the right. Let's shift the line to the right by $15$."
   ]
  },
  {
   "cell_type": "code",
   "execution_count": 19,
   "metadata": {},
   "outputs": [
    {
     "data": {
      "image/png": "[encoded data removed]",
      "text/plain": [
       "<Figure size 640x480 with 1 Axes>"
      ]
     },
     "metadata": {},
     "output_type": "display_data"
    }
   ],
   "source": [
    "prediction_2 = ...\n",
    "plt.hist(mpg, label='Data')\n",
    "plt.axvline(prediction_1, color = 'red', label='Prediction 1')\n",
    "plt.axvline(prediction_2, color = 'purple', label='Prediction 2')\n",
    "plt.xlabel('mpg')\n",
    "plt.ylabel('count')\n",
    "plt.legend()\n",
    "plt.show()"
   ]
  },
  {
   "cell_type": "markdown",
   "metadata": {},
   "source": [
    "The new prediction looks better as it balances the data more. However, so far the way we evaluate our prediction is fairly subjective. You probably do not want to tell your boss that the second prediction is better than the first because \"it looks better\". How can we **quantitatively** tell the goodness of a prediction?"
   ]
  },
  {
   "cell_type": "markdown",
   "metadata": {
    "cell_id": "00018-8d7e70e8-28e5-46e9-93ee-a288f7abe4b6",
    "deepnote_cell_type": "markdown",
    "output_cleared": false
   },
   "source": [
    "<a id='loss'></a>\n",
    "### Introduction to Least Squared Error \n",
    "\n",
    "In the previous examples, all of the provided lines were examples of attempts to predict `mpg`. The question comes to mind: \"How do we numerically decide which line is the best line?\" Let's define another magic function $L(\\cdot)$ that takes in $y_i, \\hat{y}_i$ and return a number that is a measurement of how close are $y_i$ and $\\hat{y}_i$ to each other. Thus, if $\\hat{y}_i$ is a good prediction of $y_i$, then $L(y_i, \\hat{y}_i)$ should be smaller. Let's call $L(\\cdot)$ \"Loss Function\".\n",
    "\n",
    "To measure the goodness of all predictions, we can take the average of the loss function for each car,\n",
    "\n",
    "$$\\text{Average Loss} = \\frac{1}{389}\\sum_{i=1}^{389}L(y_i, \\hat{y}_i) = \\frac{1}{389}[L(y_1, \\hat{y}_1) + L(y_2, \\hat{y}_2) + \\cdots + L(y_{389}, \\hat{y}_{389})]$$\n",
    "\n",
    "Now the problem boils down to how to defining $L(\\cdot)$. A natural choice is\n",
    "\n",
    "$$L(y_i, \\hat{y}_i) = y_i - \\hat{y}_i$$\n",
    "\n",
    "which makes\n",
    "\n",
    "$$\\text{Average Loss} = \\frac{1}{389}\\sum_{i=1}^{389}y_i - \\hat{y}_i$$\n",
    "\n",
    "Unfortunately, it turns out that this natural choice is bad. Think about the average loss for two cars with actual and predicted `mpg` $y_1 = 10, y_2 = -10, \\hat{y}_1 = \\hat{y}_2 = 0$.\n",
    "\n",
    "\n",
    "So a simple difference is not enough. We need to take out the signs of these differences.\n",
    "\n",
    "There are two intuitive ways to do this. One is to take the absolute value of the difference. So we have\n",
    "\n",
    "$$L_{1}(y_i, \\hat{y}_i) = |y_i - \\hat{y}_i|$$.\n",
    "\n",
    "The other one is to take the square of the difference. So we have\n",
    "\n",
    "$$L_{2}(y_i, \\hat{y}_i) = (y_i - \\hat{y}_i)^2$$.\n",
    "\n",
    "Both are valid choices and have their own advantages and disadvantages, but we will only talk about the second one, $L_2$, here. If you are interested in their comparison, just search \"L1 vs L2 loss\" on Google.\n",
    "\n",
    "**Question**: What is the minimum possible value of $L_2(y_i, \\hat{y}_i)$? When will it occur?\n",
    "\n",
    "With the choice of $L_2$ loss, our average loss becomes\n",
    "\n",
    "$$\\text{Average Loss} = \\frac{1}{389}\\sum_{i=1}^{389}(y_i - \\hat{y}_i)^2$$"
   ]
  },
  {
   "cell_type": "markdown",
   "metadata": {},
   "source": [
    "### Finding the best line (least squared error)"
   ]
  },
  {
   "cell_type": "markdown",
   "metadata": {},
   "source": [
    "Now with a new tool for measuring the goodness of our prediction lines, we can evaluate and compare the goodness of these two lines!"
   ]
  },
  {
   "cell_type": "code",
   "execution_count": 20,
   "metadata": {},
   "outputs": [
    {
     "name": "stdout",
     "output_type": "stream",
     "text": [
      "53106.759999999995 25130.760000000002\n"
     ]
    }
   ],
   "source": [
    "average_loss_1 = ... # compute the L2 average loss of prediction 1\n",
    "average_loss_2 = ... # compute the L2 average loss of prediction 2\n",
    "\n",
    "print(\"average loss of prediction 1\", average_loss_1)\n",
    "print(\"average loss of prediction 2\", average_loss_2)"
   ]
  },
  {
   "cell_type": "markdown",
   "metadata": {},
   "source": [
    "Clearly, our second prediction has a much smaller average loss than our first prediction, so we can conclude that the second one is **better** than the first one. But, is the second one the **best** one?"
   ]
  },
  {
   "cell_type": "markdown",
   "metadata": {},
   "source": [
    "**Question:** How many such vertical lines we can draw on the histogram? i.e., how many choices we have for the magic function $f(\\cdot)$?"
   ]
  },
  {
   "cell_type": "code",
   "execution_count": null,
   "metadata": {},
   "outputs": [],
   "source": [
    "prediction_3 = ... # generate a random number that is from uniform[0, 45]\n",
    "plt.hist(mpg, label='Data')\n",
    "plt.axvline(prediction_1, color = 'red', label='Prediction 1')\n",
    "plt.axvline(prediction_2, color = 'purple', label='Prediction 2')\n",
    "plt.axvline(prediction_3, color = 'black', label='Prediction 3')\n",
    "plt.xlabel('mpg')\n",
    "plt.ylabel('count')\n",
    "plt.legend()\n",
    "plt.show()\n",
    "\n",
    "average_loss_3 = ... # compute the L2 average loss of prediction 3\n",
    "\n",
    "print(\"average loss of prediction 1\", average_loss_1)\n",
    "print(\"average loss of prediction 2\", average_loss_2)\n",
    "print(\"average loss of prediction 3\", average_loss_3)"
   ]
  },
  {
   "cell_type": "markdown",
   "metadata": {},
   "source": [
    "As we saw above, there are **infinite** choice of $\\hat{y}_i$ or $f(\\cdot)$. We really want to minimize the **average loss** by controlling each $\\hat{y}_i$, which is fully controlled by the magic function $f(\\cdot)$.\n",
    "\n",
    "The minimization of this average loss is called \"**Least Squared Error/Loss**\".\n",
    "\n",
    "To analytically implement this minimization process, we need more mathematical formulation. Convincing yourself that\n",
    "\n",
    "$$\\hat{y}_i = f(\\text{all the information of cars other than $i$-th car}) = c$$\n",
    "\n",
    "for $i=1,\\dots, 398$ and for some constant $c$ that is a number.\n",
    "\n",
    "So we trying to find a constant $c$ that makes\n",
    "\n",
    "$$\\text{Average Loss} = \\frac{1}{389}\\sum_{i=1}^{389}(y_i - \\hat{y}_i)^2 = \\frac{1}{389}\\sum_{i=1}^{389}(y_i - c)^2$$\n",
    "\n",
    "as small as possible. Formulate this into a mathematical problem, we have\n",
    "\n",
    "$$\\min_{c \\in \\mathbb{R}} \\frac{1}{389}\\sum_{i=1}^{389}(y_i - c)^2$$\n",
    "\n",
    "Now the problem is how to solve this minimization problem."
   ]
  },
  {
   "cell_type": "markdown",
   "metadata": {},
   "source": [
    "#### Method 1: algebraic trick"
   ]
  },
  {
   "cell_type": "markdown",
   "metadata": {},
   "source": [
    "#### Method 2: calculus"
   ]
  },
  {
   "cell_type": "markdown",
   "metadata": {},
   "source": [
    "From two methods above, we can get the **best** c, $\\hat{c}$, has the form\n",
    "\n",
    "$$ \\hat{c} = \\frac{1}{389}\\sum_{i=1}^{389}y_i = \\bar{y}$$\n",
    "\n",
    "which is the average of $y_i$."
   ]
  },
  {
   "cell_type": "markdown",
   "metadata": {},
   "source": [
    "Let's try to visualize this **best** prediction line."
   ]
  },
  {
   "cell_type": "code",
   "execution_count": null,
   "metadata": {},
   "outputs": [],
   "source": [
    "best_prediction = ... # calculute the average of mpg\n",
    "plt.hist(mpg, label='Data')\n",
    "plt.axvline(prediction_1, color = 'red', label='Prediction 1')\n",
    "plt.axvline(prediction_2, color = 'purple', label='Prediction 2')\n",
    "plt.axvline(prediction_3, color = 'black', label='Prediction 3')\n",
    "plt.axvline(best_prediction, color = 'black', label='bestprediction')\n",
    "plt.xlabel('mpg')\n",
    "plt.ylabel('count')\n",
    "plt.legend()\n",
    "plt.show()\n",
    "\n",
    "average_loss_best_prediction = ... # compute the L2 average loss of best_prediction\n",
    "\n",
    "print(\"average loss of prediction 1\", average_loss_1)\n",
    "print(\"average loss of prediction 2\", average_loss_2)\n",
    "print(\"average loss of prediction 3\", average_loss_3)\n",
    "print(\"average loss of best prediction\", average_loss_best_prediction)"
   ]
  },
  {
   "cell_type": "markdown",
   "metadata": {},
   "source": [
    "We can see that this best prediction kind of achieves the **best** balance among the data.\n",
    "\n",
    "Since our magic function $f$ is a *constant* function (i.e. it always return the same constant for whatever input), we can call it **constant regression**."
   ]
  },
  {
   "cell_type": "markdown",
   "metadata": {},
   "source": [
    "<a id='linear_regression'></a>\n",
    "## Simple Linear Regression"
   ]
  },
  {
   "cell_type": "markdown",
   "metadata": {},
   "source": [
    "So far we have only used `mpg` itself to predcit `mpg`, and we haven't used any other information in the dataset. We probably want to use other information because they might be somehow related to `mpg`, so using them is helpful for predicting `mpg`. \n",
    "\n",
    "Let's try to use `acceleration` to help predict `mpg`. Since we have a two dimensional data, we can use the scatter plot to visualize them."
   ]
  },
  {
   "cell_type": "code",
   "execution_count": null,
   "metadata": {},
   "outputs": [],
   "source": [
    "mpg = ... # extract the mpg\n",
    "acceleration = ... # extract the acceleration\n",
    "plt.scatter(x=acceleration, y=mpg)\n",
    "plt.xlabel('acceleration')\n",
    "plt.ylabel('mpg')\n",
    "plt.show()"
   ]
  },
  {
   "cell_type": "markdown",
   "metadata": {},
   "source": [
    "It looks like there is a **general** relationship that when `acceleration` increases, `mpg` also increases. Let's try to put a straight line on the scatter plot to express this relationship. We know that a line has a mathematical form as\n",
    "\n",
    "$$ y = a + b\\cdot x$$\n",
    "\n",
    "If we want our magic function $f$ to do the same thing, then we have the following mathematical formulation\n",
    "\n",
    "$$\\hat{y}_i = f(\\text{acceleration of $i$-th car}) = a + b \\cdot x_i$$\n",
    "\n",
    "Let's use $a = 5$ and $b = 2$ just for the first try."
   ]
  },
  {
   "cell_type": "code",
   "execution_count": 16,
   "metadata": {},
   "outputs": [
    {
     "data": {
      "image/png": "[encoded data removed]",
      "text/plain": [
       "<Figure size 640x480 with 1 Axes>"
      ]
     },
     "metadata": {},
     "output_type": "display_data"
    }
   ],
   "source": [
    "a_1 = 5\n",
    "b_1 = 2\n",
    "x = np.linspace(5,25,100)\n",
    "y_1 = a_1 + b_1 * x\n",
    "plt.scatter(x=acceleration, y=mpg)\n",
    "plt.plot(x_1, y_1, color='red', label='first line')\n",
    "plt.xlabel('acceleration')\n",
    "plt.ylabel('mpg')\n",
    "plt.legend()\n",
    "plt.show()"
   ]
  },
  {
   "cell_type": "markdown",
   "metadata": {},
   "source": [
    "Looks like a little bit too high, and we want to shift the line a little bit downwards. How can we do this?"
   ]
  },
  {
   "cell_type": "code",
   "execution_count": null,
   "metadata": {},
   "outputs": [],
   "source": [
    "a_2 = ...\n",
    "b_2 = ...\n",
    "y_2 = a_2 + b_2 * x\n",
    "plt.scatter(x=acceleration, y=mpg)\n",
    "plt.plot(x_1, y_1, color='red', label='first line')\n",
    "plt.plot(x_2, y_2, color='purple', label='second line')\n",
    "plt.xlabel('acceleration')\n",
    "plt.ylabel('mpg')\n",
    "plt.legend()\n",
    "plt.show()"
   ]
  },
  {
   "cell_type": "markdown",
   "metadata": {},
   "source": [
    "The new line looks better. Again, just like what we have dones for constant regression, we want to quantitatively compare these two lines by computing and comparing their **average L2 loss**."
   ]
  },
  {
   "cell_type": "code",
   "execution_count": null,
   "metadata": {},
   "outputs": [],
   "source": [
    "average_loss_line_1 = ...\n",
    "average_loss_line_2 = ...\n",
    "\n",
    "print(\"average loss of line 1\", average_loss_line_1)\n",
    "print(\"average loss of line 2\", average_loss_line_2)"
   ]
  },
  {
   "cell_type": "markdown",
   "metadata": {},
   "source": [
    "However, the similar question arises here: Since we have **infinite** choices of $a$ and $b$, how can we find the **best** choice of $a$ and $b$? In other words, we want to solve the following problem\n",
    "\n",
    "$$\\min_{a, b \\in \\mathbb{R}} \\frac{1}{389}\\sum_{i=1}^{389}(y_i - (a + b\\cdot x_i))^2$$"
   ]
  },
  {
   "cell_type": "markdown",
   "metadata": {},
   "source": [
    "And this minimization problem is what we called **Simple Linear Regression**.\n",
    "\n",
    "The algebraic trick we used before to solve the constant regression cannot be used here, so we have to use a more advanced tool, calculus to solve this problem.\n",
    "\n",
    "We omit the technical details here because you need the knowledge of MATH 53, but if you are interested in them, you can click [this link](http://seismo.berkeley.edu/~kirchner/eps_120/Toolkits/Toolkit_10.pdf)! For now, we'll just tell you that best $a$ and $b$, denoted by $\\hat{a}$ and $\\hat{b}$, can be solved as:\n",
    "\n",
    "$$\n",
    "\\begin{aligned}\n",
    "\\hat{a}&=\\bar {y}-\\hat{b}\\cdot{\\bar{x}},\\\\\n",
    "\\hat{b}&=\\frac{\\sum _{i=1}^{n}(x_{i}-\\bar{x})(y_{i}-\\bar {y})}{\\sum _{i=1}^{n}(x_{i}-\\bar{x})^2}\\\\\n",
    "\\end{aligned}\n",
    "$$\n",
    "\n",
    "where $\\bar{x}$ and $\\bar{y}$ are the average of $x_i$ and $y_i$ respectively.\n",
    "\n",
    "Now let's try to compute $\\hat{a}, \\hat{b}$"
   ]
  },
  {
   "cell_type": "code",
   "execution_count": null,
   "metadata": {},
   "outputs": [],
   "source": [
    "b_hat = ...\n",
    "a_hat = ...\n",
    "y_hat = a_hat + b_hat * x\n",
    "plt.scatter(x=acceleration, y=mpg)\n",
    "plt.plot(x, y_1, color='red', label='first line')\n",
    "plt.plot(x, y_2, color='purple', label='second line')\n",
    "plt.plot(x, y_hat, color='black', label='best line')\n",
    "plt.xlabel('acceleration')\n",
    "plt.ylabel('mpg')\n",
    "plt.legend()\n",
    "plt.show()\n",
    "\n",
    "average_loss_best_line = ...\n",
    "\n",
    "print(\"average loss of line 1\", average_loss_line_1)\n",
    "print(\"average loss of line 2\", average_loss_line_2)\n",
    "print(\"average loss of best line\", average_loss_best_line)"
   ]
  },
  {
   "cell_type": "markdown",
   "metadata": {},
   "source": [
    "Indeed, $\\hat{a}, \\hat{b}$ seems to match the data **best** among these three lines. It also achieves the lowest average loss."
   ]
  },
  {
   "cell_type": "markdown",
   "metadata": {
    "cell_id": "00028-a3cc5d5f-e0b3-45db-971e-12623eb119d0",
    "deepnote_cell_type": "markdown",
    "output_cleared": false
   },
   "source": [
    "The manual calculation seems a little bit complicated here. We can use `sklearn`'s `linear_model` module makes it really easy to make linear models! There's a lot of different types of linear models implemented in the `linear_model` module, which you can take a look at [here](http://scikit-learn.org/stable/modules/classes.html#module-sklearn.linear_model) if you're interested, but for today we'll be using `LinearRegression`, which we've imported for you in the cell below. Try reading the documentation to figure out what the `fit()` function expects as input to correctly fit our model to the data!"
   ]
  },
  {
   "cell_type": "code",
   "execution_count": 17,
   "metadata": {
    "cell_id": "00029-b0008c58-8ee4-4d68-ad07-3aa3c0c096b1",
    "deepnote_cell_type": "code",
    "output_cleared": false,
    "source_hash": "9527aab5"
   },
   "outputs": [],
   "source": [
    "from sklearn.linear_model import LinearRegression"
   ]
  },
  {
   "cell_type": "code",
   "execution_count": 23,
   "metadata": {
    "cell_id": "00030-d2c2eb45-f091-452c-8ae7-ba14318205d1",
    "deepnote_cell_type": "code",
    "output_cleared": false,
    "source_hash": "ceb3afb3"
   },
   "outputs": [
    {
     "data": {
      "text/html": [
       "<style>#sk-container-id-2 {color: black;background-color: white;}#sk-container-id-2 pre{padding: 0;}#sk-container-id-2 div.sk-toggleable {background-color: white;}#sk-container-id-2 label.sk-toggleable__label {cursor: pointer;display: block;width: 100%;margin-bottom: 0;padding: 0.3em;box-sizing: border-box;text-align: center;}#sk-container-id-2 label.sk-toggleable__label-arrow:before {content: \"▸\";float: left;margin-right: 0.25em;color: #696969;}#sk-container-id-2 label.sk-toggleable__label-arrow:hover:before {color: black;}#sk-container-id-2 div.sk-estimator:hover label.sk-toggleable__label-arrow:before {color: black;}#sk-container-id-2 div.sk-toggleable__content {max-height: 0;max-width: 0;overflow: hidden;text-align: left;background-color: #f0f8ff;}#sk-container-id-2 div.sk-toggleable__content pre {margin: 0.2em;color: black;border-radius: 0.25em;background-color: #f0f8ff;}#sk-container-id-2 input.sk-toggleable__control:checked~div.sk-toggleable__content {max-height: 200px;max-width: 100%;overflow: auto;}#sk-container-id-2 input.sk-toggleable__control:checked~label.sk-toggleable__label-arrow:before {content: \"▾\";}#sk-container-id-2 div.sk-estimator input.sk-toggleable__control:checked~label.sk-toggleable__label {background-color: #d4ebff;}#sk-container-id-2 div.sk-label input.sk-toggleable__control:checked~label.sk-toggleable__label {background-color: #d4ebff;}#sk-container-id-2 input.sk-hidden--visually {border: 0;clip: rect(1px 1px 1px 1px);clip: rect(1px, 1px, 1px, 1px);height: 1px;margin: -1px;overflow: hidden;padding: 0;position: absolute;width: 1px;}#sk-container-id-2 div.sk-estimator {font-family: monospace;background-color: #f0f8ff;border: 1px dotted black;border-radius: 0.25em;box-sizing: border-box;margin-bottom: 0.5em;}#sk-container-id-2 div.sk-estimator:hover {background-color: #d4ebff;}#sk-container-id-2 div.sk-parallel-item::after {content: \"\";width: 100%;border-bottom: 1px solid gray;flex-grow: 1;}#sk-container-id-2 div.sk-label:hover label.sk-toggleable__label {background-color: #d4ebff;}#sk-container-id-2 div.sk-serial::before {content: \"\";position: absolute;border-left: 1px solid gray;box-sizing: border-box;top: 0;bottom: 0;left: 50%;z-index: 0;}#sk-container-id-2 div.sk-serial {display: flex;flex-direction: column;align-items: center;background-color: white;padding-right: 0.2em;padding-left: 0.2em;position: relative;}#sk-container-id-2 div.sk-item {position: relative;z-index: 1;}#sk-container-id-2 div.sk-parallel {display: flex;align-items: stretch;justify-content: center;background-color: white;position: relative;}#sk-container-id-2 div.sk-item::before, #sk-container-id-2 div.sk-parallel-item::before {content: \"\";position: absolute;border-left: 1px solid gray;box-sizing: border-box;top: 0;bottom: 0;left: 50%;z-index: -1;}#sk-container-id-2 div.sk-parallel-item {display: flex;flex-direction: column;z-index: 1;position: relative;background-color: white;}#sk-container-id-2 div.sk-parallel-item:first-child::after {align-self: flex-end;width: 50%;}#sk-container-id-2 div.sk-parallel-item:last-child::after {align-self: flex-start;width: 50%;}#sk-container-id-2 div.sk-parallel-item:only-child::after {width: 0;}#sk-container-id-2 div.sk-dashed-wrapped {border: 1px dashed gray;margin: 0 0.4em 0.5em 0.4em;box-sizing: border-box;padding-bottom: 0.4em;background-color: white;}#sk-container-id-2 div.sk-label label {font-family: monospace;font-weight: bold;display: inline-block;line-height: 1.2em;}#sk-container-id-2 div.sk-label-container {text-align: center;}#sk-container-id-2 div.sk-container {/* jupyter's `normalize.less` sets `[hidden] { display: none; }` but bootstrap.min.css set `[hidden] { display: none !important; }` so we also need the `!important` here to be able to override the default hidden behavior on the sphinx rendered scikit-learn.org. See: https://github.com/scikit-learn/scikit-learn/issues/21755 */display: inline-block !important;position: relative;}#sk-container-id-2 div.sk-text-repr-fallback {display: none;}</style><div id=\"sk-container-id-2\" class=\"sk-top-container\"><div class=\"sk-text-repr-fallback\"><pre>LinearRegression()</pre><b>In a Jupyter environment, please rerun this cell to show the HTML representation or trust the notebook. <br />On GitHub, the HTML representation is unable to render, please try loading this page with nbviewer.org.</b></div><div class=\"sk-container\" hidden><div class=\"sk-item\"><div class=\"sk-estimator sk-toggleable\"><input class=\"sk-toggleable__control sk-hidden--visually\" id=\"sk-estimator-id-2\" type=\"checkbox\" checked><label for=\"sk-estimator-id-2\" class=\"sk-toggleable__label sk-toggleable__label-arrow\">LinearRegression</label><div class=\"sk-toggleable__content\"><pre>LinearRegression()</pre></div></div></div></div></div>"
      ],
      "text/plain": [
       "LinearRegression()"
      ]
     },
     "execution_count": 23,
     "metadata": {},
     "output_type": "execute_result"
    }
   ],
   "source": [
    "# Initialize our linear regression model\n",
    "linear_model = LinearRegression()\n",
    "\n",
    "X = ...\n",
    "y = ...\n",
    "\n",
    "# Fit the model to the data\n",
    "linear_model.fit(X, y)"
   ]
  },
  {
   "cell_type": "markdown",
   "metadata": {
    "cell_id": "00031-a50a4be6-59bf-4cc6-96b8-28df2177c6dc",
    "deepnote_cell_type": "markdown",
    "output_cleared": false
   },
   "source": [
    "Once you've got it working you'll notice that it seems like nothing happened. However, behind the scenes, our `linear_model` variable has now been fit to the data we passed into the `fit()` function! We can see what the `slope` and `intercept` are by looking into the `coef_` and `intercept_` attributes of our `linear_model`."
   ]
  },
  {
   "cell_type": "code",
   "execution_count": 20,
   "metadata": {
    "cell_id": "00032-2ba87ae1-db8b-489c-9c39-c2e337d713a4",
    "deepnote_cell_type": "code",
    "output_cleared": false,
    "source_hash": "7b8db49d"
   },
   "outputs": [
    {
     "data": {
      "text/plain": [
       "(array([1.19120453]), 4.969793004253901)"
      ]
     },
     "execution_count": 20,
     "metadata": {},
     "output_type": "execute_result"
    }
   ],
   "source": [
    "linear_model.coef_, linear_model.intercept_"
   ]
  },
  {
   "cell_type": "markdown",
   "metadata": {},
   "source": [
    "**Question**: Does the output here match the manual computation before?"
   ]
  },
  {
   "cell_type": "markdown",
   "metadata": {
    "cell_id": "00033-58213063-3f75-409e-8e7d-672e9c9da797",
    "deepnote_cell_type": "markdown",
    "output_cleared": false
   },
   "source": [
    "You might notice that, while the `intercept_` is a single scalar value, `coef_` returns an array. This is because you can choose to fit your model to multiple explanatory variables (hence the list form of `feature_cols`). When you define multiple explanatory variables, the `coef_` will contain a separate coefficient for each explanatory variable you chose! You'll be able to explore that in a bit, but for now let's take a look at what our linear model looks like relative to our original data.\n",
    "\n",
    "We've provided the skeleton for a helper function called `overlay_simple_linear_model`. Try to fill out the function so that it plots a scatterplot with the linear model overlaid on top.\n",
    "\n",
    "*Hint:* If you press `tab` after a `[object].` or `[package].`, Jupyter will show you a list of valid functions defined for that object type or package."
   ]
  },
  {
   "cell_type": "code",
   "execution_count": null,
   "metadata": {
    "cell_id": "00034-e20a2db6-cc6a-4b9c-b567-65b753df4f3f",
    "deepnote_cell_type": "code",
    "execution_millis": 5,
    "execution_start": 1603501361985,
    "output_cleared": false,
    "source_hash": "45c53cca"
   },
   "outputs": [],
   "source": [
    "def overlay_simple_linear_model(data, x_name, y_name, linear_model):\n",
    "    \"\"\"\n",
    "    This function plots a simple linear model on top of the scatterplot of the data it was fit to.\n",
    "    \n",
    "    data(DataFrame): e.g. data\n",
    "    x_name(string): the name of the column representing the predictor variable\n",
    "    y_name(string): the name of the column representing the dependent/response variable\n",
    "    linear_model: a fitted linear model\n",
    "    \n",
    "    returns None but outputs linear model overlaid on scatterplot\n",
    "    \"\"\"\n",
    "    \n",
    "    x = np.arange(max(data[x_name])).reshape(-1, 1) # a 2D array of integers between 0 and the maximum value of the x_name column\n",
    "    y = linear_model.predict(...) # use linear_model to predict\n",
    "    \n",
    "    data.plot.scatter(...) # scatter plot of x_name vs. y_name\n",
    "    \n",
    "    plt.plot(...)\n",
    "    plt.title(\"Linear Model vs. Data: \" + x_name + \" vs. \" + y_name)\n",
    "    plt.show()"
   ]
  },
  {
   "cell_type": "code",
   "execution_count": null,
   "metadata": {
    "cell_id": "00035-940fca73-2eb2-4eef-b40e-ec9da14d5cbc",
    "deepnote_cell_type": "code",
    "output_cleared": false,
    "source_hash": "3ba1deeb"
   },
   "outputs": [],
   "source": [
    "# If you wrote the function above correctly, the output should look like this\n",
    "overlay_simple_linear_model(data, '...', \"mpg\", linear_model)"
   ]
  },
  {
   "cell_type": "markdown",
   "metadata": {
    "cell_id": "00036-cf5ad3af-e105-4b73-ba05-94678ed252b6",
    "deepnote_cell_type": "markdown",
    "output_cleared": false
   },
   "source": [
    "<a id='interpreting_model'></a>\n",
    "### Interpreting the Model\n",
    "\n",
    "You're probably thinking \"COOL! This looks like a pretty good representation of the data! But what do these coefficients even mean?\" That is a great question! As you might have guessed, the `intercept` term is where our line intersects with the y-axis, or when our predictor variable has a value of 0. In relation to our model, it's our prediction for `mpg` given a predictor variable value of 0. The `slope` term is a little more complicated. Yes, it is the slope of the line, but how do we interpret it in the relationship between `mpg` and our explanatory variable?\n",
    "\n",
    "**Question:** What will happen to $\\hat{y}_i$ if we increases $x_i$ by $1$? How do we express this change in plain English when $y_i$ and $x_i$ represent `mpg` and `acceleration`?"
   ]
  },
  {
   "cell_type": "markdown",
   "metadata": {
    "cell_id": "00037-ed452b7a-6186-4ab8-a314-021df34cb435",
    "deepnote_cell_type": "markdown",
    "output_cleared": false
   },
   "source": [
    "<a id='assessment'></a>\n",
    "### Assessing the Model\n",
    "\n",
    "#### Residual\n",
    "\n",
    "Let's first define a concept called **residual**. For a sample (which is a car in our example), define its residual, $e_i$, as\n",
    "\n",
    "$$e_i = y_i - \\hat{y}_i$$\n",
    "\n",
    "which is exactly the same as the simple difference we found before.\n",
    "\n",
    "<a id='r_squared'></a>\n",
    "#### Coefficient of Determination ($R^2$)\n",
    "Another question you might have is, how do we know how good our model is?\n",
    "If you've taken AP Stats or Data 8, you might have heard that the **correlation coefficient**, $R$, \n",
    "tells us how strong of an association two variables have. Values close to -1 or 1 have a strong association.\n",
    "We are going to talk about another way of measuring how well your model fits the data is the $R^2$ coefficient,\n",
    "or the **coefficient of determination**. Basically, what the $R^2$ represents is how much our data can vary but\n",
    "still be predicted accurately by the explanatory variable. \n",
    "$$R^2 = 1- \\frac{\\sum_{i}e_i^2}{\\sum_{i}(y_i-\\bar{y})^2}$$\n",
    "where $\\sum_{i}(y_i-\\bar{y})^2$ is called **total sum of squares** and $\\sum_{i}e_i^2$ is called **residual sum of squares** as we've already known. Intuitively, $R^2$ measures how much better our fitted model is doing compared to the most basic model where we\n",
    "predict $\\hat{y}_i = \\bar{y}$ for every data point.\n",
    "\n",
    "<img src='https://i.imgur.com/URDr1oW.png' />"
   ]
  },
  {
   "cell_type": "markdown",
   "metadata": {
    "cell_id": "00038-92ca540a-55d2-4afb-804e-c030b8fd27ac",
    "deepnote_cell_type": "markdown",
    "output_cleared": false
   },
   "source": [
    "We can obtain our model's $R^2$ value by using our `linear_model`'s `score()` function, like so:"
   ]
  },
  {
   "cell_type": "code",
   "execution_count": 24,
   "metadata": {
    "cell_id": "00039-ca4b585a-f0b8-4202-ad3d-cbc47bc86833",
    "deepnote_cell_type": "code",
    "output_cleared": false,
    "source_hash": "2f8bb85e"
   },
   "outputs": [
    {
     "data": {
      "text/plain": [
       "0.6467421834257859"
      ]
     },
     "execution_count": 24,
     "metadata": {},
     "output_type": "execute_result"
    }
   ],
   "source": [
    "linear_model.score(X, y) # you'll only need to use variables that we've already defined"
   ]
  },
  {
   "cell_type": "markdown",
   "metadata": {
    "cell_id": "00040-284acd34-8f33-4adb-8391-881cf39c61fc",
    "deepnote_cell_type": "markdown",
    "output_cleared": false
   },
   "source": [
    "In practice, $R^2$ is almost always between 0 and 1, although it is possible for $R^2$ to take on a negative value when your model is worse than the baseline model $\\hat{y}_i = \\bar{y}$.\n",
    "\n",
    "**We want the $R^2$ of our simple linear regression to be as HIGH as possible**."
   ]
  },
  {
   "cell_type": "markdown",
   "metadata": {},
   "source": [
    "**Excersise**: Find another column in the data such that its simple linear regression has a higher $R^2$ than `acceleration` in the following cell."
   ]
  },
  {
   "cell_type": "code",
   "execution_count": null,
   "metadata": {},
   "outputs": [],
   "source": [
    "# Initialize our linear regression model\n",
    "linear_model = LinearRegression()\n",
    "\n",
    "X = ...\n",
    "y = ...\n",
    "\n",
    "# Fit the model to the data\n",
    "linear_model.fit(X, y)\n",
    "\n",
    "overlay_simple_linear_model(data, '...', \"mpg\", linear_model)\n",
    "\n",
    "# Compute R^2\n",
    "linear_model.score(X, y)"
   ]
  },
  {
   "cell_type": "markdown",
   "metadata": {
    "cell_id": "00042-8279e267-8b5a-4973-be3b-d7825bdebd5d",
    "deepnote_cell_type": "markdown",
    "output_cleared": false
   },
   "source": [
    "<a id='residual_plots'></a>\n",
    "#### Residual Plots\n",
    "Another way of analyzing your model is through *residual plots*. A **residual plot** is kind of what you'd think – it plots your residuals against the corresponding $x$ values. If you see interesting patterns in your residual plot, it's indicative of some *bias* in your model – your error isn't due to randomness in the data but because of an underlying problem in the way you've defined the relationship between your variables. \n",
    "\n",
    "Fill in the blanks in the `plot_simple_residuals()` function, so we can take a look at the residual plot.\n",
    "\n",
    "\n",
    "\n",
    "<img src='https://www.qualtrics.com/support/wp-content/uploads/2017/07/Screen-Shot-2017-07-19-at-9.46.11-AM.png' width='800px' />\n"
   ]
  },
  {
   "cell_type": "code",
   "execution_count": null,
   "metadata": {
    "cell_id": "00043-541fb3a8-e86c-4739-8369-c82f118aabcf",
    "deepnote_cell_type": "code",
    "output_cleared": false,
    "source_hash": "efdfd02"
   },
   "outputs": [],
   "source": [
    "def plot_simple_residuals(data, x_name, y_name, linear_model):\n",
    "    \"\"\"\n",
    "    This function plots a residual plot based off of a simple linear model \n",
    "    on top of the scatterplot of the data it was fit to.\n",
    "    \n",
    "    data(DataFrame): e.g. data\n",
    "    x_name(string): the name of the column representing the predictor variable\n",
    "    y_name(string): the name of the column representing the dependent/response variable\n",
    "    linear_model\n",
    "    \n",
    "    returns None but outputs residual plot resulting from linear model overlaid on scatterplot\n",
    "    \"\"\"\n",
    "    X = ...\n",
    "    y = ...\n",
    "    residuals = ...\n",
    "    \n",
    "    ... # plot residuals (Hint: use plt.scatter())\n",
    "    plt.axhline(y=0, color='r', linestyle='-') # plots line at y = 0\n",
    "    plt.title(\"Residual Plot: \" + x_name + \" vs. \" + y_name)\n",
    "    plt.xlabel(x_name)\n",
    "    plt.ylabel(\"Residuals\")\n",
    "    plt.show()"
   ]
  },
  {
   "cell_type": "code",
   "execution_count": null,
   "metadata": {
    "cell_id": "00044-a3bcf9d8-793d-4c87-b3ef-8c1864e5af41",
    "deepnote_cell_type": "code",
    "output_cleared": false,
    "source_hash": "b10131b1"
   },
   "outputs": [],
   "source": [
    "# Initialize our linear regression model\n",
    "linear_model = LinearRegression()\n",
    "\n",
    "X = ...\n",
    "y = ...\n",
    "\n",
    "# Fit the model to the data\n",
    "linear_model.fit(X, y)\n",
    "\n",
    "# Compute R^2\n",
    "linear_model.score(X, y)\n",
    "\n",
    "plot_simple_residuals(data, ..., 'mpg', linear_model)"
   ]
  },
  {
   "cell_type": "markdown",
   "metadata": {
    "cell_id": "00045-c60c38e1-89ca-48de-8bc9-8378e5d93469",
    "deepnote_cell_type": "markdown",
    "output_cleared": false
   },
   "source": [
    "Did you observe any special pattern from the residual plot? \n",
    "\n",
    "Note: [Here](https://www.qualtrics.com/support/stats-iq/analyses/regression-guides/interpreting-residual-plots-improve-regression/)'s some more information about how to interpret different patterns in residual plots and how you can change your model to fix these errors.\n",
    "\n",
    "To see more about how residual plots can help us evaluate our predictions, let us try to connect the constant regression to the simple linear regression"
   ]
  },
  {
   "cell_type": "markdown",
   "metadata": {},
   "source": [
    "## Connecting constant regression and simple linear regression"
   ]
  },
  {
   "cell_type": "markdown",
   "metadata": {},
   "source": [
    "Recall the mathematical formulation of these two regression methods.\n",
    "\n",
    "Constant regression:\n",
    "\n",
    "$$\\hat{y}_i = c$$\n",
    "\n",
    "Simple linear regression:\n",
    "\n",
    "$$\\hat{y}_i = a + b\\cdot x_i$$\n",
    "\n",
    "for some numbers $a, b, c$.\n",
    "\n",
    "Do you observe any relationship between them? *Hint: what will happen if we set $a=0$ and $x_i=1$?*\n",
    "\n",
    "Let's implement this with `sklearn`."
   ]
  },
  {
   "cell_type": "code",
   "execution_count": 28,
   "metadata": {},
   "outputs": [
    {
     "data": {
      "text/plain": [
       "1.1102230246251565e-16"
      ]
     },
     "execution_count": 28,
     "metadata": {},
     "output_type": "execute_result"
    }
   ],
   "source": [
    "# Initialize our linear regression model\n",
    "linear_model = LinearRegression(fit_intercept = ...)\n",
    "\n",
    "X = ...\n",
    "y = ...\n",
    "\n",
    "# Fit the model to the data\n",
    "linear_model.fit(X, y)\n",
    "\n",
    "# Compute R^2\n",
    "linear_model.score(X, y)"
   ]
  },
  {
   "cell_type": "markdown",
   "metadata": {},
   "source": [
    "You can see the $R^2$ is almost 0! It means our constant prediction is really bad!!!"
   ]
  },
  {
   "cell_type": "code",
   "execution_count": 34,
   "metadata": {},
   "outputs": [
    {
     "data": {
      "image/png": "[encoded data removed]",
      "text/plain": [
       "<Figure size 640x480 with 1 Axes>"
      ]
     },
     "metadata": {},
     "output_type": "display_data"
    }
   ],
   "source": [
    "plt.scatter(acceleration, mpg)\n",
    "y_constant_reg = ...\n",
    "plt.scatter(acceleration, y_constant_reg, label = 'constant regression')\n",
    "plt.legend()\n",
    "plt.show()"
   ]
  },
  {
   "cell_type": "markdown",
   "metadata": {},
   "source": [
    "All the prediction seems to be very wrong. Let's check the residual plot"
   ]
  },
  {
   "cell_type": "code",
   "execution_count": 39,
   "metadata": {},
   "outputs": [
    {
     "data": {
      "image/png": "[encoded data removed]",
      "text/plain": [
       "<Figure size 640x480 with 1 Axes>"
      ]
     },
     "metadata": {},
     "output_type": "display_data"
    }
   ],
   "source": [
    "residuals = ...\n",
    "plt.scatter(acceleration, residuals)\n",
    "plt.axhline(0, color = 'red')\n",
    "plt.xlabel('acceleration')\n",
    "plt.ylabel('residual')\n",
    "plt.show()"
   ]
  },
  {
   "cell_type": "markdown",
   "metadata": {},
   "source": [
    "You can see that the residual plot looks the same as the scatter plot of `mpg` vs `acceleration`, which implies a strong pattern"
   ]
  },
  {
   "cell_type": "markdown",
   "metadata": {},
   "source": [
    "**Question**: Check the fitted coefficient of our model and the average of `mpg`. Why are some numbers the same?"
   ]
  },
  {
   "cell_type": "code",
   "execution_count": 40,
   "metadata": {},
   "outputs": [
    {
     "data": {
      "text/plain": [
       "(array([23.51457286]), 0.0, 23.514572864321607)"
      ]
     },
     "execution_count": 40,
     "metadata": {},
     "output_type": "execute_result"
    }
   ],
   "source": [
    "linear_model.coef_, linear_model.intercept_, np.mean(mpg)"
   ]
  },
  {
   "cell_type": "markdown",
   "metadata": {
    "tags": []
   },
   "source": [
    "<a id='assumptions'></a>\n",
    "## Model Assumptions\n",
    "\n",
    "let's take a look at the keys assumptions we have made in simple linear regression.\n",
    "* **Linearity**: The relationship between the $x_i$ and $y_i$ is linear.\n",
    "* **Homoscedasticity**: The residuals should not have a clear relationship with a variable used for prediction\n",
    "<img src='Hetero.png' width=400 />\n",
    "\n",
    "\n",
    "There are some other assumptions about linear regression such as **Independence** and **Normality** which require a more advanced mathematical formulation of linear regression. We skip them here but if you are interested in them, you can take a look at [this](https://www.statology.org/linear-regression-assumptions/). "
   ]
  },
  {
   "cell_type": "markdown",
   "metadata": {},
   "source": [
    "## Conclusion"
   ]
  },
  {
   "cell_type": "markdown",
   "metadata": {},
   "source": [
    "To use simple linear regression in practice, the procedure is like\n",
    "\n",
    "1) Pick a set of variables you want to use to help predict\n",
    "2) Fit a simple linear regression model for each variable\n",
    "3) Compute their $R^2$\n",
    "4) Plot their residual plots and prediction overlay plots\n",
    "5) Compare step 3 and 4 and pick the best model. If none of these models is satisfying enough to you, choose more variables and go back to step 2."
   ]
  },
  {
   "cell_type": "markdown",
   "metadata": {
    "cell_id": "00050-b80bd02a-e2fc-427d-a95f-9d1247769c23",
    "deepnote_cell_type": "markdown",
    "output_cleared": false
   },
   "source": [
    "### Adding Explanatory Variables\n",
    "Now that you're a master of simple linear regression, you're probably thinking \"WHY CAN'T I USE MORE EXPLANATORY VARIABLES? What if I think `mpg` could be better predicted if I knew *two* of the variables? Wouldn't that make my model better?\" Why, Ms/Mr. Genius Statistician, you *can* use more explanatory variables! That leads us to *multiple linear regression*, which you will see next week."
   ]
  },
  {
   "cell_type": "markdown",
   "metadata": {
    "cell_id": "00051-a25af081-bc1d-4568-b500-cfed0f48ed1a",
    "deepnote_cell_type": "markdown",
    "output_cleared": false,
    "tags": []
   },
   "source": [
    "### Matrix Form of Simple Linear Regression\n",
    "Now let's put everything together and put everything in the matrix form. $$\\mathbf{\\hat{y}} = \\begin{bmatrix} \\hat{y}_1 \\\\ \\hat{y}_2\\\\ \\vdots \\\\ \\hat{y}_n\\end{bmatrix}, \\mathbf{X} = \\begin{bmatrix} 1 & x_1 \\\\ 1 & x_2\\\\ \\vdots \\\\ 1 & x_n\\end{bmatrix}, \\mathbf{\\hat{\\theta}} = \\begin{bmatrix} \\hat{\\theta}_0 \\\\ \\hat{\\theta}_1\\end{bmatrix}$$ $$\\mathbf{\\hat{y}} = \\mathbf{X}\\mathbf{\\hat{\\theta}}$$"
   ]
  },
  {
   "cell_type": "markdown",
   "metadata": {
    "cell_id": "00052-17717b6b-eed7-4344-b307-e652774452d4",
    "deepnote_cell_type": "markdown",
    "output_cleared": false
   },
   "source": [
    "## Resources/References\n",
    "- [Matplotlib Tutorial - Nicolas P. Rougier](https://www.labri.fr/perso/nrougier/teaching/matplotlib/)"
   ]
  },
  {
   "cell_type": "markdown",
   "metadata": {
    "created_in_deepnote_cell": true,
    "deepnote_cell_type": "markdown",
    "tags": []
   },
   "source": [
    "<a style='text-decoration:none;line-height:16px;display:flex;color:#5B5B62;padding:10px;justify-content:end;' href='https://deepnote.com?utm_source=created-in-deepnote-cell&projectId=4d2595a8-48cb-4553-85ca-2d6076eb07b1' target=\"_blank\">\n",
    "<img style='display:inline;max-height:16px;margin:0px;margin-right:7.5px;' src='data:image/svg+xml;base64,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' > </img>\n",
    "Created in <span style='font-weight:600;margin-left:4px;'>Deepnote</span></a>"
   ]
  },
  {
   "cell_type": "code",
   "execution_count": null,
   "metadata": {},
   "outputs": [],
   "source": []
  }
 ],
 "metadata": {
  "deepnote": {},
  "deepnote_execution_queue": [],
  "deepnote_notebook_id": "a17cbbb6-ba38-45d9-90dc-16fdc0826773",
  "kernelspec": {
   "display_name": "Python 3 (ipykernel)",
   "language": "python",
   "name": "python3"
  },
  "language_info": {
   "codemirror_mode": {
    "name": "ipython",
    "version": 3
   },
   "file_extension": ".py",
   "mimetype": "text/x-python",
   "name": "python",
   "nbconvert_exporter": "python",
   "pygments_lexer": "ipython3",
   "version": "3.9.13"
  }
 },
 "nbformat": 4,
 "nbformat_minor": 4
}
