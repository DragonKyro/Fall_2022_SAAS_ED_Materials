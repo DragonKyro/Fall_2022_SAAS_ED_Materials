{
 "cells": [
  {
   "cell_type": "markdown",
   "id": "2c5debe9",
   "metadata": {},
   "source": [
    "# HW -- Lecture 6: Linear Algebra and Linear Regression\n",
    "\n",
    "Given on March 29, 2022"
   ]
  },
  {
   "cell_type": "markdown",
   "id": "7bb9b9d6",
   "metadata": {},
   "source": [
    "## Linear Algebra"
   ]
  },
  {
   "cell_type": "code",
   "execution_count": 2,
   "id": "411010a1",
   "metadata": {},
   "outputs": [],
   "source": [
    "import numpy as np"
   ]
  },
  {
   "cell_type": "markdown",
   "id": "a837342b",
   "metadata": {},
   "source": [
    "**Exercise 1:** Create four different 4X1 vectors v1, v2, v3, and v4. "
   ]
  },
  {
   "cell_type": "code",
   "execution_count": 3,
   "id": "3624d02a",
   "metadata": {},
   "outputs": [],
   "source": [
    "v1= ...\n",
    "v2= ...\n",
    "v3= ...\n",
    "v4= ..."
   ]
  },
  {
   "cell_type": "markdown",
   "id": "2181e8c0",
   "metadata": {},
   "source": [
    "**Exercise 2:** Create a 4X4 matrix called A using the vectors created in the previous exercise."
   ]
  },
  {
   "cell_type": "code",
   "execution_count": 4,
   "id": "5d4f3a11",
   "metadata": {},
   "outputs": [],
   "source": [
    "A = ..."
   ]
  },
  {
   "cell_type": "markdown",
   "id": "e250df98",
   "metadata": {},
   "source": [
    "**Exercise 3:** Find the specific transpose of the matrix A created above."
   ]
  },
  {
   "cell_type": "code",
   "execution_count": 5,
   "id": "bea84330",
   "metadata": {},
   "outputs": [
    {
     "data": {
      "text/plain": [
       "' Write your code here'"
      ]
     },
     "execution_count": 5,
     "metadata": {},
     "output_type": "execute_result"
    }
   ],
   "source": [
    "''' Write your code here'''"
   ]
  },
  {
   "cell_type": "markdown",
   "id": "3884df79",
   "metadata": {},
   "source": [
    "**Exercise 4:** Add matrix A to the transpose of the matrix B below."
   ]
  },
  {
   "cell_type": "code",
   "execution_count": 6,
   "id": "48690805",
   "metadata": {},
   "outputs": [
    {
     "data": {
      "text/plain": [
       "' Write finished code here'"
      ]
     },
     "execution_count": 6,
     "metadata": {},
     "output_type": "execute_result"
    }
   ],
   "source": [
    "B = np.array([[3,7,5,1],[4,0,3,1],[5,2,1,8],[7,3,2,0]])\n",
    "\n",
    "''' Write finished code here'''"
   ]
  },
  {
   "cell_type": "markdown",
   "id": "7c1432bf",
   "metadata": {},
   "source": [
    "**Exercise 5:** What is the dimensions of a 4X2 matrix times a 2X7 matrix?"
   ]
  },
  {
   "cell_type": "code",
   "execution_count": 7,
   "id": "3856ec12",
   "metadata": {},
   "outputs": [],
   "source": [
    "ans='Write answer here'"
   ]
  },
  {
   "cell_type": "markdown",
   "id": "2ac09a19",
   "metadata": {},
   "source": [
    "**Exercise 6:** Are the rows of the matrices below linearly independent or dependent?"
   ]
  },
  {
   "cell_type": "code",
   "execution_count": 8,
   "id": "c55cb8d4",
   "metadata": {},
   "outputs": [],
   "source": [
    "C = np.array([[5,3,7],[6,2,4],[-2,2,6]])\n",
    "ans='Write answer here'"
   ]
  },
  {
   "cell_type": "markdown",
   "id": "9372b60b",
   "metadata": {},
   "source": [
    "**Exercise 7:** Is the matrix C above invertible or not? Provide an explanation using the idea of linear independence or dependence.\n",
    "\n",
    "Hint: Test using specific function given in the lecture"
   ]
  },
  {
   "cell_type": "code",
   "execution_count": 9,
   "id": "18fa44b4",
   "metadata": {},
   "outputs": [
    {
     "data": {
      "text/plain": [
       "'Code for testing C is invertible or not'"
      ]
     },
     "execution_count": 9,
     "metadata": {},
     "output_type": "execute_result"
    }
   ],
   "source": [
    "'''Code for testing C is invertible or not'''"
   ]
  },
  {
   "cell_type": "markdown",
   "id": "e0fc487d",
   "metadata": {},
   "source": [
    "**Explanation goes here**"
   ]
  },
  {
   "cell_type": "markdown",
   "id": "a079108a",
   "metadata": {},
   "source": [
    "**Exercise 8:** Find the inverse of matrix D."
   ]
  },
  {
   "cell_type": "code",
   "execution_count": 14,
   "id": "68ba1c6e",
   "metadata": {},
   "outputs": [
    {
     "data": {
      "text/plain": [
       "'Write finished code here'"
      ]
     },
     "execution_count": 14,
     "metadata": {},
     "output_type": "execute_result"
    }
   ],
   "source": [
    "D = np.array([[1, 2, 3],\n",
    "             [0, 1, 5],\n",
    "             [5, 6, 0]])\n",
    "\n",
    "'''Write finished code here'''"
   ]
  },
  {
   "cell_type": "markdown",
   "id": "fb447931-6f8c-48a4-b99a-63e0749d7ab4",
   "metadata": {},
   "source": [
    "# Regression"
   ]
  },
  {
   "cell_type": "markdown",
   "id": "920b6eef-448d-47e5-9c4b-dd5f88b05ffd",
   "metadata": {},
   "source": [
    "Using the same car dataset used in the lecture, apply the procedure described in the conclusion to the variables `displacement`, `horsepower`, and `weight`. Find the best simple linear regression among these three and explain why."
   ]
  },
  {
   "cell_type": "code",
   "execution_count": null,
   "id": "0a537cc2-23db-456c-86ee-bc24cfe77733",
   "metadata": {},
   "outputs": [],
   "source": []
  }
 ],
 "metadata": {
  "kernelspec": {
   "display_name": "Python 3 (ipykernel)",
   "language": "python",
   "name": "python3"
  },
  "language_info": {
   "codemirror_mode": {
    "name": "ipython",
    "version": 3
   },
   "file_extension": ".py",
   "mimetype": "text/x-python",
   "name": "python",
   "nbconvert_exporter": "python",
   "pygments_lexer": "ipython3",
   "version": "3.9.13"
  }
 },
 "nbformat": 4,
 "nbformat_minor": 5
}
