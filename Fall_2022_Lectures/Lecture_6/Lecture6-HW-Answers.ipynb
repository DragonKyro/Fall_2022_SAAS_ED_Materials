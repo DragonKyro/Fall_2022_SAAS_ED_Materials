{
 "cells": [
  {
   "cell_type": "markdown",
   "metadata": {},
   "source": [
    "# HW -- Lecture 6: Linear Algebra and Linear Regression\n",
    "\n",
    "Given on March 29, 2022"
   ]
  },
  {
   "cell_type": "markdown",
   "metadata": {},
   "source": [
    "## Linear Algebra"
   ]
  },
  {
   "cell_type": "code",
   "execution_count": 2,
   "metadata": {},
   "outputs": [],
   "source": [
    "import numpy as np"
   ]
  },
  {
   "cell_type": "markdown",
   "metadata": {},
   "source": [
    "**Exercise 1:** Create four different 4X1 vectors v1, v2, v3, and v4. "
   ]
  },
  {
   "cell_type": "code",
   "execution_count": 3,
   "metadata": {},
   "outputs": [],
   "source": [
    "v1= [4,5,2,7]\n",
    "v2= [0,3,6,4]\n",
    "v3= [9,7,3,2]\n",
    "v4= [5,3,2,1]"
   ]
  },
  {
   "cell_type": "markdown",
   "metadata": {},
   "source": [
    "**Exercise 2:** Create a 4X4 matrix called A using the vectors created in the previous exercise."
   ]
  },
  {
   "cell_type": "code",
   "execution_count": 4,
   "metadata": {},
   "outputs": [
    {
     "name": "stdout",
     "output_type": "stream",
     "text": [
      "[[4 5 2 7]\n",
      " [0 3 6 4]\n",
      " [9 7 3 2]\n",
      " [5 3 2 1]]\n"
     ]
    }
   ],
   "source": [
    "A = np.array([v1,v2,v3,v4])\n",
    "print(A)"
   ]
  },
  {
   "cell_type": "markdown",
   "metadata": {},
   "source": [
    "**Exercise 3:** Find the specific transpose of the matrix A created above."
   ]
  },
  {
   "cell_type": "code",
   "execution_count": 5,
   "metadata": {},
   "outputs": [
    {
     "name": "stdout",
     "output_type": "stream",
     "text": [
      "[[4 0 9 5]\n",
      " [5 3 7 3]\n",
      " [2 6 3 2]\n",
      " [7 4 2 1]]\n"
     ]
    }
   ],
   "source": [
    "print(A.transpose())"
   ]
  },
  {
   "cell_type": "markdown",
   "metadata": {},
   "source": [
    "**Exercise 4:** Add matrix A to the transpose of the matrix B below."
   ]
  },
  {
   "cell_type": "code",
   "execution_count": 6,
   "metadata": {},
   "outputs": [
    {
     "name": "stdout",
     "output_type": "stream",
     "text": [
      "[[ 7  9  7 14]\n",
      " [ 7  3  8  7]\n",
      " [14 10  4  4]\n",
      " [ 6  4 10  1]]\n"
     ]
    }
   ],
   "source": [
    "B = np.array([[3,7,5,1],[4,0,3,1],[5,2,1,8],[7,3,2,0]])\n",
    "\n",
    "print(A+B.transpose())"
   ]
  },
  {
   "cell_type": "markdown",
   "metadata": {},
   "source": [
    "**Exercise 5:** What is the dimensions of a 4X2 matrix times a 2X7 matrix?"
   ]
  },
  {
   "cell_type": "code",
   "execution_count": 7,
   "metadata": {},
   "outputs": [],
   "source": [
    "ans='4X7'"
   ]
  },
  {
   "cell_type": "markdown",
   "metadata": {},
   "source": [
    "**Exercise 6:** Are the rows of the matrices below linearly independent or dependent?"
   ]
  },
  {
   "cell_type": "code",
   "execution_count": 8,
   "metadata": {},
   "outputs": [],
   "source": [
    "C = np.array([[5,3,7],[6,2,4],[-2,2,6]])\n",
    "ans='Linearly dependent'"
   ]
  },
  {
   "cell_type": "markdown",
   "metadata": {},
   "source": [
    "**Exercise 7:** Is the matrix C above invertible or not? Provide an explanation using the idea of linear independence or dependence.\n",
    "\n",
    "Hint: Test using specific function given in the lecture"
   ]
  },
  {
   "cell_type": "code",
   "execution_count": 9,
   "metadata": {},
   "outputs": [
    {
     "data": {
      "text/plain": [
       "-5.921189464667507e-15"
      ]
     },
     "execution_count": 9,
     "metadata": {},
     "output_type": "execute_result"
    }
   ],
   "source": [
    "np.linalg.det(C)"
   ]
  },
  {
   "cell_type": "markdown",
   "metadata": {},
   "source": [
    "Since the matrix C is linearly dependent, therefore one of the rows is a linear combination of the other rows, so the determinant of the matrix will be 0 resulting in the matrix being noninvertible"
   ]
  },
  {
   "cell_type": "markdown",
   "metadata": {},
   "source": [
    "**Exercise 8:** Find the inverse of matrix D."
   ]
  },
  {
   "cell_type": "code",
   "execution_count": 10,
   "metadata": {},
   "outputs": [
    {
     "name": "stdout",
     "output_type": "stream",
     "text": [
      "[[-6.   3.6  1.4]\n",
      " [ 5.  -3.  -1. ]\n",
      " [-1.   0.8  0.2]]\n"
     ]
    }
   ],
   "source": [
    "D = np.array([[1, 2, 3],\n",
    "             [0, 1, 5],\n",
    "             [5, 6, 0]])\n",
    "\n",
    "print(np.linalg.inv(D))"
   ]
  },
  {
   "cell_type": "code",
   "execution_count": null,
   "metadata": {},
   "outputs": [],
   "source": []
  }
 ],
 "metadata": {
  "kernelspec": {
   "display_name": "Python 3 (ipykernel)",
   "language": "python",
   "name": "python3"
  },
  "language_info": {
   "codemirror_mode": {
    "name": "ipython",
    "version": 3
   },
   "file_extension": ".py",
   "mimetype": "text/x-python",
   "name": "python",
   "nbconvert_exporter": "python",
   "pygments_lexer": "ipython3",
   "version": "3.8.3"
  }
 },
 "nbformat": 4,
 "nbformat_minor": 5
}
