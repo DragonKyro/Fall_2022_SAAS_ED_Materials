{
 "cells": [
  {
   "cell_type": "markdown",
   "metadata": {},
   "source": [
    "# HW Solution -- Lecture 6: Linear Algebra and Linear Regression\n",
    "\n",
    "Given on March 29, 2022"
   ]
  },
  {
   "cell_type": "markdown",
   "metadata": {},
   "source": [
    "## Linear Regression"
   ]
  },
  {
   "cell_type": "markdown",
   "metadata": {},
   "source": [
    "Question b1:\n",
    "1. True. The model is **linear in coefficients**, though we have a nonlinear term of feature. \n",
    "2. False. The model is **nonlinear in in coefficients**.\n",
    "3. True. Take log at both sides."
   ]
  },
  {
   "cell_type": "markdown",
   "metadata": {},
   "source": [
    "Question b2:\n",
    "- Linear model only makes sense when the underlying relationship between dependent and independent variables is linear.\n",
    "- Correctness of the rest assumptions makes doing hypothesis testing on coefficients possible."
   ]
  },
  {
   "cell_type": "markdown",
   "metadata": {},
   "source": [
    "Question b3: Absolute value heuristics, $\\ell_p$ norm."
   ]
  },
  {
   "cell_type": "markdown",
   "metadata": {},
   "source": [
    "Question b4: Without hat, the symbols represent underlying true values. With hat, the symbols represent estimated/fitted values."
   ]
  },
  {
   "cell_type": "markdown",
   "metadata": {},
   "source": [
    "Question b5: $\\hat{\\theta}_0 = 0 - \\hat{\\theta}_1\\cdot 0 = 0$"
   ]
  },
  {
   "cell_type": "markdown",
   "metadata": {},
   "source": [
    "Question b6: $\\hat{\\theta} = \\bar{y}$"
   ]
  },
  {
   "cell_type": "markdown",
   "metadata": {},
   "source": [
    "Question b7: When $R^2=1$, $\\sum_i e_i^2=0$, which means our model predicts prefectly accurate; When $R^2=0$, $\\sum_i e_i^2=\\sum_i(y_i-\\bar{y})^2$ which means our model has the same performance as the constant model $\\hat{\\theta}=\\bar{y}$."
   ]
  },
  {
   "cell_type": "markdown",
   "metadata": {},
   "source": [
    "Question b8: See the code cell below"
   ]
  },
  {
   "cell_type": "code",
   "execution_count": null,
   "metadata": {},
   "outputs": [],
   "source": [
    "linear_model2 = LinearRegression()\n",
    "\n",
    "X2 = mpg_train[[y1]]\n",
    "\n",
    "linear_model2.fit(X2, y)\n",
    "\n",
    "r_squared = linear_model2.score(X2, y)\n",
    "\n",
    "r_squared"
   ]
  },
  {
   "cell_type": "markdown",
   "metadata": {},
   "source": [
    "Question b9: $\\forall i, \\epsilon_i\\sim N(0,\\sigma^2)$"
   ]
  },
  {
   "cell_type": "markdown",
   "metadata": {},
   "source": [
    "Question b10: It won't look like a straight line."
   ]
  },
  {
   "cell_type": "code",
   "execution_count": null,
   "metadata": {},
   "outputs": [],
   "source": []
  }
 ],
 "metadata": {
  "kernelspec": {
   "display_name": "Python 3",
   "language": "python",
   "name": "python3"
  },
  "language_info": {
   "codemirror_mode": {
    "name": "ipython",
    "version": 3
   },
   "file_extension": ".py",
   "mimetype": "text/x-python",
   "name": "python",
   "nbconvert_exporter": "python",
   "pygments_lexer": "ipython3",
   "version": "3.8.5"
  }
 },
 "nbformat": 4,
 "nbformat_minor": 4
}
