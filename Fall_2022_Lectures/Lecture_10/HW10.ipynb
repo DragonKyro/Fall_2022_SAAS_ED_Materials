{
 "cells": [
  {
   "cell_type": "markdown",
   "id": "bc112a36",
   "metadata": {},
   "source": [
    "# HW10 Final!!!!"
   ]
  },
  {
   "cell_type": "code",
   "execution_count": 1,
   "id": "717f62db",
   "metadata": {},
   "outputs": [],
   "source": [
    "from sklearn.neighbors import KNeighborsClassifier\n",
    "from sklearn.model_selection import train_test_split\n",
    "from sklearn.datasets import load_iris\n",
    "import numpy as np\n",
    "import matplotlib.pyplot as plt\n",
    "from matplotlib.colors import ListedColormap\n",
    "from sklearn import neighbors, datasets\n",
    "import seaborn as sns\n",
    "import pandas as pd\n",
    "from sklearn import neighbors, datasets\n",
    "from sklearn.tree import DecisionTreeClassifier\n",
    "from sklearn import neighbors, datasets"
   ]
  },
  {
   "cell_type": "code",
   "execution_count": 2,
   "id": "9082f811",
   "metadata": {},
   "outputs": [],
   "source": [
    "irisData = load_iris()\n",
    "  \n",
    "# Create feature and target arrays\n",
    "X = irisData.data\n",
    "y = irisData.target\n",
    "  \n",
    "# Split into training and test set\n",
    "X_train, X_test, y_train, y_test = train_test_split(\n",
    "             X, y, test_size = 0.2, random_state=42)"
   ]
  },
  {
   "cell_type": "markdown",
   "id": "f0e7003a",
   "metadata": {},
   "source": [
    "1. Make a N=5 KNN classifier on the iris data set"
   ]
  },
  {
   "cell_type": "code",
   "execution_count": null,
   "id": "68e6db16",
   "metadata": {},
   "outputs": [],
   "source": []
  },
  {
   "cell_type": "markdown",
   "id": "89a504c1",
   "metadata": {},
   "source": [
    "2. What is the accuracy of the classifier?"
   ]
  },
  {
   "cell_type": "code",
   "execution_count": null,
   "id": "75bfb48c",
   "metadata": {},
   "outputs": [],
   "source": []
  },
  {
   "cell_type": "markdown",
   "id": "01c67859",
   "metadata": {},
   "source": [
    "3. What is the best N value that produces the best accuracy? Use the elbow method taught in class"
   ]
  },
  {
   "cell_type": "code",
   "execution_count": 8,
   "id": "2f64ac05",
   "metadata": {},
   "outputs": [],
   "source": [
    "#Import scikit-learn dataset library\n",
    "from sklearn import datasets\n",
    "\n",
    "#Load dataset\n",
    "wine = datasets.load_wine()\n",
    "\n",
    "X=wine.data\n",
    "y=wine.target\n",
    "\n",
    "X_train, X_test, y_train, y_test = train_test_split(X, y, test_size = 0.2, random_state=42)\n",
    "#wine_train, wine_test = train_test_split(wine, test_size = .2, random_state = 0)"
   ]
  },
  {
   "cell_type": "markdown",
   "id": "fedb3556",
   "metadata": {},
   "source": [
    "4. Make a Random Forest Model based on the Wine dataset"
   ]
  },
  {
   "cell_type": "code",
   "execution_count": null,
   "id": "1a672d8c",
   "metadata": {},
   "outputs": [],
   "source": []
  }
 ],
 "metadata": {
  "kernelspec": {
   "display_name": "Python 3 (ipykernel)",
   "language": "python",
   "name": "python3"
  },
  "language_info": {
   "codemirror_mode": {
    "name": "ipython",
    "version": 3
   },
   "file_extension": ".py",
   "mimetype": "text/x-python",
   "name": "python",
   "nbconvert_exporter": "python",
   "pygments_lexer": "ipython3",
   "version": "3.9.13"
  }
 },
 "nbformat": 4,
 "nbformat_minor": 5
}
