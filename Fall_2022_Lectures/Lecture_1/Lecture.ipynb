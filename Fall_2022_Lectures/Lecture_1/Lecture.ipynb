{
 "cells": [
  {
   "cell_type": "markdown",
   "metadata": {
    "id": "Lv3-OJS5MpCc"
   },
   "source": [
    "# Lecture 1: Introduction to Datahub, Jupyter, and Terminal\n",
    "## 20 Sep 2022\n",
    "\n",
    "### Table Of Contents\n",
    "* [Introduction](#section1)\n",
    "* [What will we learn?](#section2)\n",
    "* [Homework and Submissions](#section3)\n",
    "\n",
    "\n",
    "### Hosted by and maintained by the [Student Association for Applied Statistics (SAAS)](https://saas.berkeley.edu). \n"
   ]
  },
  {
   "cell_type": "markdown",
   "metadata": {
    "id": "0PaIXRzSMpCd"
   },
   "source": [
    "<a id='section1'></a>\n",
    "# Introduction\n",
    "Hello! Welcome to Career Exploration Fall 2022!\n",
    "\n",
    "This is just an introductory notebook for practice working with datahub and discussing the semester schedule. \n",
    "\n",
    "Datahub is a fantastic resource as it allows us to utilize python and common packages without needing to install a bunch of stuff and having that break.\n",
    "\n",
    "Run the code chunk below by clicking on it and pressing `shift enter` (or `shift return`) on mac. These are all common packages we will import throughout the semesters."
   ]
  },
  {
   "cell_type": "code",
   "execution_count": null,
   "metadata": {
    "id": "Is-cQU9wMpCe"
   },
   "outputs": [],
   "source": [
    "import pandas as pd\n",
    "import numpy as np\n",
    "from sklearn.linear_model import LinearRegression\n",
    "import matplotlib.pyplot as plt\n",
    "%matplotlib inline"
   ]
  },
  {
   "cell_type": "markdown",
   "metadata": {
    "id": "W-LRL8kmMpCj"
   },
   "source": [
    "Ordinarily you would need to install python as well as all the packages and then sometimes stuff doesn't work. This usually causes many problems with differing versions and installation issues. Datahub bypasses all of these by providing a environment you can use online! \n",
    "\n",
    "### Steps to download from Slack and unzip on Datahub.         \n",
    "1. Make sure you are in the slack workspace, and in the career exploration committee channel.\n",
    "2. Download the LectureX.zip file\n",
    "1. Open datahub at http://datahub.berkeley.edu/ and log in with your berkeley account\n",
    "2. Click upload at the top right\n",
    "3. Upload LectureX.zip (X represents the lecture number, for example Lecture1.zip)\n",
    "4. Select 'new' at the top right of the datahub screen, and select terminal from the drop down\n",
    "5. Enter \"unzip LectureX.zip\"\n",
    "  * `unzip LectureX.zip`\n",
    "6. Open the LectureX folder and open the ipynb file inside the LectureX folder\n",
    "\n",
    "\n",
    "Our main source of file sharing will be uploading to slack. Remember to upload the entire zip file to Datahub and unzip. "
   ]
  },
  {
   "cell_type": "markdown",
   "metadata": {
    "id": "i4kdOa2VMpCj"
   },
   "source": [
    "<a id='section2'></a>\n",
    "# What will we learn?\n",
    "\n",
    "This semester will go over many topics on a relatively high level. We begin with introducing jupyter notebooks (what you are reading from right now!) and use these to teach most of our lectures. Jupyter notebooks are incredibly useful as they allow you to run separate chunks of code at a time, without having to run the entire program at once.\n",
    "\n",
    "We aim to go through the following topics for the semester.\n",
    "\n",
    "<table class=\"table table-bordered table-hover table-condensed\">\n",
    "<thead><tr><th title=\"Field #1\">Date</th>\n",
    "<th title=\"Field #2\">Lecture</th>\n",
    "<th title=\"Field #3\">Description</th>\n",
    "</tr></thead>\n",
    "<tbody><tr>\n",
    "<td>9/20</td>\n",
    "<td>L1 Software for Class and Logistics</td>\n",
    "<td>Jupyter Notebooks, Datahub, Terminal</td>\n",
    "</tr>\n",
    "<tr>\n",
    "<td>9/27</td>\n",
    "<td>L2 Fundamental Python</td>\n",
    "<td>Lists/Dictionaries, Functions, Iterations</td>\n",
    "</tr>\n",
    "<tr>\n",
    "<td>10/4</td>\n",
    "<td>L3 Numpy/Pandas</td>\n",
    "<td>Numpy Arrays, Pandas, Data Frames</td>\n",
    "</tr>\n",
    "<tr>\n",
    "<td>10/11</td>\n",
    "<td>L4 EDA and Data Visualization</td>\n",
    "<td>EDA, Matplotlib, residual plots, box plots, histograms, QQ plots, normal distribution</td>\n",
    "</tr>\n",
    "<tr>\n",
    "<td>10/18</td>\n",
    "<td>L5 Probability for Data Science</td>\n",
    "<td>Counting, probability, expectation, variance, discrete distributions, continuous distributions</td>\n",
    "</tr>\n",
    "<tr>\n",
    "<td>10/25</td>\n",
    "<td>L6 Linear Algebra for Data Science</td>\n",
    "<td>Matrices, vectors, linear regression, R^2, residual plots, linear models, transposes, inverses, normal equation, column spaces, orthogonality</td>\n",
    "</tr>\n",
    "<tr>\n",
    "<td>11/1</td>\n",
    "<td>L7 Applications of Math/Stats/Code pt1</td>\n",
    "<td>Under/overfitting, loss functions, classification vs regression, training/validation/testing, bias, variance</td>\n",
    "</tr>\n",
    "<tr>\n",
    "<td>11/8</td>\n",
    "<td>L8 Applications of Math/Stats/Code pt2</td>\n",
    "<td>Ridge regression, k-fold cross validation, lasso, hyperparameters, gradient descent, OLS</td>\n",
    "</tr>\n",
    "<tr>\n",
    "<td>11/15</td>\n",
    "<td>L9 Classification Part 1</td>\n",
    "<td>Logistic regression, loss function, model evaluation, decision boundaries</td>\n",
    "</tr>\n",
    "<tr>\n",
    "<td>11/29</td>\n",
    "<td>L10 Classification Part 2</td>\n",
    "<td>Decision trees, random forest, k-nearest neighbors, hyperparameter tuning</td>\n",
    "</tr>\n",
    "</tbody></table>\n",
    "\n",
    "As you can see, the semester is packed full of various concepts, from statistical ideas such as bias and variance to machine learning concepts like neural networks and decision trees.\n",
    "\n",
    "The semester is structured so that you will be able to accumulate foundational skills, learn more advanced concepts, and apply them to a final Kaggle competition. \n",
    "\n",
    "The course material is being written by our lovely Education committee! You will get to meet them over the course of the semester as we are rotating lecturers.\n",
    "\n",
    "This schedule is quite ambitious and fast paced as it aims to cover a very large amount of material. \n",
    "\n",
    "**Please let us know if you ever have feedback, have questions, or you are just looking for some more help! We are all happy to help out. You can always reach us over slack.**\n",
    "\n",
    "**This material is hard!**\n",
    "\n",
    "We also hold many workshops and socials over the semester! We hope that you are all able to come participate and have a great time!"
   ]
  },
  {
   "cell_type": "markdown",
   "metadata": {
    "id": "QIq_AGu7MpCk"
   },
   "source": [
    "<a id='section3'></a>\n",
    "# Final Project/Kaggle Competition"
   ]
  },
  {
   "cell_type": "markdown",
   "metadata": {
    "id": "yC2g74WxMpCl"
   },
   "source": [
    "This semester we will have a final project in the form of Kaggling Competition. It will be a good way to apply whatever you have learnt from the lecture to solve a practical problem!\n",
    "\n",
    "We will release two notebooks (one for EDA and the other one for modeling) to help you progress your data analysis. The EDA notebook will be released at 10/11, and the modeling notebook will be released at 11/01.\n",
    "\n",
    "The due of the entire project/competition is 12/09, which is the Friday of the RRR week. Education committee members will hold OH for the project at the week before the RRR week.\n"
   ]
  },
  {
   "cell_type": "markdown",
   "metadata": {},
   "source": [
    "# Homework\n",
    "This semester, we will be having **mandatory** homework problem sets to complement each lecture. We expect each homework set to take 1-2 hours and to serve as good independent practice for relevant topics. Solutions will also be released for each homework set.\n",
    "\n",
    "You will submit your homework solutions to the Gradescope. The instructors of each lecture will tell you the format (like pdf or notebook) of your submission."
   ]
  },
  {
   "cell_type": "markdown",
   "metadata": {},
   "source": [
    "# Terminal"
   ]
  },
  {
   "cell_type": "markdown",
   "metadata": {},
   "source": [
    "Previously, we have already used the terminal to unzip the course materials. Now let's learn more basic operations of it!\n",
    "\n",
    "Basic commands:\n",
    "\n",
    "* `cd path/to/directory/`: (Change Directory) change the directory that you’re currently working with to `path/to/directory/` in the Terminal in order to execute other commands on a different directory. If `path/to/directory/` is empty, i.e., you don't type anything following `cd`, it will go back to the root directory.\n",
    "* `ls path/to/directory/`: (Listing Directory) view the contents (files and directories) inside of the `path/to/directory/` directory. If `path/to/directory/` is empty, i.e., you don't type anything following `cd`, it view the contents in the current directory.\n",
    "* `cp filename1 filename2`: (Copy a file to another directory) copy a file from one location (`filename1`) to another location (`filename2`).\n",
    "* `mv filename1 filename2`: (Move a file) has the same logics as `cp`, but you \"move\" instead of \"copy\".\n",
    "* `rm filename`: (Remove a file) delete/remove `filename`. If you want to remove a (nested) folder, use `rm -rf filename`.\n",
    "\n",
    "Basic Symbols:\n",
    "* `.` represents the current directory.\n",
    "* `..` represents the parent directory.\n",
    "* `*` represents anything. For example, `cp folder1/* folder2` means copy all the files under `folder1` to `folder2`. `rm *.csv` represents deleting all the csv files in the current directory.\n",
    "\n",
    "[Reference](https://www.techrepublic.com/article/16-terminal-commands-every-user-should-know/)"
   ]
  },
  {
   "cell_type": "markdown",
   "metadata": {},
   "source": [
    "Use the commands above to do the following operations:\n",
    "\n",
    "1. Go to the `Excerise` directory\n",
    "2. View the contents in the current directory. What are they?\n",
    "3. View the contents in `Berkeley` and `Stanfurd` directory. What are they?\n",
    "4. Go to the `Berkeley` directory\n",
    "5. Go back to the `Excerise` directory\n",
    "6. Remove everything in `Stanfurd`\n",
    "7. Copy everything in `Berkeley` to `Stanfurd`\n",
    "\n",
    "Good job! You have turned Stanford into a Bear territory!"
   ]
  },
  {
   "cell_type": "markdown",
   "metadata": {},
   "source": [
    "<a id='section4'></a>\n",
    "# DataHub/Jupyter Notebook Guide"
   ]
  },
  {
   "cell_type": "markdown",
   "metadata": {},
   "source": [
    "Datahub will be the place where all your code will reside. In some ways this is your development environment! You should always be familiar with the environment you program in, and here are some exercises to help you get started!"
   ]
  },
  {
   "cell_type": "markdown",
   "metadata": {},
   "source": [
    "**Double click** a cell to edit the contents. \n",
    "\n",
    "There are two main kinds of cells we will be expecting you to know, Markdown and Code. \n",
    "You can run a cell by pressing **ctrl-enter**.\n",
    "Code: Really self explanatory. This is where your code is stored.\n",
    "Markdown: All the text stuff. There is also some latex integration! w $\\alpha$ o! Just put $ around your markdown code."
   ]
  },
  {
   "cell_type": "markdown",
   "metadata": {},
   "source": [
    "The **kernel** is something you find might crash a lot in the future. If the kernel does not work, your code does not work. Look at the top right of the notebook to see the status of the kernel.\n",
    "\n",
    "As the wise IT guys always say, try turning it off and on again if it doesn't work. To restart the kernel, try to find the \"kernel\" section near the top left of the notebook. This should be in the dropdown menu.\n",
    "\n",
    "The **toolbar** at the top of the notebook also holds some pretty useful tools! "
   ]
  },
  {
   "cell_type": "markdown",
   "metadata": {},
   "source": [
    "**Note**: Here is an optional [reading material](https://towardsdatascience.com/jypyter-notebook-shortcuts-bf0101a98330) about more shortcuts in jupyter notebook ."
   ]
  },
  {
   "cell_type": "markdown",
   "metadata": {},
   "source": [
    "<h3>Q1</h3>\n",
    "\n",
    "Look in the toolbar an try to find the **Run All Above** command. "
   ]
  },
  {
   "cell_type": "markdown",
   "metadata": {},
   "source": [
    "What tab is it in?"
   ]
  },
  {
   "cell_type": "markdown",
   "metadata": {},
   "source": [
    "<h3> Q2 </h3>\n",
    "\n",
    "Delete the cell below"
   ]
  },
  {
   "cell_type": "markdown",
   "metadata": {},
   "source": [
    "*DELETE ME PLEASE*"
   ]
  },
  {
   "cell_type": "markdown",
   "metadata": {
    "id": "B8HG5WHPMpCo"
   },
   "source": [
    "<h3> Q3 </h3>\n",
    "\n",
    "**In the cell below, write a number 1 to 100 inclusive.**"
   ]
  },
  {
   "cell_type": "markdown",
   "metadata": {
    "id": "pyoBMGmsMpCo",
    "tags": [
     "number"
    ]
   },
   "source": [
    "*Make me a number*"
   ]
  },
  {
   "cell_type": "markdown",
   "metadata": {
    "id": "Ij5xYSFQMpCl"
   },
   "source": [
    "<h3> Q4 </h3>\n",
    "\n",
    "In the cells below, write your name, major, a fun fact about yourself. Make sure to hit Save (File > Save and Checkpoint) or Ctrl/Command-S after you've finished writing. "
   ]
  },
  {
   "cell_type": "markdown",
   "metadata": {
    "id": "26G0VoLAMpCm",
    "tags": [
     "name"
    ]
   },
   "source": [
    "**Name**: "
   ]
  },
  {
   "cell_type": "markdown",
   "metadata": {
    "id": "M7I8L8U1MpCn",
    "tags": [
     "major"
    ]
   },
   "source": [
    "**Major**: "
   ]
  },
  {
   "cell_type": "markdown",
   "metadata": {
    "id": "ds6g0-WhMpCn",
    "tags": [
     "fun-fact"
    ]
   },
   "source": [
    "**Fun Fact**: "
   ]
  },
  {
   "cell_type": "markdown",
   "metadata": {
    "id": "UUjnSDTBMpCu"
   },
   "source": [
    "<h3> Q5 </h3>\n",
    "\n",
    "Run the cell below to make sure everything runs fine. "
   ]
  },
  {
   "cell_type": "code",
   "execution_count": null,
   "metadata": {
    "id": "YSomUDtZMpCv"
   },
   "outputs": [],
   "source": [
    "func = lambda x: 4*x+2\n",
    "samples = 100\n",
    "data_range = [0, 1]\n",
    "\n",
    "\n",
    "x = np.random.uniform(data_range[0], data_range[1], (samples, 1))\n",
    "y = func(x) + np.random.normal(scale=3, size=(samples, 1))\n",
    "model = LinearRegression().fit(x, y)\n",
    "predictions = model.predict(np.array(data_range).reshape(-1, 1))\n",
    "\n",
    "\n",
    "fig, ax = plt.subplots(figsize=(12, 8))\n",
    "plt.scatter(x, y)\n",
    "plt.plot(data_range, list(map(func, data_range)), label=\"Truth\")\n",
    "plt.plot(data_range, predictions, label=\"Prediction\")\n",
    "plt.xlabel(\"X\")\n",
    "plt.ylabel(\"Y\")\n",
    "plt.title(\"Linear regression\")\n",
    "plt.legend()\n",
    "plt.show()"
   ]
  },
  {
   "cell_type": "markdown",
   "metadata": {},
   "source": [
    "<h3> Q6 </h3>"
   ]
  },
  {
   "cell_type": "markdown",
   "metadata": {},
   "source": [
    "Run the cell below to display a dataframe."
   ]
  },
  {
   "cell_type": "code",
   "execution_count": null,
   "metadata": {},
   "outputs": [
    {
     "data": {
      "text/html": [
       "<div>\n",
       "<style scoped>\n",
       "    .dataframe tbody tr th:only-of-type {\n",
       "        vertical-align: middle;\n",
       "    }\n",
       "\n",
       "    .dataframe tbody tr th {\n",
       "        vertical-align: top;\n",
       "    }\n",
       "\n",
       "    .dataframe thead th {\n",
       "        text-align: right;\n",
       "    }\n",
       "</style>\n",
       "<table border=\"1\" class=\"dataframe\">\n",
       "  <thead>\n",
       "    <tr style=\"text-align: right;\">\n",
       "      <th></th>\n",
       "      <th>Id</th>\n",
       "      <th>ActivityDate</th>\n",
       "      <th>TotalSteps</th>\n",
       "      <th>TotalDistance</th>\n",
       "      <th>TrackerDistance</th>\n",
       "      <th>LoggedActivitiesDistance</th>\n",
       "      <th>VeryActiveDistance</th>\n",
       "      <th>ModeratelyActiveDistance</th>\n",
       "      <th>LightActiveDistance</th>\n",
       "      <th>SedentaryActiveDistance</th>\n",
       "      <th>VeryActiveMinutes</th>\n",
       "      <th>FairlyActiveMinutes</th>\n",
       "      <th>LightlyActiveMinutes</th>\n",
       "      <th>SedentaryMinutes</th>\n",
       "      <th>Calories</th>\n",
       "    </tr>\n",
       "  </thead>\n",
       "  <tbody>\n",
       "    <tr>\n",
       "      <th>0</th>\n",
       "      <td>1503960366</td>\n",
       "      <td>4/12/2016</td>\n",
       "      <td>13162</td>\n",
       "      <td>8.500000</td>\n",
       "      <td>8.500000</td>\n",
       "      <td>0.0</td>\n",
       "      <td>1.88</td>\n",
       "      <td>0.55</td>\n",
       "      <td>6.06</td>\n",
       "      <td>0.00</td>\n",
       "      <td>25</td>\n",
       "      <td>13</td>\n",
       "      <td>328</td>\n",
       "      <td>728</td>\n",
       "      <td>1985</td>\n",
       "    </tr>\n",
       "    <tr>\n",
       "      <th>1</th>\n",
       "      <td>1503960366</td>\n",
       "      <td>4/13/2016</td>\n",
       "      <td>10735</td>\n",
       "      <td>6.970000</td>\n",
       "      <td>6.970000</td>\n",
       "      <td>0.0</td>\n",
       "      <td>1.57</td>\n",
       "      <td>0.69</td>\n",
       "      <td>4.71</td>\n",
       "      <td>0.00</td>\n",
       "      <td>21</td>\n",
       "      <td>19</td>\n",
       "      <td>217</td>\n",
       "      <td>776</td>\n",
       "      <td>1797</td>\n",
       "    </tr>\n",
       "    <tr>\n",
       "      <th>2</th>\n",
       "      <td>1503960366</td>\n",
       "      <td>4/14/2016</td>\n",
       "      <td>10460</td>\n",
       "      <td>6.740000</td>\n",
       "      <td>6.740000</td>\n",
       "      <td>0.0</td>\n",
       "      <td>2.44</td>\n",
       "      <td>0.40</td>\n",
       "      <td>3.91</td>\n",
       "      <td>0.00</td>\n",
       "      <td>30</td>\n",
       "      <td>11</td>\n",
       "      <td>181</td>\n",
       "      <td>1218</td>\n",
       "      <td>1776</td>\n",
       "    </tr>\n",
       "    <tr>\n",
       "      <th>3</th>\n",
       "      <td>1503960366</td>\n",
       "      <td>4/15/2016</td>\n",
       "      <td>9762</td>\n",
       "      <td>6.280000</td>\n",
       "      <td>6.280000</td>\n",
       "      <td>0.0</td>\n",
       "      <td>2.14</td>\n",
       "      <td>1.26</td>\n",
       "      <td>2.83</td>\n",
       "      <td>0.00</td>\n",
       "      <td>29</td>\n",
       "      <td>34</td>\n",
       "      <td>209</td>\n",
       "      <td>726</td>\n",
       "      <td>1745</td>\n",
       "    </tr>\n",
       "    <tr>\n",
       "      <th>4</th>\n",
       "      <td>1503960366</td>\n",
       "      <td>4/16/2016</td>\n",
       "      <td>12669</td>\n",
       "      <td>8.160000</td>\n",
       "      <td>8.160000</td>\n",
       "      <td>0.0</td>\n",
       "      <td>2.71</td>\n",
       "      <td>0.41</td>\n",
       "      <td>5.04</td>\n",
       "      <td>0.00</td>\n",
       "      <td>36</td>\n",
       "      <td>10</td>\n",
       "      <td>221</td>\n",
       "      <td>773</td>\n",
       "      <td>1863</td>\n",
       "    </tr>\n",
       "    <tr>\n",
       "      <th>...</th>\n",
       "      <td>...</td>\n",
       "      <td>...</td>\n",
       "      <td>...</td>\n",
       "      <td>...</td>\n",
       "      <td>...</td>\n",
       "      <td>...</td>\n",
       "      <td>...</td>\n",
       "      <td>...</td>\n",
       "      <td>...</td>\n",
       "      <td>...</td>\n",
       "      <td>...</td>\n",
       "      <td>...</td>\n",
       "      <td>...</td>\n",
       "      <td>...</td>\n",
       "      <td>...</td>\n",
       "    </tr>\n",
       "    <tr>\n",
       "      <th>935</th>\n",
       "      <td>8877689391</td>\n",
       "      <td>5/8/2016</td>\n",
       "      <td>10686</td>\n",
       "      <td>8.110000</td>\n",
       "      <td>8.110000</td>\n",
       "      <td>0.0</td>\n",
       "      <td>1.08</td>\n",
       "      <td>0.20</td>\n",
       "      <td>6.80</td>\n",
       "      <td>0.00</td>\n",
       "      <td>17</td>\n",
       "      <td>4</td>\n",
       "      <td>245</td>\n",
       "      <td>1174</td>\n",
       "      <td>2847</td>\n",
       "    </tr>\n",
       "    <tr>\n",
       "      <th>936</th>\n",
       "      <td>8877689391</td>\n",
       "      <td>5/9/2016</td>\n",
       "      <td>20226</td>\n",
       "      <td>18.250000</td>\n",
       "      <td>18.250000</td>\n",
       "      <td>0.0</td>\n",
       "      <td>11.10</td>\n",
       "      <td>0.80</td>\n",
       "      <td>6.24</td>\n",
       "      <td>0.05</td>\n",
       "      <td>73</td>\n",
       "      <td>19</td>\n",
       "      <td>217</td>\n",
       "      <td>1131</td>\n",
       "      <td>3710</td>\n",
       "    </tr>\n",
       "    <tr>\n",
       "      <th>937</th>\n",
       "      <td>8877689391</td>\n",
       "      <td>5/10/2016</td>\n",
       "      <td>10733</td>\n",
       "      <td>8.150000</td>\n",
       "      <td>8.150000</td>\n",
       "      <td>0.0</td>\n",
       "      <td>1.35</td>\n",
       "      <td>0.46</td>\n",
       "      <td>6.28</td>\n",
       "      <td>0.00</td>\n",
       "      <td>18</td>\n",
       "      <td>11</td>\n",
       "      <td>224</td>\n",
       "      <td>1187</td>\n",
       "      <td>2832</td>\n",
       "    </tr>\n",
       "    <tr>\n",
       "      <th>938</th>\n",
       "      <td>8877689391</td>\n",
       "      <td>5/11/2016</td>\n",
       "      <td>21420</td>\n",
       "      <td>19.559999</td>\n",
       "      <td>19.559999</td>\n",
       "      <td>0.0</td>\n",
       "      <td>13.22</td>\n",
       "      <td>0.41</td>\n",
       "      <td>5.89</td>\n",
       "      <td>0.00</td>\n",
       "      <td>88</td>\n",
       "      <td>12</td>\n",
       "      <td>213</td>\n",
       "      <td>1127</td>\n",
       "      <td>3832</td>\n",
       "    </tr>\n",
       "    <tr>\n",
       "      <th>939</th>\n",
       "      <td>8877689391</td>\n",
       "      <td>5/12/2016</td>\n",
       "      <td>8064</td>\n",
       "      <td>6.120000</td>\n",
       "      <td>6.120000</td>\n",
       "      <td>0.0</td>\n",
       "      <td>1.82</td>\n",
       "      <td>0.04</td>\n",
       "      <td>4.25</td>\n",
       "      <td>0.00</td>\n",
       "      <td>23</td>\n",
       "      <td>1</td>\n",
       "      <td>137</td>\n",
       "      <td>770</td>\n",
       "      <td>1849</td>\n",
       "    </tr>\n",
       "  </tbody>\n",
       "</table>\n",
       "<p>940 rows × 15 columns</p>\n",
       "</div>"
      ],
      "text/plain": [
       "             Id ActivityDate  TotalSteps  TotalDistance  TrackerDistance  \\\n",
       "0    1503960366    4/12/2016       13162       8.500000         8.500000   \n",
       "1    1503960366    4/13/2016       10735       6.970000         6.970000   \n",
       "2    1503960366    4/14/2016       10460       6.740000         6.740000   \n",
       "3    1503960366    4/15/2016        9762       6.280000         6.280000   \n",
       "4    1503960366    4/16/2016       12669       8.160000         8.160000   \n",
       "..          ...          ...         ...            ...              ...   \n",
       "935  8877689391     5/8/2016       10686       8.110000         8.110000   \n",
       "936  8877689391     5/9/2016       20226      18.250000        18.250000   \n",
       "937  8877689391    5/10/2016       10733       8.150000         8.150000   \n",
       "938  8877689391    5/11/2016       21420      19.559999        19.559999   \n",
       "939  8877689391    5/12/2016        8064       6.120000         6.120000   \n",
       "\n",
       "     LoggedActivitiesDistance  VeryActiveDistance  ModeratelyActiveDistance  \\\n",
       "0                         0.0                1.88                      0.55   \n",
       "1                         0.0                1.57                      0.69   \n",
       "2                         0.0                2.44                      0.40   \n",
       "3                         0.0                2.14                      1.26   \n",
       "4                         0.0                2.71                      0.41   \n",
       "..                        ...                 ...                       ...   \n",
       "935                       0.0                1.08                      0.20   \n",
       "936                       0.0               11.10                      0.80   \n",
       "937                       0.0                1.35                      0.46   \n",
       "938                       0.0               13.22                      0.41   \n",
       "939                       0.0                1.82                      0.04   \n",
       "\n",
       "     LightActiveDistance  SedentaryActiveDistance  VeryActiveMinutes  \\\n",
       "0                   6.06                     0.00                 25   \n",
       "1                   4.71                     0.00                 21   \n",
       "2                   3.91                     0.00                 30   \n",
       "3                   2.83                     0.00                 29   \n",
       "4                   5.04                     0.00                 36   \n",
       "..                   ...                      ...                ...   \n",
       "935                 6.80                     0.00                 17   \n",
       "936                 6.24                     0.05                 73   \n",
       "937                 6.28                     0.00                 18   \n",
       "938                 5.89                     0.00                 88   \n",
       "939                 4.25                     0.00                 23   \n",
       "\n",
       "     FairlyActiveMinutes  LightlyActiveMinutes  SedentaryMinutes  Calories  \n",
       "0                     13                   328               728      1985  \n",
       "1                     19                   217               776      1797  \n",
       "2                     11                   181              1218      1776  \n",
       "3                     34                   209               726      1745  \n",
       "4                     10                   221               773      1863  \n",
       "..                   ...                   ...               ...       ...  \n",
       "935                    4                   245              1174      2847  \n",
       "936                   19                   217              1131      3710  \n",
       "937                   11                   224              1187      2832  \n",
       "938                   12                   213              1127      3832  \n",
       "939                    1                   137               770      1849  \n",
       "\n",
       "[940 rows x 15 columns]"
      ]
     },
     "metadata": {},
     "output_type": "display_data"
    }
   ],
   "source": [
    "pd.read_csv('dailyActivity_merged.csv')"
   ]
  },
  {
   "cell_type": "markdown",
   "metadata": {},
   "source": [
    "<h3> Q7 </h3>\n",
    "Let's have some fun with markdown.  Create a markdown cell below and make a numbered list of your top 3 favorite places on campus.  Bold the first item, italicize the second, and bold and italicize the third.  Your list should look similar to below.  Try Googling for markdown syntax.  If you need help, feel free to double-click this cell.\n",
    "\n",
    "1. **Place 1**\n",
    "2. *Place 2*\n",
    "3. ***Place 3***"
   ]
  },
  {
   "cell_type": "markdown",
   "metadata": {},
   "source": [
    "<h3> Q8 </h3>\n",
    "Now let's try some latex. Create a cell below and try recreating the formula below. Don't worry, you don't need to understand what the formula means (yet). Remember that you can render latex by surrounding the formula with dollar signs. If you need help, you can double-click this cell.\n",
    "\n",
    "Hint: $\\sigma$ is called sigma and $\\mu$ is called mu.\n",
    "\n",
    "$$P(X \\leq b) = \\int_{-\\infty}^{b} \\frac{1}{\\sigma \\sqrt{2\\pi}} e^{\\frac{(t-\\mu)^2}{2\\sigma^2}} \\,dt$$"
   ]
  },
  {
   "cell_type": "markdown",
   "metadata": {},
   "source": [
    "<a id='section5'></a>\n",
    "# (Optional) JupyterLab Guide"
   ]
  },
  {
   "cell_type": "markdown",
   "metadata": {},
   "source": [
    "![image](jupyterLab_interface.png)"
   ]
  },
  {
   "cell_type": "markdown",
   "metadata": {},
   "source": [
    "JupyterLab is the next-generation notebook Interface. The core of JupyterLab is still the jupyter notebook, but JupyterLab includes more diverse and ampful functionalities for more efficient and powerful coding.\n",
    "\n",
    "Here are some highlights of JupyterLab that might sound interesting to you:\n",
    "\n",
    "1. It extends the functionality of the classic jupyter notebook. For example, you can move a cell by using the cursor to drag it. You also have the access to a **debugger**. \n",
    "2. It has an extra left sidebar that shows the file management system, Git, etc.\n",
    "3. It has more customization to optimize your coding experience (e.g. splitting the screen, changing the font and interface color)\n",
    "\n",
    "With JupyterLab, you can code whenever and wherever you want!\n",
    "\n",
    "Moreover, JupyterLab is the main (or even only) interface for many cloud servers such as Amazon AWS, Lambda Could, and Saturn Cloud."
   ]
  },
  {
   "cell_type": "markdown",
   "metadata": {},
   "source": [
    "To enter the JupyterLab interace in your Berkeley DataHub, change the word `notebooks` to `lab` in the url. For example, you should change `https://datahub.berkeley.edu/user/wenhao1102/notebooks/Untitled.ipynb` to `https://datahub.berkeley.edu/user/wenhao1102/lab/Untitled.ipynb`"
   ]
  },
  {
   "cell_type": "markdown",
   "metadata": {},
   "source": [
    "# Fun Fact\n",
    "\n",
    "The father of the Jupyter Notebook, [Fernando Pérez](https://statistics.berkeley.edu/people/fernando-perez) is a Professor of our Statistics department! He taught DATA 100 and STAT 159."
   ]
  },
  {
   "cell_type": "markdown",
   "metadata": {},
   "source": []
  }
 ],
 "metadata": {
  "colab": {
   "name": "Intro to Career Exploration.ipynb",
   "provenance": []
  },
  "kernelspec": {
   "display_name": "Python 3.9.12 ('base')",
   "language": "python",
   "name": "python3"
  },
  "language_info": {
   "codemirror_mode": {
    "name": "ipython",
    "version": 3
   },
   "file_extension": ".py",
   "mimetype": "text/x-python",
   "name": "python",
   "nbconvert_exporter": "python",
   "pygments_lexer": "ipython3",
   "version": "3.9.12"
  },
  "vscode": {
   "interpreter": {
    "hash": "d1cc4350fcf3bcb4c2ea281b4f2442af074cb23d728606e92c3e52821c5418cf"
   }
  }
 },
 "nbformat": 4,
 "nbformat_minor": 1
}
