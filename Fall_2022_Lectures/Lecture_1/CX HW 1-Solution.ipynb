{
 "cells": [
  {
   "cell_type": "markdown",
   "id": "c1fa58bb",
   "metadata": {},
   "source": [
    "# CX Homework 1\n",
    "\n",
    "## Instructions:\n",
    "\n",
    "The majority of questions in this homework will require you to Google the answers, which is a very valuable skill when it comes to data science to learn how to reference documentation on the job! Feel free to reach out to Claire or Wenhao if you have any questions, and solutions will be released in a week."
   ]
  },
  {
   "cell_type": "markdown",
   "id": "663ad186",
   "metadata": {},
   "source": [
    "## Question 1\n",
    "\n",
    "List and provide a brief description for 5 terminal commands that weren't covered in lecture"
   ]
  },
  {
   "cell_type": "markdown",
   "id": "441defce",
   "metadata": {},
   "source": [
    "Any 5 commands from [here](https://www.techrepublic.com/article/16-terminal-commands-every-user-should-know/)"
   ]
  },
  {
   "cell_type": "markdown",
   "id": "a023af61",
   "metadata": {},
   "source": [
    "## Question 2\n",
    "\n",
    "How can we make headings in Markdown?"
   ]
  },
  {
   "cell_type": "markdown",
   "id": "28c8a3bb",
   "metadata": {},
   "source": [
    "Using # at the beginning of a markdown cell or new line"
   ]
  },
  {
   "cell_type": "markdown",
   "id": "f32c4582",
   "metadata": {},
   "source": [
    "## Question 3\n",
    "\n",
    "How can we get a list of all of the files in a directory, including hidden files?"
   ]
  },
  {
   "cell_type": "markdown",
   "id": "991615bf",
   "metadata": {},
   "source": [
    "-ls a"
   ]
  },
  {
   "cell_type": "markdown",
   "id": "d3d898d7",
   "metadata": {},
   "source": [
    "## Question 4\n",
    "\n",
    "List and provide brief explanations for 5 Jupyter Notebook shortcuts that weren't covered in lecture"
   ]
  },
  {
   "cell_type": "markdown",
   "id": "0453af78",
   "metadata": {},
   "source": [
    "Any 5 commands from [here](https://towardsdatascience.com/jypyter-notebook-shortcuts-bf0101a98330)"
   ]
  },
  {
   "cell_type": "markdown",
   "id": "ed11e6c5",
   "metadata": {},
   "source": [
    "## Question 5\n",
    "\n",
    "What key can you press to autofill a file name or directory in terminal?"
   ]
  },
  {
   "cell_type": "markdown",
   "id": "02eec329",
   "metadata": {},
   "source": [
    "tab"
   ]
  },
  {
   "cell_type": "markdown",
   "id": "783321b6",
   "metadata": {},
   "source": [
    "## Question 6\n",
    "\n",
    "Use \n",
    "\n",
    "$$P(X \\leq b) = \\int_{-\\infty}^{b} \\frac{1}{\\sigma \\sqrt{2\\pi}} e^{\\frac{(t-\\mu)^2}{2\\sigma^2}} \\,dt$$\n",
    "\n",
    "to construct the expression for $$P(X \\geq b)$$ \n",
    "\n",
    "by changing the bounds on the integral: the lower bound is now b, and the upper bound is now infinity. Copy and paste the Latex integral above and change the bounds accordingly."
   ]
  },
  {
   "cell_type": "markdown",
   "id": "fd986c66",
   "metadata": {},
   "source": [
    "$$P(X \\leq b) = \\int_{b}^{\\infty} \\frac{1}{\\sigma \\sqrt{2\\pi}} e^{\\frac{(t-\\mu)^2}{2\\sigma^2}} \\,dt$$\n",
    "\n",
    "swap the b and \\infty in the integral bounds"
   ]
  },
  {
   "cell_type": "markdown",
   "id": "9542cf7a",
   "metadata": {},
   "source": [
    "# Question 7\n",
    "\n",
    "What command can we write within terminal to make a new file called hello.txt?"
   ]
  },
  {
   "cell_type": "markdown",
   "id": "473bcf80",
   "metadata": {},
   "source": [
    "touch hello.txt"
   ]
  },
  {
   "cell_type": "markdown",
   "id": "175f1fc9",
   "metadata": {},
   "source": [
    "# Question 8\n",
    "\n",
    "What command can we write within terminal to make a new folder called mystery_folder?"
   ]
  },
  {
   "cell_type": "markdown",
   "id": "85b9a2c6",
   "metadata": {},
   "source": [
    "mkdir mystery_folder"
   ]
  }
 ],
 "metadata": {
  "kernelspec": {
   "display_name": "Python 3 (ipykernel)",
   "language": "python",
   "name": "python3"
  },
  "language_info": {
   "codemirror_mode": {
    "name": "ipython",
    "version": 3
   },
   "file_extension": ".py",
   "mimetype": "text/x-python",
   "name": "python",
   "nbconvert_exporter": "python",
   "pygments_lexer": "ipython3",
   "version": "3.9.13"
  }
 },
 "nbformat": 4,
 "nbformat_minor": 5
}
