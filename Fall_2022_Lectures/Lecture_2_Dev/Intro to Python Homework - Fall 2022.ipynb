{
 "cells": [
  {
   "cell_type": "markdown",
   "id": "373f4da5",
   "metadata": {},
   "source": [
    "# Homework -- Lecture 2: Introduction to Python\n",
    "    \n",
    "\n",
    "*Given on February 22, 2022*\n",
    "\n",
    "[Student Association for Applied Statistics (SAAS)](https://saas.berkeley.edu) <br/>\n",
    "Authors: [Kavin Suresh](mailto:kavins@berkeley.edu), [Jade Pan](mailto:jpan4@berkeley.edu) <br/>"
   ]
  },
  {
   "cell_type": "markdown",
   "id": "714c0f60",
   "metadata": {},
   "source": [
    "## Introduction\n"
   ]
  },
  {
   "cell_type": "markdown",
   "id": "32893d8f",
   "metadata": {},
   "source": [
    "Amazing! You have just attended the lecture introducing python and all the need-to-know concepts within it! Good job!\n",
    "\n",
    "Now is the time to put all this new material to work!"
   ]
  },
  {
   "cell_type": "markdown",
   "id": "4eecdf17",
   "metadata": {},
   "source": [
    "## 1. Basic Python Syntax"
   ]
  },
  {
   "cell_type": "markdown",
   "id": "27c8eee3",
   "metadata": {},
   "source": [
    "### 1.1 Jupyter"
   ]
  },
  {
   "cell_type": "markdown",
   "id": "410b38e8",
   "metadata": {},
   "source": [
    "##### 1.1a: \n",
    "\n",
    "Run the cell below by using the keyboard shortcut we learned during lecture."
   ]
  },
  {
   "cell_type": "code",
   "execution_count": 1,
   "id": "2c9440c5",
   "metadata": {},
   "outputs": [
    {
     "name": "stdout",
     "output_type": "stream",
     "text": [
      "You are a pro who can use JupyterNotebooks! :)\n"
     ]
    }
   ],
   "source": [
    "print(\"You are a pro who can use JupyterNotebooks! :)\")"
   ]
  },
  {
   "cell_type": "markdown",
   "id": "6c8cbc34",
   "metadata": {},
   "source": [
    "##### 1.1b: \n",
    "\n",
    "Create a markdown cell below this one using the keyboard shortcuts we learned during lecture.\n",
    "\n",
    "*Hint: This will take more than one keyboard shortcut!*"
   ]
  },
  {
   "cell_type": "markdown",
   "id": "eec60df5",
   "metadata": {},
   "source": [
    "### 1.2 Code"
   ]
  },
  {
   "cell_type": "markdown",
   "id": "247dbf2d",
   "metadata": {},
   "source": [
    "##### 1.2a: \n",
    "\n",
    "Create the following output using print statements in the provided cell.\n",
    "\n",
    "*Hint: You will need to figure out a way to use the print statement to create the blank line!*"
   ]
  },
  {
   "cell_type": "markdown",
   "id": "0beef177",
   "metadata": {},
   "source": [
    ">```\n",
    ">    SAAS\n",
    ">    \n",
    ">    is\n",
    ">    pretty\n",
    ">    cool!\n",
    ">```"
   ]
  },
  {
   "cell_type": "code",
   "execution_count": 1,
   "id": "2726c531",
   "metadata": {},
   "outputs": [],
   "source": [
    "#Solution:\n"
   ]
  },
  {
   "cell_type": "markdown",
   "id": "260cca04",
   "metadata": {},
   "source": [
    "### 1.3 Comments"
   ]
  },
  {
   "cell_type": "markdown",
   "id": "e04481e1",
   "metadata": {},
   "source": [
    "##### 1.3a: \n",
    "\n",
    "In the provided code cell below, comment out any lines needed to create the following output."
   ]
  },
  {
   "cell_type": "markdown",
   "id": "1680a1b2",
   "metadata": {},
   "source": [
    ">```\n",
    ">    B\n",
    ">    A\n",
    ">    N\n",
    ">    A\n",
    ">    N\n",
    ">    A\n",
    ">```"
   ]
  },
  {
   "cell_type": "code",
   "execution_count": 2,
   "id": "b2c2ab84",
   "metadata": {},
   "outputs": [
    {
     "name": "stdout",
     "output_type": "stream",
     "text": [
      "B\n",
      "A\n",
      "N\n",
      "D\n",
      "A\n",
      "N\n",
      "A\n"
     ]
    }
   ],
   "source": [
    "#Solution:\n",
    "\n",
    "#Comment out any of the following lines to create the desired output!\n",
    "\n",
    "print(\"B\")\n",
    "print(\"A\")\n",
    "print(\"N\")\n",
    "print(\"D\")\n",
    "print(\"A\")\n",
    "print(\"N\")\n",
    "print(\"A\")"
   ]
  },
  {
   "cell_type": "markdown",
   "id": "18442b5c",
   "metadata": {},
   "source": [
    "### 1.4 Errors"
   ]
  },
  {
   "cell_type": "markdown",
   "id": "9f1d3d9b",
   "metadata": {},
   "source": [
    "##### 1.4a: \n",
    "\n",
    "Purposely create an error in your code to create an error output. The code can be anything: a function, a variable, or even gibberish from your keyboard. Try to create an error that is not a \"SyntaxError\"!"
   ]
  },
  {
   "cell_type": "code",
   "execution_count": 3,
   "id": "336ab433",
   "metadata": {},
   "outputs": [],
   "source": [
    "#Solution:\n",
    "\n",
    "#This can be literally anything.\n"
   ]
  },
  {
   "cell_type": "markdown",
   "id": "52c44f78",
   "metadata": {},
   "source": [
    "### 1.5 Numbers and Math"
   ]
  },
  {
   "cell_type": "markdown",
   "id": "8eb6d67c",
   "metadata": {},
   "source": [
    "**Exercise 1.5.1**: \n",
    "\n",
    "Create pi (3.14xxx) using the following operators (+, -, *, /, %, and * *) and any numbers you wish. Do this all within a print statement and print it out!"
   ]
  },
  {
   "cell_type": "code",
   "execution_count": 4,
   "id": "d1e396fc",
   "metadata": {},
   "outputs": [],
   "source": [
    "#Solution:\n",
    "\n",
    "#Can be done any way you wish!\n"
   ]
  },
  {
   "cell_type": "markdown",
   "id": "9709b9b1",
   "metadata": {},
   "source": [
    "**Exercise 1.5.2**: \n",
    "\n",
    "Swap the location of two operators in the following code cell so that it outputs 30.0 instead of 15.0."
   ]
  },
  {
   "cell_type": "code",
   "execution_count": 6,
   "id": "ddfb177f",
   "metadata": {},
   "outputs": [
    {
     "data": {
      "text/plain": [
       "15.0"
      ]
     },
     "execution_count": 6,
     "metadata": {},
     "output_type": "execute_result"
    }
   ],
   "source": [
    "#Solution:\n",
    "\n",
    "10 * 5 / 10 + 10"
   ]
  },
  {
   "cell_type": "markdown",
   "id": "4a5f7260",
   "metadata": {},
   "source": [
    "**Exercise 1.5.3**:  \n",
    "\n",
    "Part a: return the ones digit of 1513.  \n",
    "Part b: chop off the last digit of 1513 (return 151)  \n",
    "**Hint:** Make use of the % and // operators."
   ]
  },
  {
   "cell_type": "code",
   "execution_count": 7,
   "id": "64984f5e",
   "metadata": {},
   "outputs": [],
   "source": [
    "# Your solution here"
   ]
  },
  {
   "cell_type": "markdown",
   "id": "b7ef9507",
   "metadata": {},
   "source": [
    "## 2. Variables and Functions"
   ]
  },
  {
   "cell_type": "markdown",
   "id": "4f20af63",
   "metadata": {},
   "source": [
    "### 2.1 Variables"
   ]
  },
  {
   "cell_type": "markdown",
   "id": "7ef8a004",
   "metadata": {},
   "source": [
    "__What can you include in a valid variable name?__ (you can choose multiple answers) <br>\n",
    "a) uppercase letters <br>\n",
    "b) the number 0 <br>\n",
    "c) dashs <br>\n",
    "d) underscores <br>\n",
    "e) only one special symbol"
   ]
  },
  {
   "cell_type": "markdown",
   "id": "942e94c2",
   "metadata": {},
   "source": [
    "__Answer__: "
   ]
  },
  {
   "cell_type": "markdown",
   "id": "5497cc65",
   "metadata": {},
   "source": [
    "__Which one of the following is a valid variable name?__ <br>\n",
    "a) gr8_career_exploration_lecture2_intro_to_python <br>\n",
    "b) j@mes <br>\n",
    "c) 1amber"
   ]
  },
  {
   "cell_type": "markdown",
   "id": "4d433eb8",
   "metadata": {},
   "source": [
    "__Answer__: "
   ]
  },
  {
   "cell_type": "markdown",
   "id": "37f0c38e",
   "metadata": {},
   "source": [
    "__Give an example of each data type listed below. Check your answer with the <code>type()</code> function__"
   ]
  },
  {
   "cell_type": "code",
   "execution_count": 8,
   "id": "ddac3d20",
   "metadata": {},
   "outputs": [
    {
     "data": {
      "text/plain": [
       "ellipsis"
      ]
     },
     "execution_count": 8,
     "metadata": {},
     "output_type": "execute_result"
    }
   ],
   "source": [
    "string = ...\n",
    "type(string)"
   ]
  },
  {
   "cell_type": "code",
   "execution_count": 9,
   "id": "f4a9478b",
   "metadata": {},
   "outputs": [
    {
     "data": {
      "text/plain": [
       "ellipsis"
      ]
     },
     "execution_count": 9,
     "metadata": {},
     "output_type": "execute_result"
    }
   ],
   "source": [
    "integer = ...\n",
    "type(integer)"
   ]
  },
  {
   "cell_type": "code",
   "execution_count": 10,
   "id": "4ba5a8f8",
   "metadata": {},
   "outputs": [
    {
     "data": {
      "text/plain": [
       "ellipsis"
      ]
     },
     "execution_count": 10,
     "metadata": {},
     "output_type": "execute_result"
    }
   ],
   "source": [
    "float_ = ...\n",
    "type(float_)"
   ]
  },
  {
   "cell_type": "code",
   "execution_count": 11,
   "id": "d1622ce7",
   "metadata": {},
   "outputs": [
    {
     "data": {
      "text/plain": [
       "ellipsis"
      ]
     },
     "execution_count": 11,
     "metadata": {},
     "output_type": "execute_result"
    }
   ],
   "source": [
    "boolean = ...\n",
    "type(boolean)"
   ]
  },
  {
   "cell_type": "markdown",
   "id": "8c223e17",
   "metadata": {},
   "source": [
    "Predict the output when we manipulate the variables above"
   ]
  },
  {
   "cell_type": "markdown",
   "id": "de24bcd1",
   "metadata": {},
   "source": [
    "integer+float_"
   ]
  },
  {
   "cell_type": "markdown",
   "id": "ac1b97d4",
   "metadata": {},
   "source": [
    "__answer__: (for this section, you can test out the answers by typing the question into a code cell and run the cell!)"
   ]
  },
  {
   "cell_type": "markdown",
   "id": "46b0c3dc",
   "metadata": {},
   "source": [
    "type(integer+float_)"
   ]
  },
  {
   "cell_type": "markdown",
   "id": "9a8c3d09",
   "metadata": {},
   "source": [
    "__answer__:"
   ]
  },
  {
   "cell_type": "markdown",
   "id": "0dcfc853",
   "metadata": {},
   "source": [
    "string * integer"
   ]
  },
  {
   "cell_type": "markdown",
   "id": "935a71ae",
   "metadata": {},
   "source": [
    "__answer__:"
   ]
  },
  {
   "cell_type": "markdown",
   "id": "69124465",
   "metadata": {},
   "source": [
    "type(string*integer)"
   ]
  },
  {
   "cell_type": "markdown",
   "id": "5ed56f73",
   "metadata": {},
   "source": [
    "__answer:__"
   ]
  },
  {
   "cell_type": "markdown",
   "id": "5d1b8b60",
   "metadata": {},
   "source": [
    "string+integer"
   ]
  },
  {
   "cell_type": "markdown",
   "id": "64de2860",
   "metadata": {},
   "source": [
    "__answer:__"
   ]
  },
  {
   "cell_type": "markdown",
   "id": "250a0587",
   "metadata": {},
   "source": [
    "boolean*integer"
   ]
  },
  {
   "cell_type": "markdown",
   "id": "ecedd938",
   "metadata": {},
   "source": [
    "__answer:__"
   ]
  },
  {
   "cell_type": "markdown",
   "id": "1a65935e",
   "metadata": {},
   "source": [
    "type(boolean+integer)"
   ]
  },
  {
   "cell_type": "markdown",
   "id": "2d65a360",
   "metadata": {},
   "source": [
    "__answer:__"
   ]
  },
  {
   "cell_type": "markdown",
   "id": "92a5b355",
   "metadata": {},
   "source": [
    "### 2.2 Control Flow"
   ]
  },
  {
   "cell_type": "markdown",
   "id": "3fb8683e",
   "metadata": {},
   "source": [
    "**Exercise 2.2.1:** Use if, elif and/or while to test if your variable string from above is wordle-able (contains 5 letters exactly). Print <code>too long!</code> if the string contains more than 5 characters, and print <code>too short!</code> if string contains less than 5 characters. If string is wordle-able, print <code>happy wordle!</code>"
   ]
  },
  {
   "cell_type": "code",
   "execution_count": 12,
   "id": "ab6b1580",
   "metadata": {},
   "outputs": [],
   "source": [
    "# Your solution"
   ]
  },
  {
   "cell_type": "markdown",
   "id": "2a0f7724",
   "metadata": {},
   "source": [
    "__Challenge__: do the task above without using <code>len()</code>. You will need a for loop / while statement and a counter. You can come back to the challenge after finishing the for loop exercise."
   ]
  },
  {
   "cell_type": "code",
   "execution_count": 13,
   "id": "d1a99b46",
   "metadata": {},
   "outputs": [],
   "source": [
    "# Your solution"
   ]
  },
  {
   "cell_type": "markdown",
   "id": "bc63d9d1",
   "metadata": {},
   "source": [
    "**Exercise 2.2.2:** A monkey has 30 bananas, everyday he eats one banana and gives one banana to his mom (how sweet). Use if, elif, and/or while statements to prove that the bananas will last the monkey 15 days. Try to work out the solution from scratch first. If you are stuck, use the code cell below for hints."
   ]
  },
  {
   "cell_type": "code",
   "execution_count": 15,
   "id": "461aaa37",
   "metadata": {},
   "outputs": [],
   "source": [
    "# Your code here\n",
    "# hints: these are tracker variables we can use.\n",
    "bananas = ...\n",
    "days = ..."
   ]
  },
  {
   "cell_type": "markdown",
   "id": "17f81c0d",
   "metadata": {},
   "source": [
    "**Exercise 2.2.3:** Print out all the numbers between 1 and 100 that are odd.  \n",
    "**Hint:** What is the remainder when an odd number divides 2?"
   ]
  },
  {
   "cell_type": "code",
   "execution_count": 16,
   "id": "d92e80e2",
   "metadata": {
    "scrolled": true
   },
   "outputs": [],
   "source": [
    "# your code here\n"
   ]
  },
  {
   "cell_type": "markdown",
   "id": "998abdbc",
   "metadata": {},
   "source": [
    "**Exercise 2.2.4:** Drawing on your exercise 1.5.3 method, print out each digit of 2022 in reverse line by line.  \n",
    "**Hint:** What kind of loop will we need and what is the stopping condition?"
   ]
  },
  {
   "cell_type": "code",
   "execution_count": 17,
   "id": "272506f5",
   "metadata": {},
   "outputs": [],
   "source": [
    "# Your code here"
   ]
  },
  {
   "cell_type": "markdown",
   "id": "ebc0990c",
   "metadata": {},
   "source": [
    "### 2.3 Functions"
   ]
  },
  {
   "cell_type": "markdown",
   "id": "0fd60df1",
   "metadata": {},
   "source": [
    "Create a <code>bigger(x,y)</code> function that compares two integer numbers x and y, and returns the bigger number between the two. If the two number are equal to each other, return x."
   ]
  },
  {
   "cell_type": "code",
   "execution_count": 18,
   "id": "c757bf2c",
   "metadata": {},
   "outputs": [],
   "source": [
    "# Your code here"
   ]
  },
  {
   "cell_type": "code",
   "execution_count": 19,
   "id": "37abd818",
   "metadata": {},
   "outputs": [
    {
     "ename": "NameError",
     "evalue": "name 'bigger' is not defined",
     "output_type": "error",
     "traceback": [
      "\u001b[1;31m---------------------------------------------------------------------------\u001b[0m",
      "\u001b[1;31mNameError\u001b[0m                                 Traceback (most recent call last)",
      "Input \u001b[1;32mIn [19]\u001b[0m, in \u001b[0;36m<cell line: 2>\u001b[1;34m()\u001b[0m\n\u001b[0;32m      1\u001b[0m \u001b[38;5;66;03m# test out your function here\u001b[39;00m\n\u001b[1;32m----> 2\u001b[0m \u001b[43mbigger\u001b[49m(\u001b[38;5;241m90\u001b[39m,\u001b[38;5;241m31\u001b[39m)\n",
      "\u001b[1;31mNameError\u001b[0m: name 'bigger' is not defined"
     ]
    }
   ],
   "source": [
    "# test out your function here\n",
    "bigger(90,31)"
   ]
  },
  {
   "cell_type": "markdown",
   "id": "0e4a7f32",
   "metadata": {},
   "source": [
    "__Challenge__: add to your function so that when the user enters a non-integer x or y value, your function would report an error message <code>inputs are not integers, please try again!</code>"
   ]
  },
  {
   "cell_type": "code",
   "execution_count": 20,
   "id": "7c540c0b",
   "metadata": {},
   "outputs": [],
   "source": [
    "# Your code here"
   ]
  },
  {
   "cell_type": "markdown",
   "id": "a5281b99",
   "metadata": {},
   "source": [
    "## 3. Arrays and Iteration"
   ]
  },
  {
   "cell_type": "markdown",
   "id": "8950431d",
   "metadata": {},
   "source": [
    "### 3.1 Arrays and Lists"
   ]
  },
  {
   "cell_type": "markdown",
   "id": "d46eb533",
   "metadata": {},
   "source": [
    "##### 3.1a: \n",
    "\n",
    "Turn the following list into a nested list that separates based on fruits and vegetables! Fruits should go first and vegetables second."
   ]
  },
  {
   "cell_type": "code",
   "execution_count": 21,
   "id": "d47ebf3a",
   "metadata": {},
   "outputs": [
    {
     "data": {
      "text/plain": [
       "Ellipsis"
      ]
     },
     "execution_count": 21,
     "metadata": {},
     "output_type": "execute_result"
    }
   ],
   "source": [
    "#Solution\n",
    "\n",
    "eatYourFruitsAndVeggiesKids = [\"Apple\", \"Banana\", \"Broccoli\", \"Mango\", \"Onion\", \"Bell Pepper\"]\n",
    "eatYourFruitsAndVeggiesKids = ... # your code here\n",
    "eatYourFruitsAndVeggiesKids"
   ]
  },
  {
   "cell_type": "markdown",
   "id": "78ae2c82",
   "metadata": {},
   "source": [
    "##### 3.1b: \n",
    "\n",
    "Remove the last item on the list above (stored to eatYourFruitsAndVeggiesKids) and assign it to the variable veggies. Print the veggies variable.\n",
    "\n",
    "*Hint: This is all doable with just ONE function used.*"
   ]
  },
  {
   "cell_type": "code",
   "execution_count": 22,
   "id": "011085d3",
   "metadata": {},
   "outputs": [
    {
     "name": "stdout",
     "output_type": "stream",
     "text": [
      "Ellipsis\n"
     ]
    }
   ],
   "source": [
    "#Solution:\n",
    "\n",
    "veggies = ... # your code here\n",
    "print(veggies)"
   ]
  },
  {
   "cell_type": "markdown",
   "id": "1cf8fc97",
   "metadata": {},
   "source": [
    "##### 3.1c: \n",
    "\n",
    "Insert \"Eggplant\" into the beginning of the veggies list. Print the veggies variable.\n",
    "\n",
    "*Hint: Once again, this is doable with just ONE function used.*"
   ]
  },
  {
   "cell_type": "code",
   "execution_count": 23,
   "id": "3d76db94",
   "metadata": {},
   "outputs": [
    {
     "ename": "SyntaxError",
     "evalue": "invalid syntax (3642831070.py, line 3)",
     "output_type": "error",
     "traceback": [
      "\u001b[1;36m  Input \u001b[1;32mIn [23]\u001b[1;36m\u001b[0m\n\u001b[1;33m    veggies.# your code here\u001b[0m\n\u001b[1;37m            ^\u001b[0m\n\u001b[1;31mSyntaxError\u001b[0m\u001b[1;31m:\u001b[0m invalid syntax\n"
     ]
    }
   ],
   "source": [
    "#Solution:\n",
    "\n",
    "veggies.# your code here\n",
    "veggies"
   ]
  },
  {
   "cell_type": "markdown",
   "id": "a69d4162",
   "metadata": {},
   "source": [
    "### 3.2 Dictionaries"
   ]
  },
  {
   "cell_type": "markdown",
   "id": "b6f1b146",
   "metadata": {},
   "source": [
    "Below are two lists: one of veggies and one of their corresponding calories. Please convert them into a dictionary named <code>calories</code>in a way that item from <code>veggies</code> is the key and item from <code>veggies_calories</code> is the value"
   ]
  },
  {
   "cell_type": "code",
   "execution_count": 24,
   "id": "66a737a6",
   "metadata": {},
   "outputs": [],
   "source": [
    "veggies = [\"Eggplant\",\"Mushroom\",\"Broccoli\", \"Tomato\", \"Onion\", \"Bell Pepper\"]\n",
    "veggies_calories = [20,23,45,10,90,64]"
   ]
  },
  {
   "cell_type": "code",
   "execution_count": 25,
   "id": "d5bff8b4",
   "metadata": {},
   "outputs": [],
   "source": [
    "#your code here"
   ]
  },
  {
   "cell_type": "markdown",
   "id": "373e1108",
   "metadata": {},
   "source": [
    "If you have more time and want to try out more dictionary exercises, check out this [link](https://pynative.com/python-dictionary-exercise-with-solutions/#h-exercise-1-convert-two-lists-into-a-dictionary)"
   ]
  },
  {
   "cell_type": "markdown",
   "id": "442d17e9",
   "metadata": {},
   "source": [
    "### 3.3 For Loops"
   ]
  },
  {
   "cell_type": "markdown",
   "id": "3d7d279f",
   "metadata": {},
   "source": [
    "##### 3.3a: \n",
    "\n",
    "You will be provided two lists. Use two for loops to iterate through the lists and multiply all values of one list with all values of the other and print the results. For example, if a list is [1, 2] and another is [3, 4], then 1\\*3, 1\\*4, 2\\*3, and 2\\*4 should occur.\n",
    "\n",
    "\n",
    "*Hint: [This link](https://pynative.com/python-nested-loops/) will be useful.*"
   ]
  },
  {
   "cell_type": "code",
   "execution_count": 26,
   "id": "d8b7d4dc",
   "metadata": {
    "scrolled": true
   },
   "outputs": [],
   "source": [
    "list1 = [1, 5, 8, 9, 11]\n",
    "list2 = [2, 4, 7, 10, 12]\n",
    "\n",
    "# your code here"
   ]
  },
  {
   "cell_type": "code",
   "execution_count": null,
   "id": "e39f2a5a",
   "metadata": {},
   "outputs": [],
   "source": []
  }
 ],
 "metadata": {
  "kernelspec": {
   "display_name": "Python 3 (ipykernel)",
   "language": "python",
   "name": "python3"
  },
  "language_info": {
   "codemirror_mode": {
    "name": "ipython",
    "version": 3
   },
   "file_extension": ".py",
   "mimetype": "text/x-python",
   "name": "python",
   "nbconvert_exporter": "python",
   "pygments_lexer": "ipython3",
   "version": "3.9.12"
  }
 },
 "nbformat": 4,
 "nbformat_minor": 5
}
