{
 "cells": [
  {
   "cell_type": "markdown",
   "id": "b46a5b44",
   "metadata": {},
   "source": [
    "# [CS Series] Lecture 2: Fundamental Python\n",
    "### April 13, 2022\n",
    "Lecture created by: Jasmine Lee \n",
    "\n",
    "### Table Of Contents\n",
    "* [Introduction](#intro)\n",
    "* [Datatypes and Values](#types)\n",
    "* [Variables](#var)\n",
    "* [Iterations](#iter)\n",
    "    * [Lists](#lists)\n",
    "        * [Lists Methods](#lstmethod)\n",
    "    * [Dictionaries](#dict)\n",
    "* [Functions](#func)\n",
    "* [Control Flow](#control-flow)\n",
    "* [References](#ref)"
   ]
  },
  {
   "cell_type": "markdown",
   "id": "49db88ae",
   "metadata": {},
   "source": [
    "<a id='intro'></a>\n",
    "# Introduction\n",
    "\n",
    "### Why do we care about Python? \n",
    "\n",
    "* it is very commonly used in both industries and academics \n",
    "![alt text](https://www.botreetechnologies.com/blog/wp-content/uploads/2020/12/major-companies-that-use-python.png \"comps\")\n",
    "    * it is a skillset highly used in companies such as Google, Spotify, Intel, Amazon, etc \n",
    "    * it doesn't limit the user to only one industry\n",
    "    * commonly used in classes not only in Data Science classes, but also in Computer Science, Economics, and more! \n",
    "* it is a language similar enough to English \n",
    "    * easier understanding\n",
    "* has many libraries \n",
    "    * mature ecosystem \n",
    "* basically everyone uses Python\n",
    "![alt text](https://miro.medium.com/max/1080/1*dwygHwM93WANAlpDBovVWg.jpeg \"chart\")\n",
    "\n",
    "#### As a side note: libraries for Python are downloaded from Python Index Package (PIP) \n",
    "    * anything with that said \"import from\" means that we are using a library\n",
    "<hr />"
   ]
  },
  {
   "cell_type": "markdown",
   "id": "a5b99b2f",
   "metadata": {},
   "source": [
    "<a id='types'></a>\n",
    "\n",
    "# 1. Datatypes and Values \n",
    "\n",
    "## Real Numbers\n",
    "#### Python has two real numbers datatypes, which are integers and floats \n",
    "\n",
    "### Integers (Int)\n",
    "* A number (integer) of any size \n",
    "* Integers do not have a decimal point \n",
    "\n",
    "### Floats \n",
    "* A number with optional decimal point or a fraction point \n",
    "* Always has a decimal point \n",
    "\n",
    "We can perform arithmetic computations on integers and floats (try out the exercises below)!"
   ]
  },
  {
   "cell_type": "code",
   "execution_count": 1,
   "id": "e6797d1e",
   "metadata": {},
   "outputs": [
    {
     "data": {
      "text/plain": [
       "int"
      ]
     },
     "execution_count": 1,
     "metadata": {},
     "output_type": "execute_result"
    }
   ],
   "source": [
    "# Examples \n",
    "# using the function type() will allow you to see the datatype of a particular input \n",
    "type(6)"
   ]
  },
  {
   "cell_type": "code",
   "execution_count": 2,
   "id": "f38224bd",
   "metadata": {},
   "outputs": [
    {
     "data": {
      "text/plain": [
       "float"
      ]
     },
     "execution_count": 2,
     "metadata": {},
     "output_type": "execute_result"
    }
   ],
   "source": [
    "# Examples \n",
    "type(6.1)"
   ]
  },
  {
   "cell_type": "markdown",
   "id": "18a72cb4",
   "metadata": {},
   "source": [
    "As we can see, the number with a decimal point is assigned a type \"float\" whereas the number without a decimal point is an int. \n",
    "\n",
    "#### Limitations on the Float datatype \n",
    "* there exists a limited size on float \n",
    "* they have a precision point of 15 to 16 decimal places \n",
    "* sometimes the final few decimal points may be arithmetically incorrect (certain degree of imprecision exists) \n",
    "* converting a float to an integer using the int() function loses all the numbers after the decimal point "
   ]
  },
  {
   "cell_type": "markdown",
   "id": "70b415ac",
   "metadata": {},
   "source": [
    "Exercises \n",
    "1. What is the data type of the number 10000? <br>\n",
    "    A. Float <br>\n",
    "    B. Integer <br>\n",
    "2. What is the data type of the number 0? <br>\n",
    "    A. Float <br>\n",
    "    B. Integer <br> \n",
    "3. What is the data type of the number 0.0? <br>\n",
    "   A. Float <br>\n",
    "    B. Integer <br> "
   ]
  },
  {
   "cell_type": "markdown",
   "id": "0f718f5f",
   "metadata": {},
   "source": [
    "### Strings \n",
    "* a string is a datatype pertaining to any snippet of text \n",
    "* can consist of numbers that are converted to strings \n",
    "* can convert any other data types into a string by using the str() function (will further explore in exercises and examples) \n",
    "\n",
    "### Boolean\n",
    "* only two possible outcomes (True or False) "
   ]
  },
  {
   "cell_type": "code",
   "execution_count": 3,
   "id": "7cc72bbe",
   "metadata": {},
   "outputs": [
    {
     "data": {
      "text/plain": [
       "str"
      ]
     },
     "execution_count": 3,
     "metadata": {},
     "output_type": "execute_result"
    }
   ],
   "source": [
    "# Example\n",
    "type(\"SAAS is awesome\") "
   ]
  },
  {
   "cell_type": "code",
   "execution_count": 4,
   "id": "74548e56",
   "metadata": {},
   "outputs": [
    {
     "data": {
      "text/plain": [
       "str"
      ]
     },
     "execution_count": 4,
     "metadata": {},
     "output_type": "execute_result"
    }
   ],
   "source": [
    "# Example\n",
    "type('I am hungry')"
   ]
  },
  {
   "cell_type": "code",
   "execution_count": 5,
   "id": "b7c8af75",
   "metadata": {},
   "outputs": [
    {
     "data": {
      "text/plain": [
       "str"
      ]
     },
     "execution_count": 5,
     "metadata": {},
     "output_type": "execute_result"
    }
   ],
   "source": [
    "# Example \n",
    "type('9')"
   ]
  },
  {
   "cell_type": "code",
   "execution_count": 6,
   "id": "2e15d561",
   "metadata": {},
   "outputs": [
    {
     "data": {
      "text/plain": [
       "str"
      ]
     },
     "execution_count": 6,
     "metadata": {},
     "output_type": "execute_result"
    }
   ],
   "source": [
    "# Example \n",
    "type('9.13434')"
   ]
  },
  {
   "cell_type": "code",
   "execution_count": 7,
   "id": "5bc1cffd",
   "metadata": {},
   "outputs": [
    {
     "data": {
      "text/plain": [
       "str"
      ]
     },
     "execution_count": 7,
     "metadata": {},
     "output_type": "execute_result"
    }
   ],
   "source": [
    "# Example\n",
    "# We can use the str() to convert a real number into a string \n",
    "type(str(9))"
   ]
  },
  {
   "cell_type": "code",
   "execution_count": 8,
   "id": "4ace2856",
   "metadata": {},
   "outputs": [
    {
     "data": {
      "text/plain": [
       "bool"
      ]
     },
     "execution_count": 8,
     "metadata": {},
     "output_type": "execute_result"
    }
   ],
   "source": [
    "# Example \n",
    "type(True)"
   ]
  },
  {
   "cell_type": "markdown",
   "id": "7f15dd1d",
   "metadata": {},
   "source": [
    "Exercises: \n",
    "1. What is the type of the following value \"today is monday\"? \n",
    "2. Can I convert a float into a string? \n",
    "3. Can I convert a string into an int? \n",
    "\n",
    "<hr />"
   ]
  },
  {
   "cell_type": "markdown",
   "id": "eb1ac30e",
   "metadata": {},
   "source": [
    "<a id='var'></a>\n",
    "# 2. Variables\n",
    "Variables allow users to save a value to a named object via an assignment statement. In Python, we can create an assignment statement via the format (variable name) = (value assigned) \n",
    "\n",
    "For example, an assignment statement can look like: var = 20 \n",
    "\n",
    "In this case, var is going to be the variable name while 20 is going to be the value that is stored within the variable name var. We can access the variable by its name, var, and whenever we do, it is going to print out 20 as shown below: "
   ]
  },
  {
   "cell_type": "code",
   "execution_count": 9,
   "id": "6ba364b9",
   "metadata": {},
   "outputs": [
    {
     "data": {
      "text/plain": [
       "20"
      ]
     },
     "execution_count": 9,
     "metadata": {},
     "output_type": "execute_result"
    }
   ],
   "source": [
    "var = 20\n",
    "var"
   ]
  },
  {
   "cell_type": "markdown",
   "id": "60ff4bba",
   "metadata": {},
   "source": [
    "A variable name can be any combinations of numbers, letters and underscores. For example, day1 or year_2022 would be valid variable names. \n",
    "\n",
    "Exercises: \n",
    "Are the following variable names valid? Why?\n",
    "* saas\n",
    "* saas_in2022\n",
    "* welcome-to_saas\n",
    "* 2022_saas"
   ]
  },
  {
   "cell_type": "markdown",
   "id": "055917a7",
   "metadata": {},
   "source": [
    "In order for Python to not error, any variable name must be assigned to a value but that may not be the case vice versa. Once a variable has been assigned, then you can continue to access it for the rest of the jupyter notebook or your codeblock. "
   ]
  },
  {
   "cell_type": "code",
   "execution_count": 10,
   "id": "a76a9327",
   "metadata": {},
   "outputs": [
    {
     "ename": "NameError",
     "evalue": "name 'today' is not defined",
     "output_type": "error",
     "traceback": [
      "\u001b[0;31m---------------------------------------------------------------------------\u001b[0m",
      "\u001b[0;31mNameError\u001b[0m                                 Traceback (most recent call last)",
      "\u001b[0;32m<ipython-input-10-beb90ce425b0>\u001b[0m in \u001b[0;36m<module>\u001b[0;34m\u001b[0m\n\u001b[0;32m----> 1\u001b[0;31m \u001b[0mtoday\u001b[0m\u001b[0;34m\u001b[0m\u001b[0;34m\u001b[0m\u001b[0m\n\u001b[0m",
      "\u001b[0;31mNameError\u001b[0m: name 'today' is not defined"
     ]
    }
   ],
   "source": [
    "today"
   ]
  },
  {
   "cell_type": "code",
   "execution_count": null,
   "id": "6b1e645f",
   "metadata": {},
   "outputs": [],
   "source": [
    "20"
   ]
  },
  {
   "cell_type": "code",
   "execution_count": null,
   "id": "e0059f6a",
   "metadata": {},
   "outputs": [],
   "source": [
    "var"
   ]
  },
  {
   "cell_type": "markdown",
   "id": "c37f37ea",
   "metadata": {},
   "source": [
    "<hr />"
   ]
  },
  {
   "cell_type": "markdown",
   "id": "bcf68cdb",
   "metadata": {},
   "source": [
    "<a id='iter'></a>\n",
    "# 3. Iterations\n",
    "\n",
    "<a id='lists'></a>\n",
    "## 3.1 Lists and Arrays\n",
    "Another type of data storage in Python is known are lists and arrays, which allows you to store and add items. They can be assigned to a variable name with values of different variable types with squared brackets. For instance: "
   ]
  },
  {
   "cell_type": "code",
   "execution_count": null,
   "id": "f192e30d",
   "metadata": {},
   "outputs": [],
   "source": [
    "# Example of a list\n",
    "lst = [1,3.3,'hi',False]\n",
    "lst"
   ]
  },
  {
   "cell_type": "code",
   "execution_count": null,
   "id": "6b3bc3c7",
   "metadata": {},
   "outputs": [],
   "source": [
    "# Example of an array  \n",
    "arr = [1,2,3,4]\n",
    "arr"
   ]
  },
  {
   "cell_type": "markdown",
   "id": "6ee2c74a",
   "metadata": {},
   "source": [
    "The main difference between lists and arrays is that lists are able to store values of different datatypes whereas arrays can only store items with the same datatype. \n",
    "\n",
    "Each item in a list has an index that we can point to in order to access the value. We can index into arrays using the following syntax: list[index number]"
   ]
  },
  {
   "cell_type": "code",
   "execution_count": null,
   "id": "802d6ae5",
   "metadata": {},
   "outputs": [],
   "source": [
    "# Example of list indexing \n",
    "lst[2]"
   ]
  },
  {
   "cell_type": "markdown",
   "id": "b4d8af6d",
   "metadata": {},
   "source": [
    "Notice that the first item in the list lst is indexed as 0 and the second item is indexed as 1, etc. \n",
    "\n",
    "Additionally, list has a build-in function called len() that calculates the length of the list or array. "
   ]
  },
  {
   "cell_type": "code",
   "execution_count": null,
   "id": "28a3d78e",
   "metadata": {},
   "outputs": [],
   "source": [
    "# Example of len() usage\n",
    "len(lst)"
   ]
  },
  {
   "cell_type": "markdown",
   "id": "e1944985",
   "metadata": {},
   "source": [
    "<a id='lstmethod'></a>\n",
    "### Methods for Lists\n",
    "Since lists and arrays are objects in Python, they have methods which are functions specific for the list and array datatypes. Methods are written as {variable name}.{method name}.\n",
    "\n",
    "Lists also have a couple methods that are useful for coding. \n",
    "\n",
    "1. We can add items into the end of lists by using the append() method"
   ]
  },
  {
   "cell_type": "code",
   "execution_count": null,
   "id": "5326b165",
   "metadata": {},
   "outputs": [],
   "source": [
    "# Example \n",
    "lst.append('new')\n",
    "lst"
   ]
  },
  {
   "cell_type": "markdown",
   "id": "d76c94df",
   "metadata": {},
   "source": [
    "2. We can use pop() method to remove and return the last item of the list "
   ]
  },
  {
   "cell_type": "code",
   "execution_count": null,
   "id": "ea05696c",
   "metadata": {},
   "outputs": [],
   "source": [
    "lst.pop()"
   ]
  },
  {
   "cell_type": "markdown",
   "id": "8b156dcb",
   "metadata": {},
   "source": [
    "3. We can use the insert(pos, item) method to add item to pos and push all the rest of the elements to the right of the list"
   ]
  },
  {
   "cell_type": "code",
   "execution_count": null,
   "id": "52951c19",
   "metadata": {},
   "outputs": [],
   "source": [
    "# Example will add another element with the string value \"new_elem\" where 3.3 is and move the rest of the elements to the right\n",
    "lst.insert(1,'new_elem')\n",
    "lst"
   ]
  },
  {
   "cell_type": "markdown",
   "id": "7932eca1",
   "metadata": {},
   "source": [
    "4. We can use the remove(val) method to take out an element of the given val from the list"
   ]
  },
  {
   "cell_type": "code",
   "execution_count": null,
   "id": "ee23fec8",
   "metadata": {},
   "outputs": [],
   "source": [
    "# Example will remove the 'hi' element from position 3 in the lst list\n",
    "lst.remove('hi')\n",
    "lst"
   ]
  },
  {
   "cell_type": "markdown",
   "id": "d312924f",
   "metadata": {},
   "source": [
    "There exists many other methods for lists but these four methods are the most commonly used or seen methods. \n",
    "\n",
    "Exercises:\n",
    "Given a list called exer_lst with the value [1,2,'hi',4.5,'66.2'], what does the following do to exer_lst?\n",
    "1. exer_lst.append('hi')\n",
    "2. exer_lst.remove(2)\n",
    "3. exer_lst.insert(0,2)\n",
    "4. exer_lst.append('hi')\n",
    "5. exer_lst.remove('hi')\n",
    "6. exer_lst.remove('hi')\n",
    "\n",
    "We can also have a nested list where the elements of a more general list are lists such as:"
   ]
  },
  {
   "cell_type": "code",
   "execution_count": null,
   "id": "3a283a84",
   "metadata": {},
   "outputs": [],
   "source": [
    "# Example of a nested list \n",
    "lstnested = [[1,2,3],[4,5,6]]\n",
    "lstnested"
   ]
  },
  {
   "cell_type": "markdown",
   "id": "b213301e",
   "metadata": {},
   "source": [
    "These nested lists will have the same methods and functions as lists that are not nested. \n"
   ]
  },
  {
   "cell_type": "markdown",
   "id": "2eb35b53",
   "metadata": {},
   "source": [
    "<a id='dict'></a>\n",
    "## 3.2 Dictionaries\n",
    "\n",
    "Dictionaries are also a data type and it allows us to map pairs of values by using a mapping system. In dictionaries, we will be using key-value pairs. \n",
    "\n",
    "#### Example curtesy of Rosa Choe and Ajay Raj \n",
    "For example, we might want to map students' names to their grades."
   ]
  },
  {
   "cell_type": "code",
   "execution_count": null,
   "id": "d60713c0",
   "metadata": {},
   "outputs": [],
   "source": [
    "grades = {} # this is how you will be assigning a dictionary to a variable\n",
    "grades[\"caro\"] = \"0.5\"\n",
    "grades[\"joyce\"] = \"95\"\n",
    "grades[\"harry\"] = \"55\"\n",
    "grades"
   ]
  },
  {
   "cell_type": "markdown",
   "id": "0f7ad52d",
   "metadata": {},
   "source": [
    "We can also declare a new dictionary with the following syntax: "
   ]
  },
  {
   "cell_type": "code",
   "execution_count": null,
   "id": "0b7559e7",
   "metadata": {},
   "outputs": [],
   "source": [
    "dct = {\n",
    "    \"a\": {\n",
    "        \"aardvark\": \"looks like an anteater\",\n",
    "        \"amazing\": \"u\"\n",
    "    },\n",
    "    \"b\": {\n",
    "        \"baah\": \"sound sheep make\",\n",
    "        \"bark\": \"how dog talk\"\n",
    "    }\n",
    "}\n",
    "dct"
   ]
  },
  {
   "cell_type": "markdown",
   "id": "22b710b1",
   "metadata": {},
   "source": [
    "We can access the value that is mapped to the key by using the following syntax (let's say we want to access the definition of aardvark by double-indexing):"
   ]
  },
  {
   "cell_type": "code",
   "execution_count": null,
   "id": "bda7ae74",
   "metadata": {},
   "outputs": [],
   "source": [
    "dct['a']['aardvark']"
   ]
  },
  {
   "cell_type": "markdown",
   "id": "7b88b87e",
   "metadata": {},
   "source": [
    "Exercises: \n",
    "\n",
    "Given the following dictionary: "
   ]
  },
  {
   "cell_type": "code",
   "execution_count": null,
   "id": "17338e48",
   "metadata": {},
   "outputs": [],
   "source": [
    "restaurants = {\n",
    "    \"sliver\": {\n",
    "        \"averagePrice\": 10,\n",
    "        \"rating\": 4,\n",
    "        \"review\": \"Fire\"\n",
    "    },\n",
    "    \"bongoburger\": {\n",
    "        \"averagePrice\": 15,\n",
    "        \"rating\": 5, \n",
    "        \"review\": \"Not Filling\"\n",
    "    }\n",
    "}"
   ]
  },
  {
   "cell_type": "markdown",
   "id": "17b5eea5",
   "metadata": {},
   "source": [
    "1. How do we find the averagePrice of sliver? \n",
    "2. How do we find the review of bongoburder? \n",
    "\n",
    "<hr \\>"
   ]
  },
  {
   "cell_type": "markdown",
   "id": "a5d45f8e",
   "metadata": {},
   "source": [
    "<a id='func'></a>\n",
    "# 4. Functions\n",
    "\n",
    "While Lists and Dictionaries are objects, we will now introduce functions, which are another type of objects that allow you to name a particular set of expressions under the following syntax: \n",
    "\n",
    "$$ \\text{def{function name}:} $$\n",
    "$$   \\text{{function body}} $$\n",
    "\n",
    "Here are some examples: \n",
    "\n",
    "Suppose we want to define a function that will take in a variable and return the variable cubed: "
   ]
  },
  {
   "cell_type": "code",
   "execution_count": null,
   "id": "5c3a3956",
   "metadata": {},
   "outputs": [],
   "source": [
    "def cubed(x):\n",
    "    return x**3"
   ]
  },
  {
   "cell_type": "markdown",
   "id": "4138f057",
   "metadata": {},
   "source": [
    "After defining this function called cubed, we can call the function to use the expression. "
   ]
  },
  {
   "cell_type": "code",
   "execution_count": null,
   "id": "c7901e01",
   "metadata": {},
   "outputs": [],
   "source": [
    "# Calling cubed and pass a variable with the value 5.\n",
    "var = 5\n",
    "cubed(var)\n",
    "\n",
    "# This is the same thing as calling the cubed function with the integer 5 (both return the same results)\n",
    "cubed(5)"
   ]
  },
  {
   "cell_type": "markdown",
   "id": "6594081b",
   "metadata": {},
   "source": [
    "Exercise: \n",
    "\n",
    "Define a function that allows you to compute the mean of an array (we will start the exercise for you): "
   ]
  },
  {
   "cell_type": "code",
   "execution_count": null,
   "id": "c51a1858",
   "metadata": {},
   "outputs": [],
   "source": [
    "def avg(arr):\n",
    "    ___\n",
    "    return ____"
   ]
  },
  {
   "cell_type": "markdown",
   "id": "ccce0ef6",
   "metadata": {},
   "source": [
    "You may not need the first underline but it may help for you to assign a variable to your calculated equation and return the variable. "
   ]
  },
  {
   "cell_type": "markdown",
   "id": "cbe9a391",
   "metadata": {},
   "source": [
    "<hr \\>"
   ]
  },
  {
   "cell_type": "markdown",
   "id": "5646ccca",
   "metadata": {},
   "source": [
    "<a id='control-flow'></a>\n",
    "# 5. Control Flow\n",
    "\n",
    "Recall that we discussed what booleans are in part 2 of the lecture. \n",
    "\n",
    "Control flow allows us to decide if we want to conditionally execute code, or run a certain line of code multiple times. Here are a couple control flow operations.\n",
    "1. 'If' statement: allows you to execute the block of code if and only if the condition is satisfied\n",
    "\n",
    "Here is an example using the 'if' statement:"
   ]
  },
  {
   "cell_type": "code",
   "execution_count": null,
   "id": "49add15a",
   "metadata": {},
   "outputs": [],
   "source": [
    "x = 6\n",
    "if x < 10:\n",
    "    x = x + 2\n",
    "x"
   ]
  },
  {
   "cell_type": "markdown",
   "id": "649ae73a",
   "metadata": {},
   "source": [
    "Would the code above execute? If so, what would be the end result (ie, what would the expression print out? What about the following block of code? "
   ]
  },
  {
   "cell_type": "code",
   "execution_count": null,
   "id": "c349fb83",
   "metadata": {},
   "outputs": [],
   "source": [
    "x = 12\n",
    "if x < 10:\n",
    "    x = x + 2"
   ]
  },
  {
   "cell_type": "markdown",
   "id": "0229ff9a",
   "metadata": {},
   "source": [
    "We can also add 'elif' or 'else' statements to increase complexity. Here is an example: "
   ]
  },
  {
   "cell_type": "code",
   "execution_count": null,
   "id": "59487893",
   "metadata": {},
   "outputs": [],
   "source": [
    "if x < 10:\n",
    "    x = x + 2\n",
    "elif x > 10:\n",
    "    x = x - 2\n",
    "else:\n",
    "    print(\"done!\")"
   ]
  },
  {
   "cell_type": "markdown",
   "id": "cf6f29b9",
   "metadata": {},
   "source": [
    "Exercises: \n",
    "1. Would the block of code above error if x = 11? If not, what would be printed after the code executes?\n",
    "2. Would the block of code above error if x = 14.5? If not, what would be printed after the code executes?\n",
    "3. Would the block of code above error if x = 'hi'? If not, what would be printed after the code executes?\n",
    "\n",
    "<hr \\>"
   ]
  },
  {
   "cell_type": "markdown",
   "id": "ff93f1bb",
   "metadata": {},
   "source": [
    "<a id='ref'></a>\n",
    "## References \n",
    "\n",
    "* Data 8 Lecture 2\n",
    "* CX Series: Lecture 2 \n",
    "\n",
    "<hr \\>"
   ]
  }
 ],
 "metadata": {
  "kernelspec": {
   "display_name": "Python 3",
   "language": "python",
   "name": "python3"
  },
  "language_info": {
   "codemirror_mode": {
    "name": "ipython",
    "version": 3
   },
   "file_extension": ".py",
   "mimetype": "text/x-python",
   "name": "python",
   "nbconvert_exporter": "python",
   "pygments_lexer": "ipython3",
   "version": "3.8.8"
  }
 },
 "nbformat": 4,
 "nbformat_minor": 5
}
