{
 "cells": [
  {
   "cell_type": "markdown",
   "id": "b46a5b44",
   "metadata": {},
   "source": [
    "# [CS Series] Lecture 9: Dynamic Programming\n",
    "\n",
    "## May 8, 2022\n",
    "\n",
    "### Hosted by and maintained by the [Student Association for Applied Statistics (SAAS)](https://saas.berkeley.edu).\n",
    "Created by Akhil Vemuri"
   ]
  },
  {
   "cell_type": "markdown",
   "id": "b58db0e5",
   "metadata": {},
   "source": [
    "### Table of Contents\n",
    "1. [Introduction](#intro)\n",
    "2. [Fibonacci](#fib)\n",
    "    1. [Recursion](#fib-rec)\n",
    "    2. [Top-Down DP](#fib-top-down)\n",
    "    3. [Bottom-Up DP](#fib-bottom-up)\n",
    "    4. [Bottom-Up DP (Space Saving)](#fib-bottom-up-ss)\n",
    "3. [Longest Increasing Subsequence](#lis)\n",
    "4. [Knapsack](#knap)\n",
    "5. [Conclusion](#conclusion)\n",
    "6. [References](#ref)"
   ]
  },
  {
   "cell_type": "code",
   "execution_count": 1,
   "id": "b6851812",
   "metadata": {},
   "outputs": [],
   "source": [
    "import time"
   ]
  },
  {
   "cell_type": "markdown",
   "id": "574c0e5c",
   "metadata": {},
   "source": [
    "<a id='intro'></a>\n",
    "## Introduction"
   ]
  },
  {
   "cell_type": "markdown",
   "id": "710bc0fd",
   "metadata": {},
   "source": [
    "***Review Lecture 4 (Recursion & Efficiency) before continuing***\n",
    "\n",
    "In our previous lecture on recursion, we explored how to break a problem down into smaller sub-problems and solve those sub-problems individually. However, brute-force recursion isn't really the \"best\" technique a computer scientist can use to solve recursive problems. Many times we must unravel a long recursion tree to finish a single sub-problem, and a lot of the time there is repeated work between function calls. That's where dynamic programming (DP) comes in. Put simply, it's an algorithm used to reduce repeated work within recursive functions, thereby speeding up the runtime of a program. We'll be exploring several examples of this, and hopefully you'll be able to implement your own DP algorithms from scratch by the end."
   ]
  },
  {
   "cell_type": "markdown",
   "id": "d29c632d",
   "metadata": {},
   "source": [
    "<hr \\>\n",
    "\n",
    "<a id='fib'></a>\n",
    "## Fibonacci"
   ]
  },
  {
   "cell_type": "markdown",
   "id": "d9bfa6b1",
   "metadata": {},
   "source": [
    "The classic example used to learn about recursion is the fibonacci sequence. So we'll be going through various examples of how it optimize it using dynamic programming in the rest of this notebook."
   ]
  },
  {
   "cell_type": "markdown",
   "id": "db8cae08",
   "metadata": {},
   "source": [
    "<a id='fib-rec'></a>\n",
    "### Recursion"
   ]
  },
  {
   "cell_type": "markdown",
   "id": "bbdf3753",
   "metadata": {},
   "source": [
    "Recall the recursive formula for the fibonacci sequence.\n",
    "$$\n",
    "f(n) = f(n - 1) + f(n - 2) \\\\\n",
    "f(0) = 0 \\\\\n",
    "f(1) = 1\n",
    "$$"
   ]
  },
  {
   "cell_type": "markdown",
   "id": "31092fa4",
   "metadata": {},
   "source": [
    "This is what a direct translation in code looks like."
   ]
  },
  {
   "cell_type": "code",
   "execution_count": 2,
   "id": "e94844b4",
   "metadata": {},
   "outputs": [],
   "source": [
    "def fib(n):\n",
    "    if n == 0 or n == 1:\n",
    "        return n\n",
    "    else:\n",
    "        return fib(n - 1) + fib(n - 2)"
   ]
  },
  {
   "cell_type": "markdown",
   "id": "646cd022",
   "metadata": {},
   "source": [
    "This is what is called brute-force recursion, where we simply make repeated function calls without storing any previous computations. We can see how different sizes of $n$ will impact the runtime of this program."
   ]
  },
  {
   "cell_type": "code",
   "execution_count": 3,
   "id": "adbb4429",
   "metadata": {},
   "outputs": [
    {
     "name": "stdout",
     "output_type": "stream",
     "text": [
      "n: 3\n",
      "2\n",
      "Execution time (s): 0.00044800000000000395\n"
     ]
    }
   ],
   "source": [
    "start = time.process_time()\n",
    "# ------\n",
    "n = 3\n",
    "print('n:', n)\n",
    "print(fib(n))\n",
    "# ------\n",
    "print(\"Execution time (s):\", time.process_time() - start)"
   ]
  },
  {
   "cell_type": "code",
   "execution_count": 4,
   "id": "df785c9a",
   "metadata": {},
   "outputs": [
    {
     "name": "stdout",
     "output_type": "stream",
     "text": [
      "n: 10\n",
      "55\n",
      "Execution time (s): 0.00020799999999998597\n"
     ]
    }
   ],
   "source": [
    "start = time.process_time()\n",
    "# ------\n",
    "n = 10\n",
    "print('n:', n)\n",
    "print(fib(n))\n",
    "# ------\n",
    "print(\"Execution time (s):\", time.process_time() - start)"
   ]
  },
  {
   "cell_type": "code",
   "execution_count": 5,
   "id": "91b23b91",
   "metadata": {},
   "outputs": [
    {
     "name": "stdout",
     "output_type": "stream",
     "text": [
      "n: 25\n",
      "75025\n",
      "Execution time (s): 0.03072700000000006\n"
     ]
    }
   ],
   "source": [
    "start = time.process_time()\n",
    "# ------\n",
    "n = 25\n",
    "print('n:', n)\n",
    "print(fib(n))\n",
    "# ------\n",
    "print(\"Execution time (s):\", time.process_time() - start)"
   ]
  },
  {
   "cell_type": "code",
   "execution_count": 6,
   "id": "a5b5f679",
   "metadata": {},
   "outputs": [
    {
     "name": "stdout",
     "output_type": "stream",
     "text": [
      "n: 35\n",
      "9227465\n",
      "Execution time (s): 2.934197\n"
     ]
    }
   ],
   "source": [
    "start = time.process_time()\n",
    "# ------\n",
    "n = 35\n",
    "print('n:', n)\n",
    "print(fib(n))\n",
    "# ------\n",
    "print(\"Execution time (s):\", time.process_time() - start)"
   ]
  },
  {
   "cell_type": "code",
   "execution_count": 7,
   "id": "38de47f9",
   "metadata": {},
   "outputs": [
    {
     "name": "stdout",
     "output_type": "stream",
     "text": [
      "n: 38\n",
      "39088169\n",
      "Execution time (s): 12.27111\n"
     ]
    }
   ],
   "source": [
    "start = time.process_time()\n",
    "# ------\n",
    "n = 38\n",
    "print('n:', n)\n",
    "print(fib(n))\n",
    "# ------\n",
    "print(\"Execution time (s):\", time.process_time() - start)"
   ]
  },
  {
   "cell_type": "markdown",
   "id": "3d99afd4",
   "metadata": {},
   "source": [
    "Look how slowly the program is running after just $n = 38$! Further analyzing the big-O runtime of ```fib``` gives us $O(2^n)$, which is exponential in $n$ and thereby grows in computation very quickly. This also explains why such a small jump from $n = 35$ to $n = 38$ prolongs the execution time of the program by so much."
   ]
  },
  {
   "cell_type": "markdown",
   "id": "d83f3b20",
   "metadata": {},
   "source": [
    "![alt text](https://i.stack.imgur.com/CLwKE.jpg)"
   ]
  },
  {
   "cell_type": "markdown",
   "id": "edc73e94",
   "metadata": {},
   "source": [
    "The recursion tree above depicts how the computer is running ```fib``` internally. Notice how the $f(2)$ sub-tree is called twice. Why are we repeating computation when we've already calculated once $f(2)$ before?\n",
    "\n",
    "Let's use DP to try and fix this!"
   ]
  },
  {
   "cell_type": "markdown",
   "id": "826aae0c",
   "metadata": {},
   "source": [
    "<a id='fib-top-down'></a>\n",
    "### Top-Down DP"
   ]
  },
  {
   "cell_type": "markdown",
   "id": "c7b03870",
   "metadata": {},
   "source": [
    "Top-down DP is usually the most natural transition from recursion into dynamic programming. And don't worry why we specify \"top-down\" for now; it's simply an implementation style of DP that you'll understand more about the difference later.\n",
    "\n",
    "As we can tell by ```fib```'s recursion tree, there are multiple calls to the same function. For example, $f(2)$'s sub-tree is called twice, meaning we have to carry out an extra 3 calls for a result that we've already computed. And this scales exponentially for larger inputs of $n$. To eliminate this issue, we can cache any previous computations we've made into a data structure *(like an array)*. A cache is simply a place to store information such that we can access it later."
   ]
  },
  {
   "cell_type": "markdown",
   "id": "b473ad81",
   "metadata": {},
   "source": [
    "This is what top-down DP ```fib``` in code looks like."
   ]
  },
  {
   "cell_type": "code",
   "execution_count": 8,
   "id": "070c6713",
   "metadata": {},
   "outputs": [],
   "source": [
    "def fib_top_down_helper(n, cache):\n",
    "    if cache[n] != -1:\n",
    "        return cache[n]\n",
    "    else:\n",
    "        cache[n] = fib_top_down_helper(n - 1, cache) + fib_top_down_helper(n - 2, cache)\n",
    "        return cache[n]\n",
    "\n",
    "def fib_top_down(n):\n",
    "    cache = [-1]*(n+1)\n",
    "    cache[0] = 0\n",
    "    cache[1] = 1\n",
    "    return fib_top_down_helper(n, cache)"
   ]
  },
  {
   "cell_type": "markdown",
   "id": "e54a1c6c",
   "metadata": {},
   "source": [
    "Essentially, we use an array as our cache, though you could also use a dictionary or some other data structure. The first time we compute some value of ```fib```, like $f(2)$ or $f(3)$, we store that result in our array. So now, any successive time we have to compute $f(2)$ or $f(3)$, it'll already be in our cache, and we can access it straight away in $O(1)$ time.\n",
    "\n",
    "Let's see how well ```fib_top_down``` performs."
   ]
  },
  {
   "cell_type": "code",
   "execution_count": 9,
   "id": "7be252d6",
   "metadata": {},
   "outputs": [
    {
     "name": "stdout",
     "output_type": "stream",
     "text": [
      "n: 3\n",
      "2\n",
      "Execution time (s): 0.00015900000000002024\n"
     ]
    }
   ],
   "source": [
    "start = time.process_time()\n",
    "# ------\n",
    "n = 3\n",
    "print('n:', n)\n",
    "print(fib_top_down(n))\n",
    "# ------\n",
    "print(\"Execution time (s):\", time.process_time() - start)"
   ]
  },
  {
   "cell_type": "code",
   "execution_count": 10,
   "id": "5310602a",
   "metadata": {},
   "outputs": [
    {
     "name": "stdout",
     "output_type": "stream",
     "text": [
      "n: 10\n",
      "55\n",
      "Execution time (s): 0.00018599999999935335\n"
     ]
    }
   ],
   "source": [
    "start = time.process_time()\n",
    "# ------\n",
    "n = 10\n",
    "print('n:', n)\n",
    "print(fib_top_down(n))\n",
    "# ------\n",
    "print(\"Execution time (s):\", time.process_time() - start)"
   ]
  },
  {
   "cell_type": "code",
   "execution_count": 11,
   "id": "f4ab7f8b",
   "metadata": {},
   "outputs": [
    {
     "name": "stdout",
     "output_type": "stream",
     "text": [
      "n: 25\n",
      "75025\n",
      "Execution time (s): 0.000588000000000477\n"
     ]
    }
   ],
   "source": [
    "start = time.process_time()\n",
    "# ------\n",
    "n = 25\n",
    "print('n:', n)\n",
    "print(fib_top_down(n))\n",
    "# ------\n",
    "print(\"Execution time (s):\", time.process_time() - start)"
   ]
  },
  {
   "cell_type": "code",
   "execution_count": 12,
   "id": "89450d1a",
   "metadata": {},
   "outputs": [
    {
     "name": "stdout",
     "output_type": "stream",
     "text": [
      "n: 50\n",
      "12586269025\n",
      "Execution time (s): 0.002610999999999919\n"
     ]
    }
   ],
   "source": [
    "start = time.process_time()\n",
    "# ------\n",
    "n = 50\n",
    "print('n:', n)\n",
    "print(fib_top_down(n))\n",
    "# ------\n",
    "print(\"Execution time (s):\", time.process_time() - start)"
   ]
  },
  {
   "cell_type": "code",
   "execution_count": 13,
   "id": "f804f924",
   "metadata": {},
   "outputs": [
    {
     "name": "stdout",
     "output_type": "stream",
     "text": [
      "n: 100\n",
      "354224848179261915075\n",
      "Execution time (s): 0.00029799999999902127\n"
     ]
    }
   ],
   "source": [
    "start = time.process_time()\n",
    "# ------\n",
    "n = 100\n",
    "print('n:', n)\n",
    "print(fib_top_down(n))\n",
    "# ------\n",
    "print(\"Execution time (s):\", time.process_time() - start)"
   ]
  },
  {
   "cell_type": "code",
   "execution_count": 14,
   "id": "283734e3",
   "metadata": {},
   "outputs": [
    {
     "name": "stdout",
     "output_type": "stream",
     "text": [
      "n: 1000\n",
      "43466557686937456435688527675040625802564660517371780402481729089536555417949051890403879840079255169295922593080322634775209689623239873322471161642996440906533187938298969649928516003704476137795166849228875\n",
      "Execution time (s): 0.0010709999999996\n"
     ]
    }
   ],
   "source": [
    "start = time.process_time()\n",
    "# ------\n",
    "n = 1000\n",
    "print('n:', n)\n",
    "print(fib_top_down(n))\n",
    "# ------\n",
    "print(\"Execution time (s):\", time.process_time() - start)"
   ]
  },
  {
   "cell_type": "markdown",
   "id": "e89fa94c",
   "metadata": {},
   "source": [
    "Wow! That looks much better. We can now calculate up to $n = 1000$ in less than a second compared to previously when we couldn't even compute past $n = 38$. If we analyze the runtime (we won't go into the details of DP runtime analysis here), we see that it is $O(n)$ – linear and hence much better than exponential.\n",
    "\n",
    "This is good and all, but there is a minor pitfall."
   ]
  },
  {
   "cell_type": "code",
   "execution_count": 15,
   "id": "0cd4ae32",
   "metadata": {},
   "outputs": [
    {
     "ename": "RecursionError",
     "evalue": "maximum recursion depth exceeded in comparison",
     "output_type": "error",
     "traceback": [
      "\u001b[0;31m---------------------------------------------------------------------------\u001b[0m",
      "\u001b[0;31mRecursionError\u001b[0m                            Traceback (most recent call last)",
      "\u001b[0;32m/var/folders/2p/tjgym_w12z78cvcqy85fhxvm0000gn/T/ipykernel_43517/931157484.py\u001b[0m in \u001b[0;36m<module>\u001b[0;34m\u001b[0m\n\u001b[0;32m----> 1\u001b[0;31m \u001b[0mfib_top_down\u001b[0m\u001b[0;34m(\u001b[0m\u001b[0;36m3000\u001b[0m\u001b[0;34m)\u001b[0m\u001b[0;34m\u001b[0m\u001b[0;34m\u001b[0m\u001b[0m\n\u001b[0m",
      "\u001b[0;32m/var/folders/2p/tjgym_w12z78cvcqy85fhxvm0000gn/T/ipykernel_43517/3176231167.py\u001b[0m in \u001b[0;36mfib_top_down\u001b[0;34m(n)\u001b[0m\n\u001b[1;32m     10\u001b[0m     \u001b[0mcache\u001b[0m\u001b[0;34m[\u001b[0m\u001b[0;36m0\u001b[0m\u001b[0;34m]\u001b[0m \u001b[0;34m=\u001b[0m \u001b[0;36m0\u001b[0m\u001b[0;34m\u001b[0m\u001b[0;34m\u001b[0m\u001b[0m\n\u001b[1;32m     11\u001b[0m     \u001b[0mcache\u001b[0m\u001b[0;34m[\u001b[0m\u001b[0;36m1\u001b[0m\u001b[0;34m]\u001b[0m \u001b[0;34m=\u001b[0m \u001b[0;36m1\u001b[0m\u001b[0;34m\u001b[0m\u001b[0;34m\u001b[0m\u001b[0m\n\u001b[0;32m---> 12\u001b[0;31m     \u001b[0;32mreturn\u001b[0m \u001b[0mfib_top_down_helper\u001b[0m\u001b[0;34m(\u001b[0m\u001b[0mn\u001b[0m\u001b[0;34m,\u001b[0m \u001b[0mcache\u001b[0m\u001b[0;34m)\u001b[0m\u001b[0;34m\u001b[0m\u001b[0;34m\u001b[0m\u001b[0m\n\u001b[0m",
      "\u001b[0;32m/var/folders/2p/tjgym_w12z78cvcqy85fhxvm0000gn/T/ipykernel_43517/3176231167.py\u001b[0m in \u001b[0;36mfib_top_down_helper\u001b[0;34m(n, cache)\u001b[0m\n\u001b[1;32m      3\u001b[0m         \u001b[0;32mreturn\u001b[0m \u001b[0mcache\u001b[0m\u001b[0;34m[\u001b[0m\u001b[0mn\u001b[0m\u001b[0;34m]\u001b[0m\u001b[0;34m\u001b[0m\u001b[0;34m\u001b[0m\u001b[0m\n\u001b[1;32m      4\u001b[0m     \u001b[0;32melse\u001b[0m\u001b[0;34m:\u001b[0m\u001b[0;34m\u001b[0m\u001b[0;34m\u001b[0m\u001b[0m\n\u001b[0;32m----> 5\u001b[0;31m         \u001b[0mcache\u001b[0m\u001b[0;34m[\u001b[0m\u001b[0mn\u001b[0m\u001b[0;34m]\u001b[0m \u001b[0;34m=\u001b[0m \u001b[0mfib_top_down_helper\u001b[0m\u001b[0;34m(\u001b[0m\u001b[0mn\u001b[0m \u001b[0;34m-\u001b[0m \u001b[0;36m1\u001b[0m\u001b[0;34m,\u001b[0m \u001b[0mcache\u001b[0m\u001b[0;34m)\u001b[0m \u001b[0;34m+\u001b[0m \u001b[0mfib_top_down_helper\u001b[0m\u001b[0;34m(\u001b[0m\u001b[0mn\u001b[0m \u001b[0;34m-\u001b[0m \u001b[0;36m2\u001b[0m\u001b[0;34m,\u001b[0m \u001b[0mcache\u001b[0m\u001b[0;34m)\u001b[0m\u001b[0;34m\u001b[0m\u001b[0;34m\u001b[0m\u001b[0m\n\u001b[0m\u001b[1;32m      6\u001b[0m         \u001b[0;32mreturn\u001b[0m \u001b[0mcache\u001b[0m\u001b[0;34m[\u001b[0m\u001b[0mn\u001b[0m\u001b[0;34m]\u001b[0m\u001b[0;34m\u001b[0m\u001b[0;34m\u001b[0m\u001b[0m\n\u001b[1;32m      7\u001b[0m \u001b[0;34m\u001b[0m\u001b[0m\n",
      "... last 1 frames repeated, from the frame below ...\n",
      "\u001b[0;32m/var/folders/2p/tjgym_w12z78cvcqy85fhxvm0000gn/T/ipykernel_43517/3176231167.py\u001b[0m in \u001b[0;36mfib_top_down_helper\u001b[0;34m(n, cache)\u001b[0m\n\u001b[1;32m      3\u001b[0m         \u001b[0;32mreturn\u001b[0m \u001b[0mcache\u001b[0m\u001b[0;34m[\u001b[0m\u001b[0mn\u001b[0m\u001b[0;34m]\u001b[0m\u001b[0;34m\u001b[0m\u001b[0;34m\u001b[0m\u001b[0m\n\u001b[1;32m      4\u001b[0m     \u001b[0;32melse\u001b[0m\u001b[0;34m:\u001b[0m\u001b[0;34m\u001b[0m\u001b[0;34m\u001b[0m\u001b[0m\n\u001b[0;32m----> 5\u001b[0;31m         \u001b[0mcache\u001b[0m\u001b[0;34m[\u001b[0m\u001b[0mn\u001b[0m\u001b[0;34m]\u001b[0m \u001b[0;34m=\u001b[0m \u001b[0mfib_top_down_helper\u001b[0m\u001b[0;34m(\u001b[0m\u001b[0mn\u001b[0m \u001b[0;34m-\u001b[0m \u001b[0;36m1\u001b[0m\u001b[0;34m,\u001b[0m \u001b[0mcache\u001b[0m\u001b[0;34m)\u001b[0m \u001b[0;34m+\u001b[0m \u001b[0mfib_top_down_helper\u001b[0m\u001b[0;34m(\u001b[0m\u001b[0mn\u001b[0m \u001b[0;34m-\u001b[0m \u001b[0;36m2\u001b[0m\u001b[0;34m,\u001b[0m \u001b[0mcache\u001b[0m\u001b[0;34m)\u001b[0m\u001b[0;34m\u001b[0m\u001b[0;34m\u001b[0m\u001b[0m\n\u001b[0m\u001b[1;32m      6\u001b[0m         \u001b[0;32mreturn\u001b[0m \u001b[0mcache\u001b[0m\u001b[0;34m[\u001b[0m\u001b[0mn\u001b[0m\u001b[0;34m]\u001b[0m\u001b[0;34m\u001b[0m\u001b[0;34m\u001b[0m\u001b[0m\n\u001b[1;32m      7\u001b[0m \u001b[0;34m\u001b[0m\u001b[0m\n",
      "\u001b[0;31mRecursionError\u001b[0m: maximum recursion depth exceeded in comparison"
     ]
    }
   ],
   "source": [
    "fib_top_down(3000)"
   ]
  },
  {
   "cell_type": "markdown",
   "id": "acee4d8e",
   "metadata": {},
   "source": [
    "We see that there is still an issue here. Running ```fib_top_down``` past $n = 3000$ gives us a maximum recursion depth error. This is actually an expected result since we are still running recursion, and we still have to compute each $f(n)$ once in order to cache it. So, although our program can now run fast, our tree still has to recurse down more than 1000 layers, which our computer's recursion stack can't handle.\n",
    "\n",
    "We'll now introduce the other half of DP as a way to combat this."
   ]
  },
  {
   "cell_type": "markdown",
   "id": "df4439b3",
   "metadata": {},
   "source": [
    "<a id='fib-bottom-up'></a>\n",
    "### Bottom-Up DP"
   ]
  },
  {
   "cell_type": "markdown",
   "id": "9727d4b9",
   "metadata": {},
   "source": [
    "Bottom-up DP fills in the cache from the \"bottom\" inputs of the recursion tree to the \"top.\" So instead of bubbling down from $f(n), f(n - 1), f(n - 2),$ etc., we start with $f(0), f(1), f(2), \\dots$ and make our way to the top.\n",
    "\n",
    "Usually, bottom-up DP is a bit trickier to grasp since it doesn't actually utilize any recursive function calls, unlike top-down DP, but it is more efficient in many scenarios. Nonetheless, it's nothing to worry about since it's still a form of memoized recursion (recursion with a cache), except doesn't have to deal with problems of the recursion stack."
   ]
  },
  {
   "cell_type": "code",
   "execution_count": 16,
   "id": "9f3bba4d",
   "metadata": {},
   "outputs": [],
   "source": [
    "def fib_bottom_up_helper(n, cache):\n",
    "    for i in range(2, n+1):\n",
    "        cache[i] = cache[i - 1] + cache[i - 2]\n",
    "    return cache[n]\n",
    "\n",
    "def fib_bottom_up(n):\n",
    "    cache = [-1]*(n+1)\n",
    "    cache[0] = 0\n",
    "    cache[1] = 1\n",
    "    return fib_bottom_up_helper(n, cache)"
   ]
  },
  {
   "cell_type": "markdown",
   "id": "08e9c941",
   "metadata": {},
   "source": [
    "This implementation of ```fib``` is a bit different than the previous ones. As you probably noticed, we have removed the recursive calls from both previous implementations and replaced it with a for loop. This is because for recursion and top-down DP, we bubble down to the bottom nodes of the recursion tree, calculate those, then bubble back to the top due to the nested function calls. But bottom-up DP basically throws all that wasted computation out the window."
   ]
  },
  {
   "cell_type": "markdown",
   "id": "fa068aeb",
   "metadata": {},
   "source": [
    "![alt text](https://i.stack.imgur.com/CLwKE.jpg)"
   ]
  },
  {
   "cell_type": "markdown",
   "id": "84d49b2c",
   "metadata": {},
   "source": [
    "So instead of computing $f(n)$, we start by computing $f(2)$.\n",
    "\n",
    "Iteration 1:\n",
    "$$\n",
    "\\text{cache} = [0, 1, -1, -1, \\dots, -1] \\\\\n",
    "\\text{cache}[2] = \\text{cache}[1] + \\text{cache}[0] = 1\n",
    "$$\n",
    "\n",
    "Iteration 2:\n",
    "$$\n",
    "\\text{cache} = [0, 1, 1, -1, \\dots, -1] \\\\\n",
    "\\text{cache}[3] = \\text{cache}[2] + \\text{cache}[1] = 2\n",
    "$$\n",
    "\n",
    "Iteration 3:\n",
    "$$\n",
    "\\text{cache} = [0, 1, 1, 2, \\dots, -1] \\\\\n",
    "\\text{cache}[4] = \\text{cache}[3] + \\text{cache}[2] = 3 \\\\\n",
    "$$\n",
    "\n",
    "$$ \\vdots $$\n",
    "\n",
    "Iteration $n$:\n",
    "$$\n",
    "\\text{cache} = [0, 1, 1, 2, \\dots, f(n)] \\\\\n",
    "\\text{return cache}[n]\n",
    "$$"
   ]
  },
  {
   "cell_type": "markdown",
   "id": "8f5c8119",
   "metadata": {},
   "source": [
    "This way, we only need to use the inputs that are necessary without the extra overhead of a recursion stack / recursion tree.\n",
    "\n",
    "Let's look at bottom-up DP in action."
   ]
  },
  {
   "cell_type": "code",
   "execution_count": 17,
   "id": "49238a06",
   "metadata": {},
   "outputs": [
    {
     "name": "stdout",
     "output_type": "stream",
     "text": [
      "n: 10000\n",
      "33644764876431783266621612005107543310302148460680063906564769974680081442166662368155595513633734025582065332680836159373734790483865268263040892463056431887354544369559827491606602099884183933864652731300088830269235673613135117579297437854413752130520504347701602264758318906527890855154366159582987279682987510631200575428783453215515103870818298969791613127856265033195487140214287532698187962046936097879900350962302291026368131493195275630227837628441540360584402572114334961180023091208287046088923962328835461505776583271252546093591128203925285393434620904245248929403901706233888991085841065183173360437470737908552631764325733993712871937587746897479926305837065742830161637408969178426378624212835258112820516370298089332099905707920064367426202389783111470054074998459250360633560933883831923386783056136435351892133279732908133732642652633989763922723407882928177953580570993691049175470808931841056146322338217465637321248226383092103297701648054726243842374862411453093812206564914032751086643394517512161526545361333111314042436854805106765843493523836959653428071768775328348234345557366719731392746273629108210679280784718035329131176778924659089938635459327894523777674406192240337638674004021330343297496902028328145933418826817683893072003634795623117103101291953169794607632737589253530772552375943788434504067715555779056450443016640119462580972216729758615026968443146952034614932291105970676243268515992834709891284706740862008587135016260312071903172086094081298321581077282076353186624611278245537208532365305775956430072517744315051539600905168603220349163222640885248852433158051534849622434848299380905070483482449327453732624567755879089187190803662058009594743150052402532709746995318770724376825907419939632265984147498193609285223945039707165443156421328157688908058783183404917434556270520223564846495196112460268313970975069382648706613264507665074611512677522748621598642530711298441182622661057163515069260029861704945425047491378115154139941550671256271197133252763631939606902895650288268608362241082050562430701794976171121233066073310059947366875\n",
      "Execution time (s): 0.01487900000000053\n"
     ]
    }
   ],
   "source": [
    "start = time.process_time()\n",
    "# ------\n",
    "n = 10000\n",
    "print('n:', n)\n",
    "print(fib_bottom_up(n))\n",
    "# ------\n",
    "print(\"Execution time (s):\", time.process_time() - start)"
   ]
  },
  {
   "cell_type": "markdown",
   "id": "aae97f79",
   "metadata": {},
   "source": [
    "And there we go! Looks like we don't face any recursion stack errors anymore and can evaluate larger values of $n$ quickly. And fyi, bottom-up DP also has $O(n)$ runtime, which is probably easier to see from the single for loop.\n",
    "\n",
    "*Note: we can only call ```fib``` up to certain values of $n$ since Python can't output such large numbers past a certain point*"
   ]
  },
  {
   "cell_type": "markdown",
   "id": "53f1c74f",
   "metadata": {},
   "source": [
    "However, there is one last optimization technique we can apply to specific bottom-up DP problems to reduce memory usage."
   ]
  },
  {
   "cell_type": "markdown",
   "id": "171c9f14",
   "metadata": {},
   "source": [
    "<a id='fib-bottom-up-ss'></a>\n",
    "### Bottom-Up DP (Space Saving)"
   ]
  },
  {
   "cell_type": "markdown",
   "id": "bea5aa07",
   "metadata": {},
   "source": [
    "Though our time and memory complexity is significantly better than when we started, we can still do better. Right now, we have linear $O(n)$ time complexity and linear $O(n)$ memory complexity, but we can actually reduce it to $O(1)$ memory complexity.\n",
    "\n",
    "Say we are on iteration 10 of our algorithm, i.e. computing $f(11)$. To compute $f(11)$, we only need to know $f(10)$ and $f(9)$, but we are constantly storing an array that includes $f(1), f(2), f(3), \\dots$. Essentially, we're storing tons of information that we aren't even using for the current iteration. Let's fix this!"
   ]
  },
  {
   "cell_type": "code",
   "execution_count": 18,
   "id": "b13041cb",
   "metadata": {},
   "outputs": [],
   "source": [
    "def fib_bottom_up_space(n):\n",
    "    a = 1\n",
    "    b = 0\n",
    "    result = n\n",
    "    for i in range(2, n+1):\n",
    "        result = a + b\n",
    "        b = a\n",
    "        a = result\n",
    "    return result"
   ]
  },
  {
   "cell_type": "markdown",
   "id": "c7b97e57",
   "metadata": {},
   "source": [
    "So here, we've made a small change. Instead of maintaining a whole array for each iteration, we only need to know the previous two inputs at any given iteration. So $a$ represents $f(i - 1)$ and $b$ represents $f(i - 2)$. After summing the two \"inputs\" $a$ and $b$ into $\\text{result}$, we update $a$ and $b$ for the next iteration, and the cycle continues."
   ]
  },
  {
   "cell_type": "code",
   "execution_count": 19,
   "id": "6eadd49f",
   "metadata": {},
   "outputs": [
    {
     "name": "stdout",
     "output_type": "stream",
     "text": [
      "n: 10000\n",
      "33644764876431783266621612005107543310302148460680063906564769974680081442166662368155595513633734025582065332680836159373734790483865268263040892463056431887354544369559827491606602099884183933864652731300088830269235673613135117579297437854413752130520504347701602264758318906527890855154366159582987279682987510631200575428783453215515103870818298969791613127856265033195487140214287532698187962046936097879900350962302291026368131493195275630227837628441540360584402572114334961180023091208287046088923962328835461505776583271252546093591128203925285393434620904245248929403901706233888991085841065183173360437470737908552631764325733993712871937587746897479926305837065742830161637408969178426378624212835258112820516370298089332099905707920064367426202389783111470054074998459250360633560933883831923386783056136435351892133279732908133732642652633989763922723407882928177953580570993691049175470808931841056146322338217465637321248226383092103297701648054726243842374862411453093812206564914032751086643394517512161526545361333111314042436854805106765843493523836959653428071768775328348234345557366719731392746273629108210679280784718035329131176778924659089938635459327894523777674406192240337638674004021330343297496902028328145933418826817683893072003634795623117103101291953169794607632737589253530772552375943788434504067715555779056450443016640119462580972216729758615026968443146952034614932291105970676243268515992834709891284706740862008587135016260312071903172086094081298321581077282076353186624611278245537208532365305775956430072517744315051539600905168603220349163222640885248852433158051534849622434848299380905070483482449327453732624567755879089187190803662058009594743150052402532709746995318770724376825907419939632265984147498193609285223945039707165443156421328157688908058783183404917434556270520223564846495196112460268313970975069382648706613264507665074611512677522748621598642530711298441182622661057163515069260029861704945425047491378115154139941550671256271197133252763631939606902895650288268608362241082050562430701794976171121233066073310059947366875\n",
      "Execution time (s): 0.008923999999996823\n"
     ]
    }
   ],
   "source": [
    "start = time.process_time()\n",
    "# ------\n",
    "n = 10000\n",
    "print('n:', n)\n",
    "print(fib_bottom_up_space(n))\n",
    "# ------\n",
    "print(\"Execution time (s):\", time.process_time() - start)"
   ]
  },
  {
   "cell_type": "markdown",
   "id": "0ed1448e",
   "metadata": {},
   "source": [
    "As we can see, it visually runs just as fast, but with less memory consumption this time. As a programmer, it's always good practice to reduce runtime *and* memory complexity whenever possible. And in the case of ```fib```, we've cut down from a $O(2^n)$ runtime / $O(n)$ memory *(don't worry how we calculated this)* recursive implementation to a $O(n)$ runtime / $O(1)$ memory bottom-up space saving DP implementation, which is an incredible performance boost.\n",
    "\n",
    "Congratulations! You've finished implementing you're first dynamic programming algorithm!"
   ]
  },
  {
   "cell_type": "markdown",
   "id": "5abfc855",
   "metadata": {},
   "source": [
    "<hr \\>\n",
    "\n",
    "<a id='lis'></a>\n",
    "## Longest Increasing Subsequence"
   ]
  },
  {
   "cell_type": "markdown",
   "id": "e438afc3",
   "metadata": {},
   "source": [
    "In the *longest increasing subsequence* problem, the input is a sequence of numbers $a_1, \\dots, a_n$. A *subsequence* is any subset of these numbers taken in order, of the form $a_{i_1}, a_{i_2}, \\dots, a_{i_k}$ where $1 \\leq i_1 < i_2 < \\dots < i_k \\leq n$, and an *increasing* subsequence is one in which the numbers are getting strictly larger. The task is to find the increasing subsequence of greatest length. For instance, the longest increasing subsequence of $5, 2, 8, 6, 3, 6, 9, 7$ is $\\text{len}(2, 3, 6, 9) = 4$."
   ]
  },
  {
   "cell_type": "markdown",
   "id": "a76ebc9e",
   "metadata": {},
   "source": [
    "We'll approach this problem by defining a recurrence relation. Let $f(i)$ be the length of the longest increasing subsequence with $\\text{arr}[i]$ as the last element.\n",
    "\n",
    "$$\n",
    "f(i) = 1 + \\displaystyle\\max_{j < i, \\,arr[j] < arr[i]}{f(j)}\n",
    "$$"
   ]
  },
  {
   "cell_type": "markdown",
   "id": "a0b1d2ab",
   "metadata": {},
   "source": [
    "Essentially, $f(i)$ is the length of the longest increasing subsequence that comes before index $i$ plus 1 since we assumed $f(i)$ includes $\\text{arr}[i]$. We also have to make sure the subsequence continues to be *strictly* increasing, so we must ensure $\\text{arr}[j] < \\text{arr}[i]$.\n",
    "\n",
    "Let's walk through an example. We'll use the sample input.\n",
    "\n",
    "$$\n",
    "\\begin{align}\n",
    "f(0) &= 1 \\\\\n",
    "f(1) &= 1 + \\max\\{\\emptyset\\} = 1 \\\\\n",
    "f(2) &= 1 + \\max\\{f(0), \\, f(1)\\} = 2 \\\\\n",
    "f(3) &= 1 + \\max\\{f(0), \\, f(1)\\} = 2 \\\\\n",
    "f(4) &= 1 + \\max\\{f(1)\\} = 2 \\\\\n",
    "f(5) &= 1 + \\max\\{f(0), \\, f(1), \\, f(4)\\} = 3 \\\\\n",
    "     &\\vdots\n",
    "\\end{align}\n",
    "$$\n",
    "\n",
    "Now we can write this into code using bottom-up DP!"
   ]
  },
  {
   "cell_type": "code",
   "execution_count": 20,
   "id": "351bf8e0",
   "metadata": {},
   "outputs": [],
   "source": [
    "def LIS(arr):\n",
    "    dp = [1]*len(arr)\n",
    "    \n",
    "    for i in range(len(arr)):\n",
    "        for j in range(i):\n",
    "            if arr[j] < arr[i]:\n",
    "                dp[i] = max(1 + dp[j], dp[i])\n",
    "                \n",
    "    return max(dp)"
   ]
  },
  {
   "cell_type": "code",
   "execution_count": 21,
   "id": "0fdb8be4",
   "metadata": {},
   "outputs": [
    {
     "data": {
      "text/plain": [
       "4"
      ]
     },
     "execution_count": 21,
     "metadata": {},
     "output_type": "execute_result"
    }
   ],
   "source": [
    "LIS([5, 2, 8, 6, 3, 6, 9, 7])"
   ]
  },
  {
   "cell_type": "markdown",
   "id": "a903bb20",
   "metadata": {},
   "source": [
    "Hopefully it's not too difficult to see how the recurrence relation translates into the code. It just goes to show that formulating the recursive problem itself may be hard, but the code that follows tends to be simpler.\n",
    "\n",
    "We can also see how our recurrence relation defines our original problem $f(i)$ in terms of previous subproblems $f(j)$, similar to recursion. And hopefully this example proved that the process from recursion to bottom-up DP isn't as difficult as it may seem.\n",
    "\n",
    "*FYI, the runtime here is $O(n^2)$. There are slightly faster algorithms for this problem, but DP does cut down on the exponential runtime significantly.*"
   ]
  },
  {
   "cell_type": "markdown",
   "id": "6b088316",
   "metadata": {},
   "source": [
    "<hr \\>\n",
    "\n",
    "<a id='knap'></a>\n",
    "## Knapsack"
   ]
  },
  {
   "cell_type": "markdown",
   "id": "d44bb62c",
   "metadata": {},
   "source": [
    "During a robbery, a burglar finds much more loot than he had expected and has to decide what to take. His bag (or \"knapsack\") will hold a total weight of at most $W$ pounds. There are $n$ items to pick from, of weight $w_1, \\dots, w_n$ and dollar value $v_1, \\dots, v_n$. What’s the most valuable combination of items he can fit into his bag? For instance, let $W = 10$ and\n",
    "\n",
    "<table>\n",
    "  <tr>\n",
    "    <th>Item</th>\n",
    "    <th>Weight</th>\n",
    "    <th>Value</th>\n",
    "  </tr>\n",
    "  <tr>\n",
    "    <td>1</td>\n",
    "    <td>6</td>\n",
    "    <td>\\$30</td>\n",
    "  </tr>\n",
    "  <tr>\n",
    "    <td>2</td>\n",
    "    <td>3</td>\n",
    "    <td>\\$14</td>\n",
    "  </tr>\n",
    "  <tr>\n",
    "    <td>3</td>\n",
    "    <td>4</td>\n",
    "    <td>\\$16</td>\n",
    "  </tr>\n",
    "  <tr>\n",
    "    <td>4</td>\n",
    "    <td>2</td>\n",
    "    <td>\\$9</td>\n",
    "  </tr>\n",
    "</table>\n",
    "\n",
    "The optimal knapsack here contains items $1$ and $3$ (total: $\\$46$)."
   ]
  },
  {
   "cell_type": "markdown",
   "id": "c9f89d2d",
   "metadata": {},
   "source": [
    "Again, we start by defining a recurrence relation. Let $f(i, w)$ be the maximum value obtained from at most $i$ items and $w$ weight. Let $w_i$ and $v_i$ be the weight and value of item $i$ respectively.\n",
    "\n",
    "$$\n",
    "f(i, w) = \\begin{cases}\n",
    "\\max\\{f(i - 1, w), \\ \\ f(i - 1, w - w_i) + v_i\\} \\quad \\text{if $w_i$ $\\leq$ $w$} \\\\\n",
    "f(i - 1, w) \\qquad\\qquad\\qquad\\qquad\\qquad\\quad \\ \\ \\ \\, \\text{else}\n",
    "\\end{cases}\n",
    "$$"
   ]
  },
  {
   "cell_type": "markdown",
   "id": "290c2ef7",
   "metadata": {},
   "source": [
    "**Case 1:** Item $i$ is included in the optimal combination\n",
    "\n",
    "**Case 2:** Item $i$ is not included in the optimal combination\n",
    "\n",
    "If item $i$'s weight $w_i$ is greater than the allowed weight $w$, then we can't include item $i$, so we only have the possibility of Case 2 in that case. So our recurrence relation follows as $\\max\\{\\text{Case 1}, \\, \\text{Case 2}\\}$ if $w_i \\leq w$, or just $\\text{Case 2}$ otherwise."
   ]
  },
  {
   "cell_type": "code",
   "execution_count": 22,
   "id": "86fdeb69",
   "metadata": {},
   "outputs": [],
   "source": [
    "def knapsack(values, weights, W):\n",
    "    n = len(values)\n",
    "    dp = [[0]*(W+1) for _ in range(n+1)]\n",
    "    \n",
    "    for i in range(1, n+1):\n",
    "        for w in range(1, W+1):\n",
    "            if weights[i-1] <= w:\n",
    "                dp[i][w] = max(dp[i-1][w], dp[i-1][w - weights[i-1]] + values[i-1])\n",
    "            else:\n",
    "                dp[i][w] = dp[i-1][w]\n",
    "    \n",
    "    return dp[n][W]"
   ]
  },
  {
   "cell_type": "code",
   "execution_count": 23,
   "id": "1dfb924d",
   "metadata": {},
   "outputs": [
    {
     "data": {
      "text/plain": [
       "46"
      ]
     },
     "execution_count": 23,
     "metadata": {},
     "output_type": "execute_result"
    }
   ],
   "source": [
    "knapsack([30, 14, 16, 9], [6, 3, 4, 2], 10)"
   ]
  },
  {
   "cell_type": "markdown",
   "id": "d2d1be88",
   "metadata": {},
   "source": [
    "<hr \\>\n",
    "\n",
    "<a id='conclusion'></a>\n",
    "## Conclusion"
   ]
  },
  {
   "cell_type": "markdown",
   "id": "df4eb824",
   "metadata": {},
   "source": [
    "Don't worry if you don't completely understand dynamic programming. It takes a while to fully internalize it. However, the one thing to take away is that DP is simply memoized / cached recursion. By the examples presented today, we can see how defining a recurrence relation is the meat of our problem. Coding it up using dynamic programming isn't as difficult. The idea of DP mainly serves as a way to reduce repeated computation in recursion and speed up runtime. A lot of the time, it can turn exponential-time algorithms into polynomial-time ones.\n",
    "\n",
    "Dynamic programming does come up a lot in the industry as well. Especially those who become software engineers should be well acquainted with it. And don't give up if you are potentially intimidated by it right now. It is a difficult concept to grasp, even for the most brilliant CS students. Potentially, this is the trickiest type of question you could get on a SWE (software engineering) interview, so don't be alarmed if some of the techniques here are confusing now. Practice makes perfect!\n",
    "\n",
    "If you'd like to continue learning more on recurrence relations, dynamic programming, and various other algorithms, CS 61B and CS 170 are great classes.\n",
    "\n",
    "<hr \\>"
   ]
  },
  {
   "cell_type": "markdown",
   "id": "4eefefab",
   "metadata": {},
   "source": [
    "<a id='ref'></a>\n",
    "## References \n",
    "\n",
    "* CS 170: DPV §6\n",
    "\n",
    "<hr \\>"
   ]
  }
 ],
 "metadata": {
  "kernelspec": {
   "display_name": "Python 3 (ipykernel)",
   "language": "python",
   "name": "python3"
  },
  "language_info": {
   "codemirror_mode": {
    "name": "ipython",
    "version": 3
   },
   "file_extension": ".py",
   "mimetype": "text/x-python",
   "name": "python",
   "nbconvert_exporter": "python",
   "pygments_lexer": "ipython3",
   "version": "3.9.7"
  }
 },
 "nbformat": 4,
 "nbformat_minor": 5
}
