{
 "cells": [
  {
   "cell_type": "markdown",
   "metadata": {},
   "source": [
    "# Homework -- Lecture 2: Introduction to Python\n",
    "    \n",
    "\n",
    "*Given on February 22, 2022*\n",
    "\n",
    "[Student Association for Applied Statistics (SAAS)](https://saas.berkeley.edu) <br/>\n",
    "Authors: [Kavin Suresh](mailto:kavins@berkeley.edu), [Jade Pan](mailto:jpan4@berkeley.edu) <br/>"
   ]
  },
  {
   "cell_type": "markdown",
   "metadata": {},
   "source": [
    "## Introduction\n"
   ]
  },
  {
   "cell_type": "markdown",
   "metadata": {},
   "source": [
    "Amazing! You have just attended the lecture introducing python and all the need-to-know concepts within it! Good job!\n",
    "\n",
    "Now is the time to put all this new material to work!"
   ]
  },
  {
   "cell_type": "markdown",
   "metadata": {},
   "source": [
    "## 1. Basic Python Syntax"
   ]
  },
  {
   "cell_type": "markdown",
   "metadata": {},
   "source": [
    "### 1.1 Jupyter"
   ]
  },
  {
   "cell_type": "markdown",
   "metadata": {},
   "source": [
    "##### 1.1a: \n",
    "\n",
    "Run the cell below by using the keyboard shortcut we learned during lecture."
   ]
  },
  {
   "cell_type": "code",
   "execution_count": null,
   "metadata": {},
   "outputs": [],
   "source": [
    "print(\"You are a pro who can use JupyterNotebooks! :)\")"
   ]
  },
  {
   "cell_type": "markdown",
   "metadata": {},
   "source": [
    "##### 1.1b: \n",
    "\n",
    "Create a markdown cell below this one using the keyboard shortcuts we learned during lecture.\n",
    "\n",
    "*Hint: This will take more than one keyboard shortcut!*"
   ]
  },
  {
   "cell_type": "markdown",
   "metadata": {},
   "source": [
    "### 1.2 Code"
   ]
  },
  {
   "cell_type": "markdown",
   "metadata": {},
   "source": [
    "##### 1.2a: \n",
    "\n",
    "Create the following output using print statements in the provided cell.\n",
    "\n",
    "*Hint: You will need to figure out a way to use the print statement to create the blank line!*"
   ]
  },
  {
   "cell_type": "markdown",
   "metadata": {},
   "source": [
    ">```\n",
    ">    SAAS\n",
    ">    \n",
    ">    is\n",
    ">    pretty\n",
    ">    cool!\n",
    ">```"
   ]
  },
  {
   "cell_type": "code",
   "execution_count": null,
   "metadata": {},
   "outputs": [],
   "source": [
    "#Code your solution here."
   ]
  },
  {
   "cell_type": "markdown",
   "metadata": {},
   "source": [
    "### 1.3 Comments"
   ]
  },
  {
   "cell_type": "markdown",
   "metadata": {},
   "source": [
    "##### 1.3a: \n",
    "\n",
    "In the provided code cell below, comment out any lines needed to create the following output."
   ]
  },
  {
   "cell_type": "markdown",
   "metadata": {},
   "source": [
    ">```\n",
    ">    B\n",
    ">    A\n",
    ">    N\n",
    ">    A\n",
    ">    N\n",
    ">    A\n",
    ">```"
   ]
  },
  {
   "cell_type": "code",
   "execution_count": null,
   "metadata": {},
   "outputs": [],
   "source": [
    "#Comment out any of the following lines to create the desired output!\n",
    "\n",
    "print(\"B\")\n",
    "print(\"A\")\n",
    "print(\"N\")\n",
    "print(\"D\")\n",
    "print(\"A\")\n",
    "print(\"N\")\n",
    "print(\"A\")"
   ]
  },
  {
   "cell_type": "markdown",
   "metadata": {},
   "source": [
    "### 1.4 Errors"
   ]
  },
  {
   "cell_type": "markdown",
   "metadata": {},
   "source": [
    "##### 1.4a: \n",
    "\n",
    "Purposely create an error in your code to create an error output. The code can be anything: a function, a variable, or even gibberish from your keyboard. Try to create an error that is not a \"SyntaxError\"!"
   ]
  },
  {
   "cell_type": "code",
   "execution_count": null,
   "metadata": {},
   "outputs": [],
   "source": [
    "#Create faulty code here!"
   ]
  },
  {
   "cell_type": "markdown",
   "metadata": {},
   "source": [
    "### 1.5 Numbers and Math"
   ]
  },
  {
   "cell_type": "markdown",
   "metadata": {},
   "source": [
    "##### 1.5a: \n",
    "\n",
    "Create pi (3.14xxx) using the following operators (+, -, *, /, %, and * *) and any numbers you wish. Do this all within a print statement and print it out!"
   ]
  },
  {
   "cell_type": "code",
   "execution_count": null,
   "metadata": {},
   "outputs": [],
   "source": [
    "#Do your work here!\n",
    "print(...)"
   ]
  },
  {
   "cell_type": "markdown",
   "metadata": {},
   "source": [
    "##### 1.5b: \n",
    "\n",
    "Swap the location of two operators in the following code cell so that it outputs 30.0 instead of 15.0."
   ]
  },
  {
   "cell_type": "code",
   "execution_count": null,
   "metadata": {},
   "outputs": [],
   "source": [
    "10 + 5 * 10 / 10"
   ]
  },
  {
   "cell_type": "markdown",
   "metadata": {},
   "source": [
    "## 2. Variables and Functions"
   ]
  },
  {
   "cell_type": "markdown",
   "metadata": {},
   "source": [
    "### 2.1 Variables"
   ]
  },
  {
   "cell_type": "markdown",
   "metadata": {},
   "source": [
    "__What can you include in a valid variable name?__ (you can choose multiple answers) <br>\n",
    "a) uppercase letters <br>\n",
    "b) the number 0 <br>\n",
    "c) dashs <br>\n",
    "d) underscores <br>\n",
    "e) only one special symbol"
   ]
  },
  {
   "cell_type": "markdown",
   "metadata": {},
   "source": [
    "__Answer__: "
   ]
  },
  {
   "cell_type": "markdown",
   "metadata": {},
   "source": [
    "__Which one of the following is a valid variable name?__ <br>\n",
    "a) gr8_career_exploration_lecture2_intro_to_python <br>\n",
    "b) j@mes <br>\n",
    "c) 1amber"
   ]
  },
  {
   "cell_type": "markdown",
   "metadata": {},
   "source": [
    "__Answer__: "
   ]
  },
  {
   "cell_type": "markdown",
   "metadata": {},
   "source": [
    "__Give an example of each data type listed below. Check your answer with the <code>type()</code> function__"
   ]
  },
  {
   "cell_type": "code",
   "execution_count": 15,
   "metadata": {},
   "outputs": [
    {
     "data": {
      "text/plain": [
       "str"
      ]
     },
     "execution_count": 15,
     "metadata": {},
     "output_type": "execute_result"
    }
   ],
   "source": [
    "string = ...\n",
    "type(string)"
   ]
  },
  {
   "cell_type": "code",
   "execution_count": 16,
   "metadata": {},
   "outputs": [
    {
     "data": {
      "text/plain": [
       "int"
      ]
     },
     "execution_count": 16,
     "metadata": {},
     "output_type": "execute_result"
    }
   ],
   "source": [
    "integer = ...\n",
    "type(integer)"
   ]
  },
  {
   "cell_type": "code",
   "execution_count": 17,
   "metadata": {},
   "outputs": [
    {
     "data": {
      "text/plain": [
       "float"
      ]
     },
     "execution_count": 17,
     "metadata": {},
     "output_type": "execute_result"
    }
   ],
   "source": [
    "float_ = ...\n",
    "type(float_)"
   ]
  },
  {
   "cell_type": "code",
   "execution_count": 18,
   "metadata": {},
   "outputs": [
    {
     "data": {
      "text/plain": [
       "bool"
      ]
     },
     "execution_count": 18,
     "metadata": {},
     "output_type": "execute_result"
    }
   ],
   "source": [
    "boolean = ...\n",
    "type(boolean)"
   ]
  },
  {
   "cell_type": "markdown",
   "metadata": {},
   "source": [
    "Predict the output when we manipulate the variables above"
   ]
  },
  {
   "cell_type": "markdown",
   "metadata": {},
   "source": [
    "integer+float_"
   ]
  },
  {
   "cell_type": "markdown",
   "metadata": {},
   "source": [
    "__answer__: "
   ]
  },
  {
   "cell_type": "markdown",
   "metadata": {},
   "source": [
    "type(integer+float_)"
   ]
  },
  {
   "cell_type": "markdown",
   "metadata": {},
   "source": [
    "__answer__:"
   ]
  },
  {
   "cell_type": "markdown",
   "metadata": {},
   "source": [
    "string * integer"
   ]
  },
  {
   "cell_type": "markdown",
   "metadata": {},
   "source": [
    "__answer__:"
   ]
  },
  {
   "cell_type": "markdown",
   "metadata": {},
   "source": [
    "type(string*integer)"
   ]
  },
  {
   "cell_type": "markdown",
   "metadata": {},
   "source": [
    "__answer:__"
   ]
  },
  {
   "cell_type": "markdown",
   "metadata": {},
   "source": [
    "string+integer"
   ]
  },
  {
   "cell_type": "markdown",
   "metadata": {},
   "source": [
    "__answer:__"
   ]
  },
  {
   "cell_type": "markdown",
   "metadata": {},
   "source": [
    "boolean*integer"
   ]
  },
  {
   "cell_type": "markdown",
   "metadata": {},
   "source": [
    "__answer:__"
   ]
  },
  {
   "cell_type": "markdown",
   "metadata": {},
   "source": [
    "type(boolean+integer)"
   ]
  },
  {
   "cell_type": "markdown",
   "metadata": {},
   "source": [
    "__answer:__"
   ]
  },
  {
   "cell_type": "markdown",
   "metadata": {},
   "source": [
    "### 2.2 Control Flow"
   ]
  },
  {
   "cell_type": "markdown",
   "metadata": {},
   "source": [
    "Use if, elif and/or while to test if your variable string from above is wordle-able (contains 5 letters exactly). Print <code>too long!</code> if the string contains more than 5 characters, and print <code>too short!</code> if string contains less than 5 characters. If string is wordle-able, print <code>happy wordle!</code>"
   ]
  },
  {
   "cell_type": "code",
   "execution_count": 1,
   "metadata": {},
   "outputs": [],
   "source": [
    "#your code here"
   ]
  },
  {
   "cell_type": "markdown",
   "metadata": {},
   "source": [
    "__Challenge__: do the task above without using <code>len()</code>. You will need a for loop, while statement and a counter. You can come back to the challenge after finishing the for loop exercise."
   ]
  },
  {
   "cell_type": "code",
   "execution_count": 2,
   "metadata": {},
   "outputs": [],
   "source": [
    "#your code here"
   ]
  },
  {
   "cell_type": "markdown",
   "metadata": {},
   "source": [
    "A monkey has 30 bananas, everyday he eats one banana and gives one banana to his mom (how sweet). Use if, elif, and/or while statements to prove that the bananas will last the monkey 15 days. Try to work out the solution from scratch first. If you are stuck, use the code cell below for hints."
   ]
  },
  {
   "cell_type": "code",
   "execution_count": 3,
   "metadata": {},
   "outputs": [],
   "source": [
    "# your code here\n"
   ]
  },
  {
   "cell_type": "code",
   "execution_count": 4,
   "metadata": {},
   "outputs": [],
   "source": [
    "# hints:\n",
    "bananas = ...\n",
    "days = ..."
   ]
  },
  {
   "cell_type": "markdown",
   "metadata": {},
   "source": [
    "### 2.3 Functions"
   ]
  },
  {
   "cell_type": "markdown",
   "metadata": {},
   "source": [
    "Create a <code>bigger(x,y)</code> function that compares two integer numbers x and y, and returns the bigger number between the two. If the two number are equal to each other, return x."
   ]
  },
  {
   "cell_type": "code",
   "execution_count": 28,
   "metadata": {},
   "outputs": [],
   "source": [
    "#your code here\n"
   ]
  },
  {
   "cell_type": "code",
   "execution_count": 29,
   "metadata": {},
   "outputs": [
    {
     "data": {
      "text/plain": [
       "90"
      ]
     },
     "execution_count": 29,
     "metadata": {},
     "output_type": "execute_result"
    }
   ],
   "source": [
    "# test out your function here\n",
    "bigger(90,31)"
   ]
  },
  {
   "cell_type": "markdown",
   "metadata": {},
   "source": [
    "__Challenge__: add to your function so that when the user enters a non-integer x or y value, your function would report an error message <code>inputs are not integers, please try again!</code>"
   ]
  },
  {
   "cell_type": "code",
   "execution_count": 30,
   "metadata": {},
   "outputs": [],
   "source": [
    "# your code here"
   ]
  },
  {
   "cell_type": "markdown",
   "metadata": {},
   "source": [
    "## 3. Arrays and Iteration"
   ]
  },
  {
   "cell_type": "markdown",
   "metadata": {},
   "source": [
    "### 3.1 Arrays and Lists"
   ]
  },
  {
   "cell_type": "markdown",
   "metadata": {},
   "source": [
    "##### 3.1a: \n",
    "\n",
    "Turn the following list into a nested list that separates based on fruits and vegetables! Fruits should go first and vegetables second."
   ]
  },
  {
   "cell_type": "code",
   "execution_count": null,
   "metadata": {},
   "outputs": [],
   "source": [
    "eatYourFruitsAndVeggiesKids = [\"Apple\", \"Banana\", \"Broccoli\", \"Mango\", \"Onion\", \"Bell Pepper\"]\n",
    "eatYourFruitsAndVeggiesKids"
   ]
  },
  {
   "cell_type": "markdown",
   "metadata": {},
   "source": [
    "##### 3.1b: \n",
    "\n",
    "Remove the last item on the list above (stored to eatYourFruitsAndVeggiesKids) and assign it to the variable veggies. Print the veggies variable.\n",
    "\n",
    "*Hint: This is all doable with just ONE function used.*"
   ]
  },
  {
   "cell_type": "code",
   "execution_count": null,
   "metadata": {},
   "outputs": [],
   "source": [
    "veggies = ..."
   ]
  },
  {
   "cell_type": "markdown",
   "metadata": {},
   "source": [
    "##### 3.1c: \n",
    "\n",
    "Insert \"Eggplant\" into the beginning of the veggies list. Print the veggies variable.\n",
    "\n",
    "*Hint: Once again, this is doable with just ONE function used.*"
   ]
  },
  {
   "cell_type": "code",
   "execution_count": null,
   "metadata": {},
   "outputs": [],
   "source": [
    "..."
   ]
  },
  {
   "cell_type": "markdown",
   "metadata": {},
   "source": [
    "### 3.2 Dictionaries"
   ]
  },
  {
   "cell_type": "markdown",
   "metadata": {},
   "source": [
    "Below are two lists: one of veggies and one of their corresponding calories. Please convert them into a dictionary named <code>calories</code>in a way that item from <code>veggies</code> is the key and item from <code>veggies_calories</code> is the value"
   ]
  },
  {
   "cell_type": "code",
   "execution_count": 35,
   "metadata": {},
   "outputs": [],
   "source": [
    "veggies = [\"Eggplant\",\"Mushroom\",\"Broccoli\", \"Tomato\", \"Onion\", \"Bell Pepper\"]\n",
    "veggies_calories = [20,23,45,10,90,64]"
   ]
  },
  {
   "cell_type": "code",
   "execution_count": 6,
   "metadata": {},
   "outputs": [],
   "source": [
    "#your code here"
   ]
  },
  {
   "cell_type": "markdown",
   "metadata": {},
   "source": [
    "If you have more time and want to try out more dictionary exercises, check out this [link](https://pynative.com/python-dictionary-exercise-with-solutions/#h-exercise-1-convert-two-lists-into-a-dictionary)"
   ]
  },
  {
   "cell_type": "markdown",
   "metadata": {},
   "source": [
    "### 3.3 For Loops"
   ]
  },
  {
   "cell_type": "markdown",
   "metadata": {},
   "source": [
    "##### 3.3a: \n",
    "\n",
    "You will be provided two lists. Use two for loops to iterate through the lists and multiply all values of one list with all values of the other and print the results. For example, if a list is [1, 2] and another is [3, 4], then 1\\*3, 1\\*4, 2\\*3, and 2\\*4 should occur.\n",
    "\n",
    "\n",
    "*Hint: [This link](https://pynative.com/python-nested-loops/) will be useful.*"
   ]
  },
  {
   "cell_type": "code",
   "execution_count": null,
   "metadata": {},
   "outputs": [],
   "source": [
    "list1 = [1, 5, 8, 9, 11]\n",
    "list2 = [2, 4, 7, 10, 12]\n",
    "..."
   ]
  }
 ],
 "metadata": {
  "kernelspec": {
   "display_name": "Python 3",
   "language": "python",
   "name": "python3"
  },
  "language_info": {
   "codemirror_mode": {
    "name": "ipython",
    "version": 3
   },
   "file_extension": ".py",
   "mimetype": "text/x-python",
   "name": "python",
   "nbconvert_exporter": "python",
   "pygments_lexer": "ipython3",
   "version": "3.7.3"
  }
 },
 "nbformat": 4,
 "nbformat_minor": 5
}
