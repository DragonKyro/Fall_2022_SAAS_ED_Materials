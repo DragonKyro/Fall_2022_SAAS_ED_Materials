{
 "cells": [
  {
   "cell_type": "markdown",
   "metadata": {
    "id": "Lv3-OJS5MpCc"
   },
   "source": [
    "# Lecture 1: Introduction to Datahub and Jupyter\n",
    "## 15 Feb 2022\n",
    "\n",
    "### Table Of Contents\n",
    "* [Introduction](#section1)\n",
    "* [What will we learn?](#section2)\n",
    "* [Homework and Submissions](#section3)\n",
    "\n",
    "\n",
    "### Hosted by and maintained by the [Student Association for Applied Statistics (SAAS)](https://saas.berkeley.edu). \n"
   ]
  },
  {
   "cell_type": "markdown",
   "metadata": {
    "id": "0PaIXRzSMpCd"
   },
   "source": [
    "<a id='section1'></a>\n",
    "# Introduction\n",
    "Hello! Welcome to Career Exploration Fall 2022!\n",
    "\n",
    "This is just an introductory notebook for practice working with datahub and discussing the semester schedule. \n",
    "\n",
    "Datahub is a fantastic resource as it allows us to utilize python and common packages without needing to install a bunch of stuff and having that break.\n",
    "\n",
    "Run the code chunk below by clicking on it and pressing `shift enter` (or `shift return`) on mac. These are all common packages we will import throughout the semesters."
   ]
  },
  {
   "cell_type": "code",
   "execution_count": null,
   "metadata": {
    "id": "Is-cQU9wMpCe"
   },
   "outputs": [],
   "source": [
    "import pandas as pd\n",
    "import numpy as np\n",
    "from sklearn.linear_model import LinearRegression\n",
    "import matplotlib.pyplot as plt\n",
    "%matplotlib inline"
   ]
  },
  {
   "cell_type": "markdown",
   "metadata": {
    "id": "W-LRL8kmMpCj"
   },
   "source": [
    "Ordinarily you would need to install python as well as all the packages and then sometimes stuff doesn't work. This usually causes many problems with differing versions and installation issues. Datahub bypasses all of these by providing a environment you can use online! \n",
    "\n",
    "### Steps to download from Slack and unzip on Datahub.         \n",
    "1. Make sure you are in the slack workspace, and in the career exploration committee channel.\n",
    "2. Download the LectureX.zip file\n",
    "1. Open datahub at http://datahub.berkeley.edu/ and log in with your berkeley account\n",
    "2. Click upload at the top right\n",
    "3. Upload LectureX.zip (X represents the lecture number, for example Lecture1.zip)\n",
    "4. Select 'new' at the top right of the datahub screen, and select terminal from the drop down\n",
    "5. Enter \"unzip LectureX.zip\"\n",
    "  * `unzip LectureX.zip`\n",
    "6. Open the LectureX folder and open the ipynb file inside the LectureX folder\n",
    "\n",
    "\n",
    "Our main source of file sharing will be uploading to slack. Remember to upload the entire zip file to Datahub and unzip. "
   ]
  },
  {
   "cell_type": "markdown",
   "metadata": {
    "id": "i4kdOa2VMpCj"
   },
   "source": [
    "<a id='section2'></a>\n",
    "# What will we learn?\n",
    "\n",
    "This semester will go over many topics on a relatively high level. We begin with introducing jupyter notebooks (what you are reading from right now!) and use these to teach most of our lectures. Jupyter notebooks are incredibly useful as they allow you to run separate chunks of code at a time, without having to run the entire program at once.\n",
    "\n",
    "We aim to go through the following topics for the semester.\n",
    "\n",
    "<table class=\"table table-bordered table-hover table-condensed\">\n",
    "<thead><tr><th title=\"Field #1\">Date</th>\n",
    "<th title=\"Field #2\">Lecture</th>\n",
    "</tr></thead>\n",
    "<tbody><tr>\n",
    "<td>2/15</td>\n",
    "<td>L1 Software and Logistics</td>\n",
    "</tr>\n",
    "<tr>\n",
    "<td>2/22</td>\n",
    "<td>L2 Python (Asynchrous)</td>\n",
    "</tr>\n",
    "<tr>\n",
    "<td>2/29</td>\n",
    "<td>L3 Numpy/Pandas</td>\n",
    "</tr>\n",
    "<tr>\n",
    "<td>3/8</td>\n",
    "<td>L4 Visualizations and Data Cleaning</td>\n",
    "</tr>\n",
    "<tr>\n",
    "<td>3/15</td>\n",
    "<td>L5 Statistics for Data Science</td>\n",
    "</tr>\n",
    "<tr>\n",
    "<td>3/29</td>\n",
    "<td>L6 Intro to Linear Algebra for Data Science</td>\n",
    "</tr>\n",
    "<tr>\n",
    "<td>4/5</td>\n",
    "<td>L7 Application of Math+Stats(Simple Linear Regression)</td>\n",
    "</tr>\n",
    "<tr>\n",
    "<td>4/12</td>\n",
    "<td>L8 Application of Math+Stats(Continued)</td>\n",
    "</tr>\n",
    "<tr>\n",
    "<td>4/19</td>\n",
    "<td>L9 Classification, Logistic Regression(Kaggle starts)</td>\n",
    "</tr>\n",
    "<tr>\n",
    "<td>4/26</td>\n",
    "<td>L10 Decision Trees, Random Forest, KNN</td>\n",
    "</tr>\n",
    "</tbody></table>\n",
    "\n",
    "As you can see, the semester is packed full of various concepts, from statistical ideas such as bias and variance to machine learning concepts like neural networks and decision trees.\n",
    "\n",
    "The semester is structured so that you will be able to accumulate foundational skills, learn more advanced concepts, and apply them to a final Kaggle competition. \n",
    "\n",
    "The course material is being written by our lovely Education committee! You will get to meet them over the course of the semester as we are rotating lecturers.\n",
    "\n",
    "This schedule is quite ambitious and fast paced as it aims to cover a very large amount of material. \n",
    "\n",
    "**Please let us know if you ever have feedback, have questions, or you are just looking for some more help! We are all happy to help out. You can always reach us over slack.**\n",
    "\n",
    "**This material is hard!**\n",
    "\n",
    "We also hold many workshops and socials over the semester! We hope that you are all able to come participate and have a great time!"
   ]
  },
  {
   "cell_type": "markdown",
   "metadata": {
    "id": "QIq_AGu7MpCk"
   },
   "source": [
    "<a id='section3'></a>\n",
    "# Project Checkpoint Submissions"
   ]
  },
  {
   "cell_type": "markdown",
   "metadata": {
    "id": "yC2g74WxMpCl"
   },
   "source": [
    "This semester we are going to split up the Final Project into several checkpoints. This helps create a fun and low stress way of staying on top of the material! \n",
    "\n",
    "FINAL CHECKPOINT: The Friday before dead week (4/26)\n"
   ]
  },
  {
   "cell_type": "markdown",
   "metadata": {},
   "source": [
    "# Homework\n",
    "This semester, we will be having optional homework problem sets to complement each lecture. We expect each homework set to take 1-2 hours and to serve as good independent practice for relevant topics. Although these are optional, we highly encourage you to do each and every one of them to further solidify your understanding of the material. Solutions will also be released for each homework set."
   ]
  },
  {
   "cell_type": "markdown",
   "metadata": {},
   "source": [
    "<a id='section3'></a>\n",
    "# Datahub Guide"
   ]
  },
  {
   "cell_type": "markdown",
   "metadata": {},
   "source": [
    "Datahub will be the place where all your code will reside. In some ways this is your development environment! You should always be familiar with the environment you program in, and here are some exercises to help you get started!"
   ]
  },
  {
   "cell_type": "markdown",
   "metadata": {},
   "source": [
    "**Double click** a cell to edit the contents. \n",
    "\n",
    "There are two main kinds of cells we will be expecting you to know, Markdown and Code. \n",
    "You can run a cell by pressing **ctrl-enter**.\n",
    "Code: Really self explanitory. This is where your code is stored.\n",
    "Markdown: All the text stuff. There is also some latex integration! w $\\alpha$ o! Just put $ around your markdown code."
   ]
  },
  {
   "cell_type": "markdown",
   "metadata": {},
   "source": [
    "The **kernal** is something you find might crash a lot in the future. If the kernal does not work, your code does not work. Look at the top right of the notebook to see the status of the kernal.\n",
    "\n",
    "As the wise IT guys always say, try turning it off and on again if it doesn't work. To restart the kernal, try to find the \"kernal\" section near the top left of the notebook. This should be in the dropdown menu.\n",
    "\n",
    "The **toolbar** at the top of the notebook also holds some pretty useful tools! "
   ]
  },
  {
   "cell_type": "markdown",
   "metadata": {},
   "source": [
    "<h3>Q1</h3>\n",
    "\n",
    "Look in the toolbar an try to find the **Run All Above** command. "
   ]
  },
  {
   "cell_type": "markdown",
   "metadata": {},
   "source": [
    "What tab is it in?"
   ]
  },
  {
   "cell_type": "markdown",
   "metadata": {},
   "source": [
    "<h3> Q2 </h3>\n",
    "\n",
    "Delete the cell below"
   ]
  },
  {
   "cell_type": "markdown",
   "metadata": {},
   "source": [
    "*DELETE ME PLEASE*"
   ]
  },
  {
   "cell_type": "markdown",
   "metadata": {
    "id": "B8HG5WHPMpCo"
   },
   "source": [
    "<h3> Q3 </h3>\n",
    "\n",
    "**In the cell below, write a number 1 to 100 inclusive.**"
   ]
  },
  {
   "cell_type": "markdown",
   "metadata": {
    "id": "pyoBMGmsMpCo",
    "tags": [
     "number"
    ]
   },
   "source": [
    "*Make me a number*"
   ]
  },
  {
   "cell_type": "markdown",
   "metadata": {
    "id": "Ij5xYSFQMpCl"
   },
   "source": [
    "<h3> Q4 </h3>\n",
    "\n",
    "In the cells below, write your name, major, a fun fact about yourself. Make sure to hit Save (File > Save and Checkpoint) or Ctrl/Command-S after you've finished writing. "
   ]
  },
  {
   "cell_type": "markdown",
   "metadata": {
    "id": "26G0VoLAMpCm",
    "tags": [
     "name"
    ]
   },
   "source": [
    "**Name**: "
   ]
  },
  {
   "cell_type": "markdown",
   "metadata": {
    "id": "M7I8L8U1MpCn",
    "tags": [
     "major"
    ]
   },
   "source": [
    "**Major**: "
   ]
  },
  {
   "cell_type": "markdown",
   "metadata": {
    "id": "ds6g0-WhMpCn",
    "tags": [
     "fun-fact"
    ]
   },
   "source": [
    "**Fun Fact**: "
   ]
  },
  {
   "cell_type": "markdown",
   "metadata": {
    "id": "UUjnSDTBMpCu"
   },
   "source": [
    "<h3> Q5 </h3>\n",
    "\n",
    "Run the cell below to make sure everything runs fine. "
   ]
  },
  {
   "cell_type": "code",
   "execution_count": null,
   "metadata": {
    "id": "YSomUDtZMpCv"
   },
   "outputs": [],
   "source": [
    "func = lambda x: 4*x+2\n",
    "samples = 100\n",
    "data_range = [0, 1]\n",
    "\n",
    "\n",
    "x = np.random.uniform(data_range[0], data_range[1], (samples, 1))\n",
    "y = func(x) + np.random.normal(scale=3, size=(samples, 1))\n",
    "model = LinearRegression().fit(x, y)\n",
    "predictions = model.predict(np.array(data_range).reshape(-1, 1))\n",
    "\n",
    "\n",
    "fig, ax = plt.subplots(figsize=(12, 8))\n",
    "plt.scatter(x, y)\n",
    "plt.plot(data_range, list(map(func, data_range)), label=\"Truth\")\n",
    "plt.plot(data_range, predictions, label=\"Prediction\")\n",
    "plt.xlabel(\"X\")\n",
    "plt.ylabel(\"Y\")\n",
    "plt.title(\"Linear regression\")\n",
    "plt.legend()\n",
    "plt.show()"
   ]
  },
  {
   "cell_type": "markdown",
   "metadata": {},
   "source": [
    "<h3> Q6 </h3>\n",
    "Let's have some fun with markdown.  Create a markdown cell below and make a numbered list of your top 3 favorite places on campus.  Bold the first item, italicize the second, and bold and italicize the third.  Your list should look similar to below.  Try Googling for markdown syntax.  If you need help, feel free to double-click this cell.\n",
    "\n",
    "1. **Place 1**\n",
    "2. *Place 2*\n",
    "3. ***Place 3***"
   ]
  },
  {
   "cell_type": "markdown",
   "metadata": {},
   "source": [
    "<h3> Q7 </h3>\n",
    "Now let's try some latex. Create a cell below and try recreating the formula below. Don't worry, you don't need to understand what the formula means (yet). Remember that you can render latex by surrounding the formula with dollar signs. If you need help, you can double-click this cell.\n",
    "\n",
    "Hint: $\\sigma$ is called sigma and $\\mu$ is called mu.\n",
    "\n",
    "$$P(X \\leq b) = \\int_{-\\infty}^{b} \\frac{1}{\\sigma \\sqrt{2\\pi}} e^{\\frac{(t-\\mu)^2}{2\\sigma^2}} \\,dt$$"
   ]
  }
 ],
 "metadata": {
  "colab": {
   "name": "Intro to Career Exploration.ipynb",
   "provenance": []
  },
  "kernelspec": {
   "display_name": "Python 3",
   "language": "python",
   "name": "python3"
  },
  "language_info": {
   "codemirror_mode": {
    "name": "ipython",
    "version": 3
   },
   "file_extension": ".py",
   "mimetype": "text/x-python",
   "name": "python",
   "nbconvert_exporter": "python",
   "pygments_lexer": "ipython3",
   "version": "3.7.3"
  }
 },
 "nbformat": 4,
 "nbformat_minor": 1
}
