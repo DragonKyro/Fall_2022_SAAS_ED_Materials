{
 "cells": [
  {
   "cell_type": "markdown",
   "id": "ffd641b0",
   "metadata": {},
   "source": [
    "# HW -- Lecture 6: Linear Algebra and Linear Regression\n",
    "\n",
    "Given on March 29, 2022"
   ]
  },
  {
   "cell_type": "markdown",
   "id": "73c7f27a",
   "metadata": {},
   "source": [
    "## Linear Algebra"
   ]
  },
  {
   "cell_type": "code",
   "execution_count": 3,
   "id": "b15b5510",
   "metadata": {},
   "outputs": [],
   "source": [
    "import numpy as np"
   ]
  },
  {
   "cell_type": "markdown",
   "id": "c27d330a",
   "metadata": {},
   "source": [
    "**Exercise 1:** Create four different 4X1 vectors v1, v2, v3, and v4. "
   ]
  },
  {
   "cell_type": "code",
   "execution_count": 4,
   "id": "a6a0196b",
   "metadata": {},
   "outputs": [],
   "source": [
    "v1= [4,5,2,7]\n",
    "v2= [0,3,6,4]\n",
    "v3= [9,7,3,2]\n",
    "v4= [5,3,2,1]"
   ]
  },
  {
   "cell_type": "markdown",
   "id": "028f1cd7",
   "metadata": {},
   "source": [
    "**Exercise 2:** Create a 4X4 matrix called A using the vectors created in the previous exercise."
   ]
  },
  {
   "cell_type": "code",
   "execution_count": 6,
   "id": "c4b0f67e",
   "metadata": {},
   "outputs": [
    {
     "name": "stdout",
     "output_type": "stream",
     "text": [
      "[[4 5 2 7]\n",
      " [0 3 6 4]\n",
      " [9 7 3 2]\n",
      " [5 3 2 1]]\n"
     ]
    }
   ],
   "source": [
    "A = np.array([v1,v2,v3,v4])\n",
    "print(A)"
   ]
  },
  {
   "cell_type": "markdown",
   "id": "d301719f",
   "metadata": {},
   "source": [
    "**Exercise 3:** Find the specific transpose of the matrix A created above."
   ]
  },
  {
   "cell_type": "code",
   "execution_count": 7,
   "id": "d761ab2e",
   "metadata": {},
   "outputs": [
    {
     "name": "stdout",
     "output_type": "stream",
     "text": [
      "[[4 0 9 5]\n",
      " [5 3 7 3]\n",
      " [2 6 3 2]\n",
      " [7 4 2 1]]\n"
     ]
    }
   ],
   "source": [
    "print(A.transpose())"
   ]
  },
  {
   "cell_type": "markdown",
   "id": "bb9553fb",
   "metadata": {},
   "source": [
    "**Exercise 4:** Add matrix A to the transpose of the matrix B below."
   ]
  },
  {
   "cell_type": "code",
   "execution_count": 8,
   "id": "6b828947",
   "metadata": {},
   "outputs": [
    {
     "name": "stdout",
     "output_type": "stream",
     "text": [
      "[[ 7  9  7 14]\n",
      " [ 7  3  8  7]\n",
      " [14 10  4  4]\n",
      " [ 6  4 10  1]]\n"
     ]
    }
   ],
   "source": [
    "B = np.array([[3,7,5,1],[4,0,3,1],[5,2,1,8],[7,3,2,0]])\n",
    "\n",
    "print(A+B.transpose())"
   ]
  },
  {
   "cell_type": "markdown",
   "id": "b9029af2",
   "metadata": {},
   "source": [
    "**Exercise 5:** What is the dimensions of a 4X2 matrix times a 2X7 matrix?"
   ]
  },
  {
   "cell_type": "code",
   "execution_count": 9,
   "id": "7dbae618",
   "metadata": {},
   "outputs": [],
   "source": [
    "ans='4X7'"
   ]
  },
  {
   "cell_type": "markdown",
   "id": "2443b2f4",
   "metadata": {},
   "source": [
    "**Exercise 6:** Are the rows of the matrices below linearly independent or dependent?"
   ]
  },
  {
   "cell_type": "code",
   "execution_count": 11,
   "id": "c329d9c1",
   "metadata": {},
   "outputs": [],
   "source": [
    "C = np.array([[5,3,7],[6,2,4],[-2,2,6]])\n",
    "ans='Linearly dependent'"
   ]
  },
  {
   "cell_type": "markdown",
   "id": "5bcf6804",
   "metadata": {},
   "source": [
    "**Exercise 7:** Is the matrix C above invertible or not? Provide an explanation using the idea of linear independence or dependence.\n",
    "\n",
    "Hint: Test using specific function given in the lecture"
   ]
  },
  {
   "cell_type": "code",
   "execution_count": 12,
   "id": "77fb4d4b",
   "metadata": {},
   "outputs": [
    {
     "data": {
      "text/plain": [
       "0.0"
      ]
     },
     "execution_count": 12,
     "metadata": {},
     "output_type": "execute_result"
    }
   ],
   "source": [
    "np.linalg.det(C)"
   ]
  },
  {
   "cell_type": "markdown",
   "id": "c532a4db",
   "metadata": {},
   "source": [
    "Since the matrix C is linearly dependent, therefore one of the rows is a linear combination of the other rows, so the determinant of the matrix will be 0 resulting in the matrix being noninvertible"
   ]
  }
 ],
 "metadata": {
  "kernelspec": {
   "display_name": "Python 3 (ipykernel)",
   "language": "python",
   "name": "python3"
  },
  "language_info": {
   "codemirror_mode": {
    "name": "ipython",
    "version": 3
   },
   "file_extension": ".py",
   "mimetype": "text/x-python",
   "name": "python",
   "nbconvert_exporter": "python",
   "pygments_lexer": "ipython3",
   "version": "3.9.10"
  }
 },
 "nbformat": 4,
 "nbformat_minor": 5
}
