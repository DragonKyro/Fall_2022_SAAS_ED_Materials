{
 "cells": [
  {
   "cell_type": "markdown",
   "id": "1a6b30e1",
   "metadata": {},
   "source": [
    "# HW -- Lecture 6: Linear Algebra and Linear Regression\n",
    "\n",
    "Given on March 29, 2022"
   ]
  },
  {
   "cell_type": "markdown",
   "id": "9f79ce3d",
   "metadata": {},
   "source": [
    "## Linear Algebra"
   ]
  },
  {
   "cell_type": "code",
   "execution_count": 3,
   "id": "81b871be",
   "metadata": {},
   "outputs": [],
   "source": [
    "import numpy as np"
   ]
  },
  {
   "cell_type": "markdown",
   "id": "20d9b741",
   "metadata": {},
   "source": [
    "**Exercise 1:** Create four different 4X1 vectors v1, v2, v3, and v4. "
   ]
  },
  {
   "cell_type": "code",
   "execution_count": 13,
   "id": "63fcd351",
   "metadata": {},
   "outputs": [],
   "source": [
    "v1= ...\n",
    "v2= ...\n",
    "v3= ...\n",
    "v4= ..."
   ]
  },
  {
   "cell_type": "markdown",
   "id": "932cbb05",
   "metadata": {},
   "source": [
    "**Exercise 2:** Create a 4X4 matrix called A using the vectors created in the previous exercise."
   ]
  },
  {
   "cell_type": "code",
   "execution_count": 14,
   "id": "780b7cbd",
   "metadata": {},
   "outputs": [],
   "source": [
    "A = ..."
   ]
  },
  {
   "cell_type": "markdown",
   "id": "00872657",
   "metadata": {},
   "source": [
    "**Exercise 3:** Find the specific transpose of the matrix A created above."
   ]
  },
  {
   "cell_type": "code",
   "execution_count": 8,
   "id": "a639674d",
   "metadata": {},
   "outputs": [
    {
     "data": {
      "text/plain": [
       "' Write your code here'"
      ]
     },
     "execution_count": 8,
     "metadata": {},
     "output_type": "execute_result"
    }
   ],
   "source": [
    "''' Write your code here'''"
   ]
  },
  {
   "cell_type": "markdown",
   "id": "5436e90e",
   "metadata": {},
   "source": [
    "**Exercise 4:** Add matrix A to the transpose of the matrix B below."
   ]
  },
  {
   "cell_type": "code",
   "execution_count": 10,
   "id": "167d1d26",
   "metadata": {},
   "outputs": [
    {
     "data": {
      "text/plain": [
       "' Write finished code here'"
      ]
     },
     "execution_count": 10,
     "metadata": {},
     "output_type": "execute_result"
    }
   ],
   "source": [
    "B = np.array([[3,7,5,1],[4,0,3,1],[5,2,1,8],[7,3,2,0]])\n",
    "\n",
    "''' Write finished code here'''"
   ]
  },
  {
   "cell_type": "markdown",
   "id": "17fab600",
   "metadata": {},
   "source": [
    "**Exercise 5:** What is the dimensions of a 4X2 matrix times a 2X7 matrix?"
   ]
  },
  {
   "cell_type": "code",
   "execution_count": null,
   "id": "8740b984",
   "metadata": {},
   "outputs": [],
   "source": [
    "ans='Write answer here'"
   ]
  },
  {
   "cell_type": "markdown",
   "id": "36b21db1",
   "metadata": {},
   "source": [
    "**Exercise 6:** Are the rows of the matrices below linearly independent or dependent?"
   ]
  },
  {
   "cell_type": "code",
   "execution_count": 12,
   "id": "adb2f28c",
   "metadata": {},
   "outputs": [],
   "source": [
    "C = np.array([[5,3,7],[6,2,4],[-2,2,6]])\n",
    "ans='Write answer here'"
   ]
  },
  {
   "cell_type": "markdown",
   "id": "596afcc7",
   "metadata": {},
   "source": [
    "**Exercise 7:** Is the matrix C above invertible or not? Provide an explanation using the idea of linear independence or dependence.\n",
    "\n",
    "Hint: Test using specific function given in the lecture"
   ]
  },
  {
   "cell_type": "code",
   "execution_count": 15,
   "id": "7903f398",
   "metadata": {},
   "outputs": [
    {
     "data": {
      "text/plain": [
       "'Code for testing C is invertible or not'"
      ]
     },
     "execution_count": 15,
     "metadata": {},
     "output_type": "execute_result"
    }
   ],
   "source": [
    "'''Code for testing C is invertible or not'''"
   ]
  },
  {
   "cell_type": "markdown",
   "id": "f80e868f",
   "metadata": {},
   "source": [
    "**Explanation goes here**"
   ]
  }
 ],
 "metadata": {
  "kernelspec": {
   "display_name": "Python 3 (ipykernel)",
   "language": "python",
   "name": "python3"
  },
  "language_info": {
   "codemirror_mode": {
    "name": "ipython",
    "version": 3
   },
   "file_extension": ".py",
   "mimetype": "text/x-python",
   "name": "python",
   "nbconvert_exporter": "python",
   "pygments_lexer": "ipython3",
   "version": "3.9.10"
  }
 },
 "nbformat": 4,
 "nbformat_minor": 5
}
