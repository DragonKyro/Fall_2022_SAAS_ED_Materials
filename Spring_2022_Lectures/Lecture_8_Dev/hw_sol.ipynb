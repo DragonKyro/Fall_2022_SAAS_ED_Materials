{
 "cells": [
  {
   "cell_type": "markdown",
   "id": "8bb40a41-dc4d-42f5-ab4e-b59c5990b369",
   "metadata": {},
   "source": [
    "<a id='exercises'></a>\n",
    "## Exercises\n",
    "\n",
    "1. What happens as $\\lambda$ increases?\n",
    "    1. bias increases, variance increases\n",
    "    2. bias increases, variance decreases\n",
    "    3. bias decreases, variance increases\n",
    "    4. bias decreases, variance decreases"
   ]
  },
  {
   "cell_type": "markdown",
   "id": "ca03aaae-a64f-433a-beaa-a22d87b4d557",
   "metadata": {},
   "source": [
    "**Insert answer here**: 2."
   ]
  },
  {
   "cell_type": "markdown",
   "id": "a0ad9977-b893-4023-baa8-d57140721224",
   "metadata": {},
   "source": [
    "2. **True** or **False**? Bias is how much error your model makes."
   ]
  },
  {
   "cell_type": "markdown",
   "id": "ffe3a309-676e-4e07-a6c2-e4cfca634c5e",
   "metadata": {},
   "source": [
    "**Insert answer here:** False. Bias describes the long-term performance of your model."
   ]
  },
  {
   "cell_type": "markdown",
   "id": "2dbd6e8f-846e-470c-9e6b-a248a41a835d",
   "metadata": {},
   "source": [
    "3. What is **sparsity**?"
   ]
  },
  {
   "cell_type": "markdown",
   "id": "a757dfe7-820d-4f19-aaa3-5f400d14d24d",
   "metadata": {},
   "source": [
    "**Insert answer here: The number of zero entries in your weights/coefficients.**"
   ]
  },
  {
   "cell_type": "markdown",
   "id": "43ea8530-98a0-4cb9-87a5-54e7d8046b98",
   "metadata": {},
   "source": [
    "4. For each of the following, choose **ridge**, **lasso**, **both**, or **neither**:\n",
    "    1. L1-norm\n",
    "    2. L2-norm\n",
    "    3. Induces sparsity\n",
    "    4. Has analytic (mathematical) solution\n",
    "    5. Increases bias\n",
    "    6. Increases variance"
   ]
  },
  {
   "cell_type": "markdown",
   "id": "5da1865b-aa31-4975-a919-d0d4e38db11e",
   "metadata": {},
   "source": [
    "**Insert answer here: lasso; ridge; lasso; ridge; both; neither.**"
   ]
  },
  {
   "cell_type": "markdown",
   "id": "38f37cc2-fddb-46b1-b924-d030fc393ee4",
   "metadata": {},
   "source": [
    "5. Which one is better to use: Ridge Regression or LASSO Regression?"
   ]
  },
  {
   "cell_type": "markdown",
   "id": "e3bb4068-6975-4bf3-b3d6-290d9417c501",
   "metadata": {},
   "source": [
    "**Insert answer here: Depending on the case. LASSO can induce sparity whereas Ridge gives you an analytical solution.**"
   ]
  },
  {
   "cell_type": "markdown",
   "id": "c9f87343-805d-4cfd-9340-b627aa4d61a5",
   "metadata": {},
   "source": [
    "### Congrats! You've finished our few conceptual questions and learned about bias, variance, and regularization!"
   ]
  }
 ],
 "metadata": {
  "kernelspec": {
   "display_name": "Python 3 (ipykernel)",
   "language": "python",
   "name": "python3"
  },
  "language_info": {
   "codemirror_mode": {
    "name": "ipython",
    "version": 3
   },
   "file_extension": ".py",
   "mimetype": "text/x-python",
   "name": "python",
   "nbconvert_exporter": "python",
   "pygments_lexer": "ipython3",
   "version": "3.9.12"
  }
 },
 "nbformat": 4,
 "nbformat_minor": 5
}
