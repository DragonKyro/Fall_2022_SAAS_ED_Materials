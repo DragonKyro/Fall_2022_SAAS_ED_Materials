{
 "cells": [
  {
   "cell_type": "markdown",
   "id": "f7ce13f0-5ad0-4120-99c0-f94c11648450",
   "metadata": {},
   "source": [
    "<a id='exercises'></a>\n",
    "## Exercises\n",
    "\n",
    "1. What happens as $\\lambda$ increases?\n",
    "    1. bias increases, variance increases\n",
    "    2. bias increases, variance decreases\n",
    "    3. bias decreases, variance increases\n",
    "    4. bias decreases, variance decreases"
   ]
  },
  {
   "cell_type": "markdown",
   "id": "02f3891a-8eb7-4304-82f9-261dfa7b804b",
   "metadata": {},
   "source": [
    "**Insert answer here**:"
   ]
  },
  {
   "cell_type": "markdown",
   "id": "745c9916-ac19-445a-8174-5709ea5a5acd",
   "metadata": {},
   "source": [
    "2. **True** or **False**? Bias is how much error your model makes."
   ]
  },
  {
   "cell_type": "markdown",
   "id": "7a5b1173-86c5-4ee3-9628-71e9db83ec60",
   "metadata": {},
   "source": [
    "**Insert answer here:**"
   ]
  },
  {
   "cell_type": "markdown",
   "id": "379e5f24-75e9-492f-bfb1-16f086a64cca",
   "metadata": {},
   "source": [
    "3. What is **sparsity**?"
   ]
  },
  {
   "cell_type": "markdown",
   "id": "dda0dbff-7ec9-4dc2-8cc8-22c58f6d1704",
   "metadata": {},
   "source": [
    "**Insert answer here:**"
   ]
  },
  {
   "cell_type": "markdown",
   "id": "f051a41f-8812-434a-9513-47cf5e075416",
   "metadata": {},
   "source": [
    "4. For each of the following, choose **ridge**, **lasso**, **both**, or **neither**:\n",
    "    1. L1-norm\n",
    "    2. L2-norm\n",
    "    3. Induces sparsity\n",
    "    4. Has analytic (mathematical) solution\n",
    "    5. Increases bias\n",
    "    6. Increases variance"
   ]
  },
  {
   "cell_type": "markdown",
   "id": "9dc8b02f-c290-483a-b8d0-4bc0bc59ed81",
   "metadata": {},
   "source": [
    "**Insert answer here:**"
   ]
  },
  {
   "cell_type": "markdown",
   "id": "cd4cfbd2-4e82-4df3-b1ba-e76c6d3e59f9",
   "metadata": {},
   "source": [
    "5. Which one is better to use: Ridge Regression or LASSO Regression?"
   ]
  },
  {
   "cell_type": "markdown",
   "id": "09c9498a-43b3-4f94-81ae-a234eb228116",
   "metadata": {},
   "source": [
    "**Insert answer here:**"
   ]
  },
  {
   "cell_type": "markdown",
   "id": "7e66a144-a0b0-44e9-abc3-6aa9708f4b44",
   "metadata": {},
   "source": [
    "### Congrats! You've finished our few conceptual questions and learned about bias, variance, and regularization!"
   ]
  }
 ],
 "metadata": {
  "kernelspec": {
   "display_name": "Python 3 (ipykernel)",
   "language": "python",
   "name": "python3"
  },
  "language_info": {
   "codemirror_mode": {
    "name": "ipython",
    "version": 3
   },
   "file_extension": ".py",
   "mimetype": "text/x-python",
   "name": "python",
   "nbconvert_exporter": "python",
   "pygments_lexer": "ipython3",
   "version": "3.9.12"
  }
 },
 "nbformat": 4,
 "nbformat_minor": 5
}
