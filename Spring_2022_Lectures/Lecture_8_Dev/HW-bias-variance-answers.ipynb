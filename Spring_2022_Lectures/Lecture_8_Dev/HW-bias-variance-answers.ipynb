{
 "cells": [
  {
   "cell_type": "markdown",
   "id": "d3611039",
   "metadata": {},
   "source": [
    "# HW Bias Variance Tradeoff"
   ]
  },
  {
   "cell_type": "markdown",
   "id": "a7d0b7be",
   "metadata": {},
   "source": [
    "Describe what high bias says about the model?"
   ]
  },
  {
   "cell_type": "markdown",
   "id": "49b62d2a",
   "metadata": {},
   "source": [
    "**Answer**: If the model has high bias, then the prediction from our model is not very close to the actual value of our data."
   ]
  },
  {
   "cell_type": "markdown",
   "id": "d8109c0a",
   "metadata": {},
   "source": [
    "Describe what high variance says about the model?"
   ]
  },
  {
   "cell_type": "markdown",
   "id": "129b6389",
   "metadata": {},
   "source": [
    "**Answer:** If the model has high variance, then the predictions from our model have a lot of differences from the predicted values especially for predicting our test set."
   ]
  },
  {
   "cell_type": "markdown",
   "id": "6263b604",
   "metadata": {},
   "source": [
    "Refer back to the lecture to describe the degree 1 model, the degree 3 model, and the degree 13 model in the polynomial regression section in terms of fit and the bias and variance tradeoff? "
   ]
  },
  {
   "cell_type": "markdown",
   "id": "828e6f81",
   "metadata": {},
   "source": [
    "**Answer:** The degree 1 model underfits the model, so there will be high bias and low variance. The degree 3 model, fits the model pretty well with a balance of bias and variance. The degree 13 model overfits the points, so there will be high variance and low bias."
   ]
  }
 ],
 "metadata": {
  "kernelspec": {
   "display_name": "Python 3 (ipykernel)",
   "language": "python",
   "name": "python3"
  },
  "language_info": {
   "codemirror_mode": {
    "name": "ipython",
    "version": 3
   },
   "file_extension": ".py",
   "mimetype": "text/x-python",
   "name": "python",
   "nbconvert_exporter": "python",
   "pygments_lexer": "ipython3",
   "version": "3.9.12"
  }
 },
 "nbformat": 4,
 "nbformat_minor": 5
}
