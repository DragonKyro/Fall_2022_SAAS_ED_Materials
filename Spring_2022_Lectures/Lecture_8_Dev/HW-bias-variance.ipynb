{
 "cells": [
  {
   "cell_type": "markdown",
   "id": "af323972",
   "metadata": {},
   "source": [
    "# HW Bias Variance Tradeoff"
   ]
  },
  {
   "cell_type": "markdown",
   "id": "2e4edaf7",
   "metadata": {},
   "source": [
    "Describe what high bias says about the model?"
   ]
  },
  {
   "cell_type": "markdown",
   "id": "76377b9a",
   "metadata": {},
   "source": [
    "**Write answer here**"
   ]
  },
  {
   "cell_type": "markdown",
   "id": "5cbc0ae6",
   "metadata": {},
   "source": [
    "Describe what high variance says about the model?"
   ]
  },
  {
   "cell_type": "markdown",
   "id": "d676e9a1",
   "metadata": {},
   "source": [
    "**Write answer here**"
   ]
  },
  {
   "cell_type": "markdown",
   "id": "5caed7ee",
   "metadata": {},
   "source": [
    "Refer back to the lecture to describe the degree 1 model, the degree 3 model, and the degree 13 model in the polynomial regression section? "
   ]
  },
  {
   "cell_type": "markdown",
   "id": "84e45012",
   "metadata": {},
   "source": [
    "**Write answer here**"
   ]
  }
 ],
 "metadata": {
  "kernelspec": {
   "display_name": "Python 3 (ipykernel)",
   "language": "python",
   "name": "python3"
  },
  "language_info": {
   "codemirror_mode": {
    "name": "ipython",
    "version": 3
   },
   "file_extension": ".py",
   "mimetype": "text/x-python",
   "name": "python",
   "nbconvert_exporter": "python",
   "pygments_lexer": "ipython3",
   "version": "3.9.12"
  }
 },
 "nbformat": 4,
 "nbformat_minor": 5
}
