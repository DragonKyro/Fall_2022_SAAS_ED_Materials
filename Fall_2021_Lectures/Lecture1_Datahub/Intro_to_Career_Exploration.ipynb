{
 "cells": [
  {
   "cell_type": "markdown",
   "metadata": {
    "id": "Lv3-OJS5MpCc"
   },
   "source": [
    "# Lecture 1: Introduction to Datahub and Jupyter\n",
    "## 20 Feb 2021\n",
    "\n",
    "### Table Of Contents\n",
    "* [Introduction](#section1)\n",
    "* [What will we learn?](#section2)\n",
    "* [Homework and Submissions](#section3)\n",
    "\n",
    "\n",
    "### Hosted by and maintained by the [Student Association for Applied Statistics (SAAS)](https://saas.berkeley.edu). \n"
   ]
  },
  {
   "cell_type": "markdown",
   "metadata": {
    "id": "VGnKyTZa2k7V"
   },
   "source": [
    "\n",
    "![Juptyer Imagge](https://jupyter.org/assets/homepage.png)"
   ]
  },
  {
   "cell_type": "markdown",
   "metadata": {
    "id": "0PaIXRzSMpCd"
   },
   "source": [
    "<a id='section1'></a>\n",
    "# Introduction\n",
    "Hello! Welcome to Career Exploration Fall 2020!\n",
    "\n",
    "This is just an introductory notebook for practice working with datahub and discussing the semester schedule. \n",
    "\n",
    "Datahub is a fantastic resource as it allows us to utilize python and common packages without needing to install a bunch of stuff and having that break.\n",
    "\n",
    "Run the code chunk below by clicking on it and pressing `shift enter` (or `shift return`) on mac. These are all common packages we will import throughout the semesters."
   ]
  },
  {
   "cell_type": "code",
   "execution_count": null,
   "metadata": {
    "id": "Is-cQU9wMpCe"
   },
   "outputs": [],
   "source": [
    "import pandas as pd\n",
    "import numpy as np\n",
    "from sklearn.linear_model import LinearRegression\n",
    "import matplotlib.pyplot as plt\n",
    "%matplotlib inline"
   ]
  },
  {
   "cell_type": "markdown",
   "metadata": {
    "id": "W-LRL8kmMpCj"
   },
   "source": [
    "Ordinarily you would need to install python as well as all the packages and then sometimes stuff doesn't work. This usually causes many problems with differing versions and installation issues. Datahub bypasses all of these by providing a environment you can use online! \n",
    "\n",
    "### Steps to download from Slack and unzip on Datahub.         \n",
    "1. Make sure you are in the slack workspace, navigate to the **career-exploration-spring2020** channel \n",
    "2. Download the LectureX.zip file\n",
    "1. Open datahub at http://datahub.berkeley.edu/ and log in with your berkeley account\n",
    "2. Click upload at the top right\n",
    "3. Upload LectureX.zip (X represents the lecture number, for example Lecture1.zip)\n",
    "4. Select 'new' at the top right of the datahub screen, and select terminal from the drop down\n",
    "5. Enter \"unzip LectureX.zip\"\n",
    "  * `unzip LectureX.zip`\n",
    "6. Open the LectureX folder and open the ipynb file inside the LectureX folder\n",
    "\n",
    "\n",
    "Our main source of file sharing will be uploading to slack. Remember to upload the entire zip file to Datahub and unzip. "
   ]
  },
  {
   "cell_type": "markdown",
   "metadata": {
    "id": "i4kdOa2VMpCj"
   },
   "source": [
    "<a id='section2'></a>\n",
    "# What will we learn?\n",
    "\n",
    "This semester will go over many topics on a relatively high level. We begin with introducing jupyter notebooks (what you are reading from right now!) and use these to teach most of our lectures. Jupyter notebooks are incredibly useful as they allow you to run separate chunks of code at a time, without having to run the entire program at once.\n",
    "\n",
    "We aim to go through the following topics for the semester.\n",
    "\n",
    "<table class=\"table table-bordered table-hover table-condensed\">\n",
    "<thead><tr><th title=\"Field #1\">Date</th>\n",
    "<th title=\"Field #2\">Lecture</th>\n",
    "</tr></thead>\n",
    "<tbody><tr>\n",
    "<td>2/20</td>\n",
    "<td>L1 Logistics and Datahub</td>\n",
    "</tr>\n",
    "<tr>\n",
    "<td>2/27</td>\n",
    "<td>L2 Python</td>\n",
    "</tr>\n",
    "<tr>\n",
    "<td>3/6</td>\n",
    "<td>L3 Numpy/Pandas + Visualizations</td>\n",
    "</tr>\n",
    "<tr>\n",
    "<td>3/13</td>\n",
    "<td>L4 Data Cleaning and Exploratory Data Analysis</td>\n",
    "</tr>\n",
    "<tr>\n",
    "<td>3/20</td>\n",
    "<td>L5 Intro to Linear Algebra and Linear Regression</td>\n",
    "</tr>\n",
    "<tr>\n",
    "<td>4/3</td>\n",
    "<td>L6 Intro to Machine Learning</td>\n",
    "</tr>\n",
    "<tr>\n",
    "<td>4/10</td>\n",
    "<td>L7 Bias Variance, Regularization</td>\n",
    "</tr>\n",
    "<tr>\n",
    "<td>4/17</td>\n",
    "<td>L8 Decision Trees, Random Forest, Boosting</td>\n",
    "</tr>\n",
    "<tr>\n",
    "<td>4/24</td>\n",
    "<td>L9 Neural Networks</td>\n",
    "</tr>\n",
    "<tr>\n",
    "<td>5/1</td>\n",
    "<td>L10 Advanced Topics</td>\n",
    "</tr>\n",
    "</tbody></table>\n",
    "\n",
    "As you can see, the semester is packed full of various concepts, from statistical ideas such as bias and variance to machine learning concepts like neural networks and decision trees.\n",
    "\n",
    "The semester is structured so that you will be able to accumulate foundational skills, learn more advanced concepts, and apply them to a final Kaggle competition. \n",
    "\n",
    "The course material is being written by our lovely Education committee! You will get to meet them over the course of the semester as we are rotating lecturers.\n",
    "\n",
    "This schedule is quite ambitious and fast paced as it aims to cover a very large amount of material. \n",
    "\n",
    "**Please let us know if you ever have feedback, have questions, or you are just looking for some more help! We are all happy to help out. You can always reach us over slack.**\n",
    "\n",
    "**This material is hard!**\n",
    "\n",
    "We also hold many workshops and socials over the semester! We hope that you are all able to come participate and have a great time!"
   ]
  },
  {
   "cell_type": "markdown",
   "metadata": {
    "id": "QIq_AGu7MpCk"
   },
   "source": [
    "<a id='section3'></a>\n",
    "# Project Checkpoint Submissions"
   ]
  },
  {
   "cell_type": "markdown",
   "metadata": {
    "id": "yC2g74WxMpCl"
   },
   "source": [
    "This semester we are going to split up the Final Project into several checkpoints as opposed to having weekly homework assignments. This helps create a fun and low stress way of staying on top of the material! \n"
   ]
  },
  {
   "cell_type": "markdown",
   "metadata": {
    "id": "Ij5xYSFQMpCl"
   },
   "source": [
    "In the cells below, write your name, major, a fun fact about yourself, a short game, and a quick survey. Make sure to hit Save (File > Save and Checkpoint) or Ctrl/Command-S after you've finished writing. "
   ]
  },
  {
   "cell_type": "markdown",
   "metadata": {
    "id": "26G0VoLAMpCm",
    "tags": [
     "name"
    ]
   },
   "source": [
    "**Name**: "
   ]
  },
  {
   "cell_type": "markdown",
   "metadata": {
    "id": "M7I8L8U1MpCn",
    "tags": [
     "major"
    ]
   },
   "source": [
    "**Major**: "
   ]
  },
  {
   "cell_type": "markdown",
   "metadata": {
    "id": "ds6g0-WhMpCn",
    "tags": [
     "fun-fact"
    ]
   },
   "source": [
    "**Fun Fact**: "
   ]
  },
  {
   "cell_type": "markdown",
   "metadata": {
    "id": "N6aUwip12Mi3"
   },
   "source": []
  },
  {
   "cell_type": "markdown",
   "metadata": {
    "id": "B8HG5WHPMpCo"
   },
   "source": [
    "**In the cell below, write a number 1 to 100 inclusive.**"
   ]
  },
  {
   "cell_type": "markdown",
   "metadata": {
    "id": "pyoBMGmsMpCo",
    "tags": [
     "number"
    ]
   },
   "source": [
    "0"
   ]
  },
  {
   "cell_type": "markdown",
   "metadata": {
    "id": "UUjnSDTBMpCu"
   },
   "source": [
    "Run the cell below to make sure everything runs fine. "
   ]
  },
  {
   "cell_type": "code",
   "execution_count": null,
   "metadata": {
    "id": "YSomUDtZMpCv"
   },
   "outputs": [],
   "source": [
    "func = lambda x: 4*x+2\n",
    "samples = 100\n",
    "data_range = [0, 1]\n",
    "\n",
    "\n",
    "x = np.random.uniform(data_range[0], data_range[1], (samples, 1))\n",
    "y = func(x) + np.random.normal(scale=3, size=(samples, 1))\n",
    "model = LinearRegression().fit(x, y)\n",
    "predictions = model.predict(np.array(data_range).reshape(-1, 1))\n",
    "\n",
    "\n",
    "fig, ax = plt.subplots(figsize=(12, 8))\n",
    "plt.scatter(x, y)\n",
    "plt.plot(data_range, list(map(func, data_range)), label=\"Truth\")\n",
    "plt.plot(data_range, predictions, label=\"Prediction\")\n",
    "plt.xlabel(\"X\")\n",
    "plt.ylabel(\"Y\")\n",
    "plt.title(\"Linear regression\")\n",
    "plt.legend()\n",
    "plt.show()"
   ]
  }
 ],
 "metadata": {
  "colab": {
   "name": "Intro to Career Exploration.ipynb",
   "provenance": []
  },
  "kernelspec": {
   "display_name": "Python 3",
   "language": "python",
   "name": "python3"
  },
  "language_info": {
   "codemirror_mode": {
    "name": "ipython",
    "version": 3
   },
   "file_extension": ".py",
   "mimetype": "text/x-python",
   "name": "python",
   "nbconvert_exporter": "python",
   "pygments_lexer": "ipython3",
   "version": "3.7.4"
  }
 },
 "nbformat": 4,
 "nbformat_minor": 1
}
