{
 "cells": [
  {
   "cell_type": "markdown",
   "metadata": {},
   "source": [
    "## Q4: UC Berkeley Buildings, redux"
   ]
  },
  {
   "cell_type": "code",
   "execution_count": 7,
   "metadata": {
    "collapsed": true
   },
   "outputs": [],
   "source": [
    "import json\n",
    "import random\n",
    "from collections import defaultdict\n",
    "from itertools import permutations\n",
    "from math import sin, cos, sqrt, atan2, radians\n",
    "\n",
    "def haversine(lat1, lon1, lat2, lon2):\n",
    "    \"\"\"Calculates the straight line distance between two latitude-longitude coordinates\"\"\"\n",
    "    # approximate radius of earth in miles\n",
    "    R = 3959.0\n",
    "\n",
    "    lat1_r = radians(lat1)\n",
    "    lon1_r = radians(lon1)\n",
    "    lat2_r = radians(lat2)\n",
    "    lon2_r = radians(lon2)\n",
    "\n",
    "    dlon = lon2_r - lon1_r\n",
    "    dlat = lat2_r - lat1_r\n",
    "\n",
    "    a = sin(dlat / 2)**2 + cos(lat1_r) * cos(lat2_r) * sin(dlon / 2)**2\n",
    "    c = 2 * atan2(sqrt(a), sqrt(1 - a))\n",
    "\n",
    "    return R * c\n",
    "\n",
    "home = (37.8772719100307, -122.256943809724)\n",
    "names_and_coordinates = json.load(open('berkeley/cal_halls_subset.json'))"
   ]
  },
  {
   "cell_type": "code",
   "execution_count": 11,
   "metadata": {},
   "outputs": [
    {
     "data": {
      "text/plain": [
       "'Barrows Hall, Sproul Hall, Zellerbach Hall, Gilman Hall, Pimentel Hall, Latimer Hall, Tang Center, Etcheverry Hall'"
      ]
     },
     "execution_count": 11,
     "metadata": {},
     "output_type": "execute_result"
    }
   ],
   "source": [
    "', '.join(names_and_coordinates.keys())"
   ]
  },
  {
   "cell_type": "markdown",
   "metadata": {},
   "source": [
    "You need to drop off packages at eight buildings on campus (above). In particular, you need to leave home, hit all spots, and return. Your home is at this latitude-longitude coordinate:"
   ]
  },
  {
   "cell_type": "code",
   "execution_count": 12,
   "metadata": {},
   "outputs": [
    {
     "data": {
      "text/plain": [
       "(37.8772719100307, -122.256943809724)"
      ]
     },
     "execution_count": 12,
     "metadata": {},
     "output_type": "execute_result"
    }
   ],
   "source": [
    "home"
   ]
  },
  {
   "cell_type": "markdown",
   "metadata": {},
   "source": [
    "**Complete the function below to find the best path.**"
   ]
  },
  {
   "cell_type": "code",
   "execution_count": 8,
   "metadata": {
    "collapsed": true
   },
   "outputs": [],
   "source": [
    "def tsp(home, names_and_coordinates):\n",
    "    def create_graph():\n",
    "        \"\"\"Create a dictionary, where the keys are a tuple of every pair of halls, and the corresponding value\n",
    "        is the distance between the two halls\"\"\"\n",
    "        return {\n",
    "            (hall1, hall2): haversine(lat1, lon1, lat2, lon2) \n",
    "            for (hall1, (lat1, lon1)), (hall2, (lat2, lon2)) in permutations(names_and_coordinates.items(), 2)\n",
    "        }\n",
    "    \n",
    "    graph = create_graph()\n",
    "    \n",
    "    def cycle_length(order):\n",
    "        \"\"\"Find the length of taking a specific path, where the order of the buildings you take is <order>\"\"\"\n",
    "        hamiltonian_path_length = sum(graph[(order[i], order[i + 1])] for i in range(len(order) - 1))\n",
    "        return haversine(\n",
    "            *home, \n",
    "            *names_and_coordinates[order[0]]\n",
    "        ) + hamiltonian_path_length + haversine(\n",
    "            *names_and_coordinates[order[-1]], \n",
    "            *home\n",
    "        )\n",
    "\n",
    "    return min(\n",
    "        permutations(names_and_coordinates.keys(), len(names_and_coordinates)),\n",
    "        key=cycle_length\n",
    "    )          "
   ]
  },
  {
   "cell_type": "code",
   "execution_count": 9,
   "metadata": {
    "scrolled": false
   },
   "outputs": [
    {
     "data": {
      "text/plain": [
       "('Etcheverry Hall',\n",
       " 'Tang Center',\n",
       " 'Zellerbach Hall',\n",
       " 'Sproul Hall',\n",
       " 'Barrows Hall',\n",
       " 'Gilman Hall',\n",
       " 'Latimer Hall',\n",
       " 'Pimentel Hall')"
      ]
     },
     "execution_count": 9,
     "metadata": {},
     "output_type": "execute_result"
    }
   ],
   "source": [
    "tsp(home, names_and_coordinates)"
   ]
  }
 ],
 "metadata": {
  "kernelspec": {
   "display_name": "Python (deeplearning)",
   "language": "python",
   "name": "deeplearning"
  },
  "language_info": {
   "codemirror_mode": {
    "name": "ipython",
    "version": 3
   },
   "file_extension": ".py",
   "mimetype": "text/x-python",
   "name": "python",
   "nbconvert_exporter": "python",
   "pygments_lexer": "ipython3",
   "version": "3.6.3"
  }
 },
 "nbformat": 4,
 "nbformat_minor": 2
}
